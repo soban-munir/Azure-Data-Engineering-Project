{
 "cells": [
  {
   "cell_type": "code",
   "execution_count": 0,
   "metadata": {
    "application/vnd.databricks.v1+cell": {
     "cellMetadata": {
      "byteLimit": 2048000,
      "rowLimit": 10000
     },
     "inputWidgets": {},
     "nuid": "eee4d03e-cd33-4b15-808a-3058cd8b7c76",
     "showTitle": false,
     "tableResultSettingsMap": {},
     "title": ""
    }
   },
   "outputs": [],
   "source": [
    "from pyspark.sql.functions import * \n",
    "from pyspark.sql.types import *"
   ]
  },
  {
   "cell_type": "markdown",
   "metadata": {
    "application/vnd.databricks.v1+cell": {
     "cellMetadata": {},
     "inputWidgets": {},
     "nuid": "68f83621-e765-4d5c-b52b-31248d1cca1c",
     "showTitle": false,
     "tableResultSettingsMap": {},
     "title": ""
    }
   },
   "source": [
    "### **Data Reading**"
   ]
  },
  {
   "cell_type": "code",
   "execution_count": 0,
   "metadata": {
    "application/vnd.databricks.v1+cell": {
     "cellMetadata": {
      "byteLimit": 2048000,
      "rowLimit": 10000
     },
     "inputWidgets": {},
     "nuid": "7cea9be5-cc74-40ee-b17c-c80cf137013b",
     "showTitle": false,
     "tableResultSettingsMap": {},
     "title": ""
    }
   },
   "outputs": [],
   "source": [
    "df = spark.read.format(\"parquet\")\\\n",
    "  .load(\"abfss://bronze@databrickssm1.dfs.core.windows.net/products\")"
   ]
  },
  {
   "cell_type": "code",
   "execution_count": 0,
   "metadata": {
    "application/vnd.databricks.v1+cell": {
     "cellMetadata": {
      "byteLimit": 2048000,
      "rowLimit": 10000
     },
     "inputWidgets": {},
     "nuid": "31a94ce3-d859-4159-a28e-be2dfbc35bf5",
     "showTitle": false,
     "tableResultSettingsMap": {},
     "title": ""
    }
   },
   "outputs": [
    {
     "output_type": "display_data",
     "data": {
      "text/html": [
       "<style scoped>\n",
       "  .table-result-container {\n",
       "    max-height: 300px;\n",
       "    overflow: auto;\n",
       "  }\n",
       "  table, th, td {\n",
       "    border: 1px solid black;\n",
       "    border-collapse: collapse;\n",
       "  }\n",
       "  th, td {\n",
       "    padding: 5px;\n",
       "  }\n",
       "  th {\n",
       "    text-align: left;\n",
       "  }\n",
       "</style><div class='table-result-container'><table class='table-result'><thead style='background-color: white'><tr><th>product_id</th><th>product_name</th><th>category</th><th>brand</th><th>price</th><th>_rescued_data</th></tr></thead><tbody><tr><td>P0001</td><td>Clearly Its</td><td>Beauty</td><td>Nike</td><td>1868.54</td><td>null</td></tr><tr><td>P0002</td><td>Production Clear</td><td>Beauty</td><td>Apple</td><td>587.13</td><td>null</td></tr><tr><td>P0003</td><td>Culture Coach</td><td>Home</td><td>Revlon</td><td>1599.24</td><td>null</td></tr><tr><td>P0004</td><td>Movement Part</td><td>Sports</td><td>LG</td><td>651.71</td><td>null</td></tr><tr><td>P0005</td><td>Fact Name</td><td>Clothing</td><td>Samsung</td><td>1861.78</td><td>null</td></tr><tr><td>P0006</td><td>Usually Stop</td><td>Toys</td><td>Adidas</td><td>936.36</td><td>null</td></tr><tr><td>P0007</td><td>Reveal Current</td><td>Sports</td><td>Adidas</td><td>1954.02</td><td>null</td></tr><tr><td>P0008</td><td>Force Language</td><td>Beauty</td><td>Puma</td><td>1251.26</td><td>null</td></tr><tr><td>P0009</td><td>Stage Leg</td><td>Clothing</td><td>Samsung</td><td>1247.15</td><td>null</td></tr><tr><td>P0010</td><td>Leader Then</td><td>Sports</td><td>Sony</td><td>975.53</td><td>null</td></tr><tr><td>P0011</td><td>Term Rest</td><td>Electronics</td><td>Adidas</td><td>1475.31</td><td>null</td></tr><tr><td>P0012</td><td>Theory Wrong</td><td>Electronics</td><td>Apple</td><td>624.61</td><td>null</td></tr><tr><td>P0013</td><td>Democrat Book</td><td>Sports</td><td>Puma</td><td>384.99</td><td>null</td></tr><tr><td>P0014</td><td>Follow Brother</td><td>Clothing</td><td>Dell</td><td>32.2</td><td>null</td></tr><tr><td>P0015</td><td>Pattern Story</td><td>Beauty</td><td>LG</td><td>1459.2</td><td>null</td></tr><tr><td>P0016</td><td>Policy Nor</td><td>Clothing</td><td>Samsung</td><td>1594.08</td><td>null</td></tr><tr><td>P0017</td><td>After Project</td><td>Beauty</td><td>Revlon</td><td>1289.06</td><td>null</td></tr><tr><td>P0018</td><td>Technology Chance</td><td>Beauty</td><td>Puma</td><td>1329.53</td><td>null</td></tr><tr><td>P0019</td><td>Oil Station</td><td>Electronics</td><td>Samsung</td><td>230.56</td><td>null</td></tr><tr><td>P0020</td><td>Happen Truth</td><td>Beauty</td><td>Nike</td><td>1603.5</td><td>null</td></tr><tr><td>P0021</td><td>Middle Everyone</td><td>Sports</td><td>Nike</td><td>361.89</td><td>null</td></tr><tr><td>P0022</td><td>Purpose Why</td><td>Beauty</td><td>Puma</td><td>73.82</td><td>null</td></tr><tr><td>P0023</td><td>Decade Message</td><td>Clothing</td><td>Adidas</td><td>1561.78</td><td>null</td></tr><tr><td>P0024</td><td>Really Phone</td><td>Home</td><td>Samsung</td><td>1422.07</td><td>null</td></tr><tr><td>P0025</td><td>Until And</td><td>Beauty</td><td>Nike</td><td>488.67</td><td>null</td></tr><tr><td>P0026</td><td>Huge Find</td><td>Toys</td><td>Puma</td><td>1316.41</td><td>null</td></tr><tr><td>P0027</td><td>Local Open</td><td>Toys</td><td>Adidas</td><td>939.9</td><td>null</td></tr><tr><td>P0028</td><td>Its Both</td><td>Beauty</td><td>Puma</td><td>1682.91</td><td>null</td></tr><tr><td>P0029</td><td>Everything Open</td><td>Clothing</td><td>Nike</td><td>1065.49</td><td>null</td></tr><tr><td>P0030</td><td>Hold Staff</td><td>Toys</td><td>Lenovo</td><td>1162.38</td><td>null</td></tr><tr><td>P0031</td><td>Part Oil</td><td>Clothing</td><td>LG</td><td>774.18</td><td>null</td></tr><tr><td>P0032</td><td>Relationship Live</td><td>Electronics</td><td>Dell</td><td>1445.21</td><td>null</td></tr><tr><td>P0033</td><td>Perform Such</td><td>Clothing</td><td>Lenovo</td><td>61.91</td><td>null</td></tr><tr><td>P0034</td><td>Even Writer</td><td>Toys</td><td>Samsung</td><td>1843.84</td><td>null</td></tr><tr><td>P0035</td><td>Something Increase</td><td>Toys</td><td>Revlon</td><td>579.76</td><td>null</td></tr><tr><td>P0036</td><td>Success Always</td><td>Home</td><td>Dell</td><td>1780.37</td><td>null</td></tr><tr><td>P0037</td><td>Personal Over</td><td>Sports</td><td>Puma</td><td>105.28</td><td>null</td></tr><tr><td>P0038</td><td>Edge Keep</td><td>Toys</td><td>Revlon</td><td>1156.99</td><td>null</td></tr><tr><td>P0039</td><td>Before Do</td><td>Toys</td><td>Revlon</td><td>1279.12</td><td>null</td></tr><tr><td>P0040</td><td>Answer Require</td><td>Toys</td><td>Dell</td><td>1822.39</td><td>null</td></tr><tr><td>P0041</td><td>Conference Article</td><td>Sports</td><td>Dell</td><td>459.55</td><td>null</td></tr><tr><td>P0042</td><td>Heavy Writer</td><td>Beauty</td><td>Adidas</td><td>1215.78</td><td>null</td></tr><tr><td>P0043</td><td>Radio Thousand</td><td>Electronics</td><td>Revlon</td><td>914.61</td><td>null</td></tr><tr><td>P0044</td><td>Such Beautiful</td><td>Electronics</td><td>Dell</td><td>580.32</td><td>null</td></tr><tr><td>P0045</td><td>Certainly Sign</td><td>Sports</td><td>Sony</td><td>622.31</td><td>null</td></tr><tr><td>P0046</td><td>Exist Age</td><td>Beauty</td><td>Samsung</td><td>918.54</td><td>null</td></tr><tr><td>P0047</td><td>Ever Could</td><td>Sports</td><td>Revlon</td><td>257.51</td><td>null</td></tr><tr><td>P0048</td><td>Share Quality</td><td>Electronics</td><td>Revlon</td><td>652.68</td><td>null</td></tr><tr><td>P0049</td><td>True Her</td><td>Clothing</td><td>Lenovo</td><td>819.77</td><td>null</td></tr><tr><td>P0050</td><td>North Big</td><td>Electronics</td><td>Samsung</td><td>1947.16</td><td>null</td></tr><tr><td>P0051</td><td>Form Social</td><td>Electronics</td><td>Apple</td><td>1294.33</td><td>null</td></tr><tr><td>P0052</td><td>Total Tax</td><td>Toys</td><td>Lenovo</td><td>1190.28</td><td>null</td></tr><tr><td>P0053</td><td>News Look</td><td>Electronics</td><td>Samsung</td><td>896.22</td><td>null</td></tr><tr><td>P0054</td><td>Local Decide</td><td>Electronics</td><td>Adidas</td><td>1346.26</td><td>null</td></tr><tr><td>P0055</td><td>Seat Finish</td><td>Electronics</td><td>Sony</td><td>925.39</td><td>null</td></tr><tr><td>P0056</td><td>Weight Ground</td><td>Home</td><td>Nike</td><td>805.91</td><td>null</td></tr><tr><td>P0057</td><td>Everything Song</td><td>Clothing</td><td>Samsung</td><td>1000.36</td><td>null</td></tr><tr><td>P0058</td><td>Involve Present</td><td>Electronics</td><td>LG</td><td>1713.86</td><td>null</td></tr><tr><td>P0059</td><td>Democratic Any</td><td>Sports</td><td>Lenovo</td><td>808.17</td><td>null</td></tr><tr><td>P0060</td><td>Red Some</td><td>Clothing</td><td>Nike</td><td>1230.69</td><td>null</td></tr><tr><td>P0061</td><td>Describe Continue</td><td>Electronics</td><td>Sony</td><td>1610.15</td><td>null</td></tr><tr><td>P0062</td><td>Always Citizen</td><td>Clothing</td><td>Samsung</td><td>912.72</td><td>null</td></tr><tr><td>P0063</td><td>Necessary Bad</td><td>Home</td><td>Nike</td><td>1876.88</td><td>null</td></tr><tr><td>P0064</td><td>Size Although</td><td>Clothing</td><td>LG</td><td>473.8</td><td>null</td></tr><tr><td>P0065</td><td>Democratic As</td><td>Electronics</td><td>Lenovo</td><td>1472.24</td><td>null</td></tr><tr><td>P0066</td><td>I Worker</td><td>Sports</td><td>Sony</td><td>1123.53</td><td>null</td></tr><tr><td>P0067</td><td>Unit Election</td><td>Beauty</td><td>Samsung</td><td>144.72</td><td>null</td></tr><tr><td>P0068</td><td>Response Audience</td><td>Toys</td><td>LG</td><td>1633.64</td><td>null</td></tr><tr><td>P0069</td><td>Weight Design</td><td>Beauty</td><td>Lenovo</td><td>1165.23</td><td>null</td></tr><tr><td>P0070</td><td>Or Against</td><td>Sports</td><td>Lenovo</td><td>1589.36</td><td>null</td></tr><tr><td>P0071</td><td>Once Support</td><td>Toys</td><td>Apple</td><td>1385.04</td><td>null</td></tr><tr><td>P0072</td><td>Station Fund</td><td>Toys</td><td>Revlon</td><td>1198.32</td><td>null</td></tr><tr><td>P0073</td><td>Leave Reveal</td><td>Electronics</td><td>Adidas</td><td>586.19</td><td>null</td></tr><tr><td>P0074</td><td>Pm Near</td><td>Toys</td><td>Lenovo</td><td>426.99</td><td>null</td></tr><tr><td>P0075</td><td>Former Trade</td><td>Beauty</td><td>Samsung</td><td>73.74</td><td>null</td></tr><tr><td>P0076</td><td>Skill Need</td><td>Toys</td><td>Puma</td><td>862.73</td><td>null</td></tr><tr><td>P0077</td><td>Quality Conference</td><td>Clothing</td><td>LG</td><td>333.16</td><td>null</td></tr><tr><td>P0078</td><td>Their Worry</td><td>Electronics</td><td>LG</td><td>903.63</td><td>null</td></tr><tr><td>P0079</td><td>Night Experience</td><td>Beauty</td><td>LG</td><td>780.45</td><td>null</td></tr><tr><td>P0080</td><td>But Decide</td><td>Toys</td><td>Lenovo</td><td>1599.68</td><td>null</td></tr><tr><td>P0081</td><td>Whose Available</td><td>Toys</td><td>Nike</td><td>1697.18</td><td>null</td></tr><tr><td>P0082</td><td>Exist Interest</td><td>Beauty</td><td>Apple</td><td>1932.51</td><td>null</td></tr><tr><td>P0083</td><td>Laugh Speak</td><td>Beauty</td><td>Dell</td><td>1519.05</td><td>null</td></tr><tr><td>P0084</td><td>Little All</td><td>Home</td><td>Samsung</td><td>866.09</td><td>null</td></tr><tr><td>P0085</td><td>Hope Such</td><td>Clothing</td><td>Apple</td><td>1863.08</td><td>null</td></tr><tr><td>P0086</td><td>Save Own</td><td>Toys</td><td>Nike</td><td>915.44</td><td>null</td></tr><tr><td>P0087</td><td>Service Personal</td><td>Home</td><td>Sony</td><td>273.89</td><td>null</td></tr><tr><td>P0088</td><td>At Such</td><td>Home</td><td>Adidas</td><td>1482.19</td><td>null</td></tr><tr><td>P0089</td><td>Second Despite</td><td>Home</td><td>LG</td><td>611.31</td><td>null</td></tr><tr><td>P0090</td><td>Future Improve</td><td>Electronics</td><td>Puma</td><td>129.87</td><td>null</td></tr><tr><td>P0091</td><td>Nation Moment</td><td>Beauty</td><td>Samsung</td><td>1683.02</td><td>null</td></tr><tr><td>P0092</td><td>Stand Fish</td><td>Sports</td><td>Revlon</td><td>1631.21</td><td>null</td></tr><tr><td>P0093</td><td>Us Life</td><td>Clothing</td><td>Puma</td><td>749.33</td><td>null</td></tr><tr><td>P0094</td><td>Real Himself</td><td>Beauty</td><td>LG</td><td>48.71</td><td>null</td></tr><tr><td>P0095</td><td>Fund Tend</td><td>Electronics</td><td>Apple</td><td>1519.1</td><td>null</td></tr><tr><td>P0096</td><td>Public Voice</td><td>Electronics</td><td>Nike</td><td>1078.42</td><td>null</td></tr><tr><td>P0097</td><td>Crime Range</td><td>Clothing</td><td>Apple</td><td>627.41</td><td>null</td></tr><tr><td>P0098</td><td>Item See</td><td>Clothing</td><td>Puma</td><td>551.54</td><td>null</td></tr><tr><td>P0099</td><td>Notice Rather</td><td>Beauty</td><td>Adidas</td><td>1110.7</td><td>null</td></tr><tr><td>P0100</td><td>Oil Into</td><td>Sports</td><td>Dell</td><td>793.81</td><td>null</td></tr><tr><td>P0101</td><td>Sister Tend</td><td>Sports</td><td>Puma</td><td>1106.32</td><td>null</td></tr><tr><td>P0102</td><td>Yourself Team</td><td>Beauty</td><td>LG</td><td>1079.69</td><td>null</td></tr><tr><td>P0103</td><td>Rich Page</td><td>Toys</td><td>Samsung</td><td>486.63</td><td>null</td></tr><tr><td>P0104</td><td>Fact Building</td><td>Clothing</td><td>Dell</td><td>860.64</td><td>null</td></tr><tr><td>P0105</td><td>Color Now</td><td>Clothing</td><td>LG</td><td>1200.37</td><td>null</td></tr><tr><td>P0106</td><td>Research Mother</td><td>Clothing</td><td>Sony</td><td>1100.51</td><td>null</td></tr><tr><td>P0107</td><td>Degree Much</td><td>Toys</td><td>Adidas</td><td>193.45</td><td>null</td></tr><tr><td>P0108</td><td>Southern Hear</td><td>Home</td><td>Puma</td><td>22.3</td><td>null</td></tr><tr><td>P0109</td><td>Seem South</td><td>Electronics</td><td>Lenovo</td><td>1891.2</td><td>null</td></tr><tr><td>P0110</td><td>Before Everybody</td><td>Toys</td><td>Samsung</td><td>776.77</td><td>null</td></tr><tr><td>P0111</td><td>Decade Land</td><td>Electronics</td><td>Adidas</td><td>1138.45</td><td>null</td></tr><tr><td>P0112</td><td>Study Heavy</td><td>Beauty</td><td>Puma</td><td>1579.73</td><td>null</td></tr><tr><td>P0113</td><td>These Skill</td><td>Clothing</td><td>Puma</td><td>810.64</td><td>null</td></tr><tr><td>P0114</td><td>Kid Necessary</td><td>Home</td><td>Nike</td><td>1178.36</td><td>null</td></tr><tr><td>P0115</td><td>Subject Become</td><td>Electronics</td><td>Puma</td><td>1504.01</td><td>null</td></tr><tr><td>P0116</td><td>Very Forget</td><td>Sports</td><td>Sony</td><td>287.59</td><td>null</td></tr><tr><td>P0117</td><td>Before Product</td><td>Beauty</td><td>Puma</td><td>665.49</td><td>null</td></tr><tr><td>P0118</td><td>Start Threat</td><td>Toys</td><td>Lenovo</td><td>1123.64</td><td>null</td></tr><tr><td>P0119</td><td>Carry View</td><td>Home</td><td>Sony</td><td>60.42</td><td>null</td></tr><tr><td>P0120</td><td>Direction Character</td><td>Toys</td><td>Sony</td><td>368.47</td><td>null</td></tr><tr><td>P0121</td><td>Trade Drug</td><td>Sports</td><td>Nike</td><td>1959.23</td><td>null</td></tr><tr><td>P0122</td><td>Tend Continue</td><td>Clothing</td><td>LG</td><td>539.16</td><td>null</td></tr><tr><td>P0123</td><td>Why Decide</td><td>Clothing</td><td>Nike</td><td>503.76</td><td>null</td></tr><tr><td>P0124</td><td>Operation Century</td><td>Clothing</td><td>Puma</td><td>1857.88</td><td>null</td></tr><tr><td>P0125</td><td>Sort Summer</td><td>Home</td><td>Sony</td><td>947.43</td><td>null</td></tr><tr><td>P0126</td><td>Possible Which</td><td>Sports</td><td>Sony</td><td>1431.12</td><td>null</td></tr><tr><td>P0127</td><td>Movement Picture</td><td>Home</td><td>Sony</td><td>1337.38</td><td>null</td></tr><tr><td>P0128</td><td>Board Worker</td><td>Electronics</td><td>Apple</td><td>1935.2</td><td>null</td></tr><tr><td>P0129</td><td>North On</td><td>Toys</td><td>Adidas</td><td>763.99</td><td>null</td></tr><tr><td>P0130</td><td>Behavior Nothing</td><td>Clothing</td><td>Adidas</td><td>1355.15</td><td>null</td></tr><tr><td>P0131</td><td>Too Example</td><td>Clothing</td><td>Revlon</td><td>302.22</td><td>null</td></tr><tr><td>P0132</td><td>Issue Return</td><td>Home</td><td>Samsung</td><td>1194.22</td><td>null</td></tr><tr><td>P0133</td><td>Speak Small</td><td>Electronics</td><td>LG</td><td>215.63</td><td>null</td></tr><tr><td>P0134</td><td>Stand Fire</td><td>Home</td><td>Puma</td><td>1625.17</td><td>null</td></tr><tr><td>P0135</td><td>Maybe Light</td><td>Clothing</td><td>Puma</td><td>669.95</td><td>null</td></tr><tr><td>P0136</td><td>Year True</td><td>Sports</td><td>Samsung</td><td>48.0</td><td>null</td></tr><tr><td>P0137</td><td>Thought Travel</td><td>Clothing</td><td>Lenovo</td><td>1569.19</td><td>null</td></tr><tr><td>P0138</td><td>Already Series</td><td>Clothing</td><td>Samsung</td><td>452.81</td><td>null</td></tr><tr><td>P0139</td><td>Seek President</td><td>Toys</td><td>Revlon</td><td>399.03</td><td>null</td></tr><tr><td>P0140</td><td>Detail Bar</td><td>Clothing</td><td>Adidas</td><td>116.36</td><td>null</td></tr><tr><td>P0141</td><td>Play Show</td><td>Electronics</td><td>Adidas</td><td>1039.71</td><td>null</td></tr><tr><td>P0142</td><td>Trouble Parent</td><td>Clothing</td><td>Adidas</td><td>1081.59</td><td>null</td></tr><tr><td>P0143</td><td>One Like</td><td>Electronics</td><td>Apple</td><td>1549.15</td><td>null</td></tr><tr><td>P0144</td><td>Admit Street</td><td>Beauty</td><td>Apple</td><td>769.93</td><td>null</td></tr><tr><td>P0145</td><td>House Everything</td><td>Toys</td><td>Puma</td><td>453.73</td><td>null</td></tr><tr><td>P0146</td><td>Building Drive</td><td>Electronics</td><td>Sony</td><td>1763.2</td><td>null</td></tr><tr><td>P0147</td><td>Among Success</td><td>Electronics</td><td>Lenovo</td><td>86.53</td><td>null</td></tr><tr><td>P0148</td><td>Politics Friend</td><td>Toys</td><td>Dell</td><td>435.86</td><td>null</td></tr><tr><td>P0149</td><td>Middle Price</td><td>Electronics</td><td>Samsung</td><td>793.61</td><td>null</td></tr><tr><td>P0150</td><td>Nice Clearly</td><td>Electronics</td><td>Samsung</td><td>1207.54</td><td>null</td></tr><tr><td>P0151</td><td>Cup Per</td><td>Toys</td><td>Apple</td><td>38.43</td><td>null</td></tr><tr><td>P0152</td><td>Not Wait</td><td>Home</td><td>LG</td><td>357.33</td><td>null</td></tr><tr><td>P0153</td><td>Brother Four</td><td>Home</td><td>Apple</td><td>809.73</td><td>null</td></tr><tr><td>P0154</td><td>Trip Within</td><td>Beauty</td><td>Samsung</td><td>1089.28</td><td>null</td></tr><tr><td>P0155</td><td>Laugh Score</td><td>Electronics</td><td>Dell</td><td>12.35</td><td>null</td></tr><tr><td>P0156</td><td>Put After</td><td>Home</td><td>Sony</td><td>1746.06</td><td>null</td></tr><tr><td>P0157</td><td>Race Provide</td><td>Home</td><td>Adidas</td><td>825.91</td><td>null</td></tr><tr><td>P0158</td><td>Pm Plant</td><td>Toys</td><td>Adidas</td><td>1286.8</td><td>null</td></tr><tr><td>P0159</td><td>Politics Along</td><td>Home</td><td>Lenovo</td><td>674.29</td><td>null</td></tr><tr><td>P0160</td><td>Parent Into</td><td>Clothing</td><td>Nike</td><td>1542.46</td><td>null</td></tr><tr><td>P0161</td><td>Need Book</td><td>Toys</td><td>LG</td><td>906.6</td><td>null</td></tr><tr><td>P0162</td><td>West This</td><td>Toys</td><td>Adidas</td><td>417.67</td><td>null</td></tr><tr><td>P0163</td><td>Tree Role</td><td>Toys</td><td>Dell</td><td>1307.14</td><td>null</td></tr><tr><td>P0164</td><td>Word Hard</td><td>Electronics</td><td>Lenovo</td><td>535.06</td><td>null</td></tr><tr><td>P0165</td><td>Son Drug</td><td>Toys</td><td>Adidas</td><td>1971.77</td><td>null</td></tr><tr><td>P0166</td><td>Look Field</td><td>Beauty</td><td>Samsung</td><td>62.19</td><td>null</td></tr><tr><td>P0167</td><td>Early Course</td><td>Electronics</td><td>Adidas</td><td>1666.23</td><td>null</td></tr><tr><td>P0168</td><td>Generation Day</td><td>Toys</td><td>Sony</td><td>1006.63</td><td>null</td></tr><tr><td>P0169</td><td>Position Bank</td><td>Beauty</td><td>Sony</td><td>1267.42</td><td>null</td></tr><tr><td>P0170</td><td>Second Start</td><td>Home</td><td>Lenovo</td><td>329.25</td><td>null</td></tr><tr><td>P0171</td><td>Option Necessary</td><td>Clothing</td><td>Lenovo</td><td>1557.09</td><td>null</td></tr><tr><td>P0172</td><td>Commercial Through</td><td>Home</td><td>Sony</td><td>1759.47</td><td>null</td></tr><tr><td>P0173</td><td>Nearly When</td><td>Electronics</td><td>Samsung</td><td>930.78</td><td>null</td></tr><tr><td>P0174</td><td>Weight Tax</td><td>Home</td><td>Lenovo</td><td>81.55</td><td>null</td></tr><tr><td>P0175</td><td>Enjoy Throughout</td><td>Home</td><td>Apple</td><td>364.2</td><td>null</td></tr><tr><td>P0176</td><td>Team Foreign</td><td>Home</td><td>Adidas</td><td>824.82</td><td>null</td></tr><tr><td>P0177</td><td>Article Smile</td><td>Clothing</td><td>Nike</td><td>1241.26</td><td>null</td></tr><tr><td>P0178</td><td>Finally Suddenly</td><td>Toys</td><td>Adidas</td><td>743.65</td><td>null</td></tr><tr><td>P0179</td><td>Base Significant</td><td>Electronics</td><td>Samsung</td><td>1950.04</td><td>null</td></tr><tr><td>P0180</td><td>Form Management</td><td>Electronics</td><td>Sony</td><td>141.37</td><td>null</td></tr><tr><td>P0181</td><td>Of Seek</td><td>Beauty</td><td>LG</td><td>1935.07</td><td>null</td></tr><tr><td>P0182</td><td>Health I</td><td>Beauty</td><td>Apple</td><td>1661.22</td><td>null</td></tr><tr><td>P0183</td><td>Born Focus</td><td>Sports</td><td>Samsung</td><td>762.15</td><td>null</td></tr><tr><td>P0184</td><td>Main Majority</td><td>Sports</td><td>Adidas</td><td>1003.71</td><td>null</td></tr><tr><td>P0185</td><td>Authority Director</td><td>Beauty</td><td>Apple</td><td>1595.17</td><td>null</td></tr><tr><td>P0186</td><td>Tv Size</td><td>Sports</td><td>Revlon</td><td>231.03</td><td>null</td></tr><tr><td>P0187</td><td>Number They</td><td>Electronics</td><td>Nike</td><td>38.88</td><td>null</td></tr><tr><td>P0188</td><td>Able Seat</td><td>Electronics</td><td>Adidas</td><td>1582.57</td><td>null</td></tr><tr><td>P0189</td><td>Commercial Boy</td><td>Home</td><td>Puma</td><td>641.08</td><td>null</td></tr><tr><td>P0190</td><td>Set Whom</td><td>Sports</td><td>Samsung</td><td>686.04</td><td>null</td></tr><tr><td>P0191</td><td>Myself Performance</td><td>Toys</td><td>Revlon</td><td>112.38</td><td>null</td></tr><tr><td>P0192</td><td>Up Management</td><td>Sports</td><td>Apple</td><td>942.81</td><td>null</td></tr><tr><td>P0193</td><td>Early They</td><td>Electronics</td><td>Nike</td><td>1238.31</td><td>null</td></tr><tr><td>P0194</td><td>Charge Through</td><td>Electronics</td><td>Revlon</td><td>1814.74</td><td>null</td></tr><tr><td>P0195</td><td>Leg In</td><td>Toys</td><td>Adidas</td><td>937.18</td><td>null</td></tr><tr><td>P0196</td><td>Study Teach</td><td>Clothing</td><td>Adidas</td><td>1159.15</td><td>null</td></tr><tr><td>P0197</td><td>Old Ball</td><td>Sports</td><td>Revlon</td><td>1564.84</td><td>null</td></tr><tr><td>P0198</td><td>Information Life</td><td>Sports</td><td>Samsung</td><td>628.47</td><td>null</td></tr><tr><td>P0199</td><td>Data Structure</td><td>Clothing</td><td>Sony</td><td>1368.51</td><td>null</td></tr><tr><td>P0200</td><td>Close Knowledge</td><td>Toys</td><td>Apple</td><td>692.12</td><td>null</td></tr><tr><td>P0201</td><td>Professional Test</td><td>Beauty</td><td>Samsung</td><td>1573.37</td><td>null</td></tr><tr><td>P0202</td><td>Analysis The</td><td>Electronics</td><td>Adidas</td><td>1953.99</td><td>null</td></tr><tr><td>P0203</td><td>Difficult Around</td><td>Home</td><td>Samsung</td><td>1016.57</td><td>null</td></tr><tr><td>P0204</td><td>Show Teacher</td><td>Electronics</td><td>Adidas</td><td>1734.6</td><td>null</td></tr><tr><td>P0205</td><td>Attorney I</td><td>Home</td><td>LG</td><td>478.82</td><td>null</td></tr><tr><td>P0206</td><td>Remember Stuff</td><td>Electronics</td><td>Apple</td><td>375.49</td><td>null</td></tr><tr><td>P0207</td><td>Year Much</td><td>Beauty</td><td>Adidas</td><td>230.41</td><td>null</td></tr><tr><td>P0208</td><td>Rather Require</td><td>Toys</td><td>Adidas</td><td>754.39</td><td>null</td></tr><tr><td>P0209</td><td>Catch Local</td><td>Sports</td><td>Revlon</td><td>1070.99</td><td>null</td></tr><tr><td>P0210</td><td>Learn Weight</td><td>Sports</td><td>Apple</td><td>863.71</td><td>null</td></tr><tr><td>P0211</td><td>Check Line</td><td>Beauty</td><td>Nike</td><td>1051.35</td><td>null</td></tr><tr><td>P0212</td><td>Per Leader</td><td>Home</td><td>Adidas</td><td>1766.16</td><td>null</td></tr><tr><td>P0213</td><td>Suggest Chance</td><td>Sports</td><td>Samsung</td><td>1528.21</td><td>null</td></tr><tr><td>P0214</td><td>Site Trip</td><td>Toys</td><td>Revlon</td><td>1725.81</td><td>null</td></tr><tr><td>P0215</td><td>Trouble Treatment</td><td>Beauty</td><td>Adidas</td><td>1678.45</td><td>null</td></tr><tr><td>P0216</td><td>Every Page</td><td>Home</td><td>Adidas</td><td>1526.03</td><td>null</td></tr><tr><td>P0217</td><td>Vote Tree</td><td>Sports</td><td>Puma</td><td>1460.22</td><td>null</td></tr><tr><td>P0218</td><td>Sea Clear</td><td>Beauty</td><td>Nike</td><td>207.67</td><td>null</td></tr><tr><td>P0219</td><td>Per Voice</td><td>Clothing</td><td>Dell</td><td>996.21</td><td>null</td></tr><tr><td>P0220</td><td>Term Fine</td><td>Beauty</td><td>Dell</td><td>1354.7</td><td>null</td></tr><tr><td>P0221</td><td>Player Summer</td><td>Beauty</td><td>Lenovo</td><td>1205.37</td><td>null</td></tr><tr><td>P0222</td><td>Respond Knowledge</td><td>Electronics</td><td>Samsung</td><td>977.33</td><td>null</td></tr><tr><td>P0223</td><td>Believe Activity</td><td>Toys</td><td>Lenovo</td><td>1292.39</td><td>null</td></tr><tr><td>P0224</td><td>Federal Around</td><td>Clothing</td><td>Apple</td><td>1153.17</td><td>null</td></tr><tr><td>P0225</td><td>Discussion Region</td><td>Beauty</td><td>Nike</td><td>551.26</td><td>null</td></tr><tr><td>P0226</td><td>Care North</td><td>Beauty</td><td>Lenovo</td><td>1668.89</td><td>null</td></tr><tr><td>P0227</td><td>Need Method</td><td>Beauty</td><td>Nike</td><td>449.11</td><td>null</td></tr><tr><td>P0228</td><td>Citizen Item</td><td>Sports</td><td>Puma</td><td>317.83</td><td>null</td></tr><tr><td>P0229</td><td>Material If</td><td>Home</td><td>Lenovo</td><td>1399.43</td><td>null</td></tr><tr><td>P0230</td><td>Old Increase</td><td>Beauty</td><td>Samsung</td><td>1163.64</td><td>null</td></tr><tr><td>P0231</td><td>Do Chair</td><td>Home</td><td>Revlon</td><td>781.81</td><td>null</td></tr><tr><td>P0232</td><td>Would Along</td><td>Toys</td><td>Adidas</td><td>896.07</td><td>null</td></tr><tr><td>P0233</td><td>Second Learn</td><td>Toys</td><td>Lenovo</td><td>901.28</td><td>null</td></tr><tr><td>P0234</td><td>Guess At</td><td>Sports</td><td>Sony</td><td>1231.55</td><td>null</td></tr><tr><td>P0235</td><td>Country Knowledge</td><td>Sports</td><td>Adidas</td><td>1297.8</td><td>null</td></tr><tr><td>P0236</td><td>War Involve</td><td>Electronics</td><td>Samsung</td><td>951.74</td><td>null</td></tr><tr><td>P0237</td><td>As Push</td><td>Toys</td><td>Samsung</td><td>164.53</td><td>null</td></tr><tr><td>P0238</td><td>Air Life</td><td>Beauty</td><td>Revlon</td><td>1358.99</td><td>null</td></tr><tr><td>P0239</td><td>Show Finally</td><td>Toys</td><td>Nike</td><td>1612.58</td><td>null</td></tr><tr><td>P0240</td><td>Six Senior</td><td>Clothing</td><td>Samsung</td><td>1648.93</td><td>null</td></tr><tr><td>P0241</td><td>Edge Civil</td><td>Electronics</td><td>Puma</td><td>1531.37</td><td>null</td></tr><tr><td>P0242</td><td>Radio Lot</td><td>Home</td><td>Samsung</td><td>412.59</td><td>null</td></tr><tr><td>P0243</td><td>Recent The</td><td>Beauty</td><td>Lenovo</td><td>1875.22</td><td>null</td></tr><tr><td>P0244</td><td>Run Market</td><td>Beauty</td><td>Revlon</td><td>1843.58</td><td>null</td></tr><tr><td>P0245</td><td>Occur Attention</td><td>Beauty</td><td>LG</td><td>270.43</td><td>null</td></tr><tr><td>P0246</td><td>Great Field</td><td>Electronics</td><td>Adidas</td><td>1449.57</td><td>null</td></tr><tr><td>P0247</td><td>Step Information</td><td>Electronics</td><td>Sony</td><td>825.1</td><td>null</td></tr><tr><td>P0248</td><td>Develop International</td><td>Electronics</td><td>Revlon</td><td>1200.32</td><td>null</td></tr><tr><td>P0249</td><td>There True</td><td>Electronics</td><td>Puma</td><td>1536.54</td><td>null</td></tr><tr><td>P0250</td><td>Half Ten</td><td>Sports</td><td>Samsung</td><td>710.82</td><td>null</td></tr><tr><td>P0251</td><td>Business Own</td><td>Beauty</td><td>Lenovo</td><td>28.65</td><td>null</td></tr><tr><td>P0252</td><td>Late Thus</td><td>Electronics</td><td>Sony</td><td>1957.38</td><td>null</td></tr><tr><td>P0253</td><td>Onto Owner</td><td>Toys</td><td>Lenovo</td><td>226.44</td><td>null</td></tr><tr><td>P0254</td><td>According Because</td><td>Home</td><td>Lenovo</td><td>503.61</td><td>null</td></tr><tr><td>P0255</td><td>Activity Western</td><td>Sports</td><td>Lenovo</td><td>154.4</td><td>null</td></tr><tr><td>P0256</td><td>Note Worker</td><td>Electronics</td><td>Lenovo</td><td>882.48</td><td>null</td></tr><tr><td>P0257</td><td>Executive Art</td><td>Beauty</td><td>Nike</td><td>944.89</td><td>null</td></tr><tr><td>P0258</td><td>Culture Follow</td><td>Home</td><td>Revlon</td><td>1423.91</td><td>null</td></tr><tr><td>P0259</td><td>Against Kind</td><td>Sports</td><td>Puma</td><td>1484.64</td><td>null</td></tr><tr><td>P0260</td><td>About Buy</td><td>Electronics</td><td>Revlon</td><td>1255.56</td><td>null</td></tr><tr><td>P0261</td><td>Capital Well</td><td>Beauty</td><td>Dell</td><td>203.78</td><td>null</td></tr><tr><td>P0262</td><td>Decade Left</td><td>Toys</td><td>Samsung</td><td>885.15</td><td>null</td></tr><tr><td>P0263</td><td>Machine Heart</td><td>Sports</td><td>Nike</td><td>371.19</td><td>null</td></tr><tr><td>P0264</td><td>Thought Heavy</td><td>Beauty</td><td>Apple</td><td>1030.44</td><td>null</td></tr><tr><td>P0265</td><td>Image No</td><td>Toys</td><td>Nike</td><td>1216.14</td><td>null</td></tr><tr><td>P0266</td><td>Specific You</td><td>Electronics</td><td>LG</td><td>324.37</td><td>null</td></tr><tr><td>P0267</td><td>Painting Daughter</td><td>Home</td><td>Adidas</td><td>1772.83</td><td>null</td></tr><tr><td>P0268</td><td>Man Near</td><td>Sports</td><td>Dell</td><td>631.29</td><td>null</td></tr><tr><td>P0269</td><td>Grow Fly</td><td>Sports</td><td>Lenovo</td><td>1192.68</td><td>null</td></tr><tr><td>P0270</td><td>Candidate Question</td><td>Beauty</td><td>Samsung</td><td>611.71</td><td>null</td></tr><tr><td>P0271</td><td>Notice Town</td><td>Sports</td><td>Puma</td><td>1362.74</td><td>null</td></tr><tr><td>P0272</td><td>Defense Either</td><td>Beauty</td><td>Dell</td><td>1472.29</td><td>null</td></tr><tr><td>P0273</td><td>Peace When</td><td>Electronics</td><td>Nike</td><td>146.58</td><td>null</td></tr><tr><td>P0274</td><td>Always Debate</td><td>Clothing</td><td>Samsung</td><td>1128.5</td><td>null</td></tr><tr><td>P0275</td><td>Piece Information</td><td>Toys</td><td>Sony</td><td>1478.58</td><td>null</td></tr><tr><td>P0276</td><td>Team Support</td><td>Toys</td><td>Puma</td><td>1155.12</td><td>null</td></tr><tr><td>P0277</td><td>Field White</td><td>Home</td><td>Dell</td><td>63.16</td><td>null</td></tr><tr><td>P0278</td><td>Similar Can</td><td>Beauty</td><td>Revlon</td><td>414.78</td><td>null</td></tr><tr><td>P0279</td><td>Fast Situation</td><td>Beauty</td><td>Lenovo</td><td>1619.24</td><td>null</td></tr><tr><td>P0280</td><td>Financial Enough</td><td>Clothing</td><td>Puma</td><td>566.91</td><td>null</td></tr><tr><td>P0281</td><td>Hot Customer</td><td>Home</td><td>Puma</td><td>188.55</td><td>null</td></tr><tr><td>P0282</td><td>Matter To</td><td>Electronics</td><td>Samsung</td><td>69.59</td><td>null</td></tr><tr><td>P0283</td><td>Southern Team</td><td>Sports</td><td>Nike</td><td>474.49</td><td>null</td></tr><tr><td>P0284</td><td>Population Account</td><td>Beauty</td><td>Puma</td><td>352.26</td><td>null</td></tr><tr><td>P0285</td><td>Cultural Beat</td><td>Clothing</td><td>Revlon</td><td>1123.4</td><td>null</td></tr><tr><td>P0286</td><td>Blood Chair</td><td>Beauty</td><td>Adidas</td><td>1164.64</td><td>null</td></tr><tr><td>P0287</td><td>Evening Natural</td><td>Electronics</td><td>Puma</td><td>1084.4</td><td>null</td></tr><tr><td>P0288</td><td>Source Hour</td><td>Toys</td><td>Lenovo</td><td>1486.02</td><td>null</td></tr><tr><td>P0289</td><td>Finish Everything</td><td>Sports</td><td>Puma</td><td>1780.19</td><td>null</td></tr><tr><td>P0290</td><td>Room Public</td><td>Beauty</td><td>LG</td><td>919.28</td><td>null</td></tr><tr><td>P0291</td><td>Able Media</td><td>Electronics</td><td>LG</td><td>890.9</td><td>null</td></tr><tr><td>P0292</td><td>Very Event</td><td>Toys</td><td>Sony</td><td>1339.35</td><td>null</td></tr><tr><td>P0293</td><td>Degree Agency</td><td>Electronics</td><td>LG</td><td>107.68</td><td>null</td></tr><tr><td>P0294</td><td>Dark Former</td><td>Sports</td><td>Lenovo</td><td>1054.65</td><td>null</td></tr><tr><td>P0295</td><td>Participant Kitchen</td><td>Electronics</td><td>Puma</td><td>1938.35</td><td>null</td></tr><tr><td>P0296</td><td>Garden Reach</td><td>Sports</td><td>Nike</td><td>1738.65</td><td>null</td></tr><tr><td>P0297</td><td>Turn Degree</td><td>Sports</td><td>Nike</td><td>859.64</td><td>null</td></tr><tr><td>P0298</td><td>Talk Offer</td><td>Clothing</td><td>Revlon</td><td>1571.12</td><td>null</td></tr><tr><td>P0299</td><td>Look Mention</td><td>Home</td><td>Apple</td><td>1170.51</td><td>null</td></tr><tr><td>P0300</td><td>Amount Politics</td><td>Electronics</td><td>Sony</td><td>1741.53</td><td>null</td></tr><tr><td>P0301</td><td>Side Note</td><td>Clothing</td><td>Adidas</td><td>1005.47</td><td>null</td></tr><tr><td>P0302</td><td>Three Seven</td><td>Electronics</td><td>Nike</td><td>1017.38</td><td>null</td></tr><tr><td>P0303</td><td>Child Help</td><td>Clothing</td><td>LG</td><td>1052.48</td><td>null</td></tr><tr><td>P0304</td><td>Our Arrive</td><td>Beauty</td><td>Adidas</td><td>1039.68</td><td>null</td></tr><tr><td>P0305</td><td>Score Choice</td><td>Electronics</td><td>Puma</td><td>1089.74</td><td>null</td></tr><tr><td>P0306</td><td>Six Speak</td><td>Toys</td><td>Samsung</td><td>140.5</td><td>null</td></tr><tr><td>P0307</td><td>Culture Specific</td><td>Beauty</td><td>Lenovo</td><td>1923.44</td><td>null</td></tr><tr><td>P0308</td><td>And Agent</td><td>Sports</td><td>Nike</td><td>187.35</td><td>null</td></tr><tr><td>P0309</td><td>Nor Prepare</td><td>Toys</td><td>Apple</td><td>445.2</td><td>null</td></tr><tr><td>P0310</td><td>Ok Leave</td><td>Home</td><td>Samsung</td><td>704.08</td><td>null</td></tr><tr><td>P0311</td><td>Blue Live</td><td>Toys</td><td>Revlon</td><td>454.3</td><td>null</td></tr><tr><td>P0312</td><td>Big Similar</td><td>Beauty</td><td>Puma</td><td>1500.97</td><td>null</td></tr><tr><td>P0313</td><td>Try You</td><td>Sports</td><td>Samsung</td><td>985.34</td><td>null</td></tr><tr><td>P0314</td><td>Protect Hope</td><td>Sports</td><td>Nike</td><td>599.47</td><td>null</td></tr><tr><td>P0315</td><td>Work Party</td><td>Clothing</td><td>Dell</td><td>1703.11</td><td>null</td></tr><tr><td>P0316</td><td>Sell State</td><td>Clothing</td><td>Puma</td><td>605.68</td><td>null</td></tr><tr><td>P0317</td><td>Trade Region</td><td>Home</td><td>Dell</td><td>1174.72</td><td>null</td></tr><tr><td>P0318</td><td>History Create</td><td>Toys</td><td>Samsung</td><td>824.7</td><td>null</td></tr><tr><td>P0319</td><td>Trouble Street</td><td>Home</td><td>Nike</td><td>1494.78</td><td>null</td></tr><tr><td>P0320</td><td>Whole Road</td><td>Toys</td><td>Adidas</td><td>491.43</td><td>null</td></tr><tr><td>P0321</td><td>They As</td><td>Toys</td><td>Lenovo</td><td>1631.26</td><td>null</td></tr><tr><td>P0322</td><td>Part Traditional</td><td>Beauty</td><td>Dell</td><td>1731.88</td><td>null</td></tr><tr><td>P0323</td><td>Professor What</td><td>Beauty</td><td>Lenovo</td><td>1248.81</td><td>null</td></tr><tr><td>P0324</td><td>Light Idea</td><td>Toys</td><td>Nike</td><td>1819.96</td><td>null</td></tr><tr><td>P0325</td><td>Right Program</td><td>Beauty</td><td>Lenovo</td><td>1361.28</td><td>null</td></tr><tr><td>P0326</td><td>Safe Loss</td><td>Clothing</td><td>Nike</td><td>1688.79</td><td>null</td></tr><tr><td>P0327</td><td>Garden Shake</td><td>Electronics</td><td>Sony</td><td>943.0</td><td>null</td></tr><tr><td>P0328</td><td>Space Person</td><td>Clothing</td><td>Lenovo</td><td>1928.38</td><td>null</td></tr><tr><td>P0329</td><td>Range However</td><td>Toys</td><td>Nike</td><td>1295.37</td><td>null</td></tr><tr><td>P0330</td><td>Main Student</td><td>Sports</td><td>LG</td><td>1241.75</td><td>null</td></tr><tr><td>P0331</td><td>Let Positive</td><td>Sports</td><td>LG</td><td>1528.85</td><td>null</td></tr><tr><td>P0332</td><td>Thus Make</td><td>Toys</td><td>Lenovo</td><td>1369.33</td><td>null</td></tr><tr><td>P0333</td><td>History Easy</td><td>Beauty</td><td>Sony</td><td>1892.24</td><td>null</td></tr><tr><td>P0334</td><td>Customer Loss</td><td>Beauty</td><td>Lenovo</td><td>1560.27</td><td>null</td></tr><tr><td>P0335</td><td>Type Area</td><td>Sports</td><td>Samsung</td><td>1352.39</td><td>null</td></tr><tr><td>P0336</td><td>Shake Current</td><td>Electronics</td><td>Dell</td><td>222.93</td><td>null</td></tr><tr><td>P0337</td><td>Very Include</td><td>Toys</td><td>Samsung</td><td>1968.32</td><td>null</td></tr><tr><td>P0338</td><td>Service Military</td><td>Home</td><td>LG</td><td>1844.1</td><td>null</td></tr><tr><td>P0339</td><td>Rule Site</td><td>Sports</td><td>LG</td><td>1321.67</td><td>null</td></tr><tr><td>P0340</td><td>Though Pretty</td><td>Electronics</td><td>Adidas</td><td>1635.48</td><td>null</td></tr><tr><td>P0341</td><td>Me Small</td><td>Home</td><td>Lenovo</td><td>1333.84</td><td>null</td></tr><tr><td>P0342</td><td>Trouble Over</td><td>Beauty</td><td>Nike</td><td>125.97</td><td>null</td></tr><tr><td>P0343</td><td>Yeah Former</td><td>Toys</td><td>Sony</td><td>539.06</td><td>null</td></tr><tr><td>P0344</td><td>House Enter</td><td>Beauty</td><td>Nike</td><td>1118.86</td><td>null</td></tr><tr><td>P0345</td><td>Federal Sport</td><td>Sports</td><td>Apple</td><td>1366.77</td><td>null</td></tr><tr><td>P0346</td><td>International Yes</td><td>Home</td><td>Dell</td><td>84.09</td><td>null</td></tr><tr><td>P0347</td><td>Painting Kid</td><td>Beauty</td><td>Sony</td><td>452.69</td><td>null</td></tr><tr><td>P0348</td><td>Late Smile</td><td>Home</td><td>LG</td><td>958.75</td><td>null</td></tr><tr><td>P0349</td><td>Less Can</td><td>Beauty</td><td>LG</td><td>1059.73</td><td>null</td></tr><tr><td>P0350</td><td>Garden Blue</td><td>Sports</td><td>Dell</td><td>758.98</td><td>null</td></tr><tr><td>P0351</td><td>Debate Whether</td><td>Beauty</td><td>Samsung</td><td>390.64</td><td>null</td></tr><tr><td>P0352</td><td>About Room</td><td>Home</td><td>Sony</td><td>1226.91</td><td>null</td></tr><tr><td>P0353</td><td>Local Big</td><td>Electronics</td><td>Adidas</td><td>1464.67</td><td>null</td></tr><tr><td>P0354</td><td>Stop As</td><td>Electronics</td><td>Samsung</td><td>289.67</td><td>null</td></tr><tr><td>P0355</td><td>Itself Explain</td><td>Toys</td><td>Apple</td><td>1804.42</td><td>null</td></tr><tr><td>P0356</td><td>Method Authority</td><td>Electronics</td><td>Samsung</td><td>97.91</td><td>null</td></tr><tr><td>P0357</td><td>The Seek</td><td>Clothing</td><td>Adidas</td><td>1705.13</td><td>null</td></tr><tr><td>P0358</td><td>Quickly Republican</td><td>Sports</td><td>Samsung</td><td>1175.18</td><td>null</td></tr><tr><td>P0359</td><td>Feel Describe</td><td>Home</td><td>Lenovo</td><td>660.84</td><td>null</td></tr><tr><td>P0360</td><td>Reveal Organization</td><td>Clothing</td><td>Lenovo</td><td>175.53</td><td>null</td></tr><tr><td>P0361</td><td>Energy Lay</td><td>Beauty</td><td>LG</td><td>1572.29</td><td>null</td></tr><tr><td>P0362</td><td>Reality Network</td><td>Toys</td><td>Revlon</td><td>1555.65</td><td>null</td></tr><tr><td>P0363</td><td>Score Read</td><td>Home</td><td>Nike</td><td>758.11</td><td>null</td></tr><tr><td>P0364</td><td>What Describe</td><td>Sports</td><td>Dell</td><td>930.34</td><td>null</td></tr><tr><td>P0365</td><td>Available Rich</td><td>Clothing</td><td>Revlon</td><td>1542.85</td><td>null</td></tr><tr><td>P0366</td><td>Seek Position</td><td>Toys</td><td>Apple</td><td>1008.85</td><td>null</td></tr><tr><td>P0367</td><td>Human See</td><td>Clothing</td><td>Nike</td><td>776.79</td><td>null</td></tr><tr><td>P0368</td><td>National Various</td><td>Beauty</td><td>Dell</td><td>138.37</td><td>null</td></tr><tr><td>P0369</td><td>Spend Account</td><td>Sports</td><td>Apple</td><td>1954.77</td><td>null</td></tr><tr><td>P0370</td><td>Artist Protect</td><td>Sports</td><td>Lenovo</td><td>1000.0</td><td>null</td></tr><tr><td>P0371</td><td>Possible So</td><td>Electronics</td><td>Dell</td><td>1479.94</td><td>null</td></tr><tr><td>P0372</td><td>Level Rock</td><td>Electronics</td><td>Dell</td><td>1242.11</td><td>null</td></tr><tr><td>P0373</td><td>Wrong Building</td><td>Beauty</td><td>Puma</td><td>1858.79</td><td>null</td></tr><tr><td>P0374</td><td>Whom Century</td><td>Beauty</td><td>LG</td><td>1676.32</td><td>null</td></tr><tr><td>P0375</td><td>Local Evening</td><td>Electronics</td><td>Sony</td><td>412.3</td><td>null</td></tr><tr><td>P0376</td><td>Piece Raise</td><td>Beauty</td><td>Adidas</td><td>1860.84</td><td>null</td></tr><tr><td>P0377</td><td>Think None</td><td>Sports</td><td>Dell</td><td>1298.87</td><td>null</td></tr><tr><td>P0378</td><td>Economy Court</td><td>Electronics</td><td>Dell</td><td>1677.01</td><td>null</td></tr><tr><td>P0379</td><td>Ball Base</td><td>Clothing</td><td>Sony</td><td>1028.64</td><td>null</td></tr><tr><td>P0380</td><td>Blue Finally</td><td>Sports</td><td>Dell</td><td>1721.21</td><td>null</td></tr><tr><td>P0381</td><td>Tend Inside</td><td>Clothing</td><td>Adidas</td><td>1203.96</td><td>null</td></tr><tr><td>P0382</td><td>Five Force</td><td>Home</td><td>Apple</td><td>713.46</td><td>null</td></tr><tr><td>P0383</td><td>Popular Herself</td><td>Beauty</td><td>Revlon</td><td>180.91</td><td>null</td></tr><tr><td>P0384</td><td>Issue Doctor</td><td>Toys</td><td>Puma</td><td>86.38</td><td>null</td></tr><tr><td>P0385</td><td>Old Hand</td><td>Beauty</td><td>Revlon</td><td>1924.73</td><td>null</td></tr><tr><td>P0386</td><td>Style Again</td><td>Sports</td><td>Revlon</td><td>1294.16</td><td>null</td></tr><tr><td>P0387</td><td>Affect Continue</td><td>Clothing</td><td>Dell</td><td>1648.43</td><td>null</td></tr><tr><td>P0388</td><td>Professional Physical</td><td>Clothing</td><td>Puma</td><td>922.07</td><td>null</td></tr><tr><td>P0389</td><td>Necessary Upon</td><td>Beauty</td><td>Sony</td><td>458.59</td><td>null</td></tr><tr><td>P0390</td><td>Leader Security</td><td>Toys</td><td>Lenovo</td><td>867.57</td><td>null</td></tr><tr><td>P0391</td><td>Serious Information</td><td>Beauty</td><td>Sony</td><td>1392.3</td><td>null</td></tr><tr><td>P0392</td><td>Customer Or</td><td>Sports</td><td>Apple</td><td>892.97</td><td>null</td></tr><tr><td>P0393</td><td>Goal Ground</td><td>Clothing</td><td>Sony</td><td>1619.98</td><td>null</td></tr><tr><td>P0394</td><td>Beautiful Small</td><td>Beauty</td><td>Samsung</td><td>926.57</td><td>null</td></tr><tr><td>P0395</td><td>Song Approach</td><td>Clothing</td><td>Samsung</td><td>1758.5</td><td>null</td></tr><tr><td>P0396</td><td>Pattern Age</td><td>Electronics</td><td>Lenovo</td><td>1566.87</td><td>null</td></tr><tr><td>P0397</td><td>Civil Action</td><td>Sports</td><td>Apple</td><td>1877.24</td><td>null</td></tr><tr><td>P0398</td><td>Floor Daughter</td><td>Electronics</td><td>Apple</td><td>1825.42</td><td>null</td></tr><tr><td>P0399</td><td>Parent Reflect</td><td>Toys</td><td>Nike</td><td>1135.56</td><td>null</td></tr><tr><td>P0400</td><td>Any Buy</td><td>Clothing</td><td>Sony</td><td>835.22</td><td>null</td></tr><tr><td>P0401</td><td>Design Machine</td><td>Toys</td><td>Dell</td><td>392.57</td><td>null</td></tr><tr><td>P0402</td><td>Area Your</td><td>Beauty</td><td>Lenovo</td><td>47.46</td><td>null</td></tr><tr><td>P0403</td><td>Artist Anyone</td><td>Home</td><td>Lenovo</td><td>1744.03</td><td>null</td></tr><tr><td>P0404</td><td>Card Government</td><td>Electronics</td><td>LG</td><td>967.18</td><td>null</td></tr><tr><td>P0405</td><td>Population Hold</td><td>Electronics</td><td>Dell</td><td>1225.32</td><td>null</td></tr><tr><td>P0406</td><td>Indicate Produce</td><td>Beauty</td><td>Adidas</td><td>584.74</td><td>null</td></tr><tr><td>P0407</td><td>Carry Laugh</td><td>Home</td><td>LG</td><td>584.71</td><td>null</td></tr><tr><td>P0408</td><td>Finish Sister</td><td>Sports</td><td>Apple</td><td>1167.48</td><td>null</td></tr><tr><td>P0409</td><td>Happen Old</td><td>Sports</td><td>LG</td><td>890.11</td><td>null</td></tr><tr><td>P0410</td><td>Particular Cause</td><td>Toys</td><td>Adidas</td><td>373.46</td><td>null</td></tr><tr><td>P0411</td><td>Attack Cell</td><td>Electronics</td><td>Puma</td><td>873.95</td><td>null</td></tr><tr><td>P0412</td><td>Significant Ability</td><td>Electronics</td><td>Dell</td><td>129.25</td><td>null</td></tr><tr><td>P0413</td><td>Stand Enough</td><td>Clothing</td><td>Lenovo</td><td>342.07</td><td>null</td></tr><tr><td>P0414</td><td>Pressure Role</td><td>Beauty</td><td>LG</td><td>1456.9</td><td>null</td></tr><tr><td>P0415</td><td>Great Wish</td><td>Beauty</td><td>Samsung</td><td>1821.91</td><td>null</td></tr><tr><td>P0416</td><td>Brother Would</td><td>Toys</td><td>Nike</td><td>427.5</td><td>null</td></tr><tr><td>P0417</td><td>Sing Head</td><td>Beauty</td><td>Revlon</td><td>111.34</td><td>null</td></tr><tr><td>P0418</td><td>Other Right</td><td>Home</td><td>Dell</td><td>1844.36</td><td>null</td></tr><tr><td>P0419</td><td>Claim Firm</td><td>Toys</td><td>Adidas</td><td>629.71</td><td>null</td></tr><tr><td>P0420</td><td>Social Cost</td><td>Home</td><td>Adidas</td><td>49.6</td><td>null</td></tr><tr><td>P0421</td><td>Whole Per</td><td>Clothing</td><td>Sony</td><td>1520.45</td><td>null</td></tr><tr><td>P0422</td><td>Society Action</td><td>Electronics</td><td>Revlon</td><td>184.69</td><td>null</td></tr><tr><td>P0423</td><td>Add Eight</td><td>Clothing</td><td>Dell</td><td>990.07</td><td>null</td></tr><tr><td>P0424</td><td>What Best</td><td>Sports</td><td>Apple</td><td>1141.78</td><td>null</td></tr><tr><td>P0425</td><td>Girl Important</td><td>Home</td><td>Adidas</td><td>1822.03</td><td>null</td></tr><tr><td>P0426</td><td>Several Pick</td><td>Electronics</td><td>Puma</td><td>1956.82</td><td>null</td></tr><tr><td>P0427</td><td>Despite Dream</td><td>Sports</td><td>Sony</td><td>1967.84</td><td>null</td></tr><tr><td>P0428</td><td>Why Ten</td><td>Beauty</td><td>Sony</td><td>1582.19</td><td>null</td></tr><tr><td>P0429</td><td>Never Painting</td><td>Electronics</td><td>Apple</td><td>1734.0</td><td>null</td></tr><tr><td>P0430</td><td>Language Style</td><td>Sports</td><td>Adidas</td><td>1386.32</td><td>null</td></tr><tr><td>P0431</td><td>Physical Quite</td><td>Electronics</td><td>Dell</td><td>682.1</td><td>null</td></tr><tr><td>P0432</td><td>Discuss Decide</td><td>Toys</td><td>Revlon</td><td>1287.08</td><td>null</td></tr><tr><td>P0433</td><td>Would Describe</td><td>Electronics</td><td>Apple</td><td>1123.66</td><td>null</td></tr><tr><td>P0434</td><td>Every Line</td><td>Electronics</td><td>Adidas</td><td>1689.45</td><td>null</td></tr><tr><td>P0435</td><td>Debate Center</td><td>Sports</td><td>Nike</td><td>1902.58</td><td>null</td></tr><tr><td>P0436</td><td>Begin Three</td><td>Sports</td><td>Puma</td><td>1781.45</td><td>null</td></tr><tr><td>P0437</td><td>Explain Until</td><td>Clothing</td><td>Sony</td><td>465.4</td><td>null</td></tr><tr><td>P0438</td><td>Mind Add</td><td>Toys</td><td>LG</td><td>1309.15</td><td>null</td></tr><tr><td>P0439</td><td>Very Democratic</td><td>Home</td><td>Apple</td><td>1174.39</td><td>null</td></tr><tr><td>P0440</td><td>Travel Practice</td><td>Electronics</td><td>Dell</td><td>1983.25</td><td>null</td></tr><tr><td>P0441</td><td>Lot Fish</td><td>Toys</td><td>Adidas</td><td>1300.71</td><td>null</td></tr><tr><td>P0442</td><td>Animal Court</td><td>Electronics</td><td>Adidas</td><td>1811.22</td><td>null</td></tr><tr><td>P0443</td><td>Campaign Decision</td><td>Toys</td><td>Dell</td><td>685.07</td><td>null</td></tr><tr><td>P0444</td><td>Change It</td><td>Beauty</td><td>Revlon</td><td>655.62</td><td>null</td></tr><tr><td>P0445</td><td>Mean Hospital</td><td>Electronics</td><td>Apple</td><td>792.65</td><td>null</td></tr><tr><td>P0446</td><td>Blood National</td><td>Sports</td><td>Puma</td><td>1016.83</td><td>null</td></tr><tr><td>P0447</td><td>There Whether</td><td>Toys</td><td>Sony</td><td>915.77</td><td>null</td></tr><tr><td>P0448</td><td>Method Plant</td><td>Electronics</td><td>LG</td><td>1264.88</td><td>null</td></tr><tr><td>P0449</td><td>Property Total</td><td>Electronics</td><td>Samsung</td><td>188.96</td><td>null</td></tr><tr><td>P0450</td><td>Laugh Minute</td><td>Home</td><td>Revlon</td><td>985.83</td><td>null</td></tr><tr><td>P0451</td><td>Card Another</td><td>Sports</td><td>Puma</td><td>1663.54</td><td>null</td></tr><tr><td>P0452</td><td>Other Role</td><td>Electronics</td><td>Dell</td><td>1462.41</td><td>null</td></tr><tr><td>P0453</td><td>Early Authority</td><td>Home</td><td>Sony</td><td>250.33</td><td>null</td></tr><tr><td>P0454</td><td>Window Nature</td><td>Clothing</td><td>Sony</td><td>324.49</td><td>null</td></tr><tr><td>P0455</td><td>Me True</td><td>Beauty</td><td>Puma</td><td>1884.65</td><td>null</td></tr><tr><td>P0456</td><td>Side Knowledge</td><td>Clothing</td><td>Apple</td><td>1904.87</td><td>null</td></tr><tr><td>P0457</td><td>Reach House</td><td>Sports</td><td>Nike</td><td>1731.23</td><td>null</td></tr><tr><td>P0458</td><td>Fight Claim</td><td>Home</td><td>Dell</td><td>629.24</td><td>null</td></tr><tr><td>P0459</td><td>Without Matter</td><td>Toys</td><td>Apple</td><td>1208.62</td><td>null</td></tr><tr><td>P0460</td><td>Recently Heavy</td><td>Electronics</td><td>Revlon</td><td>1327.98</td><td>null</td></tr><tr><td>P0461</td><td>Dream Thought</td><td>Home</td><td>Apple</td><td>1367.65</td><td>null</td></tr><tr><td>P0462</td><td>Modern Yet</td><td>Sports</td><td>Revlon</td><td>1909.36</td><td>null</td></tr><tr><td>P0463</td><td>Movie Cell</td><td>Clothing</td><td>Apple</td><td>293.1</td><td>null</td></tr><tr><td>P0464</td><td>Whatever Audience</td><td>Electronics</td><td>Sony</td><td>638.63</td><td>null</td></tr><tr><td>P0465</td><td>Morning Politics</td><td>Sports</td><td>Lenovo</td><td>151.23</td><td>null</td></tr><tr><td>P0466</td><td>Effort Service</td><td>Beauty</td><td>Lenovo</td><td>1305.34</td><td>null</td></tr><tr><td>P0467</td><td>Approach Only</td><td>Clothing</td><td>Adidas</td><td>15.91</td><td>null</td></tr><tr><td>P0468</td><td>Present Recent</td><td>Toys</td><td>LG</td><td>1530.08</td><td>null</td></tr><tr><td>P0469</td><td>Line Ball</td><td>Clothing</td><td>Dell</td><td>98.6</td><td>null</td></tr><tr><td>P0470</td><td>Probably High</td><td>Home</td><td>Dell</td><td>649.66</td><td>null</td></tr><tr><td>P0471</td><td>Then Exactly</td><td>Beauty</td><td>Sony</td><td>20.68</td><td>null</td></tr><tr><td>P0472</td><td>Even Economic</td><td>Toys</td><td>Apple</td><td>1409.94</td><td>null</td></tr><tr><td>P0473</td><td>Today Over</td><td>Toys</td><td>Adidas</td><td>1878.18</td><td>null</td></tr><tr><td>P0474</td><td>Expert Appear</td><td>Home</td><td>Nike</td><td>1287.26</td><td>null</td></tr><tr><td>P0475</td><td>Government And</td><td>Home</td><td>Samsung</td><td>964.94</td><td>null</td></tr><tr><td>P0476</td><td>Consumer Itself</td><td>Toys</td><td>Lenovo</td><td>259.13</td><td>null</td></tr><tr><td>P0477</td><td>Upon Sometimes</td><td>Electronics</td><td>Apple</td><td>917.67</td><td>null</td></tr><tr><td>P0478</td><td>Quality True</td><td>Sports</td><td>Sony</td><td>630.56</td><td>null</td></tr><tr><td>P0479</td><td>Voice A</td><td>Clothing</td><td>Sony</td><td>567.29</td><td>null</td></tr><tr><td>P0480</td><td>Child Threat</td><td>Beauty</td><td>Adidas</td><td>492.92</td><td>null</td></tr><tr><td>P0481</td><td>Fact Measure</td><td>Beauty</td><td>Nike</td><td>1554.11</td><td>null</td></tr><tr><td>P0482</td><td>Force Family</td><td>Clothing</td><td>Sony</td><td>1675.86</td><td>null</td></tr><tr><td>P0483</td><td>From Night</td><td>Toys</td><td>Nike</td><td>877.18</td><td>null</td></tr><tr><td>P0484</td><td>Deep Thank</td><td>Beauty</td><td>Apple</td><td>1397.57</td><td>null</td></tr><tr><td>P0485</td><td>Rise Exactly</td><td>Home</td><td>Apple</td><td>535.31</td><td>null</td></tr><tr><td>P0486</td><td>Identify Magazine</td><td>Electronics</td><td>Samsung</td><td>315.25</td><td>null</td></tr><tr><td>P0487</td><td>Now Never</td><td>Electronics</td><td>Dell</td><td>1666.94</td><td>null</td></tr><tr><td>P0488</td><td>Experience Idea</td><td>Electronics</td><td>Lenovo</td><td>1316.67</td><td>null</td></tr><tr><td>P0489</td><td>Camera At</td><td>Electronics</td><td>LG</td><td>1923.44</td><td>null</td></tr><tr><td>P0490</td><td>Door Itself</td><td>Home</td><td>Revlon</td><td>1718.72</td><td>null</td></tr><tr><td>P0491</td><td>Floor Sit</td><td>Clothing</td><td>LG</td><td>1602.21</td><td>null</td></tr><tr><td>P0492</td><td>A Forward</td><td>Home</td><td>Nike</td><td>121.07</td><td>null</td></tr><tr><td>P0493</td><td>Pass Go</td><td>Toys</td><td>Samsung</td><td>295.7</td><td>null</td></tr><tr><td>P0494</td><td>Personal Stand</td><td>Toys</td><td>Apple</td><td>1913.83</td><td>null</td></tr><tr><td>P0495</td><td>Sister Question</td><td>Toys</td><td>Sony</td><td>561.99</td><td>null</td></tr><tr><td>P0496</td><td>Beyond Some</td><td>Beauty</td><td>Apple</td><td>137.62</td><td>null</td></tr><tr><td>P0497</td><td>Reflect Chair</td><td>Beauty</td><td>Lenovo</td><td>930.59</td><td>null</td></tr><tr><td>P0498</td><td>Economic Over</td><td>Beauty</td><td>Adidas</td><td>1990.58</td><td>null</td></tr><tr><td>P0499</td><td>Writer Mouth</td><td>Home</td><td>Revlon</td><td>1774.16</td><td>null</td></tr><tr><td>P0500</td><td>Itself Despite</td><td>Electronics</td><td>Puma</td><td>322.4</td><td>null</td></tr></tbody></table></div>"
      ]
     },
     "metadata": {
      "application/vnd.databricks.v1+output": {
       "addedWidgets": {},
       "aggData": [],
       "aggError": "",
       "aggOverflow": false,
       "aggSchema": [],
       "aggSeriesLimitReached": false,
       "aggType": "",
       "arguments": {},
       "columnCustomDisplayInfos": {},
       "data": [
        [
         "P0001",
         "Clearly Its",
         "Beauty",
         "Nike",
         1868.54,
         null
        ],
        [
         "P0002",
         "Production Clear",
         "Beauty",
         "Apple",
         587.13,
         null
        ],
        [
         "P0003",
         "Culture Coach",
         "Home",
         "Revlon",
         1599.24,
         null
        ],
        [
         "P0004",
         "Movement Part",
         "Sports",
         "LG",
         651.71,
         null
        ],
        [
         "P0005",
         "Fact Name",
         "Clothing",
         "Samsung",
         1861.78,
         null
        ],
        [
         "P0006",
         "Usually Stop",
         "Toys",
         "Adidas",
         936.36,
         null
        ],
        [
         "P0007",
         "Reveal Current",
         "Sports",
         "Adidas",
         1954.02,
         null
        ],
        [
         "P0008",
         "Force Language",
         "Beauty",
         "Puma",
         1251.26,
         null
        ],
        [
         "P0009",
         "Stage Leg",
         "Clothing",
         "Samsung",
         1247.15,
         null
        ],
        [
         "P0010",
         "Leader Then",
         "Sports",
         "Sony",
         975.53,
         null
        ],
        [
         "P0011",
         "Term Rest",
         "Electronics",
         "Adidas",
         1475.31,
         null
        ],
        [
         "P0012",
         "Theory Wrong",
         "Electronics",
         "Apple",
         624.61,
         null
        ],
        [
         "P0013",
         "Democrat Book",
         "Sports",
         "Puma",
         384.99,
         null
        ],
        [
         "P0014",
         "Follow Brother",
         "Clothing",
         "Dell",
         32.2,
         null
        ],
        [
         "P0015",
         "Pattern Story",
         "Beauty",
         "LG",
         1459.2,
         null
        ],
        [
         "P0016",
         "Policy Nor",
         "Clothing",
         "Samsung",
         1594.08,
         null
        ],
        [
         "P0017",
         "After Project",
         "Beauty",
         "Revlon",
         1289.06,
         null
        ],
        [
         "P0018",
         "Technology Chance",
         "Beauty",
         "Puma",
         1329.53,
         null
        ],
        [
         "P0019",
         "Oil Station",
         "Electronics",
         "Samsung",
         230.56,
         null
        ],
        [
         "P0020",
         "Happen Truth",
         "Beauty",
         "Nike",
         1603.5,
         null
        ],
        [
         "P0021",
         "Middle Everyone",
         "Sports",
         "Nike",
         361.89,
         null
        ],
        [
         "P0022",
         "Purpose Why",
         "Beauty",
         "Puma",
         73.82,
         null
        ],
        [
         "P0023",
         "Decade Message",
         "Clothing",
         "Adidas",
         1561.78,
         null
        ],
        [
         "P0024",
         "Really Phone",
         "Home",
         "Samsung",
         1422.07,
         null
        ],
        [
         "P0025",
         "Until And",
         "Beauty",
         "Nike",
         488.67,
         null
        ],
        [
         "P0026",
         "Huge Find",
         "Toys",
         "Puma",
         1316.41,
         null
        ],
        [
         "P0027",
         "Local Open",
         "Toys",
         "Adidas",
         939.9,
         null
        ],
        [
         "P0028",
         "Its Both",
         "Beauty",
         "Puma",
         1682.91,
         null
        ],
        [
         "P0029",
         "Everything Open",
         "Clothing",
         "Nike",
         1065.49,
         null
        ],
        [
         "P0030",
         "Hold Staff",
         "Toys",
         "Lenovo",
         1162.38,
         null
        ],
        [
         "P0031",
         "Part Oil",
         "Clothing",
         "LG",
         774.18,
         null
        ],
        [
         "P0032",
         "Relationship Live",
         "Electronics",
         "Dell",
         1445.21,
         null
        ],
        [
         "P0033",
         "Perform Such",
         "Clothing",
         "Lenovo",
         61.91,
         null
        ],
        [
         "P0034",
         "Even Writer",
         "Toys",
         "Samsung",
         1843.84,
         null
        ],
        [
         "P0035",
         "Something Increase",
         "Toys",
         "Revlon",
         579.76,
         null
        ],
        [
         "P0036",
         "Success Always",
         "Home",
         "Dell",
         1780.37,
         null
        ],
        [
         "P0037",
         "Personal Over",
         "Sports",
         "Puma",
         105.28,
         null
        ],
        [
         "P0038",
         "Edge Keep",
         "Toys",
         "Revlon",
         1156.99,
         null
        ],
        [
         "P0039",
         "Before Do",
         "Toys",
         "Revlon",
         1279.12,
         null
        ],
        [
         "P0040",
         "Answer Require",
         "Toys",
         "Dell",
         1822.39,
         null
        ],
        [
         "P0041",
         "Conference Article",
         "Sports",
         "Dell",
         459.55,
         null
        ],
        [
         "P0042",
         "Heavy Writer",
         "Beauty",
         "Adidas",
         1215.78,
         null
        ],
        [
         "P0043",
         "Radio Thousand",
         "Electronics",
         "Revlon",
         914.61,
         null
        ],
        [
         "P0044",
         "Such Beautiful",
         "Electronics",
         "Dell",
         580.32,
         null
        ],
        [
         "P0045",
         "Certainly Sign",
         "Sports",
         "Sony",
         622.31,
         null
        ],
        [
         "P0046",
         "Exist Age",
         "Beauty",
         "Samsung",
         918.54,
         null
        ],
        [
         "P0047",
         "Ever Could",
         "Sports",
         "Revlon",
         257.51,
         null
        ],
        [
         "P0048",
         "Share Quality",
         "Electronics",
         "Revlon",
         652.68,
         null
        ],
        [
         "P0049",
         "True Her",
         "Clothing",
         "Lenovo",
         819.77,
         null
        ],
        [
         "P0050",
         "North Big",
         "Electronics",
         "Samsung",
         1947.16,
         null
        ],
        [
         "P0051",
         "Form Social",
         "Electronics",
         "Apple",
         1294.33,
         null
        ],
        [
         "P0052",
         "Total Tax",
         "Toys",
         "Lenovo",
         1190.28,
         null
        ],
        [
         "P0053",
         "News Look",
         "Electronics",
         "Samsung",
         896.22,
         null
        ],
        [
         "P0054",
         "Local Decide",
         "Electronics",
         "Adidas",
         1346.26,
         null
        ],
        [
         "P0055",
         "Seat Finish",
         "Electronics",
         "Sony",
         925.39,
         null
        ],
        [
         "P0056",
         "Weight Ground",
         "Home",
         "Nike",
         805.91,
         null
        ],
        [
         "P0057",
         "Everything Song",
         "Clothing",
         "Samsung",
         1000.36,
         null
        ],
        [
         "P0058",
         "Involve Present",
         "Electronics",
         "LG",
         1713.86,
         null
        ],
        [
         "P0059",
         "Democratic Any",
         "Sports",
         "Lenovo",
         808.17,
         null
        ],
        [
         "P0060",
         "Red Some",
         "Clothing",
         "Nike",
         1230.69,
         null
        ],
        [
         "P0061",
         "Describe Continue",
         "Electronics",
         "Sony",
         1610.15,
         null
        ],
        [
         "P0062",
         "Always Citizen",
         "Clothing",
         "Samsung",
         912.72,
         null
        ],
        [
         "P0063",
         "Necessary Bad",
         "Home",
         "Nike",
         1876.88,
         null
        ],
        [
         "P0064",
         "Size Although",
         "Clothing",
         "LG",
         473.8,
         null
        ],
        [
         "P0065",
         "Democratic As",
         "Electronics",
         "Lenovo",
         1472.24,
         null
        ],
        [
         "P0066",
         "I Worker",
         "Sports",
         "Sony",
         1123.53,
         null
        ],
        [
         "P0067",
         "Unit Election",
         "Beauty",
         "Samsung",
         144.72,
         null
        ],
        [
         "P0068",
         "Response Audience",
         "Toys",
         "LG",
         1633.64,
         null
        ],
        [
         "P0069",
         "Weight Design",
         "Beauty",
         "Lenovo",
         1165.23,
         null
        ],
        [
         "P0070",
         "Or Against",
         "Sports",
         "Lenovo",
         1589.36,
         null
        ],
        [
         "P0071",
         "Once Support",
         "Toys",
         "Apple",
         1385.04,
         null
        ],
        [
         "P0072",
         "Station Fund",
         "Toys",
         "Revlon",
         1198.32,
         null
        ],
        [
         "P0073",
         "Leave Reveal",
         "Electronics",
         "Adidas",
         586.19,
         null
        ],
        [
         "P0074",
         "Pm Near",
         "Toys",
         "Lenovo",
         426.99,
         null
        ],
        [
         "P0075",
         "Former Trade",
         "Beauty",
         "Samsung",
         73.74,
         null
        ],
        [
         "P0076",
         "Skill Need",
         "Toys",
         "Puma",
         862.73,
         null
        ],
        [
         "P0077",
         "Quality Conference",
         "Clothing",
         "LG",
         333.16,
         null
        ],
        [
         "P0078",
         "Their Worry",
         "Electronics",
         "LG",
         903.63,
         null
        ],
        [
         "P0079",
         "Night Experience",
         "Beauty",
         "LG",
         780.45,
         null
        ],
        [
         "P0080",
         "But Decide",
         "Toys",
         "Lenovo",
         1599.68,
         null
        ],
        [
         "P0081",
         "Whose Available",
         "Toys",
         "Nike",
         1697.18,
         null
        ],
        [
         "P0082",
         "Exist Interest",
         "Beauty",
         "Apple",
         1932.51,
         null
        ],
        [
         "P0083",
         "Laugh Speak",
         "Beauty",
         "Dell",
         1519.05,
         null
        ],
        [
         "P0084",
         "Little All",
         "Home",
         "Samsung",
         866.09,
         null
        ],
        [
         "P0085",
         "Hope Such",
         "Clothing",
         "Apple",
         1863.08,
         null
        ],
        [
         "P0086",
         "Save Own",
         "Toys",
         "Nike",
         915.44,
         null
        ],
        [
         "P0087",
         "Service Personal",
         "Home",
         "Sony",
         273.89,
         null
        ],
        [
         "P0088",
         "At Such",
         "Home",
         "Adidas",
         1482.19,
         null
        ],
        [
         "P0089",
         "Second Despite",
         "Home",
         "LG",
         611.31,
         null
        ],
        [
         "P0090",
         "Future Improve",
         "Electronics",
         "Puma",
         129.87,
         null
        ],
        [
         "P0091",
         "Nation Moment",
         "Beauty",
         "Samsung",
         1683.02,
         null
        ],
        [
         "P0092",
         "Stand Fish",
         "Sports",
         "Revlon",
         1631.21,
         null
        ],
        [
         "P0093",
         "Us Life",
         "Clothing",
         "Puma",
         749.33,
         null
        ],
        [
         "P0094",
         "Real Himself",
         "Beauty",
         "LG",
         48.71,
         null
        ],
        [
         "P0095",
         "Fund Tend",
         "Electronics",
         "Apple",
         1519.1,
         null
        ],
        [
         "P0096",
         "Public Voice",
         "Electronics",
         "Nike",
         1078.42,
         null
        ],
        [
         "P0097",
         "Crime Range",
         "Clothing",
         "Apple",
         627.41,
         null
        ],
        [
         "P0098",
         "Item See",
         "Clothing",
         "Puma",
         551.54,
         null
        ],
        [
         "P0099",
         "Notice Rather",
         "Beauty",
         "Adidas",
         1110.7,
         null
        ],
        [
         "P0100",
         "Oil Into",
         "Sports",
         "Dell",
         793.81,
         null
        ],
        [
         "P0101",
         "Sister Tend",
         "Sports",
         "Puma",
         1106.32,
         null
        ],
        [
         "P0102",
         "Yourself Team",
         "Beauty",
         "LG",
         1079.69,
         null
        ],
        [
         "P0103",
         "Rich Page",
         "Toys",
         "Samsung",
         486.63,
         null
        ],
        [
         "P0104",
         "Fact Building",
         "Clothing",
         "Dell",
         860.64,
         null
        ],
        [
         "P0105",
         "Color Now",
         "Clothing",
         "LG",
         1200.37,
         null
        ],
        [
         "P0106",
         "Research Mother",
         "Clothing",
         "Sony",
         1100.51,
         null
        ],
        [
         "P0107",
         "Degree Much",
         "Toys",
         "Adidas",
         193.45,
         null
        ],
        [
         "P0108",
         "Southern Hear",
         "Home",
         "Puma",
         22.3,
         null
        ],
        [
         "P0109",
         "Seem South",
         "Electronics",
         "Lenovo",
         1891.2,
         null
        ],
        [
         "P0110",
         "Before Everybody",
         "Toys",
         "Samsung",
         776.77,
         null
        ],
        [
         "P0111",
         "Decade Land",
         "Electronics",
         "Adidas",
         1138.45,
         null
        ],
        [
         "P0112",
         "Study Heavy",
         "Beauty",
         "Puma",
         1579.73,
         null
        ],
        [
         "P0113",
         "These Skill",
         "Clothing",
         "Puma",
         810.64,
         null
        ],
        [
         "P0114",
         "Kid Necessary",
         "Home",
         "Nike",
         1178.36,
         null
        ],
        [
         "P0115",
         "Subject Become",
         "Electronics",
         "Puma",
         1504.01,
         null
        ],
        [
         "P0116",
         "Very Forget",
         "Sports",
         "Sony",
         287.59,
         null
        ],
        [
         "P0117",
         "Before Product",
         "Beauty",
         "Puma",
         665.49,
         null
        ],
        [
         "P0118",
         "Start Threat",
         "Toys",
         "Lenovo",
         1123.64,
         null
        ],
        [
         "P0119",
         "Carry View",
         "Home",
         "Sony",
         60.42,
         null
        ],
        [
         "P0120",
         "Direction Character",
         "Toys",
         "Sony",
         368.47,
         null
        ],
        [
         "P0121",
         "Trade Drug",
         "Sports",
         "Nike",
         1959.23,
         null
        ],
        [
         "P0122",
         "Tend Continue",
         "Clothing",
         "LG",
         539.16,
         null
        ],
        [
         "P0123",
         "Why Decide",
         "Clothing",
         "Nike",
         503.76,
         null
        ],
        [
         "P0124",
         "Operation Century",
         "Clothing",
         "Puma",
         1857.88,
         null
        ],
        [
         "P0125",
         "Sort Summer",
         "Home",
         "Sony",
         947.43,
         null
        ],
        [
         "P0126",
         "Possible Which",
         "Sports",
         "Sony",
         1431.12,
         null
        ],
        [
         "P0127",
         "Movement Picture",
         "Home",
         "Sony",
         1337.38,
         null
        ],
        [
         "P0128",
         "Board Worker",
         "Electronics",
         "Apple",
         1935.2,
         null
        ],
        [
         "P0129",
         "North On",
         "Toys",
         "Adidas",
         763.99,
         null
        ],
        [
         "P0130",
         "Behavior Nothing",
         "Clothing",
         "Adidas",
         1355.15,
         null
        ],
        [
         "P0131",
         "Too Example",
         "Clothing",
         "Revlon",
         302.22,
         null
        ],
        [
         "P0132",
         "Issue Return",
         "Home",
         "Samsung",
         1194.22,
         null
        ],
        [
         "P0133",
         "Speak Small",
         "Electronics",
         "LG",
         215.63,
         null
        ],
        [
         "P0134",
         "Stand Fire",
         "Home",
         "Puma",
         1625.17,
         null
        ],
        [
         "P0135",
         "Maybe Light",
         "Clothing",
         "Puma",
         669.95,
         null
        ],
        [
         "P0136",
         "Year True",
         "Sports",
         "Samsung",
         48.0,
         null
        ],
        [
         "P0137",
         "Thought Travel",
         "Clothing",
         "Lenovo",
         1569.19,
         null
        ],
        [
         "P0138",
         "Already Series",
         "Clothing",
         "Samsung",
         452.81,
         null
        ],
        [
         "P0139",
         "Seek President",
         "Toys",
         "Revlon",
         399.03,
         null
        ],
        [
         "P0140",
         "Detail Bar",
         "Clothing",
         "Adidas",
         116.36,
         null
        ],
        [
         "P0141",
         "Play Show",
         "Electronics",
         "Adidas",
         1039.71,
         null
        ],
        [
         "P0142",
         "Trouble Parent",
         "Clothing",
         "Adidas",
         1081.59,
         null
        ],
        [
         "P0143",
         "One Like",
         "Electronics",
         "Apple",
         1549.15,
         null
        ],
        [
         "P0144",
         "Admit Street",
         "Beauty",
         "Apple",
         769.93,
         null
        ],
        [
         "P0145",
         "House Everything",
         "Toys",
         "Puma",
         453.73,
         null
        ],
        [
         "P0146",
         "Building Drive",
         "Electronics",
         "Sony",
         1763.2,
         null
        ],
        [
         "P0147",
         "Among Success",
         "Electronics",
         "Lenovo",
         86.53,
         null
        ],
        [
         "P0148",
         "Politics Friend",
         "Toys",
         "Dell",
         435.86,
         null
        ],
        [
         "P0149",
         "Middle Price",
         "Electronics",
         "Samsung",
         793.61,
         null
        ],
        [
         "P0150",
         "Nice Clearly",
         "Electronics",
         "Samsung",
         1207.54,
         null
        ],
        [
         "P0151",
         "Cup Per",
         "Toys",
         "Apple",
         38.43,
         null
        ],
        [
         "P0152",
         "Not Wait",
         "Home",
         "LG",
         357.33,
         null
        ],
        [
         "P0153",
         "Brother Four",
         "Home",
         "Apple",
         809.73,
         null
        ],
        [
         "P0154",
         "Trip Within",
         "Beauty",
         "Samsung",
         1089.28,
         null
        ],
        [
         "P0155",
         "Laugh Score",
         "Electronics",
         "Dell",
         12.35,
         null
        ],
        [
         "P0156",
         "Put After",
         "Home",
         "Sony",
         1746.06,
         null
        ],
        [
         "P0157",
         "Race Provide",
         "Home",
         "Adidas",
         825.91,
         null
        ],
        [
         "P0158",
         "Pm Plant",
         "Toys",
         "Adidas",
         1286.8,
         null
        ],
        [
         "P0159",
         "Politics Along",
         "Home",
         "Lenovo",
         674.29,
         null
        ],
        [
         "P0160",
         "Parent Into",
         "Clothing",
         "Nike",
         1542.46,
         null
        ],
        [
         "P0161",
         "Need Book",
         "Toys",
         "LG",
         906.6,
         null
        ],
        [
         "P0162",
         "West This",
         "Toys",
         "Adidas",
         417.67,
         null
        ],
        [
         "P0163",
         "Tree Role",
         "Toys",
         "Dell",
         1307.14,
         null
        ],
        [
         "P0164",
         "Word Hard",
         "Electronics",
         "Lenovo",
         535.06,
         null
        ],
        [
         "P0165",
         "Son Drug",
         "Toys",
         "Adidas",
         1971.77,
         null
        ],
        [
         "P0166",
         "Look Field",
         "Beauty",
         "Samsung",
         62.19,
         null
        ],
        [
         "P0167",
         "Early Course",
         "Electronics",
         "Adidas",
         1666.23,
         null
        ],
        [
         "P0168",
         "Generation Day",
         "Toys",
         "Sony",
         1006.63,
         null
        ],
        [
         "P0169",
         "Position Bank",
         "Beauty",
         "Sony",
         1267.42,
         null
        ],
        [
         "P0170",
         "Second Start",
         "Home",
         "Lenovo",
         329.25,
         null
        ],
        [
         "P0171",
         "Option Necessary",
         "Clothing",
         "Lenovo",
         1557.09,
         null
        ],
        [
         "P0172",
         "Commercial Through",
         "Home",
         "Sony",
         1759.47,
         null
        ],
        [
         "P0173",
         "Nearly When",
         "Electronics",
         "Samsung",
         930.78,
         null
        ],
        [
         "P0174",
         "Weight Tax",
         "Home",
         "Lenovo",
         81.55,
         null
        ],
        [
         "P0175",
         "Enjoy Throughout",
         "Home",
         "Apple",
         364.2,
         null
        ],
        [
         "P0176",
         "Team Foreign",
         "Home",
         "Adidas",
         824.82,
         null
        ],
        [
         "P0177",
         "Article Smile",
         "Clothing",
         "Nike",
         1241.26,
         null
        ],
        [
         "P0178",
         "Finally Suddenly",
         "Toys",
         "Adidas",
         743.65,
         null
        ],
        [
         "P0179",
         "Base Significant",
         "Electronics",
         "Samsung",
         1950.04,
         null
        ],
        [
         "P0180",
         "Form Management",
         "Electronics",
         "Sony",
         141.37,
         null
        ],
        [
         "P0181",
         "Of Seek",
         "Beauty",
         "LG",
         1935.07,
         null
        ],
        [
         "P0182",
         "Health I",
         "Beauty",
         "Apple",
         1661.22,
         null
        ],
        [
         "P0183",
         "Born Focus",
         "Sports",
         "Samsung",
         762.15,
         null
        ],
        [
         "P0184",
         "Main Majority",
         "Sports",
         "Adidas",
         1003.71,
         null
        ],
        [
         "P0185",
         "Authority Director",
         "Beauty",
         "Apple",
         1595.17,
         null
        ],
        [
         "P0186",
         "Tv Size",
         "Sports",
         "Revlon",
         231.03,
         null
        ],
        [
         "P0187",
         "Number They",
         "Electronics",
         "Nike",
         38.88,
         null
        ],
        [
         "P0188",
         "Able Seat",
         "Electronics",
         "Adidas",
         1582.57,
         null
        ],
        [
         "P0189",
         "Commercial Boy",
         "Home",
         "Puma",
         641.08,
         null
        ],
        [
         "P0190",
         "Set Whom",
         "Sports",
         "Samsung",
         686.04,
         null
        ],
        [
         "P0191",
         "Myself Performance",
         "Toys",
         "Revlon",
         112.38,
         null
        ],
        [
         "P0192",
         "Up Management",
         "Sports",
         "Apple",
         942.81,
         null
        ],
        [
         "P0193",
         "Early They",
         "Electronics",
         "Nike",
         1238.31,
         null
        ],
        [
         "P0194",
         "Charge Through",
         "Electronics",
         "Revlon",
         1814.74,
         null
        ],
        [
         "P0195",
         "Leg In",
         "Toys",
         "Adidas",
         937.18,
         null
        ],
        [
         "P0196",
         "Study Teach",
         "Clothing",
         "Adidas",
         1159.15,
         null
        ],
        [
         "P0197",
         "Old Ball",
         "Sports",
         "Revlon",
         1564.84,
         null
        ],
        [
         "P0198",
         "Information Life",
         "Sports",
         "Samsung",
         628.47,
         null
        ],
        [
         "P0199",
         "Data Structure",
         "Clothing",
         "Sony",
         1368.51,
         null
        ],
        [
         "P0200",
         "Close Knowledge",
         "Toys",
         "Apple",
         692.12,
         null
        ],
        [
         "P0201",
         "Professional Test",
         "Beauty",
         "Samsung",
         1573.37,
         null
        ],
        [
         "P0202",
         "Analysis The",
         "Electronics",
         "Adidas",
         1953.99,
         null
        ],
        [
         "P0203",
         "Difficult Around",
         "Home",
         "Samsung",
         1016.57,
         null
        ],
        [
         "P0204",
         "Show Teacher",
         "Electronics",
         "Adidas",
         1734.6,
         null
        ],
        [
         "P0205",
         "Attorney I",
         "Home",
         "LG",
         478.82,
         null
        ],
        [
         "P0206",
         "Remember Stuff",
         "Electronics",
         "Apple",
         375.49,
         null
        ],
        [
         "P0207",
         "Year Much",
         "Beauty",
         "Adidas",
         230.41,
         null
        ],
        [
         "P0208",
         "Rather Require",
         "Toys",
         "Adidas",
         754.39,
         null
        ],
        [
         "P0209",
         "Catch Local",
         "Sports",
         "Revlon",
         1070.99,
         null
        ],
        [
         "P0210",
         "Learn Weight",
         "Sports",
         "Apple",
         863.71,
         null
        ],
        [
         "P0211",
         "Check Line",
         "Beauty",
         "Nike",
         1051.35,
         null
        ],
        [
         "P0212",
         "Per Leader",
         "Home",
         "Adidas",
         1766.16,
         null
        ],
        [
         "P0213",
         "Suggest Chance",
         "Sports",
         "Samsung",
         1528.21,
         null
        ],
        [
         "P0214",
         "Site Trip",
         "Toys",
         "Revlon",
         1725.81,
         null
        ],
        [
         "P0215",
         "Trouble Treatment",
         "Beauty",
         "Adidas",
         1678.45,
         null
        ],
        [
         "P0216",
         "Every Page",
         "Home",
         "Adidas",
         1526.03,
         null
        ],
        [
         "P0217",
         "Vote Tree",
         "Sports",
         "Puma",
         1460.22,
         null
        ],
        [
         "P0218",
         "Sea Clear",
         "Beauty",
         "Nike",
         207.67,
         null
        ],
        [
         "P0219",
         "Per Voice",
         "Clothing",
         "Dell",
         996.21,
         null
        ],
        [
         "P0220",
         "Term Fine",
         "Beauty",
         "Dell",
         1354.7,
         null
        ],
        [
         "P0221",
         "Player Summer",
         "Beauty",
         "Lenovo",
         1205.37,
         null
        ],
        [
         "P0222",
         "Respond Knowledge",
         "Electronics",
         "Samsung",
         977.33,
         null
        ],
        [
         "P0223",
         "Believe Activity",
         "Toys",
         "Lenovo",
         1292.39,
         null
        ],
        [
         "P0224",
         "Federal Around",
         "Clothing",
         "Apple",
         1153.17,
         null
        ],
        [
         "P0225",
         "Discussion Region",
         "Beauty",
         "Nike",
         551.26,
         null
        ],
        [
         "P0226",
         "Care North",
         "Beauty",
         "Lenovo",
         1668.89,
         null
        ],
        [
         "P0227",
         "Need Method",
         "Beauty",
         "Nike",
         449.11,
         null
        ],
        [
         "P0228",
         "Citizen Item",
         "Sports",
         "Puma",
         317.83,
         null
        ],
        [
         "P0229",
         "Material If",
         "Home",
         "Lenovo",
         1399.43,
         null
        ],
        [
         "P0230",
         "Old Increase",
         "Beauty",
         "Samsung",
         1163.64,
         null
        ],
        [
         "P0231",
         "Do Chair",
         "Home",
         "Revlon",
         781.81,
         null
        ],
        [
         "P0232",
         "Would Along",
         "Toys",
         "Adidas",
         896.07,
         null
        ],
        [
         "P0233",
         "Second Learn",
         "Toys",
         "Lenovo",
         901.28,
         null
        ],
        [
         "P0234",
         "Guess At",
         "Sports",
         "Sony",
         1231.55,
         null
        ],
        [
         "P0235",
         "Country Knowledge",
         "Sports",
         "Adidas",
         1297.8,
         null
        ],
        [
         "P0236",
         "War Involve",
         "Electronics",
         "Samsung",
         951.74,
         null
        ],
        [
         "P0237",
         "As Push",
         "Toys",
         "Samsung",
         164.53,
         null
        ],
        [
         "P0238",
         "Air Life",
         "Beauty",
         "Revlon",
         1358.99,
         null
        ],
        [
         "P0239",
         "Show Finally",
         "Toys",
         "Nike",
         1612.58,
         null
        ],
        [
         "P0240",
         "Six Senior",
         "Clothing",
         "Samsung",
         1648.93,
         null
        ],
        [
         "P0241",
         "Edge Civil",
         "Electronics",
         "Puma",
         1531.37,
         null
        ],
        [
         "P0242",
         "Radio Lot",
         "Home",
         "Samsung",
         412.59,
         null
        ],
        [
         "P0243",
         "Recent The",
         "Beauty",
         "Lenovo",
         1875.22,
         null
        ],
        [
         "P0244",
         "Run Market",
         "Beauty",
         "Revlon",
         1843.58,
         null
        ],
        [
         "P0245",
         "Occur Attention",
         "Beauty",
         "LG",
         270.43,
         null
        ],
        [
         "P0246",
         "Great Field",
         "Electronics",
         "Adidas",
         1449.57,
         null
        ],
        [
         "P0247",
         "Step Information",
         "Electronics",
         "Sony",
         825.1,
         null
        ],
        [
         "P0248",
         "Develop International",
         "Electronics",
         "Revlon",
         1200.32,
         null
        ],
        [
         "P0249",
         "There True",
         "Electronics",
         "Puma",
         1536.54,
         null
        ],
        [
         "P0250",
         "Half Ten",
         "Sports",
         "Samsung",
         710.82,
         null
        ],
        [
         "P0251",
         "Business Own",
         "Beauty",
         "Lenovo",
         28.65,
         null
        ],
        [
         "P0252",
         "Late Thus",
         "Electronics",
         "Sony",
         1957.38,
         null
        ],
        [
         "P0253",
         "Onto Owner",
         "Toys",
         "Lenovo",
         226.44,
         null
        ],
        [
         "P0254",
         "According Because",
         "Home",
         "Lenovo",
         503.61,
         null
        ],
        [
         "P0255",
         "Activity Western",
         "Sports",
         "Lenovo",
         154.4,
         null
        ],
        [
         "P0256",
         "Note Worker",
         "Electronics",
         "Lenovo",
         882.48,
         null
        ],
        [
         "P0257",
         "Executive Art",
         "Beauty",
         "Nike",
         944.89,
         null
        ],
        [
         "P0258",
         "Culture Follow",
         "Home",
         "Revlon",
         1423.91,
         null
        ],
        [
         "P0259",
         "Against Kind",
         "Sports",
         "Puma",
         1484.64,
         null
        ],
        [
         "P0260",
         "About Buy",
         "Electronics",
         "Revlon",
         1255.56,
         null
        ],
        [
         "P0261",
         "Capital Well",
         "Beauty",
         "Dell",
         203.78,
         null
        ],
        [
         "P0262",
         "Decade Left",
         "Toys",
         "Samsung",
         885.15,
         null
        ],
        [
         "P0263",
         "Machine Heart",
         "Sports",
         "Nike",
         371.19,
         null
        ],
        [
         "P0264",
         "Thought Heavy",
         "Beauty",
         "Apple",
         1030.44,
         null
        ],
        [
         "P0265",
         "Image No",
         "Toys",
         "Nike",
         1216.14,
         null
        ],
        [
         "P0266",
         "Specific You",
         "Electronics",
         "LG",
         324.37,
         null
        ],
        [
         "P0267",
         "Painting Daughter",
         "Home",
         "Adidas",
         1772.83,
         null
        ],
        [
         "P0268",
         "Man Near",
         "Sports",
         "Dell",
         631.29,
         null
        ],
        [
         "P0269",
         "Grow Fly",
         "Sports",
         "Lenovo",
         1192.68,
         null
        ],
        [
         "P0270",
         "Candidate Question",
         "Beauty",
         "Samsung",
         611.71,
         null
        ],
        [
         "P0271",
         "Notice Town",
         "Sports",
         "Puma",
         1362.74,
         null
        ],
        [
         "P0272",
         "Defense Either",
         "Beauty",
         "Dell",
         1472.29,
         null
        ],
        [
         "P0273",
         "Peace When",
         "Electronics",
         "Nike",
         146.58,
         null
        ],
        [
         "P0274",
         "Always Debate",
         "Clothing",
         "Samsung",
         1128.5,
         null
        ],
        [
         "P0275",
         "Piece Information",
         "Toys",
         "Sony",
         1478.58,
         null
        ],
        [
         "P0276",
         "Team Support",
         "Toys",
         "Puma",
         1155.12,
         null
        ],
        [
         "P0277",
         "Field White",
         "Home",
         "Dell",
         63.16,
         null
        ],
        [
         "P0278",
         "Similar Can",
         "Beauty",
         "Revlon",
         414.78,
         null
        ],
        [
         "P0279",
         "Fast Situation",
         "Beauty",
         "Lenovo",
         1619.24,
         null
        ],
        [
         "P0280",
         "Financial Enough",
         "Clothing",
         "Puma",
         566.91,
         null
        ],
        [
         "P0281",
         "Hot Customer",
         "Home",
         "Puma",
         188.55,
         null
        ],
        [
         "P0282",
         "Matter To",
         "Electronics",
         "Samsung",
         69.59,
         null
        ],
        [
         "P0283",
         "Southern Team",
         "Sports",
         "Nike",
         474.49,
         null
        ],
        [
         "P0284",
         "Population Account",
         "Beauty",
         "Puma",
         352.26,
         null
        ],
        [
         "P0285",
         "Cultural Beat",
         "Clothing",
         "Revlon",
         1123.4,
         null
        ],
        [
         "P0286",
         "Blood Chair",
         "Beauty",
         "Adidas",
         1164.64,
         null
        ],
        [
         "P0287",
         "Evening Natural",
         "Electronics",
         "Puma",
         1084.4,
         null
        ],
        [
         "P0288",
         "Source Hour",
         "Toys",
         "Lenovo",
         1486.02,
         null
        ],
        [
         "P0289",
         "Finish Everything",
         "Sports",
         "Puma",
         1780.19,
         null
        ],
        [
         "P0290",
         "Room Public",
         "Beauty",
         "LG",
         919.28,
         null
        ],
        [
         "P0291",
         "Able Media",
         "Electronics",
         "LG",
         890.9,
         null
        ],
        [
         "P0292",
         "Very Event",
         "Toys",
         "Sony",
         1339.35,
         null
        ],
        [
         "P0293",
         "Degree Agency",
         "Electronics",
         "LG",
         107.68,
         null
        ],
        [
         "P0294",
         "Dark Former",
         "Sports",
         "Lenovo",
         1054.65,
         null
        ],
        [
         "P0295",
         "Participant Kitchen",
         "Electronics",
         "Puma",
         1938.35,
         null
        ],
        [
         "P0296",
         "Garden Reach",
         "Sports",
         "Nike",
         1738.65,
         null
        ],
        [
         "P0297",
         "Turn Degree",
         "Sports",
         "Nike",
         859.64,
         null
        ],
        [
         "P0298",
         "Talk Offer",
         "Clothing",
         "Revlon",
         1571.12,
         null
        ],
        [
         "P0299",
         "Look Mention",
         "Home",
         "Apple",
         1170.51,
         null
        ],
        [
         "P0300",
         "Amount Politics",
         "Electronics",
         "Sony",
         1741.53,
         null
        ],
        [
         "P0301",
         "Side Note",
         "Clothing",
         "Adidas",
         1005.47,
         null
        ],
        [
         "P0302",
         "Three Seven",
         "Electronics",
         "Nike",
         1017.38,
         null
        ],
        [
         "P0303",
         "Child Help",
         "Clothing",
         "LG",
         1052.48,
         null
        ],
        [
         "P0304",
         "Our Arrive",
         "Beauty",
         "Adidas",
         1039.68,
         null
        ],
        [
         "P0305",
         "Score Choice",
         "Electronics",
         "Puma",
         1089.74,
         null
        ],
        [
         "P0306",
         "Six Speak",
         "Toys",
         "Samsung",
         140.5,
         null
        ],
        [
         "P0307",
         "Culture Specific",
         "Beauty",
         "Lenovo",
         1923.44,
         null
        ],
        [
         "P0308",
         "And Agent",
         "Sports",
         "Nike",
         187.35,
         null
        ],
        [
         "P0309",
         "Nor Prepare",
         "Toys",
         "Apple",
         445.2,
         null
        ],
        [
         "P0310",
         "Ok Leave",
         "Home",
         "Samsung",
         704.08,
         null
        ],
        [
         "P0311",
         "Blue Live",
         "Toys",
         "Revlon",
         454.3,
         null
        ],
        [
         "P0312",
         "Big Similar",
         "Beauty",
         "Puma",
         1500.97,
         null
        ],
        [
         "P0313",
         "Try You",
         "Sports",
         "Samsung",
         985.34,
         null
        ],
        [
         "P0314",
         "Protect Hope",
         "Sports",
         "Nike",
         599.47,
         null
        ],
        [
         "P0315",
         "Work Party",
         "Clothing",
         "Dell",
         1703.11,
         null
        ],
        [
         "P0316",
         "Sell State",
         "Clothing",
         "Puma",
         605.68,
         null
        ],
        [
         "P0317",
         "Trade Region",
         "Home",
         "Dell",
         1174.72,
         null
        ],
        [
         "P0318",
         "History Create",
         "Toys",
         "Samsung",
         824.7,
         null
        ],
        [
         "P0319",
         "Trouble Street",
         "Home",
         "Nike",
         1494.78,
         null
        ],
        [
         "P0320",
         "Whole Road",
         "Toys",
         "Adidas",
         491.43,
         null
        ],
        [
         "P0321",
         "They As",
         "Toys",
         "Lenovo",
         1631.26,
         null
        ],
        [
         "P0322",
         "Part Traditional",
         "Beauty",
         "Dell",
         1731.88,
         null
        ],
        [
         "P0323",
         "Professor What",
         "Beauty",
         "Lenovo",
         1248.81,
         null
        ],
        [
         "P0324",
         "Light Idea",
         "Toys",
         "Nike",
         1819.96,
         null
        ],
        [
         "P0325",
         "Right Program",
         "Beauty",
         "Lenovo",
         1361.28,
         null
        ],
        [
         "P0326",
         "Safe Loss",
         "Clothing",
         "Nike",
         1688.79,
         null
        ],
        [
         "P0327",
         "Garden Shake",
         "Electronics",
         "Sony",
         943.0,
         null
        ],
        [
         "P0328",
         "Space Person",
         "Clothing",
         "Lenovo",
         1928.38,
         null
        ],
        [
         "P0329",
         "Range However",
         "Toys",
         "Nike",
         1295.37,
         null
        ],
        [
         "P0330",
         "Main Student",
         "Sports",
         "LG",
         1241.75,
         null
        ],
        [
         "P0331",
         "Let Positive",
         "Sports",
         "LG",
         1528.85,
         null
        ],
        [
         "P0332",
         "Thus Make",
         "Toys",
         "Lenovo",
         1369.33,
         null
        ],
        [
         "P0333",
         "History Easy",
         "Beauty",
         "Sony",
         1892.24,
         null
        ],
        [
         "P0334",
         "Customer Loss",
         "Beauty",
         "Lenovo",
         1560.27,
         null
        ],
        [
         "P0335",
         "Type Area",
         "Sports",
         "Samsung",
         1352.39,
         null
        ],
        [
         "P0336",
         "Shake Current",
         "Electronics",
         "Dell",
         222.93,
         null
        ],
        [
         "P0337",
         "Very Include",
         "Toys",
         "Samsung",
         1968.32,
         null
        ],
        [
         "P0338",
         "Service Military",
         "Home",
         "LG",
         1844.1,
         null
        ],
        [
         "P0339",
         "Rule Site",
         "Sports",
         "LG",
         1321.67,
         null
        ],
        [
         "P0340",
         "Though Pretty",
         "Electronics",
         "Adidas",
         1635.48,
         null
        ],
        [
         "P0341",
         "Me Small",
         "Home",
         "Lenovo",
         1333.84,
         null
        ],
        [
         "P0342",
         "Trouble Over",
         "Beauty",
         "Nike",
         125.97,
         null
        ],
        [
         "P0343",
         "Yeah Former",
         "Toys",
         "Sony",
         539.06,
         null
        ],
        [
         "P0344",
         "House Enter",
         "Beauty",
         "Nike",
         1118.86,
         null
        ],
        [
         "P0345",
         "Federal Sport",
         "Sports",
         "Apple",
         1366.77,
         null
        ],
        [
         "P0346",
         "International Yes",
         "Home",
         "Dell",
         84.09,
         null
        ],
        [
         "P0347",
         "Painting Kid",
         "Beauty",
         "Sony",
         452.69,
         null
        ],
        [
         "P0348",
         "Late Smile",
         "Home",
         "LG",
         958.75,
         null
        ],
        [
         "P0349",
         "Less Can",
         "Beauty",
         "LG",
         1059.73,
         null
        ],
        [
         "P0350",
         "Garden Blue",
         "Sports",
         "Dell",
         758.98,
         null
        ],
        [
         "P0351",
         "Debate Whether",
         "Beauty",
         "Samsung",
         390.64,
         null
        ],
        [
         "P0352",
         "About Room",
         "Home",
         "Sony",
         1226.91,
         null
        ],
        [
         "P0353",
         "Local Big",
         "Electronics",
         "Adidas",
         1464.67,
         null
        ],
        [
         "P0354",
         "Stop As",
         "Electronics",
         "Samsung",
         289.67,
         null
        ],
        [
         "P0355",
         "Itself Explain",
         "Toys",
         "Apple",
         1804.42,
         null
        ],
        [
         "P0356",
         "Method Authority",
         "Electronics",
         "Samsung",
         97.91,
         null
        ],
        [
         "P0357",
         "The Seek",
         "Clothing",
         "Adidas",
         1705.13,
         null
        ],
        [
         "P0358",
         "Quickly Republican",
         "Sports",
         "Samsung",
         1175.18,
         null
        ],
        [
         "P0359",
         "Feel Describe",
         "Home",
         "Lenovo",
         660.84,
         null
        ],
        [
         "P0360",
         "Reveal Organization",
         "Clothing",
         "Lenovo",
         175.53,
         null
        ],
        [
         "P0361",
         "Energy Lay",
         "Beauty",
         "LG",
         1572.29,
         null
        ],
        [
         "P0362",
         "Reality Network",
         "Toys",
         "Revlon",
         1555.65,
         null
        ],
        [
         "P0363",
         "Score Read",
         "Home",
         "Nike",
         758.11,
         null
        ],
        [
         "P0364",
         "What Describe",
         "Sports",
         "Dell",
         930.34,
         null
        ],
        [
         "P0365",
         "Available Rich",
         "Clothing",
         "Revlon",
         1542.85,
         null
        ],
        [
         "P0366",
         "Seek Position",
         "Toys",
         "Apple",
         1008.85,
         null
        ],
        [
         "P0367",
         "Human See",
         "Clothing",
         "Nike",
         776.79,
         null
        ],
        [
         "P0368",
         "National Various",
         "Beauty",
         "Dell",
         138.37,
         null
        ],
        [
         "P0369",
         "Spend Account",
         "Sports",
         "Apple",
         1954.77,
         null
        ],
        [
         "P0370",
         "Artist Protect",
         "Sports",
         "Lenovo",
         1000.0,
         null
        ],
        [
         "P0371",
         "Possible So",
         "Electronics",
         "Dell",
         1479.94,
         null
        ],
        [
         "P0372",
         "Level Rock",
         "Electronics",
         "Dell",
         1242.11,
         null
        ],
        [
         "P0373",
         "Wrong Building",
         "Beauty",
         "Puma",
         1858.79,
         null
        ],
        [
         "P0374",
         "Whom Century",
         "Beauty",
         "LG",
         1676.32,
         null
        ],
        [
         "P0375",
         "Local Evening",
         "Electronics",
         "Sony",
         412.3,
         null
        ],
        [
         "P0376",
         "Piece Raise",
         "Beauty",
         "Adidas",
         1860.84,
         null
        ],
        [
         "P0377",
         "Think None",
         "Sports",
         "Dell",
         1298.87,
         null
        ],
        [
         "P0378",
         "Economy Court",
         "Electronics",
         "Dell",
         1677.01,
         null
        ],
        [
         "P0379",
         "Ball Base",
         "Clothing",
         "Sony",
         1028.64,
         null
        ],
        [
         "P0380",
         "Blue Finally",
         "Sports",
         "Dell",
         1721.21,
         null
        ],
        [
         "P0381",
         "Tend Inside",
         "Clothing",
         "Adidas",
         1203.96,
         null
        ],
        [
         "P0382",
         "Five Force",
         "Home",
         "Apple",
         713.46,
         null
        ],
        [
         "P0383",
         "Popular Herself",
         "Beauty",
         "Revlon",
         180.91,
         null
        ],
        [
         "P0384",
         "Issue Doctor",
         "Toys",
         "Puma",
         86.38,
         null
        ],
        [
         "P0385",
         "Old Hand",
         "Beauty",
         "Revlon",
         1924.73,
         null
        ],
        [
         "P0386",
         "Style Again",
         "Sports",
         "Revlon",
         1294.16,
         null
        ],
        [
         "P0387",
         "Affect Continue",
         "Clothing",
         "Dell",
         1648.43,
         null
        ],
        [
         "P0388",
         "Professional Physical",
         "Clothing",
         "Puma",
         922.07,
         null
        ],
        [
         "P0389",
         "Necessary Upon",
         "Beauty",
         "Sony",
         458.59,
         null
        ],
        [
         "P0390",
         "Leader Security",
         "Toys",
         "Lenovo",
         867.57,
         null
        ],
        [
         "P0391",
         "Serious Information",
         "Beauty",
         "Sony",
         1392.3,
         null
        ],
        [
         "P0392",
         "Customer Or",
         "Sports",
         "Apple",
         892.97,
         null
        ],
        [
         "P0393",
         "Goal Ground",
         "Clothing",
         "Sony",
         1619.98,
         null
        ],
        [
         "P0394",
         "Beautiful Small",
         "Beauty",
         "Samsung",
         926.57,
         null
        ],
        [
         "P0395",
         "Song Approach",
         "Clothing",
         "Samsung",
         1758.5,
         null
        ],
        [
         "P0396",
         "Pattern Age",
         "Electronics",
         "Lenovo",
         1566.87,
         null
        ],
        [
         "P0397",
         "Civil Action",
         "Sports",
         "Apple",
         1877.24,
         null
        ],
        [
         "P0398",
         "Floor Daughter",
         "Electronics",
         "Apple",
         1825.42,
         null
        ],
        [
         "P0399",
         "Parent Reflect",
         "Toys",
         "Nike",
         1135.56,
         null
        ],
        [
         "P0400",
         "Any Buy",
         "Clothing",
         "Sony",
         835.22,
         null
        ],
        [
         "P0401",
         "Design Machine",
         "Toys",
         "Dell",
         392.57,
         null
        ],
        [
         "P0402",
         "Area Your",
         "Beauty",
         "Lenovo",
         47.46,
         null
        ],
        [
         "P0403",
         "Artist Anyone",
         "Home",
         "Lenovo",
         1744.03,
         null
        ],
        [
         "P0404",
         "Card Government",
         "Electronics",
         "LG",
         967.18,
         null
        ],
        [
         "P0405",
         "Population Hold",
         "Electronics",
         "Dell",
         1225.32,
         null
        ],
        [
         "P0406",
         "Indicate Produce",
         "Beauty",
         "Adidas",
         584.74,
         null
        ],
        [
         "P0407",
         "Carry Laugh",
         "Home",
         "LG",
         584.71,
         null
        ],
        [
         "P0408",
         "Finish Sister",
         "Sports",
         "Apple",
         1167.48,
         null
        ],
        [
         "P0409",
         "Happen Old",
         "Sports",
         "LG",
         890.11,
         null
        ],
        [
         "P0410",
         "Particular Cause",
         "Toys",
         "Adidas",
         373.46,
         null
        ],
        [
         "P0411",
         "Attack Cell",
         "Electronics",
         "Puma",
         873.95,
         null
        ],
        [
         "P0412",
         "Significant Ability",
         "Electronics",
         "Dell",
         129.25,
         null
        ],
        [
         "P0413",
         "Stand Enough",
         "Clothing",
         "Lenovo",
         342.07,
         null
        ],
        [
         "P0414",
         "Pressure Role",
         "Beauty",
         "LG",
         1456.9,
         null
        ],
        [
         "P0415",
         "Great Wish",
         "Beauty",
         "Samsung",
         1821.91,
         null
        ],
        [
         "P0416",
         "Brother Would",
         "Toys",
         "Nike",
         427.5,
         null
        ],
        [
         "P0417",
         "Sing Head",
         "Beauty",
         "Revlon",
         111.34,
         null
        ],
        [
         "P0418",
         "Other Right",
         "Home",
         "Dell",
         1844.36,
         null
        ],
        [
         "P0419",
         "Claim Firm",
         "Toys",
         "Adidas",
         629.71,
         null
        ],
        [
         "P0420",
         "Social Cost",
         "Home",
         "Adidas",
         49.6,
         null
        ],
        [
         "P0421",
         "Whole Per",
         "Clothing",
         "Sony",
         1520.45,
         null
        ],
        [
         "P0422",
         "Society Action",
         "Electronics",
         "Revlon",
         184.69,
         null
        ],
        [
         "P0423",
         "Add Eight",
         "Clothing",
         "Dell",
         990.07,
         null
        ],
        [
         "P0424",
         "What Best",
         "Sports",
         "Apple",
         1141.78,
         null
        ],
        [
         "P0425",
         "Girl Important",
         "Home",
         "Adidas",
         1822.03,
         null
        ],
        [
         "P0426",
         "Several Pick",
         "Electronics",
         "Puma",
         1956.82,
         null
        ],
        [
         "P0427",
         "Despite Dream",
         "Sports",
         "Sony",
         1967.84,
         null
        ],
        [
         "P0428",
         "Why Ten",
         "Beauty",
         "Sony",
         1582.19,
         null
        ],
        [
         "P0429",
         "Never Painting",
         "Electronics",
         "Apple",
         1734.0,
         null
        ],
        [
         "P0430",
         "Language Style",
         "Sports",
         "Adidas",
         1386.32,
         null
        ],
        [
         "P0431",
         "Physical Quite",
         "Electronics",
         "Dell",
         682.1,
         null
        ],
        [
         "P0432",
         "Discuss Decide",
         "Toys",
         "Revlon",
         1287.08,
         null
        ],
        [
         "P0433",
         "Would Describe",
         "Electronics",
         "Apple",
         1123.66,
         null
        ],
        [
         "P0434",
         "Every Line",
         "Electronics",
         "Adidas",
         1689.45,
         null
        ],
        [
         "P0435",
         "Debate Center",
         "Sports",
         "Nike",
         1902.58,
         null
        ],
        [
         "P0436",
         "Begin Three",
         "Sports",
         "Puma",
         1781.45,
         null
        ],
        [
         "P0437",
         "Explain Until",
         "Clothing",
         "Sony",
         465.4,
         null
        ],
        [
         "P0438",
         "Mind Add",
         "Toys",
         "LG",
         1309.15,
         null
        ],
        [
         "P0439",
         "Very Democratic",
         "Home",
         "Apple",
         1174.39,
         null
        ],
        [
         "P0440",
         "Travel Practice",
         "Electronics",
         "Dell",
         1983.25,
         null
        ],
        [
         "P0441",
         "Lot Fish",
         "Toys",
         "Adidas",
         1300.71,
         null
        ],
        [
         "P0442",
         "Animal Court",
         "Electronics",
         "Adidas",
         1811.22,
         null
        ],
        [
         "P0443",
         "Campaign Decision",
         "Toys",
         "Dell",
         685.07,
         null
        ],
        [
         "P0444",
         "Change It",
         "Beauty",
         "Revlon",
         655.62,
         null
        ],
        [
         "P0445",
         "Mean Hospital",
         "Electronics",
         "Apple",
         792.65,
         null
        ],
        [
         "P0446",
         "Blood National",
         "Sports",
         "Puma",
         1016.83,
         null
        ],
        [
         "P0447",
         "There Whether",
         "Toys",
         "Sony",
         915.77,
         null
        ],
        [
         "P0448",
         "Method Plant",
         "Electronics",
         "LG",
         1264.88,
         null
        ],
        [
         "P0449",
         "Property Total",
         "Electronics",
         "Samsung",
         188.96,
         null
        ],
        [
         "P0450",
         "Laugh Minute",
         "Home",
         "Revlon",
         985.83,
         null
        ],
        [
         "P0451",
         "Card Another",
         "Sports",
         "Puma",
         1663.54,
         null
        ],
        [
         "P0452",
         "Other Role",
         "Electronics",
         "Dell",
         1462.41,
         null
        ],
        [
         "P0453",
         "Early Authority",
         "Home",
         "Sony",
         250.33,
         null
        ],
        [
         "P0454",
         "Window Nature",
         "Clothing",
         "Sony",
         324.49,
         null
        ],
        [
         "P0455",
         "Me True",
         "Beauty",
         "Puma",
         1884.65,
         null
        ],
        [
         "P0456",
         "Side Knowledge",
         "Clothing",
         "Apple",
         1904.87,
         null
        ],
        [
         "P0457",
         "Reach House",
         "Sports",
         "Nike",
         1731.23,
         null
        ],
        [
         "P0458",
         "Fight Claim",
         "Home",
         "Dell",
         629.24,
         null
        ],
        [
         "P0459",
         "Without Matter",
         "Toys",
         "Apple",
         1208.62,
         null
        ],
        [
         "P0460",
         "Recently Heavy",
         "Electronics",
         "Revlon",
         1327.98,
         null
        ],
        [
         "P0461",
         "Dream Thought",
         "Home",
         "Apple",
         1367.65,
         null
        ],
        [
         "P0462",
         "Modern Yet",
         "Sports",
         "Revlon",
         1909.36,
         null
        ],
        [
         "P0463",
         "Movie Cell",
         "Clothing",
         "Apple",
         293.1,
         null
        ],
        [
         "P0464",
         "Whatever Audience",
         "Electronics",
         "Sony",
         638.63,
         null
        ],
        [
         "P0465",
         "Morning Politics",
         "Sports",
         "Lenovo",
         151.23,
         null
        ],
        [
         "P0466",
         "Effort Service",
         "Beauty",
         "Lenovo",
         1305.34,
         null
        ],
        [
         "P0467",
         "Approach Only",
         "Clothing",
         "Adidas",
         15.91,
         null
        ],
        [
         "P0468",
         "Present Recent",
         "Toys",
         "LG",
         1530.08,
         null
        ],
        [
         "P0469",
         "Line Ball",
         "Clothing",
         "Dell",
         98.6,
         null
        ],
        [
         "P0470",
         "Probably High",
         "Home",
         "Dell",
         649.66,
         null
        ],
        [
         "P0471",
         "Then Exactly",
         "Beauty",
         "Sony",
         20.68,
         null
        ],
        [
         "P0472",
         "Even Economic",
         "Toys",
         "Apple",
         1409.94,
         null
        ],
        [
         "P0473",
         "Today Over",
         "Toys",
         "Adidas",
         1878.18,
         null
        ],
        [
         "P0474",
         "Expert Appear",
         "Home",
         "Nike",
         1287.26,
         null
        ],
        [
         "P0475",
         "Government And",
         "Home",
         "Samsung",
         964.94,
         null
        ],
        [
         "P0476",
         "Consumer Itself",
         "Toys",
         "Lenovo",
         259.13,
         null
        ],
        [
         "P0477",
         "Upon Sometimes",
         "Electronics",
         "Apple",
         917.67,
         null
        ],
        [
         "P0478",
         "Quality True",
         "Sports",
         "Sony",
         630.56,
         null
        ],
        [
         "P0479",
         "Voice A",
         "Clothing",
         "Sony",
         567.29,
         null
        ],
        [
         "P0480",
         "Child Threat",
         "Beauty",
         "Adidas",
         492.92,
         null
        ],
        [
         "P0481",
         "Fact Measure",
         "Beauty",
         "Nike",
         1554.11,
         null
        ],
        [
         "P0482",
         "Force Family",
         "Clothing",
         "Sony",
         1675.86,
         null
        ],
        [
         "P0483",
         "From Night",
         "Toys",
         "Nike",
         877.18,
         null
        ],
        [
         "P0484",
         "Deep Thank",
         "Beauty",
         "Apple",
         1397.57,
         null
        ],
        [
         "P0485",
         "Rise Exactly",
         "Home",
         "Apple",
         535.31,
         null
        ],
        [
         "P0486",
         "Identify Magazine",
         "Electronics",
         "Samsung",
         315.25,
         null
        ],
        [
         "P0487",
         "Now Never",
         "Electronics",
         "Dell",
         1666.94,
         null
        ],
        [
         "P0488",
         "Experience Idea",
         "Electronics",
         "Lenovo",
         1316.67,
         null
        ],
        [
         "P0489",
         "Camera At",
         "Electronics",
         "LG",
         1923.44,
         null
        ],
        [
         "P0490",
         "Door Itself",
         "Home",
         "Revlon",
         1718.72,
         null
        ],
        [
         "P0491",
         "Floor Sit",
         "Clothing",
         "LG",
         1602.21,
         null
        ],
        [
         "P0492",
         "A Forward",
         "Home",
         "Nike",
         121.07,
         null
        ],
        [
         "P0493",
         "Pass Go",
         "Toys",
         "Samsung",
         295.7,
         null
        ],
        [
         "P0494",
         "Personal Stand",
         "Toys",
         "Apple",
         1913.83,
         null
        ],
        [
         "P0495",
         "Sister Question",
         "Toys",
         "Sony",
         561.99,
         null
        ],
        [
         "P0496",
         "Beyond Some",
         "Beauty",
         "Apple",
         137.62,
         null
        ],
        [
         "P0497",
         "Reflect Chair",
         "Beauty",
         "Lenovo",
         930.59,
         null
        ],
        [
         "P0498",
         "Economic Over",
         "Beauty",
         "Adidas",
         1990.58,
         null
        ],
        [
         "P0499",
         "Writer Mouth",
         "Home",
         "Revlon",
         1774.16,
         null
        ],
        [
         "P0500",
         "Itself Despite",
         "Electronics",
         "Puma",
         322.4,
         null
        ]
       ],
       "datasetInfos": [],
       "dbfsResultPath": null,
       "isJsonSchema": true,
       "metadata": {},
       "overflow": false,
       "plotOptions": {
        "customPlotOptions": {},
        "displayType": "table",
        "pivotAggregation": null,
        "pivotColumns": null,
        "xColumns": null,
        "yColumns": null
       },
       "removedWidgets": [],
       "schema": [
        {
         "metadata": "{}",
         "name": "product_id",
         "type": "\"string\""
        },
        {
         "metadata": "{}",
         "name": "product_name",
         "type": "\"string\""
        },
        {
         "metadata": "{}",
         "name": "category",
         "type": "\"string\""
        },
        {
         "metadata": "{}",
         "name": "brand",
         "type": "\"string\""
        },
        {
         "metadata": "{}",
         "name": "price",
         "type": "\"double\""
        },
        {
         "metadata": "{}",
         "name": "_rescued_data",
         "type": "\"string\""
        }
       ],
       "type": "table"
      }
     },
     "output_type": "display_data"
    }
   ],
   "source": [
    "df.display()"
   ]
  },
  {
   "cell_type": "code",
   "execution_count": 0,
   "metadata": {
    "application/vnd.databricks.v1+cell": {
     "cellMetadata": {
      "byteLimit": 2048000,
      "rowLimit": 10000
     },
     "inputWidgets": {},
     "nuid": "9c13d257-51c5-4dcf-9bfc-2fb98a6b3741",
     "showTitle": false,
     "tableResultSettingsMap": {},
     "title": ""
    }
   },
   "outputs": [
    {
     "output_type": "display_data",
     "data": {
      "text/html": [
       "<style scoped>\n",
       "  .table-result-container {\n",
       "    max-height: 300px;\n",
       "    overflow: auto;\n",
       "  }\n",
       "  table, th, td {\n",
       "    border: 1px solid black;\n",
       "    border-collapse: collapse;\n",
       "  }\n",
       "  th, td {\n",
       "    padding: 5px;\n",
       "  }\n",
       "  th {\n",
       "    text-align: left;\n",
       "  }\n",
       "</style><div class='table-result-container'><table class='table-result'><thead style='background-color: white'><tr><th>product_id</th><th>product_name</th><th>category</th><th>brand</th><th>price</th></tr></thead><tbody><tr><td>P0001</td><td>Clearly Its</td><td>Beauty</td><td>Nike</td><td>1868.54</td></tr><tr><td>P0002</td><td>Production Clear</td><td>Beauty</td><td>Apple</td><td>587.13</td></tr><tr><td>P0003</td><td>Culture Coach</td><td>Home</td><td>Revlon</td><td>1599.24</td></tr><tr><td>P0004</td><td>Movement Part</td><td>Sports</td><td>LG</td><td>651.71</td></tr><tr><td>P0005</td><td>Fact Name</td><td>Clothing</td><td>Samsung</td><td>1861.78</td></tr><tr><td>P0006</td><td>Usually Stop</td><td>Toys</td><td>Adidas</td><td>936.36</td></tr><tr><td>P0007</td><td>Reveal Current</td><td>Sports</td><td>Adidas</td><td>1954.02</td></tr><tr><td>P0008</td><td>Force Language</td><td>Beauty</td><td>Puma</td><td>1251.26</td></tr><tr><td>P0009</td><td>Stage Leg</td><td>Clothing</td><td>Samsung</td><td>1247.15</td></tr><tr><td>P0010</td><td>Leader Then</td><td>Sports</td><td>Sony</td><td>975.53</td></tr><tr><td>P0011</td><td>Term Rest</td><td>Electronics</td><td>Adidas</td><td>1475.31</td></tr><tr><td>P0012</td><td>Theory Wrong</td><td>Electronics</td><td>Apple</td><td>624.61</td></tr><tr><td>P0013</td><td>Democrat Book</td><td>Sports</td><td>Puma</td><td>384.99</td></tr><tr><td>P0014</td><td>Follow Brother</td><td>Clothing</td><td>Dell</td><td>32.2</td></tr><tr><td>P0015</td><td>Pattern Story</td><td>Beauty</td><td>LG</td><td>1459.2</td></tr><tr><td>P0016</td><td>Policy Nor</td><td>Clothing</td><td>Samsung</td><td>1594.08</td></tr><tr><td>P0017</td><td>After Project</td><td>Beauty</td><td>Revlon</td><td>1289.06</td></tr><tr><td>P0018</td><td>Technology Chance</td><td>Beauty</td><td>Puma</td><td>1329.53</td></tr><tr><td>P0019</td><td>Oil Station</td><td>Electronics</td><td>Samsung</td><td>230.56</td></tr><tr><td>P0020</td><td>Happen Truth</td><td>Beauty</td><td>Nike</td><td>1603.5</td></tr><tr><td>P0021</td><td>Middle Everyone</td><td>Sports</td><td>Nike</td><td>361.89</td></tr><tr><td>P0022</td><td>Purpose Why</td><td>Beauty</td><td>Puma</td><td>73.82</td></tr><tr><td>P0023</td><td>Decade Message</td><td>Clothing</td><td>Adidas</td><td>1561.78</td></tr><tr><td>P0024</td><td>Really Phone</td><td>Home</td><td>Samsung</td><td>1422.07</td></tr><tr><td>P0025</td><td>Until And</td><td>Beauty</td><td>Nike</td><td>488.67</td></tr><tr><td>P0026</td><td>Huge Find</td><td>Toys</td><td>Puma</td><td>1316.41</td></tr><tr><td>P0027</td><td>Local Open</td><td>Toys</td><td>Adidas</td><td>939.9</td></tr><tr><td>P0028</td><td>Its Both</td><td>Beauty</td><td>Puma</td><td>1682.91</td></tr><tr><td>P0029</td><td>Everything Open</td><td>Clothing</td><td>Nike</td><td>1065.49</td></tr><tr><td>P0030</td><td>Hold Staff</td><td>Toys</td><td>Lenovo</td><td>1162.38</td></tr><tr><td>P0031</td><td>Part Oil</td><td>Clothing</td><td>LG</td><td>774.18</td></tr><tr><td>P0032</td><td>Relationship Live</td><td>Electronics</td><td>Dell</td><td>1445.21</td></tr><tr><td>P0033</td><td>Perform Such</td><td>Clothing</td><td>Lenovo</td><td>61.91</td></tr><tr><td>P0034</td><td>Even Writer</td><td>Toys</td><td>Samsung</td><td>1843.84</td></tr><tr><td>P0035</td><td>Something Increase</td><td>Toys</td><td>Revlon</td><td>579.76</td></tr><tr><td>P0036</td><td>Success Always</td><td>Home</td><td>Dell</td><td>1780.37</td></tr><tr><td>P0037</td><td>Personal Over</td><td>Sports</td><td>Puma</td><td>105.28</td></tr><tr><td>P0038</td><td>Edge Keep</td><td>Toys</td><td>Revlon</td><td>1156.99</td></tr><tr><td>P0039</td><td>Before Do</td><td>Toys</td><td>Revlon</td><td>1279.12</td></tr><tr><td>P0040</td><td>Answer Require</td><td>Toys</td><td>Dell</td><td>1822.39</td></tr><tr><td>P0041</td><td>Conference Article</td><td>Sports</td><td>Dell</td><td>459.55</td></tr><tr><td>P0042</td><td>Heavy Writer</td><td>Beauty</td><td>Adidas</td><td>1215.78</td></tr><tr><td>P0043</td><td>Radio Thousand</td><td>Electronics</td><td>Revlon</td><td>914.61</td></tr><tr><td>P0044</td><td>Such Beautiful</td><td>Electronics</td><td>Dell</td><td>580.32</td></tr><tr><td>P0045</td><td>Certainly Sign</td><td>Sports</td><td>Sony</td><td>622.31</td></tr><tr><td>P0046</td><td>Exist Age</td><td>Beauty</td><td>Samsung</td><td>918.54</td></tr><tr><td>P0047</td><td>Ever Could</td><td>Sports</td><td>Revlon</td><td>257.51</td></tr><tr><td>P0048</td><td>Share Quality</td><td>Electronics</td><td>Revlon</td><td>652.68</td></tr><tr><td>P0049</td><td>True Her</td><td>Clothing</td><td>Lenovo</td><td>819.77</td></tr><tr><td>P0050</td><td>North Big</td><td>Electronics</td><td>Samsung</td><td>1947.16</td></tr><tr><td>P0051</td><td>Form Social</td><td>Electronics</td><td>Apple</td><td>1294.33</td></tr><tr><td>P0052</td><td>Total Tax</td><td>Toys</td><td>Lenovo</td><td>1190.28</td></tr><tr><td>P0053</td><td>News Look</td><td>Electronics</td><td>Samsung</td><td>896.22</td></tr><tr><td>P0054</td><td>Local Decide</td><td>Electronics</td><td>Adidas</td><td>1346.26</td></tr><tr><td>P0055</td><td>Seat Finish</td><td>Electronics</td><td>Sony</td><td>925.39</td></tr><tr><td>P0056</td><td>Weight Ground</td><td>Home</td><td>Nike</td><td>805.91</td></tr><tr><td>P0057</td><td>Everything Song</td><td>Clothing</td><td>Samsung</td><td>1000.36</td></tr><tr><td>P0058</td><td>Involve Present</td><td>Electronics</td><td>LG</td><td>1713.86</td></tr><tr><td>P0059</td><td>Democratic Any</td><td>Sports</td><td>Lenovo</td><td>808.17</td></tr><tr><td>P0060</td><td>Red Some</td><td>Clothing</td><td>Nike</td><td>1230.69</td></tr><tr><td>P0061</td><td>Describe Continue</td><td>Electronics</td><td>Sony</td><td>1610.15</td></tr><tr><td>P0062</td><td>Always Citizen</td><td>Clothing</td><td>Samsung</td><td>912.72</td></tr><tr><td>P0063</td><td>Necessary Bad</td><td>Home</td><td>Nike</td><td>1876.88</td></tr><tr><td>P0064</td><td>Size Although</td><td>Clothing</td><td>LG</td><td>473.8</td></tr><tr><td>P0065</td><td>Democratic As</td><td>Electronics</td><td>Lenovo</td><td>1472.24</td></tr><tr><td>P0066</td><td>I Worker</td><td>Sports</td><td>Sony</td><td>1123.53</td></tr><tr><td>P0067</td><td>Unit Election</td><td>Beauty</td><td>Samsung</td><td>144.72</td></tr><tr><td>P0068</td><td>Response Audience</td><td>Toys</td><td>LG</td><td>1633.64</td></tr><tr><td>P0069</td><td>Weight Design</td><td>Beauty</td><td>Lenovo</td><td>1165.23</td></tr><tr><td>P0070</td><td>Or Against</td><td>Sports</td><td>Lenovo</td><td>1589.36</td></tr><tr><td>P0071</td><td>Once Support</td><td>Toys</td><td>Apple</td><td>1385.04</td></tr><tr><td>P0072</td><td>Station Fund</td><td>Toys</td><td>Revlon</td><td>1198.32</td></tr><tr><td>P0073</td><td>Leave Reveal</td><td>Electronics</td><td>Adidas</td><td>586.19</td></tr><tr><td>P0074</td><td>Pm Near</td><td>Toys</td><td>Lenovo</td><td>426.99</td></tr><tr><td>P0075</td><td>Former Trade</td><td>Beauty</td><td>Samsung</td><td>73.74</td></tr><tr><td>P0076</td><td>Skill Need</td><td>Toys</td><td>Puma</td><td>862.73</td></tr><tr><td>P0077</td><td>Quality Conference</td><td>Clothing</td><td>LG</td><td>333.16</td></tr><tr><td>P0078</td><td>Their Worry</td><td>Electronics</td><td>LG</td><td>903.63</td></tr><tr><td>P0079</td><td>Night Experience</td><td>Beauty</td><td>LG</td><td>780.45</td></tr><tr><td>P0080</td><td>But Decide</td><td>Toys</td><td>Lenovo</td><td>1599.68</td></tr><tr><td>P0081</td><td>Whose Available</td><td>Toys</td><td>Nike</td><td>1697.18</td></tr><tr><td>P0082</td><td>Exist Interest</td><td>Beauty</td><td>Apple</td><td>1932.51</td></tr><tr><td>P0083</td><td>Laugh Speak</td><td>Beauty</td><td>Dell</td><td>1519.05</td></tr><tr><td>P0084</td><td>Little All</td><td>Home</td><td>Samsung</td><td>866.09</td></tr><tr><td>P0085</td><td>Hope Such</td><td>Clothing</td><td>Apple</td><td>1863.08</td></tr><tr><td>P0086</td><td>Save Own</td><td>Toys</td><td>Nike</td><td>915.44</td></tr><tr><td>P0087</td><td>Service Personal</td><td>Home</td><td>Sony</td><td>273.89</td></tr><tr><td>P0088</td><td>At Such</td><td>Home</td><td>Adidas</td><td>1482.19</td></tr><tr><td>P0089</td><td>Second Despite</td><td>Home</td><td>LG</td><td>611.31</td></tr><tr><td>P0090</td><td>Future Improve</td><td>Electronics</td><td>Puma</td><td>129.87</td></tr><tr><td>P0091</td><td>Nation Moment</td><td>Beauty</td><td>Samsung</td><td>1683.02</td></tr><tr><td>P0092</td><td>Stand Fish</td><td>Sports</td><td>Revlon</td><td>1631.21</td></tr><tr><td>P0093</td><td>Us Life</td><td>Clothing</td><td>Puma</td><td>749.33</td></tr><tr><td>P0094</td><td>Real Himself</td><td>Beauty</td><td>LG</td><td>48.71</td></tr><tr><td>P0095</td><td>Fund Tend</td><td>Electronics</td><td>Apple</td><td>1519.1</td></tr><tr><td>P0096</td><td>Public Voice</td><td>Electronics</td><td>Nike</td><td>1078.42</td></tr><tr><td>P0097</td><td>Crime Range</td><td>Clothing</td><td>Apple</td><td>627.41</td></tr><tr><td>P0098</td><td>Item See</td><td>Clothing</td><td>Puma</td><td>551.54</td></tr><tr><td>P0099</td><td>Notice Rather</td><td>Beauty</td><td>Adidas</td><td>1110.7</td></tr><tr><td>P0100</td><td>Oil Into</td><td>Sports</td><td>Dell</td><td>793.81</td></tr><tr><td>P0101</td><td>Sister Tend</td><td>Sports</td><td>Puma</td><td>1106.32</td></tr><tr><td>P0102</td><td>Yourself Team</td><td>Beauty</td><td>LG</td><td>1079.69</td></tr><tr><td>P0103</td><td>Rich Page</td><td>Toys</td><td>Samsung</td><td>486.63</td></tr><tr><td>P0104</td><td>Fact Building</td><td>Clothing</td><td>Dell</td><td>860.64</td></tr><tr><td>P0105</td><td>Color Now</td><td>Clothing</td><td>LG</td><td>1200.37</td></tr><tr><td>P0106</td><td>Research Mother</td><td>Clothing</td><td>Sony</td><td>1100.51</td></tr><tr><td>P0107</td><td>Degree Much</td><td>Toys</td><td>Adidas</td><td>193.45</td></tr><tr><td>P0108</td><td>Southern Hear</td><td>Home</td><td>Puma</td><td>22.3</td></tr><tr><td>P0109</td><td>Seem South</td><td>Electronics</td><td>Lenovo</td><td>1891.2</td></tr><tr><td>P0110</td><td>Before Everybody</td><td>Toys</td><td>Samsung</td><td>776.77</td></tr><tr><td>P0111</td><td>Decade Land</td><td>Electronics</td><td>Adidas</td><td>1138.45</td></tr><tr><td>P0112</td><td>Study Heavy</td><td>Beauty</td><td>Puma</td><td>1579.73</td></tr><tr><td>P0113</td><td>These Skill</td><td>Clothing</td><td>Puma</td><td>810.64</td></tr><tr><td>P0114</td><td>Kid Necessary</td><td>Home</td><td>Nike</td><td>1178.36</td></tr><tr><td>P0115</td><td>Subject Become</td><td>Electronics</td><td>Puma</td><td>1504.01</td></tr><tr><td>P0116</td><td>Very Forget</td><td>Sports</td><td>Sony</td><td>287.59</td></tr><tr><td>P0117</td><td>Before Product</td><td>Beauty</td><td>Puma</td><td>665.49</td></tr><tr><td>P0118</td><td>Start Threat</td><td>Toys</td><td>Lenovo</td><td>1123.64</td></tr><tr><td>P0119</td><td>Carry View</td><td>Home</td><td>Sony</td><td>60.42</td></tr><tr><td>P0120</td><td>Direction Character</td><td>Toys</td><td>Sony</td><td>368.47</td></tr><tr><td>P0121</td><td>Trade Drug</td><td>Sports</td><td>Nike</td><td>1959.23</td></tr><tr><td>P0122</td><td>Tend Continue</td><td>Clothing</td><td>LG</td><td>539.16</td></tr><tr><td>P0123</td><td>Why Decide</td><td>Clothing</td><td>Nike</td><td>503.76</td></tr><tr><td>P0124</td><td>Operation Century</td><td>Clothing</td><td>Puma</td><td>1857.88</td></tr><tr><td>P0125</td><td>Sort Summer</td><td>Home</td><td>Sony</td><td>947.43</td></tr><tr><td>P0126</td><td>Possible Which</td><td>Sports</td><td>Sony</td><td>1431.12</td></tr><tr><td>P0127</td><td>Movement Picture</td><td>Home</td><td>Sony</td><td>1337.38</td></tr><tr><td>P0128</td><td>Board Worker</td><td>Electronics</td><td>Apple</td><td>1935.2</td></tr><tr><td>P0129</td><td>North On</td><td>Toys</td><td>Adidas</td><td>763.99</td></tr><tr><td>P0130</td><td>Behavior Nothing</td><td>Clothing</td><td>Adidas</td><td>1355.15</td></tr><tr><td>P0131</td><td>Too Example</td><td>Clothing</td><td>Revlon</td><td>302.22</td></tr><tr><td>P0132</td><td>Issue Return</td><td>Home</td><td>Samsung</td><td>1194.22</td></tr><tr><td>P0133</td><td>Speak Small</td><td>Electronics</td><td>LG</td><td>215.63</td></tr><tr><td>P0134</td><td>Stand Fire</td><td>Home</td><td>Puma</td><td>1625.17</td></tr><tr><td>P0135</td><td>Maybe Light</td><td>Clothing</td><td>Puma</td><td>669.95</td></tr><tr><td>P0136</td><td>Year True</td><td>Sports</td><td>Samsung</td><td>48.0</td></tr><tr><td>P0137</td><td>Thought Travel</td><td>Clothing</td><td>Lenovo</td><td>1569.19</td></tr><tr><td>P0138</td><td>Already Series</td><td>Clothing</td><td>Samsung</td><td>452.81</td></tr><tr><td>P0139</td><td>Seek President</td><td>Toys</td><td>Revlon</td><td>399.03</td></tr><tr><td>P0140</td><td>Detail Bar</td><td>Clothing</td><td>Adidas</td><td>116.36</td></tr><tr><td>P0141</td><td>Play Show</td><td>Electronics</td><td>Adidas</td><td>1039.71</td></tr><tr><td>P0142</td><td>Trouble Parent</td><td>Clothing</td><td>Adidas</td><td>1081.59</td></tr><tr><td>P0143</td><td>One Like</td><td>Electronics</td><td>Apple</td><td>1549.15</td></tr><tr><td>P0144</td><td>Admit Street</td><td>Beauty</td><td>Apple</td><td>769.93</td></tr><tr><td>P0145</td><td>House Everything</td><td>Toys</td><td>Puma</td><td>453.73</td></tr><tr><td>P0146</td><td>Building Drive</td><td>Electronics</td><td>Sony</td><td>1763.2</td></tr><tr><td>P0147</td><td>Among Success</td><td>Electronics</td><td>Lenovo</td><td>86.53</td></tr><tr><td>P0148</td><td>Politics Friend</td><td>Toys</td><td>Dell</td><td>435.86</td></tr><tr><td>P0149</td><td>Middle Price</td><td>Electronics</td><td>Samsung</td><td>793.61</td></tr><tr><td>P0150</td><td>Nice Clearly</td><td>Electronics</td><td>Samsung</td><td>1207.54</td></tr><tr><td>P0151</td><td>Cup Per</td><td>Toys</td><td>Apple</td><td>38.43</td></tr><tr><td>P0152</td><td>Not Wait</td><td>Home</td><td>LG</td><td>357.33</td></tr><tr><td>P0153</td><td>Brother Four</td><td>Home</td><td>Apple</td><td>809.73</td></tr><tr><td>P0154</td><td>Trip Within</td><td>Beauty</td><td>Samsung</td><td>1089.28</td></tr><tr><td>P0155</td><td>Laugh Score</td><td>Electronics</td><td>Dell</td><td>12.35</td></tr><tr><td>P0156</td><td>Put After</td><td>Home</td><td>Sony</td><td>1746.06</td></tr><tr><td>P0157</td><td>Race Provide</td><td>Home</td><td>Adidas</td><td>825.91</td></tr><tr><td>P0158</td><td>Pm Plant</td><td>Toys</td><td>Adidas</td><td>1286.8</td></tr><tr><td>P0159</td><td>Politics Along</td><td>Home</td><td>Lenovo</td><td>674.29</td></tr><tr><td>P0160</td><td>Parent Into</td><td>Clothing</td><td>Nike</td><td>1542.46</td></tr><tr><td>P0161</td><td>Need Book</td><td>Toys</td><td>LG</td><td>906.6</td></tr><tr><td>P0162</td><td>West This</td><td>Toys</td><td>Adidas</td><td>417.67</td></tr><tr><td>P0163</td><td>Tree Role</td><td>Toys</td><td>Dell</td><td>1307.14</td></tr><tr><td>P0164</td><td>Word Hard</td><td>Electronics</td><td>Lenovo</td><td>535.06</td></tr><tr><td>P0165</td><td>Son Drug</td><td>Toys</td><td>Adidas</td><td>1971.77</td></tr><tr><td>P0166</td><td>Look Field</td><td>Beauty</td><td>Samsung</td><td>62.19</td></tr><tr><td>P0167</td><td>Early Course</td><td>Electronics</td><td>Adidas</td><td>1666.23</td></tr><tr><td>P0168</td><td>Generation Day</td><td>Toys</td><td>Sony</td><td>1006.63</td></tr><tr><td>P0169</td><td>Position Bank</td><td>Beauty</td><td>Sony</td><td>1267.42</td></tr><tr><td>P0170</td><td>Second Start</td><td>Home</td><td>Lenovo</td><td>329.25</td></tr><tr><td>P0171</td><td>Option Necessary</td><td>Clothing</td><td>Lenovo</td><td>1557.09</td></tr><tr><td>P0172</td><td>Commercial Through</td><td>Home</td><td>Sony</td><td>1759.47</td></tr><tr><td>P0173</td><td>Nearly When</td><td>Electronics</td><td>Samsung</td><td>930.78</td></tr><tr><td>P0174</td><td>Weight Tax</td><td>Home</td><td>Lenovo</td><td>81.55</td></tr><tr><td>P0175</td><td>Enjoy Throughout</td><td>Home</td><td>Apple</td><td>364.2</td></tr><tr><td>P0176</td><td>Team Foreign</td><td>Home</td><td>Adidas</td><td>824.82</td></tr><tr><td>P0177</td><td>Article Smile</td><td>Clothing</td><td>Nike</td><td>1241.26</td></tr><tr><td>P0178</td><td>Finally Suddenly</td><td>Toys</td><td>Adidas</td><td>743.65</td></tr><tr><td>P0179</td><td>Base Significant</td><td>Electronics</td><td>Samsung</td><td>1950.04</td></tr><tr><td>P0180</td><td>Form Management</td><td>Electronics</td><td>Sony</td><td>141.37</td></tr><tr><td>P0181</td><td>Of Seek</td><td>Beauty</td><td>LG</td><td>1935.07</td></tr><tr><td>P0182</td><td>Health I</td><td>Beauty</td><td>Apple</td><td>1661.22</td></tr><tr><td>P0183</td><td>Born Focus</td><td>Sports</td><td>Samsung</td><td>762.15</td></tr><tr><td>P0184</td><td>Main Majority</td><td>Sports</td><td>Adidas</td><td>1003.71</td></tr><tr><td>P0185</td><td>Authority Director</td><td>Beauty</td><td>Apple</td><td>1595.17</td></tr><tr><td>P0186</td><td>Tv Size</td><td>Sports</td><td>Revlon</td><td>231.03</td></tr><tr><td>P0187</td><td>Number They</td><td>Electronics</td><td>Nike</td><td>38.88</td></tr><tr><td>P0188</td><td>Able Seat</td><td>Electronics</td><td>Adidas</td><td>1582.57</td></tr><tr><td>P0189</td><td>Commercial Boy</td><td>Home</td><td>Puma</td><td>641.08</td></tr><tr><td>P0190</td><td>Set Whom</td><td>Sports</td><td>Samsung</td><td>686.04</td></tr><tr><td>P0191</td><td>Myself Performance</td><td>Toys</td><td>Revlon</td><td>112.38</td></tr><tr><td>P0192</td><td>Up Management</td><td>Sports</td><td>Apple</td><td>942.81</td></tr><tr><td>P0193</td><td>Early They</td><td>Electronics</td><td>Nike</td><td>1238.31</td></tr><tr><td>P0194</td><td>Charge Through</td><td>Electronics</td><td>Revlon</td><td>1814.74</td></tr><tr><td>P0195</td><td>Leg In</td><td>Toys</td><td>Adidas</td><td>937.18</td></tr><tr><td>P0196</td><td>Study Teach</td><td>Clothing</td><td>Adidas</td><td>1159.15</td></tr><tr><td>P0197</td><td>Old Ball</td><td>Sports</td><td>Revlon</td><td>1564.84</td></tr><tr><td>P0198</td><td>Information Life</td><td>Sports</td><td>Samsung</td><td>628.47</td></tr><tr><td>P0199</td><td>Data Structure</td><td>Clothing</td><td>Sony</td><td>1368.51</td></tr><tr><td>P0200</td><td>Close Knowledge</td><td>Toys</td><td>Apple</td><td>692.12</td></tr><tr><td>P0201</td><td>Professional Test</td><td>Beauty</td><td>Samsung</td><td>1573.37</td></tr><tr><td>P0202</td><td>Analysis The</td><td>Electronics</td><td>Adidas</td><td>1953.99</td></tr><tr><td>P0203</td><td>Difficult Around</td><td>Home</td><td>Samsung</td><td>1016.57</td></tr><tr><td>P0204</td><td>Show Teacher</td><td>Electronics</td><td>Adidas</td><td>1734.6</td></tr><tr><td>P0205</td><td>Attorney I</td><td>Home</td><td>LG</td><td>478.82</td></tr><tr><td>P0206</td><td>Remember Stuff</td><td>Electronics</td><td>Apple</td><td>375.49</td></tr><tr><td>P0207</td><td>Year Much</td><td>Beauty</td><td>Adidas</td><td>230.41</td></tr><tr><td>P0208</td><td>Rather Require</td><td>Toys</td><td>Adidas</td><td>754.39</td></tr><tr><td>P0209</td><td>Catch Local</td><td>Sports</td><td>Revlon</td><td>1070.99</td></tr><tr><td>P0210</td><td>Learn Weight</td><td>Sports</td><td>Apple</td><td>863.71</td></tr><tr><td>P0211</td><td>Check Line</td><td>Beauty</td><td>Nike</td><td>1051.35</td></tr><tr><td>P0212</td><td>Per Leader</td><td>Home</td><td>Adidas</td><td>1766.16</td></tr><tr><td>P0213</td><td>Suggest Chance</td><td>Sports</td><td>Samsung</td><td>1528.21</td></tr><tr><td>P0214</td><td>Site Trip</td><td>Toys</td><td>Revlon</td><td>1725.81</td></tr><tr><td>P0215</td><td>Trouble Treatment</td><td>Beauty</td><td>Adidas</td><td>1678.45</td></tr><tr><td>P0216</td><td>Every Page</td><td>Home</td><td>Adidas</td><td>1526.03</td></tr><tr><td>P0217</td><td>Vote Tree</td><td>Sports</td><td>Puma</td><td>1460.22</td></tr><tr><td>P0218</td><td>Sea Clear</td><td>Beauty</td><td>Nike</td><td>207.67</td></tr><tr><td>P0219</td><td>Per Voice</td><td>Clothing</td><td>Dell</td><td>996.21</td></tr><tr><td>P0220</td><td>Term Fine</td><td>Beauty</td><td>Dell</td><td>1354.7</td></tr><tr><td>P0221</td><td>Player Summer</td><td>Beauty</td><td>Lenovo</td><td>1205.37</td></tr><tr><td>P0222</td><td>Respond Knowledge</td><td>Electronics</td><td>Samsung</td><td>977.33</td></tr><tr><td>P0223</td><td>Believe Activity</td><td>Toys</td><td>Lenovo</td><td>1292.39</td></tr><tr><td>P0224</td><td>Federal Around</td><td>Clothing</td><td>Apple</td><td>1153.17</td></tr><tr><td>P0225</td><td>Discussion Region</td><td>Beauty</td><td>Nike</td><td>551.26</td></tr><tr><td>P0226</td><td>Care North</td><td>Beauty</td><td>Lenovo</td><td>1668.89</td></tr><tr><td>P0227</td><td>Need Method</td><td>Beauty</td><td>Nike</td><td>449.11</td></tr><tr><td>P0228</td><td>Citizen Item</td><td>Sports</td><td>Puma</td><td>317.83</td></tr><tr><td>P0229</td><td>Material If</td><td>Home</td><td>Lenovo</td><td>1399.43</td></tr><tr><td>P0230</td><td>Old Increase</td><td>Beauty</td><td>Samsung</td><td>1163.64</td></tr><tr><td>P0231</td><td>Do Chair</td><td>Home</td><td>Revlon</td><td>781.81</td></tr><tr><td>P0232</td><td>Would Along</td><td>Toys</td><td>Adidas</td><td>896.07</td></tr><tr><td>P0233</td><td>Second Learn</td><td>Toys</td><td>Lenovo</td><td>901.28</td></tr><tr><td>P0234</td><td>Guess At</td><td>Sports</td><td>Sony</td><td>1231.55</td></tr><tr><td>P0235</td><td>Country Knowledge</td><td>Sports</td><td>Adidas</td><td>1297.8</td></tr><tr><td>P0236</td><td>War Involve</td><td>Electronics</td><td>Samsung</td><td>951.74</td></tr><tr><td>P0237</td><td>As Push</td><td>Toys</td><td>Samsung</td><td>164.53</td></tr><tr><td>P0238</td><td>Air Life</td><td>Beauty</td><td>Revlon</td><td>1358.99</td></tr><tr><td>P0239</td><td>Show Finally</td><td>Toys</td><td>Nike</td><td>1612.58</td></tr><tr><td>P0240</td><td>Six Senior</td><td>Clothing</td><td>Samsung</td><td>1648.93</td></tr><tr><td>P0241</td><td>Edge Civil</td><td>Electronics</td><td>Puma</td><td>1531.37</td></tr><tr><td>P0242</td><td>Radio Lot</td><td>Home</td><td>Samsung</td><td>412.59</td></tr><tr><td>P0243</td><td>Recent The</td><td>Beauty</td><td>Lenovo</td><td>1875.22</td></tr><tr><td>P0244</td><td>Run Market</td><td>Beauty</td><td>Revlon</td><td>1843.58</td></tr><tr><td>P0245</td><td>Occur Attention</td><td>Beauty</td><td>LG</td><td>270.43</td></tr><tr><td>P0246</td><td>Great Field</td><td>Electronics</td><td>Adidas</td><td>1449.57</td></tr><tr><td>P0247</td><td>Step Information</td><td>Electronics</td><td>Sony</td><td>825.1</td></tr><tr><td>P0248</td><td>Develop International</td><td>Electronics</td><td>Revlon</td><td>1200.32</td></tr><tr><td>P0249</td><td>There True</td><td>Electronics</td><td>Puma</td><td>1536.54</td></tr><tr><td>P0250</td><td>Half Ten</td><td>Sports</td><td>Samsung</td><td>710.82</td></tr><tr><td>P0251</td><td>Business Own</td><td>Beauty</td><td>Lenovo</td><td>28.65</td></tr><tr><td>P0252</td><td>Late Thus</td><td>Electronics</td><td>Sony</td><td>1957.38</td></tr><tr><td>P0253</td><td>Onto Owner</td><td>Toys</td><td>Lenovo</td><td>226.44</td></tr><tr><td>P0254</td><td>According Because</td><td>Home</td><td>Lenovo</td><td>503.61</td></tr><tr><td>P0255</td><td>Activity Western</td><td>Sports</td><td>Lenovo</td><td>154.4</td></tr><tr><td>P0256</td><td>Note Worker</td><td>Electronics</td><td>Lenovo</td><td>882.48</td></tr><tr><td>P0257</td><td>Executive Art</td><td>Beauty</td><td>Nike</td><td>944.89</td></tr><tr><td>P0258</td><td>Culture Follow</td><td>Home</td><td>Revlon</td><td>1423.91</td></tr><tr><td>P0259</td><td>Against Kind</td><td>Sports</td><td>Puma</td><td>1484.64</td></tr><tr><td>P0260</td><td>About Buy</td><td>Electronics</td><td>Revlon</td><td>1255.56</td></tr><tr><td>P0261</td><td>Capital Well</td><td>Beauty</td><td>Dell</td><td>203.78</td></tr><tr><td>P0262</td><td>Decade Left</td><td>Toys</td><td>Samsung</td><td>885.15</td></tr><tr><td>P0263</td><td>Machine Heart</td><td>Sports</td><td>Nike</td><td>371.19</td></tr><tr><td>P0264</td><td>Thought Heavy</td><td>Beauty</td><td>Apple</td><td>1030.44</td></tr><tr><td>P0265</td><td>Image No</td><td>Toys</td><td>Nike</td><td>1216.14</td></tr><tr><td>P0266</td><td>Specific You</td><td>Electronics</td><td>LG</td><td>324.37</td></tr><tr><td>P0267</td><td>Painting Daughter</td><td>Home</td><td>Adidas</td><td>1772.83</td></tr><tr><td>P0268</td><td>Man Near</td><td>Sports</td><td>Dell</td><td>631.29</td></tr><tr><td>P0269</td><td>Grow Fly</td><td>Sports</td><td>Lenovo</td><td>1192.68</td></tr><tr><td>P0270</td><td>Candidate Question</td><td>Beauty</td><td>Samsung</td><td>611.71</td></tr><tr><td>P0271</td><td>Notice Town</td><td>Sports</td><td>Puma</td><td>1362.74</td></tr><tr><td>P0272</td><td>Defense Either</td><td>Beauty</td><td>Dell</td><td>1472.29</td></tr><tr><td>P0273</td><td>Peace When</td><td>Electronics</td><td>Nike</td><td>146.58</td></tr><tr><td>P0274</td><td>Always Debate</td><td>Clothing</td><td>Samsung</td><td>1128.5</td></tr><tr><td>P0275</td><td>Piece Information</td><td>Toys</td><td>Sony</td><td>1478.58</td></tr><tr><td>P0276</td><td>Team Support</td><td>Toys</td><td>Puma</td><td>1155.12</td></tr><tr><td>P0277</td><td>Field White</td><td>Home</td><td>Dell</td><td>63.16</td></tr><tr><td>P0278</td><td>Similar Can</td><td>Beauty</td><td>Revlon</td><td>414.78</td></tr><tr><td>P0279</td><td>Fast Situation</td><td>Beauty</td><td>Lenovo</td><td>1619.24</td></tr><tr><td>P0280</td><td>Financial Enough</td><td>Clothing</td><td>Puma</td><td>566.91</td></tr><tr><td>P0281</td><td>Hot Customer</td><td>Home</td><td>Puma</td><td>188.55</td></tr><tr><td>P0282</td><td>Matter To</td><td>Electronics</td><td>Samsung</td><td>69.59</td></tr><tr><td>P0283</td><td>Southern Team</td><td>Sports</td><td>Nike</td><td>474.49</td></tr><tr><td>P0284</td><td>Population Account</td><td>Beauty</td><td>Puma</td><td>352.26</td></tr><tr><td>P0285</td><td>Cultural Beat</td><td>Clothing</td><td>Revlon</td><td>1123.4</td></tr><tr><td>P0286</td><td>Blood Chair</td><td>Beauty</td><td>Adidas</td><td>1164.64</td></tr><tr><td>P0287</td><td>Evening Natural</td><td>Electronics</td><td>Puma</td><td>1084.4</td></tr><tr><td>P0288</td><td>Source Hour</td><td>Toys</td><td>Lenovo</td><td>1486.02</td></tr><tr><td>P0289</td><td>Finish Everything</td><td>Sports</td><td>Puma</td><td>1780.19</td></tr><tr><td>P0290</td><td>Room Public</td><td>Beauty</td><td>LG</td><td>919.28</td></tr><tr><td>P0291</td><td>Able Media</td><td>Electronics</td><td>LG</td><td>890.9</td></tr><tr><td>P0292</td><td>Very Event</td><td>Toys</td><td>Sony</td><td>1339.35</td></tr><tr><td>P0293</td><td>Degree Agency</td><td>Electronics</td><td>LG</td><td>107.68</td></tr><tr><td>P0294</td><td>Dark Former</td><td>Sports</td><td>Lenovo</td><td>1054.65</td></tr><tr><td>P0295</td><td>Participant Kitchen</td><td>Electronics</td><td>Puma</td><td>1938.35</td></tr><tr><td>P0296</td><td>Garden Reach</td><td>Sports</td><td>Nike</td><td>1738.65</td></tr><tr><td>P0297</td><td>Turn Degree</td><td>Sports</td><td>Nike</td><td>859.64</td></tr><tr><td>P0298</td><td>Talk Offer</td><td>Clothing</td><td>Revlon</td><td>1571.12</td></tr><tr><td>P0299</td><td>Look Mention</td><td>Home</td><td>Apple</td><td>1170.51</td></tr><tr><td>P0300</td><td>Amount Politics</td><td>Electronics</td><td>Sony</td><td>1741.53</td></tr><tr><td>P0301</td><td>Side Note</td><td>Clothing</td><td>Adidas</td><td>1005.47</td></tr><tr><td>P0302</td><td>Three Seven</td><td>Electronics</td><td>Nike</td><td>1017.38</td></tr><tr><td>P0303</td><td>Child Help</td><td>Clothing</td><td>LG</td><td>1052.48</td></tr><tr><td>P0304</td><td>Our Arrive</td><td>Beauty</td><td>Adidas</td><td>1039.68</td></tr><tr><td>P0305</td><td>Score Choice</td><td>Electronics</td><td>Puma</td><td>1089.74</td></tr><tr><td>P0306</td><td>Six Speak</td><td>Toys</td><td>Samsung</td><td>140.5</td></tr><tr><td>P0307</td><td>Culture Specific</td><td>Beauty</td><td>Lenovo</td><td>1923.44</td></tr><tr><td>P0308</td><td>And Agent</td><td>Sports</td><td>Nike</td><td>187.35</td></tr><tr><td>P0309</td><td>Nor Prepare</td><td>Toys</td><td>Apple</td><td>445.2</td></tr><tr><td>P0310</td><td>Ok Leave</td><td>Home</td><td>Samsung</td><td>704.08</td></tr><tr><td>P0311</td><td>Blue Live</td><td>Toys</td><td>Revlon</td><td>454.3</td></tr><tr><td>P0312</td><td>Big Similar</td><td>Beauty</td><td>Puma</td><td>1500.97</td></tr><tr><td>P0313</td><td>Try You</td><td>Sports</td><td>Samsung</td><td>985.34</td></tr><tr><td>P0314</td><td>Protect Hope</td><td>Sports</td><td>Nike</td><td>599.47</td></tr><tr><td>P0315</td><td>Work Party</td><td>Clothing</td><td>Dell</td><td>1703.11</td></tr><tr><td>P0316</td><td>Sell State</td><td>Clothing</td><td>Puma</td><td>605.68</td></tr><tr><td>P0317</td><td>Trade Region</td><td>Home</td><td>Dell</td><td>1174.72</td></tr><tr><td>P0318</td><td>History Create</td><td>Toys</td><td>Samsung</td><td>824.7</td></tr><tr><td>P0319</td><td>Trouble Street</td><td>Home</td><td>Nike</td><td>1494.78</td></tr><tr><td>P0320</td><td>Whole Road</td><td>Toys</td><td>Adidas</td><td>491.43</td></tr><tr><td>P0321</td><td>They As</td><td>Toys</td><td>Lenovo</td><td>1631.26</td></tr><tr><td>P0322</td><td>Part Traditional</td><td>Beauty</td><td>Dell</td><td>1731.88</td></tr><tr><td>P0323</td><td>Professor What</td><td>Beauty</td><td>Lenovo</td><td>1248.81</td></tr><tr><td>P0324</td><td>Light Idea</td><td>Toys</td><td>Nike</td><td>1819.96</td></tr><tr><td>P0325</td><td>Right Program</td><td>Beauty</td><td>Lenovo</td><td>1361.28</td></tr><tr><td>P0326</td><td>Safe Loss</td><td>Clothing</td><td>Nike</td><td>1688.79</td></tr><tr><td>P0327</td><td>Garden Shake</td><td>Electronics</td><td>Sony</td><td>943.0</td></tr><tr><td>P0328</td><td>Space Person</td><td>Clothing</td><td>Lenovo</td><td>1928.38</td></tr><tr><td>P0329</td><td>Range However</td><td>Toys</td><td>Nike</td><td>1295.37</td></tr><tr><td>P0330</td><td>Main Student</td><td>Sports</td><td>LG</td><td>1241.75</td></tr><tr><td>P0331</td><td>Let Positive</td><td>Sports</td><td>LG</td><td>1528.85</td></tr><tr><td>P0332</td><td>Thus Make</td><td>Toys</td><td>Lenovo</td><td>1369.33</td></tr><tr><td>P0333</td><td>History Easy</td><td>Beauty</td><td>Sony</td><td>1892.24</td></tr><tr><td>P0334</td><td>Customer Loss</td><td>Beauty</td><td>Lenovo</td><td>1560.27</td></tr><tr><td>P0335</td><td>Type Area</td><td>Sports</td><td>Samsung</td><td>1352.39</td></tr><tr><td>P0336</td><td>Shake Current</td><td>Electronics</td><td>Dell</td><td>222.93</td></tr><tr><td>P0337</td><td>Very Include</td><td>Toys</td><td>Samsung</td><td>1968.32</td></tr><tr><td>P0338</td><td>Service Military</td><td>Home</td><td>LG</td><td>1844.1</td></tr><tr><td>P0339</td><td>Rule Site</td><td>Sports</td><td>LG</td><td>1321.67</td></tr><tr><td>P0340</td><td>Though Pretty</td><td>Electronics</td><td>Adidas</td><td>1635.48</td></tr><tr><td>P0341</td><td>Me Small</td><td>Home</td><td>Lenovo</td><td>1333.84</td></tr><tr><td>P0342</td><td>Trouble Over</td><td>Beauty</td><td>Nike</td><td>125.97</td></tr><tr><td>P0343</td><td>Yeah Former</td><td>Toys</td><td>Sony</td><td>539.06</td></tr><tr><td>P0344</td><td>House Enter</td><td>Beauty</td><td>Nike</td><td>1118.86</td></tr><tr><td>P0345</td><td>Federal Sport</td><td>Sports</td><td>Apple</td><td>1366.77</td></tr><tr><td>P0346</td><td>International Yes</td><td>Home</td><td>Dell</td><td>84.09</td></tr><tr><td>P0347</td><td>Painting Kid</td><td>Beauty</td><td>Sony</td><td>452.69</td></tr><tr><td>P0348</td><td>Late Smile</td><td>Home</td><td>LG</td><td>958.75</td></tr><tr><td>P0349</td><td>Less Can</td><td>Beauty</td><td>LG</td><td>1059.73</td></tr><tr><td>P0350</td><td>Garden Blue</td><td>Sports</td><td>Dell</td><td>758.98</td></tr><tr><td>P0351</td><td>Debate Whether</td><td>Beauty</td><td>Samsung</td><td>390.64</td></tr><tr><td>P0352</td><td>About Room</td><td>Home</td><td>Sony</td><td>1226.91</td></tr><tr><td>P0353</td><td>Local Big</td><td>Electronics</td><td>Adidas</td><td>1464.67</td></tr><tr><td>P0354</td><td>Stop As</td><td>Electronics</td><td>Samsung</td><td>289.67</td></tr><tr><td>P0355</td><td>Itself Explain</td><td>Toys</td><td>Apple</td><td>1804.42</td></tr><tr><td>P0356</td><td>Method Authority</td><td>Electronics</td><td>Samsung</td><td>97.91</td></tr><tr><td>P0357</td><td>The Seek</td><td>Clothing</td><td>Adidas</td><td>1705.13</td></tr><tr><td>P0358</td><td>Quickly Republican</td><td>Sports</td><td>Samsung</td><td>1175.18</td></tr><tr><td>P0359</td><td>Feel Describe</td><td>Home</td><td>Lenovo</td><td>660.84</td></tr><tr><td>P0360</td><td>Reveal Organization</td><td>Clothing</td><td>Lenovo</td><td>175.53</td></tr><tr><td>P0361</td><td>Energy Lay</td><td>Beauty</td><td>LG</td><td>1572.29</td></tr><tr><td>P0362</td><td>Reality Network</td><td>Toys</td><td>Revlon</td><td>1555.65</td></tr><tr><td>P0363</td><td>Score Read</td><td>Home</td><td>Nike</td><td>758.11</td></tr><tr><td>P0364</td><td>What Describe</td><td>Sports</td><td>Dell</td><td>930.34</td></tr><tr><td>P0365</td><td>Available Rich</td><td>Clothing</td><td>Revlon</td><td>1542.85</td></tr><tr><td>P0366</td><td>Seek Position</td><td>Toys</td><td>Apple</td><td>1008.85</td></tr><tr><td>P0367</td><td>Human See</td><td>Clothing</td><td>Nike</td><td>776.79</td></tr><tr><td>P0368</td><td>National Various</td><td>Beauty</td><td>Dell</td><td>138.37</td></tr><tr><td>P0369</td><td>Spend Account</td><td>Sports</td><td>Apple</td><td>1954.77</td></tr><tr><td>P0370</td><td>Artist Protect</td><td>Sports</td><td>Lenovo</td><td>1000.0</td></tr><tr><td>P0371</td><td>Possible So</td><td>Electronics</td><td>Dell</td><td>1479.94</td></tr><tr><td>P0372</td><td>Level Rock</td><td>Electronics</td><td>Dell</td><td>1242.11</td></tr><tr><td>P0373</td><td>Wrong Building</td><td>Beauty</td><td>Puma</td><td>1858.79</td></tr><tr><td>P0374</td><td>Whom Century</td><td>Beauty</td><td>LG</td><td>1676.32</td></tr><tr><td>P0375</td><td>Local Evening</td><td>Electronics</td><td>Sony</td><td>412.3</td></tr><tr><td>P0376</td><td>Piece Raise</td><td>Beauty</td><td>Adidas</td><td>1860.84</td></tr><tr><td>P0377</td><td>Think None</td><td>Sports</td><td>Dell</td><td>1298.87</td></tr><tr><td>P0378</td><td>Economy Court</td><td>Electronics</td><td>Dell</td><td>1677.01</td></tr><tr><td>P0379</td><td>Ball Base</td><td>Clothing</td><td>Sony</td><td>1028.64</td></tr><tr><td>P0380</td><td>Blue Finally</td><td>Sports</td><td>Dell</td><td>1721.21</td></tr><tr><td>P0381</td><td>Tend Inside</td><td>Clothing</td><td>Adidas</td><td>1203.96</td></tr><tr><td>P0382</td><td>Five Force</td><td>Home</td><td>Apple</td><td>713.46</td></tr><tr><td>P0383</td><td>Popular Herself</td><td>Beauty</td><td>Revlon</td><td>180.91</td></tr><tr><td>P0384</td><td>Issue Doctor</td><td>Toys</td><td>Puma</td><td>86.38</td></tr><tr><td>P0385</td><td>Old Hand</td><td>Beauty</td><td>Revlon</td><td>1924.73</td></tr><tr><td>P0386</td><td>Style Again</td><td>Sports</td><td>Revlon</td><td>1294.16</td></tr><tr><td>P0387</td><td>Affect Continue</td><td>Clothing</td><td>Dell</td><td>1648.43</td></tr><tr><td>P0388</td><td>Professional Physical</td><td>Clothing</td><td>Puma</td><td>922.07</td></tr><tr><td>P0389</td><td>Necessary Upon</td><td>Beauty</td><td>Sony</td><td>458.59</td></tr><tr><td>P0390</td><td>Leader Security</td><td>Toys</td><td>Lenovo</td><td>867.57</td></tr><tr><td>P0391</td><td>Serious Information</td><td>Beauty</td><td>Sony</td><td>1392.3</td></tr><tr><td>P0392</td><td>Customer Or</td><td>Sports</td><td>Apple</td><td>892.97</td></tr><tr><td>P0393</td><td>Goal Ground</td><td>Clothing</td><td>Sony</td><td>1619.98</td></tr><tr><td>P0394</td><td>Beautiful Small</td><td>Beauty</td><td>Samsung</td><td>926.57</td></tr><tr><td>P0395</td><td>Song Approach</td><td>Clothing</td><td>Samsung</td><td>1758.5</td></tr><tr><td>P0396</td><td>Pattern Age</td><td>Electronics</td><td>Lenovo</td><td>1566.87</td></tr><tr><td>P0397</td><td>Civil Action</td><td>Sports</td><td>Apple</td><td>1877.24</td></tr><tr><td>P0398</td><td>Floor Daughter</td><td>Electronics</td><td>Apple</td><td>1825.42</td></tr><tr><td>P0399</td><td>Parent Reflect</td><td>Toys</td><td>Nike</td><td>1135.56</td></tr><tr><td>P0400</td><td>Any Buy</td><td>Clothing</td><td>Sony</td><td>835.22</td></tr><tr><td>P0401</td><td>Design Machine</td><td>Toys</td><td>Dell</td><td>392.57</td></tr><tr><td>P0402</td><td>Area Your</td><td>Beauty</td><td>Lenovo</td><td>47.46</td></tr><tr><td>P0403</td><td>Artist Anyone</td><td>Home</td><td>Lenovo</td><td>1744.03</td></tr><tr><td>P0404</td><td>Card Government</td><td>Electronics</td><td>LG</td><td>967.18</td></tr><tr><td>P0405</td><td>Population Hold</td><td>Electronics</td><td>Dell</td><td>1225.32</td></tr><tr><td>P0406</td><td>Indicate Produce</td><td>Beauty</td><td>Adidas</td><td>584.74</td></tr><tr><td>P0407</td><td>Carry Laugh</td><td>Home</td><td>LG</td><td>584.71</td></tr><tr><td>P0408</td><td>Finish Sister</td><td>Sports</td><td>Apple</td><td>1167.48</td></tr><tr><td>P0409</td><td>Happen Old</td><td>Sports</td><td>LG</td><td>890.11</td></tr><tr><td>P0410</td><td>Particular Cause</td><td>Toys</td><td>Adidas</td><td>373.46</td></tr><tr><td>P0411</td><td>Attack Cell</td><td>Electronics</td><td>Puma</td><td>873.95</td></tr><tr><td>P0412</td><td>Significant Ability</td><td>Electronics</td><td>Dell</td><td>129.25</td></tr><tr><td>P0413</td><td>Stand Enough</td><td>Clothing</td><td>Lenovo</td><td>342.07</td></tr><tr><td>P0414</td><td>Pressure Role</td><td>Beauty</td><td>LG</td><td>1456.9</td></tr><tr><td>P0415</td><td>Great Wish</td><td>Beauty</td><td>Samsung</td><td>1821.91</td></tr><tr><td>P0416</td><td>Brother Would</td><td>Toys</td><td>Nike</td><td>427.5</td></tr><tr><td>P0417</td><td>Sing Head</td><td>Beauty</td><td>Revlon</td><td>111.34</td></tr><tr><td>P0418</td><td>Other Right</td><td>Home</td><td>Dell</td><td>1844.36</td></tr><tr><td>P0419</td><td>Claim Firm</td><td>Toys</td><td>Adidas</td><td>629.71</td></tr><tr><td>P0420</td><td>Social Cost</td><td>Home</td><td>Adidas</td><td>49.6</td></tr><tr><td>P0421</td><td>Whole Per</td><td>Clothing</td><td>Sony</td><td>1520.45</td></tr><tr><td>P0422</td><td>Society Action</td><td>Electronics</td><td>Revlon</td><td>184.69</td></tr><tr><td>P0423</td><td>Add Eight</td><td>Clothing</td><td>Dell</td><td>990.07</td></tr><tr><td>P0424</td><td>What Best</td><td>Sports</td><td>Apple</td><td>1141.78</td></tr><tr><td>P0425</td><td>Girl Important</td><td>Home</td><td>Adidas</td><td>1822.03</td></tr><tr><td>P0426</td><td>Several Pick</td><td>Electronics</td><td>Puma</td><td>1956.82</td></tr><tr><td>P0427</td><td>Despite Dream</td><td>Sports</td><td>Sony</td><td>1967.84</td></tr><tr><td>P0428</td><td>Why Ten</td><td>Beauty</td><td>Sony</td><td>1582.19</td></tr><tr><td>P0429</td><td>Never Painting</td><td>Electronics</td><td>Apple</td><td>1734.0</td></tr><tr><td>P0430</td><td>Language Style</td><td>Sports</td><td>Adidas</td><td>1386.32</td></tr><tr><td>P0431</td><td>Physical Quite</td><td>Electronics</td><td>Dell</td><td>682.1</td></tr><tr><td>P0432</td><td>Discuss Decide</td><td>Toys</td><td>Revlon</td><td>1287.08</td></tr><tr><td>P0433</td><td>Would Describe</td><td>Electronics</td><td>Apple</td><td>1123.66</td></tr><tr><td>P0434</td><td>Every Line</td><td>Electronics</td><td>Adidas</td><td>1689.45</td></tr><tr><td>P0435</td><td>Debate Center</td><td>Sports</td><td>Nike</td><td>1902.58</td></tr><tr><td>P0436</td><td>Begin Three</td><td>Sports</td><td>Puma</td><td>1781.45</td></tr><tr><td>P0437</td><td>Explain Until</td><td>Clothing</td><td>Sony</td><td>465.4</td></tr><tr><td>P0438</td><td>Mind Add</td><td>Toys</td><td>LG</td><td>1309.15</td></tr><tr><td>P0439</td><td>Very Democratic</td><td>Home</td><td>Apple</td><td>1174.39</td></tr><tr><td>P0440</td><td>Travel Practice</td><td>Electronics</td><td>Dell</td><td>1983.25</td></tr><tr><td>P0441</td><td>Lot Fish</td><td>Toys</td><td>Adidas</td><td>1300.71</td></tr><tr><td>P0442</td><td>Animal Court</td><td>Electronics</td><td>Adidas</td><td>1811.22</td></tr><tr><td>P0443</td><td>Campaign Decision</td><td>Toys</td><td>Dell</td><td>685.07</td></tr><tr><td>P0444</td><td>Change It</td><td>Beauty</td><td>Revlon</td><td>655.62</td></tr><tr><td>P0445</td><td>Mean Hospital</td><td>Electronics</td><td>Apple</td><td>792.65</td></tr><tr><td>P0446</td><td>Blood National</td><td>Sports</td><td>Puma</td><td>1016.83</td></tr><tr><td>P0447</td><td>There Whether</td><td>Toys</td><td>Sony</td><td>915.77</td></tr><tr><td>P0448</td><td>Method Plant</td><td>Electronics</td><td>LG</td><td>1264.88</td></tr><tr><td>P0449</td><td>Property Total</td><td>Electronics</td><td>Samsung</td><td>188.96</td></tr><tr><td>P0450</td><td>Laugh Minute</td><td>Home</td><td>Revlon</td><td>985.83</td></tr><tr><td>P0451</td><td>Card Another</td><td>Sports</td><td>Puma</td><td>1663.54</td></tr><tr><td>P0452</td><td>Other Role</td><td>Electronics</td><td>Dell</td><td>1462.41</td></tr><tr><td>P0453</td><td>Early Authority</td><td>Home</td><td>Sony</td><td>250.33</td></tr><tr><td>P0454</td><td>Window Nature</td><td>Clothing</td><td>Sony</td><td>324.49</td></tr><tr><td>P0455</td><td>Me True</td><td>Beauty</td><td>Puma</td><td>1884.65</td></tr><tr><td>P0456</td><td>Side Knowledge</td><td>Clothing</td><td>Apple</td><td>1904.87</td></tr><tr><td>P0457</td><td>Reach House</td><td>Sports</td><td>Nike</td><td>1731.23</td></tr><tr><td>P0458</td><td>Fight Claim</td><td>Home</td><td>Dell</td><td>629.24</td></tr><tr><td>P0459</td><td>Without Matter</td><td>Toys</td><td>Apple</td><td>1208.62</td></tr><tr><td>P0460</td><td>Recently Heavy</td><td>Electronics</td><td>Revlon</td><td>1327.98</td></tr><tr><td>P0461</td><td>Dream Thought</td><td>Home</td><td>Apple</td><td>1367.65</td></tr><tr><td>P0462</td><td>Modern Yet</td><td>Sports</td><td>Revlon</td><td>1909.36</td></tr><tr><td>P0463</td><td>Movie Cell</td><td>Clothing</td><td>Apple</td><td>293.1</td></tr><tr><td>P0464</td><td>Whatever Audience</td><td>Electronics</td><td>Sony</td><td>638.63</td></tr><tr><td>P0465</td><td>Morning Politics</td><td>Sports</td><td>Lenovo</td><td>151.23</td></tr><tr><td>P0466</td><td>Effort Service</td><td>Beauty</td><td>Lenovo</td><td>1305.34</td></tr><tr><td>P0467</td><td>Approach Only</td><td>Clothing</td><td>Adidas</td><td>15.91</td></tr><tr><td>P0468</td><td>Present Recent</td><td>Toys</td><td>LG</td><td>1530.08</td></tr><tr><td>P0469</td><td>Line Ball</td><td>Clothing</td><td>Dell</td><td>98.6</td></tr><tr><td>P0470</td><td>Probably High</td><td>Home</td><td>Dell</td><td>649.66</td></tr><tr><td>P0471</td><td>Then Exactly</td><td>Beauty</td><td>Sony</td><td>20.68</td></tr><tr><td>P0472</td><td>Even Economic</td><td>Toys</td><td>Apple</td><td>1409.94</td></tr><tr><td>P0473</td><td>Today Over</td><td>Toys</td><td>Adidas</td><td>1878.18</td></tr><tr><td>P0474</td><td>Expert Appear</td><td>Home</td><td>Nike</td><td>1287.26</td></tr><tr><td>P0475</td><td>Government And</td><td>Home</td><td>Samsung</td><td>964.94</td></tr><tr><td>P0476</td><td>Consumer Itself</td><td>Toys</td><td>Lenovo</td><td>259.13</td></tr><tr><td>P0477</td><td>Upon Sometimes</td><td>Electronics</td><td>Apple</td><td>917.67</td></tr><tr><td>P0478</td><td>Quality True</td><td>Sports</td><td>Sony</td><td>630.56</td></tr><tr><td>P0479</td><td>Voice A</td><td>Clothing</td><td>Sony</td><td>567.29</td></tr><tr><td>P0480</td><td>Child Threat</td><td>Beauty</td><td>Adidas</td><td>492.92</td></tr><tr><td>P0481</td><td>Fact Measure</td><td>Beauty</td><td>Nike</td><td>1554.11</td></tr><tr><td>P0482</td><td>Force Family</td><td>Clothing</td><td>Sony</td><td>1675.86</td></tr><tr><td>P0483</td><td>From Night</td><td>Toys</td><td>Nike</td><td>877.18</td></tr><tr><td>P0484</td><td>Deep Thank</td><td>Beauty</td><td>Apple</td><td>1397.57</td></tr><tr><td>P0485</td><td>Rise Exactly</td><td>Home</td><td>Apple</td><td>535.31</td></tr><tr><td>P0486</td><td>Identify Magazine</td><td>Electronics</td><td>Samsung</td><td>315.25</td></tr><tr><td>P0487</td><td>Now Never</td><td>Electronics</td><td>Dell</td><td>1666.94</td></tr><tr><td>P0488</td><td>Experience Idea</td><td>Electronics</td><td>Lenovo</td><td>1316.67</td></tr><tr><td>P0489</td><td>Camera At</td><td>Electronics</td><td>LG</td><td>1923.44</td></tr><tr><td>P0490</td><td>Door Itself</td><td>Home</td><td>Revlon</td><td>1718.72</td></tr><tr><td>P0491</td><td>Floor Sit</td><td>Clothing</td><td>LG</td><td>1602.21</td></tr><tr><td>P0492</td><td>A Forward</td><td>Home</td><td>Nike</td><td>121.07</td></tr><tr><td>P0493</td><td>Pass Go</td><td>Toys</td><td>Samsung</td><td>295.7</td></tr><tr><td>P0494</td><td>Personal Stand</td><td>Toys</td><td>Apple</td><td>1913.83</td></tr><tr><td>P0495</td><td>Sister Question</td><td>Toys</td><td>Sony</td><td>561.99</td></tr><tr><td>P0496</td><td>Beyond Some</td><td>Beauty</td><td>Apple</td><td>137.62</td></tr><tr><td>P0497</td><td>Reflect Chair</td><td>Beauty</td><td>Lenovo</td><td>930.59</td></tr><tr><td>P0498</td><td>Economic Over</td><td>Beauty</td><td>Adidas</td><td>1990.58</td></tr><tr><td>P0499</td><td>Writer Mouth</td><td>Home</td><td>Revlon</td><td>1774.16</td></tr><tr><td>P0500</td><td>Itself Despite</td><td>Electronics</td><td>Puma</td><td>322.4</td></tr></tbody></table></div>"
      ]
     },
     "metadata": {
      "application/vnd.databricks.v1+output": {
       "addedWidgets": {},
       "aggData": [],
       "aggError": "",
       "aggOverflow": false,
       "aggSchema": [],
       "aggSeriesLimitReached": false,
       "aggType": "",
       "arguments": {},
       "columnCustomDisplayInfos": {},
       "data": [
        [
         "P0001",
         "Clearly Its",
         "Beauty",
         "Nike",
         1868.54
        ],
        [
         "P0002",
         "Production Clear",
         "Beauty",
         "Apple",
         587.13
        ],
        [
         "P0003",
         "Culture Coach",
         "Home",
         "Revlon",
         1599.24
        ],
        [
         "P0004",
         "Movement Part",
         "Sports",
         "LG",
         651.71
        ],
        [
         "P0005",
         "Fact Name",
         "Clothing",
         "Samsung",
         1861.78
        ],
        [
         "P0006",
         "Usually Stop",
         "Toys",
         "Adidas",
         936.36
        ],
        [
         "P0007",
         "Reveal Current",
         "Sports",
         "Adidas",
         1954.02
        ],
        [
         "P0008",
         "Force Language",
         "Beauty",
         "Puma",
         1251.26
        ],
        [
         "P0009",
         "Stage Leg",
         "Clothing",
         "Samsung",
         1247.15
        ],
        [
         "P0010",
         "Leader Then",
         "Sports",
         "Sony",
         975.53
        ],
        [
         "P0011",
         "Term Rest",
         "Electronics",
         "Adidas",
         1475.31
        ],
        [
         "P0012",
         "Theory Wrong",
         "Electronics",
         "Apple",
         624.61
        ],
        [
         "P0013",
         "Democrat Book",
         "Sports",
         "Puma",
         384.99
        ],
        [
         "P0014",
         "Follow Brother",
         "Clothing",
         "Dell",
         32.2
        ],
        [
         "P0015",
         "Pattern Story",
         "Beauty",
         "LG",
         1459.2
        ],
        [
         "P0016",
         "Policy Nor",
         "Clothing",
         "Samsung",
         1594.08
        ],
        [
         "P0017",
         "After Project",
         "Beauty",
         "Revlon",
         1289.06
        ],
        [
         "P0018",
         "Technology Chance",
         "Beauty",
         "Puma",
         1329.53
        ],
        [
         "P0019",
         "Oil Station",
         "Electronics",
         "Samsung",
         230.56
        ],
        [
         "P0020",
         "Happen Truth",
         "Beauty",
         "Nike",
         1603.5
        ],
        [
         "P0021",
         "Middle Everyone",
         "Sports",
         "Nike",
         361.89
        ],
        [
         "P0022",
         "Purpose Why",
         "Beauty",
         "Puma",
         73.82
        ],
        [
         "P0023",
         "Decade Message",
         "Clothing",
         "Adidas",
         1561.78
        ],
        [
         "P0024",
         "Really Phone",
         "Home",
         "Samsung",
         1422.07
        ],
        [
         "P0025",
         "Until And",
         "Beauty",
         "Nike",
         488.67
        ],
        [
         "P0026",
         "Huge Find",
         "Toys",
         "Puma",
         1316.41
        ],
        [
         "P0027",
         "Local Open",
         "Toys",
         "Adidas",
         939.9
        ],
        [
         "P0028",
         "Its Both",
         "Beauty",
         "Puma",
         1682.91
        ],
        [
         "P0029",
         "Everything Open",
         "Clothing",
         "Nike",
         1065.49
        ],
        [
         "P0030",
         "Hold Staff",
         "Toys",
         "Lenovo",
         1162.38
        ],
        [
         "P0031",
         "Part Oil",
         "Clothing",
         "LG",
         774.18
        ],
        [
         "P0032",
         "Relationship Live",
         "Electronics",
         "Dell",
         1445.21
        ],
        [
         "P0033",
         "Perform Such",
         "Clothing",
         "Lenovo",
         61.91
        ],
        [
         "P0034",
         "Even Writer",
         "Toys",
         "Samsung",
         1843.84
        ],
        [
         "P0035",
         "Something Increase",
         "Toys",
         "Revlon",
         579.76
        ],
        [
         "P0036",
         "Success Always",
         "Home",
         "Dell",
         1780.37
        ],
        [
         "P0037",
         "Personal Over",
         "Sports",
         "Puma",
         105.28
        ],
        [
         "P0038",
         "Edge Keep",
         "Toys",
         "Revlon",
         1156.99
        ],
        [
         "P0039",
         "Before Do",
         "Toys",
         "Revlon",
         1279.12
        ],
        [
         "P0040",
         "Answer Require",
         "Toys",
         "Dell",
         1822.39
        ],
        [
         "P0041",
         "Conference Article",
         "Sports",
         "Dell",
         459.55
        ],
        [
         "P0042",
         "Heavy Writer",
         "Beauty",
         "Adidas",
         1215.78
        ],
        [
         "P0043",
         "Radio Thousand",
         "Electronics",
         "Revlon",
         914.61
        ],
        [
         "P0044",
         "Such Beautiful",
         "Electronics",
         "Dell",
         580.32
        ],
        [
         "P0045",
         "Certainly Sign",
         "Sports",
         "Sony",
         622.31
        ],
        [
         "P0046",
         "Exist Age",
         "Beauty",
         "Samsung",
         918.54
        ],
        [
         "P0047",
         "Ever Could",
         "Sports",
         "Revlon",
         257.51
        ],
        [
         "P0048",
         "Share Quality",
         "Electronics",
         "Revlon",
         652.68
        ],
        [
         "P0049",
         "True Her",
         "Clothing",
         "Lenovo",
         819.77
        ],
        [
         "P0050",
         "North Big",
         "Electronics",
         "Samsung",
         1947.16
        ],
        [
         "P0051",
         "Form Social",
         "Electronics",
         "Apple",
         1294.33
        ],
        [
         "P0052",
         "Total Tax",
         "Toys",
         "Lenovo",
         1190.28
        ],
        [
         "P0053",
         "News Look",
         "Electronics",
         "Samsung",
         896.22
        ],
        [
         "P0054",
         "Local Decide",
         "Electronics",
         "Adidas",
         1346.26
        ],
        [
         "P0055",
         "Seat Finish",
         "Electronics",
         "Sony",
         925.39
        ],
        [
         "P0056",
         "Weight Ground",
         "Home",
         "Nike",
         805.91
        ],
        [
         "P0057",
         "Everything Song",
         "Clothing",
         "Samsung",
         1000.36
        ],
        [
         "P0058",
         "Involve Present",
         "Electronics",
         "LG",
         1713.86
        ],
        [
         "P0059",
         "Democratic Any",
         "Sports",
         "Lenovo",
         808.17
        ],
        [
         "P0060",
         "Red Some",
         "Clothing",
         "Nike",
         1230.69
        ],
        [
         "P0061",
         "Describe Continue",
         "Electronics",
         "Sony",
         1610.15
        ],
        [
         "P0062",
         "Always Citizen",
         "Clothing",
         "Samsung",
         912.72
        ],
        [
         "P0063",
         "Necessary Bad",
         "Home",
         "Nike",
         1876.88
        ],
        [
         "P0064",
         "Size Although",
         "Clothing",
         "LG",
         473.8
        ],
        [
         "P0065",
         "Democratic As",
         "Electronics",
         "Lenovo",
         1472.24
        ],
        [
         "P0066",
         "I Worker",
         "Sports",
         "Sony",
         1123.53
        ],
        [
         "P0067",
         "Unit Election",
         "Beauty",
         "Samsung",
         144.72
        ],
        [
         "P0068",
         "Response Audience",
         "Toys",
         "LG",
         1633.64
        ],
        [
         "P0069",
         "Weight Design",
         "Beauty",
         "Lenovo",
         1165.23
        ],
        [
         "P0070",
         "Or Against",
         "Sports",
         "Lenovo",
         1589.36
        ],
        [
         "P0071",
         "Once Support",
         "Toys",
         "Apple",
         1385.04
        ],
        [
         "P0072",
         "Station Fund",
         "Toys",
         "Revlon",
         1198.32
        ],
        [
         "P0073",
         "Leave Reveal",
         "Electronics",
         "Adidas",
         586.19
        ],
        [
         "P0074",
         "Pm Near",
         "Toys",
         "Lenovo",
         426.99
        ],
        [
         "P0075",
         "Former Trade",
         "Beauty",
         "Samsung",
         73.74
        ],
        [
         "P0076",
         "Skill Need",
         "Toys",
         "Puma",
         862.73
        ],
        [
         "P0077",
         "Quality Conference",
         "Clothing",
         "LG",
         333.16
        ],
        [
         "P0078",
         "Their Worry",
         "Electronics",
         "LG",
         903.63
        ],
        [
         "P0079",
         "Night Experience",
         "Beauty",
         "LG",
         780.45
        ],
        [
         "P0080",
         "But Decide",
         "Toys",
         "Lenovo",
         1599.68
        ],
        [
         "P0081",
         "Whose Available",
         "Toys",
         "Nike",
         1697.18
        ],
        [
         "P0082",
         "Exist Interest",
         "Beauty",
         "Apple",
         1932.51
        ],
        [
         "P0083",
         "Laugh Speak",
         "Beauty",
         "Dell",
         1519.05
        ],
        [
         "P0084",
         "Little All",
         "Home",
         "Samsung",
         866.09
        ],
        [
         "P0085",
         "Hope Such",
         "Clothing",
         "Apple",
         1863.08
        ],
        [
         "P0086",
         "Save Own",
         "Toys",
         "Nike",
         915.44
        ],
        [
         "P0087",
         "Service Personal",
         "Home",
         "Sony",
         273.89
        ],
        [
         "P0088",
         "At Such",
         "Home",
         "Adidas",
         1482.19
        ],
        [
         "P0089",
         "Second Despite",
         "Home",
         "LG",
         611.31
        ],
        [
         "P0090",
         "Future Improve",
         "Electronics",
         "Puma",
         129.87
        ],
        [
         "P0091",
         "Nation Moment",
         "Beauty",
         "Samsung",
         1683.02
        ],
        [
         "P0092",
         "Stand Fish",
         "Sports",
         "Revlon",
         1631.21
        ],
        [
         "P0093",
         "Us Life",
         "Clothing",
         "Puma",
         749.33
        ],
        [
         "P0094",
         "Real Himself",
         "Beauty",
         "LG",
         48.71
        ],
        [
         "P0095",
         "Fund Tend",
         "Electronics",
         "Apple",
         1519.1
        ],
        [
         "P0096",
         "Public Voice",
         "Electronics",
         "Nike",
         1078.42
        ],
        [
         "P0097",
         "Crime Range",
         "Clothing",
         "Apple",
         627.41
        ],
        [
         "P0098",
         "Item See",
         "Clothing",
         "Puma",
         551.54
        ],
        [
         "P0099",
         "Notice Rather",
         "Beauty",
         "Adidas",
         1110.7
        ],
        [
         "P0100",
         "Oil Into",
         "Sports",
         "Dell",
         793.81
        ],
        [
         "P0101",
         "Sister Tend",
         "Sports",
         "Puma",
         1106.32
        ],
        [
         "P0102",
         "Yourself Team",
         "Beauty",
         "LG",
         1079.69
        ],
        [
         "P0103",
         "Rich Page",
         "Toys",
         "Samsung",
         486.63
        ],
        [
         "P0104",
         "Fact Building",
         "Clothing",
         "Dell",
         860.64
        ],
        [
         "P0105",
         "Color Now",
         "Clothing",
         "LG",
         1200.37
        ],
        [
         "P0106",
         "Research Mother",
         "Clothing",
         "Sony",
         1100.51
        ],
        [
         "P0107",
         "Degree Much",
         "Toys",
         "Adidas",
         193.45
        ],
        [
         "P0108",
         "Southern Hear",
         "Home",
         "Puma",
         22.3
        ],
        [
         "P0109",
         "Seem South",
         "Electronics",
         "Lenovo",
         1891.2
        ],
        [
         "P0110",
         "Before Everybody",
         "Toys",
         "Samsung",
         776.77
        ],
        [
         "P0111",
         "Decade Land",
         "Electronics",
         "Adidas",
         1138.45
        ],
        [
         "P0112",
         "Study Heavy",
         "Beauty",
         "Puma",
         1579.73
        ],
        [
         "P0113",
         "These Skill",
         "Clothing",
         "Puma",
         810.64
        ],
        [
         "P0114",
         "Kid Necessary",
         "Home",
         "Nike",
         1178.36
        ],
        [
         "P0115",
         "Subject Become",
         "Electronics",
         "Puma",
         1504.01
        ],
        [
         "P0116",
         "Very Forget",
         "Sports",
         "Sony",
         287.59
        ],
        [
         "P0117",
         "Before Product",
         "Beauty",
         "Puma",
         665.49
        ],
        [
         "P0118",
         "Start Threat",
         "Toys",
         "Lenovo",
         1123.64
        ],
        [
         "P0119",
         "Carry View",
         "Home",
         "Sony",
         60.42
        ],
        [
         "P0120",
         "Direction Character",
         "Toys",
         "Sony",
         368.47
        ],
        [
         "P0121",
         "Trade Drug",
         "Sports",
         "Nike",
         1959.23
        ],
        [
         "P0122",
         "Tend Continue",
         "Clothing",
         "LG",
         539.16
        ],
        [
         "P0123",
         "Why Decide",
         "Clothing",
         "Nike",
         503.76
        ],
        [
         "P0124",
         "Operation Century",
         "Clothing",
         "Puma",
         1857.88
        ],
        [
         "P0125",
         "Sort Summer",
         "Home",
         "Sony",
         947.43
        ],
        [
         "P0126",
         "Possible Which",
         "Sports",
         "Sony",
         1431.12
        ],
        [
         "P0127",
         "Movement Picture",
         "Home",
         "Sony",
         1337.38
        ],
        [
         "P0128",
         "Board Worker",
         "Electronics",
         "Apple",
         1935.2
        ],
        [
         "P0129",
         "North On",
         "Toys",
         "Adidas",
         763.99
        ],
        [
         "P0130",
         "Behavior Nothing",
         "Clothing",
         "Adidas",
         1355.15
        ],
        [
         "P0131",
         "Too Example",
         "Clothing",
         "Revlon",
         302.22
        ],
        [
         "P0132",
         "Issue Return",
         "Home",
         "Samsung",
         1194.22
        ],
        [
         "P0133",
         "Speak Small",
         "Electronics",
         "LG",
         215.63
        ],
        [
         "P0134",
         "Stand Fire",
         "Home",
         "Puma",
         1625.17
        ],
        [
         "P0135",
         "Maybe Light",
         "Clothing",
         "Puma",
         669.95
        ],
        [
         "P0136",
         "Year True",
         "Sports",
         "Samsung",
         48.0
        ],
        [
         "P0137",
         "Thought Travel",
         "Clothing",
         "Lenovo",
         1569.19
        ],
        [
         "P0138",
         "Already Series",
         "Clothing",
         "Samsung",
         452.81
        ],
        [
         "P0139",
         "Seek President",
         "Toys",
         "Revlon",
         399.03
        ],
        [
         "P0140",
         "Detail Bar",
         "Clothing",
         "Adidas",
         116.36
        ],
        [
         "P0141",
         "Play Show",
         "Electronics",
         "Adidas",
         1039.71
        ],
        [
         "P0142",
         "Trouble Parent",
         "Clothing",
         "Adidas",
         1081.59
        ],
        [
         "P0143",
         "One Like",
         "Electronics",
         "Apple",
         1549.15
        ],
        [
         "P0144",
         "Admit Street",
         "Beauty",
         "Apple",
         769.93
        ],
        [
         "P0145",
         "House Everything",
         "Toys",
         "Puma",
         453.73
        ],
        [
         "P0146",
         "Building Drive",
         "Electronics",
         "Sony",
         1763.2
        ],
        [
         "P0147",
         "Among Success",
         "Electronics",
         "Lenovo",
         86.53
        ],
        [
         "P0148",
         "Politics Friend",
         "Toys",
         "Dell",
         435.86
        ],
        [
         "P0149",
         "Middle Price",
         "Electronics",
         "Samsung",
         793.61
        ],
        [
         "P0150",
         "Nice Clearly",
         "Electronics",
         "Samsung",
         1207.54
        ],
        [
         "P0151",
         "Cup Per",
         "Toys",
         "Apple",
         38.43
        ],
        [
         "P0152",
         "Not Wait",
         "Home",
         "LG",
         357.33
        ],
        [
         "P0153",
         "Brother Four",
         "Home",
         "Apple",
         809.73
        ],
        [
         "P0154",
         "Trip Within",
         "Beauty",
         "Samsung",
         1089.28
        ],
        [
         "P0155",
         "Laugh Score",
         "Electronics",
         "Dell",
         12.35
        ],
        [
         "P0156",
         "Put After",
         "Home",
         "Sony",
         1746.06
        ],
        [
         "P0157",
         "Race Provide",
         "Home",
         "Adidas",
         825.91
        ],
        [
         "P0158",
         "Pm Plant",
         "Toys",
         "Adidas",
         1286.8
        ],
        [
         "P0159",
         "Politics Along",
         "Home",
         "Lenovo",
         674.29
        ],
        [
         "P0160",
         "Parent Into",
         "Clothing",
         "Nike",
         1542.46
        ],
        [
         "P0161",
         "Need Book",
         "Toys",
         "LG",
         906.6
        ],
        [
         "P0162",
         "West This",
         "Toys",
         "Adidas",
         417.67
        ],
        [
         "P0163",
         "Tree Role",
         "Toys",
         "Dell",
         1307.14
        ],
        [
         "P0164",
         "Word Hard",
         "Electronics",
         "Lenovo",
         535.06
        ],
        [
         "P0165",
         "Son Drug",
         "Toys",
         "Adidas",
         1971.77
        ],
        [
         "P0166",
         "Look Field",
         "Beauty",
         "Samsung",
         62.19
        ],
        [
         "P0167",
         "Early Course",
         "Electronics",
         "Adidas",
         1666.23
        ],
        [
         "P0168",
         "Generation Day",
         "Toys",
         "Sony",
         1006.63
        ],
        [
         "P0169",
         "Position Bank",
         "Beauty",
         "Sony",
         1267.42
        ],
        [
         "P0170",
         "Second Start",
         "Home",
         "Lenovo",
         329.25
        ],
        [
         "P0171",
         "Option Necessary",
         "Clothing",
         "Lenovo",
         1557.09
        ],
        [
         "P0172",
         "Commercial Through",
         "Home",
         "Sony",
         1759.47
        ],
        [
         "P0173",
         "Nearly When",
         "Electronics",
         "Samsung",
         930.78
        ],
        [
         "P0174",
         "Weight Tax",
         "Home",
         "Lenovo",
         81.55
        ],
        [
         "P0175",
         "Enjoy Throughout",
         "Home",
         "Apple",
         364.2
        ],
        [
         "P0176",
         "Team Foreign",
         "Home",
         "Adidas",
         824.82
        ],
        [
         "P0177",
         "Article Smile",
         "Clothing",
         "Nike",
         1241.26
        ],
        [
         "P0178",
         "Finally Suddenly",
         "Toys",
         "Adidas",
         743.65
        ],
        [
         "P0179",
         "Base Significant",
         "Electronics",
         "Samsung",
         1950.04
        ],
        [
         "P0180",
         "Form Management",
         "Electronics",
         "Sony",
         141.37
        ],
        [
         "P0181",
         "Of Seek",
         "Beauty",
         "LG",
         1935.07
        ],
        [
         "P0182",
         "Health I",
         "Beauty",
         "Apple",
         1661.22
        ],
        [
         "P0183",
         "Born Focus",
         "Sports",
         "Samsung",
         762.15
        ],
        [
         "P0184",
         "Main Majority",
         "Sports",
         "Adidas",
         1003.71
        ],
        [
         "P0185",
         "Authority Director",
         "Beauty",
         "Apple",
         1595.17
        ],
        [
         "P0186",
         "Tv Size",
         "Sports",
         "Revlon",
         231.03
        ],
        [
         "P0187",
         "Number They",
         "Electronics",
         "Nike",
         38.88
        ],
        [
         "P0188",
         "Able Seat",
         "Electronics",
         "Adidas",
         1582.57
        ],
        [
         "P0189",
         "Commercial Boy",
         "Home",
         "Puma",
         641.08
        ],
        [
         "P0190",
         "Set Whom",
         "Sports",
         "Samsung",
         686.04
        ],
        [
         "P0191",
         "Myself Performance",
         "Toys",
         "Revlon",
         112.38
        ],
        [
         "P0192",
         "Up Management",
         "Sports",
         "Apple",
         942.81
        ],
        [
         "P0193",
         "Early They",
         "Electronics",
         "Nike",
         1238.31
        ],
        [
         "P0194",
         "Charge Through",
         "Electronics",
         "Revlon",
         1814.74
        ],
        [
         "P0195",
         "Leg In",
         "Toys",
         "Adidas",
         937.18
        ],
        [
         "P0196",
         "Study Teach",
         "Clothing",
         "Adidas",
         1159.15
        ],
        [
         "P0197",
         "Old Ball",
         "Sports",
         "Revlon",
         1564.84
        ],
        [
         "P0198",
         "Information Life",
         "Sports",
         "Samsung",
         628.47
        ],
        [
         "P0199",
         "Data Structure",
         "Clothing",
         "Sony",
         1368.51
        ],
        [
         "P0200",
         "Close Knowledge",
         "Toys",
         "Apple",
         692.12
        ],
        [
         "P0201",
         "Professional Test",
         "Beauty",
         "Samsung",
         1573.37
        ],
        [
         "P0202",
         "Analysis The",
         "Electronics",
         "Adidas",
         1953.99
        ],
        [
         "P0203",
         "Difficult Around",
         "Home",
         "Samsung",
         1016.57
        ],
        [
         "P0204",
         "Show Teacher",
         "Electronics",
         "Adidas",
         1734.6
        ],
        [
         "P0205",
         "Attorney I",
         "Home",
         "LG",
         478.82
        ],
        [
         "P0206",
         "Remember Stuff",
         "Electronics",
         "Apple",
         375.49
        ],
        [
         "P0207",
         "Year Much",
         "Beauty",
         "Adidas",
         230.41
        ],
        [
         "P0208",
         "Rather Require",
         "Toys",
         "Adidas",
         754.39
        ],
        [
         "P0209",
         "Catch Local",
         "Sports",
         "Revlon",
         1070.99
        ],
        [
         "P0210",
         "Learn Weight",
         "Sports",
         "Apple",
         863.71
        ],
        [
         "P0211",
         "Check Line",
         "Beauty",
         "Nike",
         1051.35
        ],
        [
         "P0212",
         "Per Leader",
         "Home",
         "Adidas",
         1766.16
        ],
        [
         "P0213",
         "Suggest Chance",
         "Sports",
         "Samsung",
         1528.21
        ],
        [
         "P0214",
         "Site Trip",
         "Toys",
         "Revlon",
         1725.81
        ],
        [
         "P0215",
         "Trouble Treatment",
         "Beauty",
         "Adidas",
         1678.45
        ],
        [
         "P0216",
         "Every Page",
         "Home",
         "Adidas",
         1526.03
        ],
        [
         "P0217",
         "Vote Tree",
         "Sports",
         "Puma",
         1460.22
        ],
        [
         "P0218",
         "Sea Clear",
         "Beauty",
         "Nike",
         207.67
        ],
        [
         "P0219",
         "Per Voice",
         "Clothing",
         "Dell",
         996.21
        ],
        [
         "P0220",
         "Term Fine",
         "Beauty",
         "Dell",
         1354.7
        ],
        [
         "P0221",
         "Player Summer",
         "Beauty",
         "Lenovo",
         1205.37
        ],
        [
         "P0222",
         "Respond Knowledge",
         "Electronics",
         "Samsung",
         977.33
        ],
        [
         "P0223",
         "Believe Activity",
         "Toys",
         "Lenovo",
         1292.39
        ],
        [
         "P0224",
         "Federal Around",
         "Clothing",
         "Apple",
         1153.17
        ],
        [
         "P0225",
         "Discussion Region",
         "Beauty",
         "Nike",
         551.26
        ],
        [
         "P0226",
         "Care North",
         "Beauty",
         "Lenovo",
         1668.89
        ],
        [
         "P0227",
         "Need Method",
         "Beauty",
         "Nike",
         449.11
        ],
        [
         "P0228",
         "Citizen Item",
         "Sports",
         "Puma",
         317.83
        ],
        [
         "P0229",
         "Material If",
         "Home",
         "Lenovo",
         1399.43
        ],
        [
         "P0230",
         "Old Increase",
         "Beauty",
         "Samsung",
         1163.64
        ],
        [
         "P0231",
         "Do Chair",
         "Home",
         "Revlon",
         781.81
        ],
        [
         "P0232",
         "Would Along",
         "Toys",
         "Adidas",
         896.07
        ],
        [
         "P0233",
         "Second Learn",
         "Toys",
         "Lenovo",
         901.28
        ],
        [
         "P0234",
         "Guess At",
         "Sports",
         "Sony",
         1231.55
        ],
        [
         "P0235",
         "Country Knowledge",
         "Sports",
         "Adidas",
         1297.8
        ],
        [
         "P0236",
         "War Involve",
         "Electronics",
         "Samsung",
         951.74
        ],
        [
         "P0237",
         "As Push",
         "Toys",
         "Samsung",
         164.53
        ],
        [
         "P0238",
         "Air Life",
         "Beauty",
         "Revlon",
         1358.99
        ],
        [
         "P0239",
         "Show Finally",
         "Toys",
         "Nike",
         1612.58
        ],
        [
         "P0240",
         "Six Senior",
         "Clothing",
         "Samsung",
         1648.93
        ],
        [
         "P0241",
         "Edge Civil",
         "Electronics",
         "Puma",
         1531.37
        ],
        [
         "P0242",
         "Radio Lot",
         "Home",
         "Samsung",
         412.59
        ],
        [
         "P0243",
         "Recent The",
         "Beauty",
         "Lenovo",
         1875.22
        ],
        [
         "P0244",
         "Run Market",
         "Beauty",
         "Revlon",
         1843.58
        ],
        [
         "P0245",
         "Occur Attention",
         "Beauty",
         "LG",
         270.43
        ],
        [
         "P0246",
         "Great Field",
         "Electronics",
         "Adidas",
         1449.57
        ],
        [
         "P0247",
         "Step Information",
         "Electronics",
         "Sony",
         825.1
        ],
        [
         "P0248",
         "Develop International",
         "Electronics",
         "Revlon",
         1200.32
        ],
        [
         "P0249",
         "There True",
         "Electronics",
         "Puma",
         1536.54
        ],
        [
         "P0250",
         "Half Ten",
         "Sports",
         "Samsung",
         710.82
        ],
        [
         "P0251",
         "Business Own",
         "Beauty",
         "Lenovo",
         28.65
        ],
        [
         "P0252",
         "Late Thus",
         "Electronics",
         "Sony",
         1957.38
        ],
        [
         "P0253",
         "Onto Owner",
         "Toys",
         "Lenovo",
         226.44
        ],
        [
         "P0254",
         "According Because",
         "Home",
         "Lenovo",
         503.61
        ],
        [
         "P0255",
         "Activity Western",
         "Sports",
         "Lenovo",
         154.4
        ],
        [
         "P0256",
         "Note Worker",
         "Electronics",
         "Lenovo",
         882.48
        ],
        [
         "P0257",
         "Executive Art",
         "Beauty",
         "Nike",
         944.89
        ],
        [
         "P0258",
         "Culture Follow",
         "Home",
         "Revlon",
         1423.91
        ],
        [
         "P0259",
         "Against Kind",
         "Sports",
         "Puma",
         1484.64
        ],
        [
         "P0260",
         "About Buy",
         "Electronics",
         "Revlon",
         1255.56
        ],
        [
         "P0261",
         "Capital Well",
         "Beauty",
         "Dell",
         203.78
        ],
        [
         "P0262",
         "Decade Left",
         "Toys",
         "Samsung",
         885.15
        ],
        [
         "P0263",
         "Machine Heart",
         "Sports",
         "Nike",
         371.19
        ],
        [
         "P0264",
         "Thought Heavy",
         "Beauty",
         "Apple",
         1030.44
        ],
        [
         "P0265",
         "Image No",
         "Toys",
         "Nike",
         1216.14
        ],
        [
         "P0266",
         "Specific You",
         "Electronics",
         "LG",
         324.37
        ],
        [
         "P0267",
         "Painting Daughter",
         "Home",
         "Adidas",
         1772.83
        ],
        [
         "P0268",
         "Man Near",
         "Sports",
         "Dell",
         631.29
        ],
        [
         "P0269",
         "Grow Fly",
         "Sports",
         "Lenovo",
         1192.68
        ],
        [
         "P0270",
         "Candidate Question",
         "Beauty",
         "Samsung",
         611.71
        ],
        [
         "P0271",
         "Notice Town",
         "Sports",
         "Puma",
         1362.74
        ],
        [
         "P0272",
         "Defense Either",
         "Beauty",
         "Dell",
         1472.29
        ],
        [
         "P0273",
         "Peace When",
         "Electronics",
         "Nike",
         146.58
        ],
        [
         "P0274",
         "Always Debate",
         "Clothing",
         "Samsung",
         1128.5
        ],
        [
         "P0275",
         "Piece Information",
         "Toys",
         "Sony",
         1478.58
        ],
        [
         "P0276",
         "Team Support",
         "Toys",
         "Puma",
         1155.12
        ],
        [
         "P0277",
         "Field White",
         "Home",
         "Dell",
         63.16
        ],
        [
         "P0278",
         "Similar Can",
         "Beauty",
         "Revlon",
         414.78
        ],
        [
         "P0279",
         "Fast Situation",
         "Beauty",
         "Lenovo",
         1619.24
        ],
        [
         "P0280",
         "Financial Enough",
         "Clothing",
         "Puma",
         566.91
        ],
        [
         "P0281",
         "Hot Customer",
         "Home",
         "Puma",
         188.55
        ],
        [
         "P0282",
         "Matter To",
         "Electronics",
         "Samsung",
         69.59
        ],
        [
         "P0283",
         "Southern Team",
         "Sports",
         "Nike",
         474.49
        ],
        [
         "P0284",
         "Population Account",
         "Beauty",
         "Puma",
         352.26
        ],
        [
         "P0285",
         "Cultural Beat",
         "Clothing",
         "Revlon",
         1123.4
        ],
        [
         "P0286",
         "Blood Chair",
         "Beauty",
         "Adidas",
         1164.64
        ],
        [
         "P0287",
         "Evening Natural",
         "Electronics",
         "Puma",
         1084.4
        ],
        [
         "P0288",
         "Source Hour",
         "Toys",
         "Lenovo",
         1486.02
        ],
        [
         "P0289",
         "Finish Everything",
         "Sports",
         "Puma",
         1780.19
        ],
        [
         "P0290",
         "Room Public",
         "Beauty",
         "LG",
         919.28
        ],
        [
         "P0291",
         "Able Media",
         "Electronics",
         "LG",
         890.9
        ],
        [
         "P0292",
         "Very Event",
         "Toys",
         "Sony",
         1339.35
        ],
        [
         "P0293",
         "Degree Agency",
         "Electronics",
         "LG",
         107.68
        ],
        [
         "P0294",
         "Dark Former",
         "Sports",
         "Lenovo",
         1054.65
        ],
        [
         "P0295",
         "Participant Kitchen",
         "Electronics",
         "Puma",
         1938.35
        ],
        [
         "P0296",
         "Garden Reach",
         "Sports",
         "Nike",
         1738.65
        ],
        [
         "P0297",
         "Turn Degree",
         "Sports",
         "Nike",
         859.64
        ],
        [
         "P0298",
         "Talk Offer",
         "Clothing",
         "Revlon",
         1571.12
        ],
        [
         "P0299",
         "Look Mention",
         "Home",
         "Apple",
         1170.51
        ],
        [
         "P0300",
         "Amount Politics",
         "Electronics",
         "Sony",
         1741.53
        ],
        [
         "P0301",
         "Side Note",
         "Clothing",
         "Adidas",
         1005.47
        ],
        [
         "P0302",
         "Three Seven",
         "Electronics",
         "Nike",
         1017.38
        ],
        [
         "P0303",
         "Child Help",
         "Clothing",
         "LG",
         1052.48
        ],
        [
         "P0304",
         "Our Arrive",
         "Beauty",
         "Adidas",
         1039.68
        ],
        [
         "P0305",
         "Score Choice",
         "Electronics",
         "Puma",
         1089.74
        ],
        [
         "P0306",
         "Six Speak",
         "Toys",
         "Samsung",
         140.5
        ],
        [
         "P0307",
         "Culture Specific",
         "Beauty",
         "Lenovo",
         1923.44
        ],
        [
         "P0308",
         "And Agent",
         "Sports",
         "Nike",
         187.35
        ],
        [
         "P0309",
         "Nor Prepare",
         "Toys",
         "Apple",
         445.2
        ],
        [
         "P0310",
         "Ok Leave",
         "Home",
         "Samsung",
         704.08
        ],
        [
         "P0311",
         "Blue Live",
         "Toys",
         "Revlon",
         454.3
        ],
        [
         "P0312",
         "Big Similar",
         "Beauty",
         "Puma",
         1500.97
        ],
        [
         "P0313",
         "Try You",
         "Sports",
         "Samsung",
         985.34
        ],
        [
         "P0314",
         "Protect Hope",
         "Sports",
         "Nike",
         599.47
        ],
        [
         "P0315",
         "Work Party",
         "Clothing",
         "Dell",
         1703.11
        ],
        [
         "P0316",
         "Sell State",
         "Clothing",
         "Puma",
         605.68
        ],
        [
         "P0317",
         "Trade Region",
         "Home",
         "Dell",
         1174.72
        ],
        [
         "P0318",
         "History Create",
         "Toys",
         "Samsung",
         824.7
        ],
        [
         "P0319",
         "Trouble Street",
         "Home",
         "Nike",
         1494.78
        ],
        [
         "P0320",
         "Whole Road",
         "Toys",
         "Adidas",
         491.43
        ],
        [
         "P0321",
         "They As",
         "Toys",
         "Lenovo",
         1631.26
        ],
        [
         "P0322",
         "Part Traditional",
         "Beauty",
         "Dell",
         1731.88
        ],
        [
         "P0323",
         "Professor What",
         "Beauty",
         "Lenovo",
         1248.81
        ],
        [
         "P0324",
         "Light Idea",
         "Toys",
         "Nike",
         1819.96
        ],
        [
         "P0325",
         "Right Program",
         "Beauty",
         "Lenovo",
         1361.28
        ],
        [
         "P0326",
         "Safe Loss",
         "Clothing",
         "Nike",
         1688.79
        ],
        [
         "P0327",
         "Garden Shake",
         "Electronics",
         "Sony",
         943.0
        ],
        [
         "P0328",
         "Space Person",
         "Clothing",
         "Lenovo",
         1928.38
        ],
        [
         "P0329",
         "Range However",
         "Toys",
         "Nike",
         1295.37
        ],
        [
         "P0330",
         "Main Student",
         "Sports",
         "LG",
         1241.75
        ],
        [
         "P0331",
         "Let Positive",
         "Sports",
         "LG",
         1528.85
        ],
        [
         "P0332",
         "Thus Make",
         "Toys",
         "Lenovo",
         1369.33
        ],
        [
         "P0333",
         "History Easy",
         "Beauty",
         "Sony",
         1892.24
        ],
        [
         "P0334",
         "Customer Loss",
         "Beauty",
         "Lenovo",
         1560.27
        ],
        [
         "P0335",
         "Type Area",
         "Sports",
         "Samsung",
         1352.39
        ],
        [
         "P0336",
         "Shake Current",
         "Electronics",
         "Dell",
         222.93
        ],
        [
         "P0337",
         "Very Include",
         "Toys",
         "Samsung",
         1968.32
        ],
        [
         "P0338",
         "Service Military",
         "Home",
         "LG",
         1844.1
        ],
        [
         "P0339",
         "Rule Site",
         "Sports",
         "LG",
         1321.67
        ],
        [
         "P0340",
         "Though Pretty",
         "Electronics",
         "Adidas",
         1635.48
        ],
        [
         "P0341",
         "Me Small",
         "Home",
         "Lenovo",
         1333.84
        ],
        [
         "P0342",
         "Trouble Over",
         "Beauty",
         "Nike",
         125.97
        ],
        [
         "P0343",
         "Yeah Former",
         "Toys",
         "Sony",
         539.06
        ],
        [
         "P0344",
         "House Enter",
         "Beauty",
         "Nike",
         1118.86
        ],
        [
         "P0345",
         "Federal Sport",
         "Sports",
         "Apple",
         1366.77
        ],
        [
         "P0346",
         "International Yes",
         "Home",
         "Dell",
         84.09
        ],
        [
         "P0347",
         "Painting Kid",
         "Beauty",
         "Sony",
         452.69
        ],
        [
         "P0348",
         "Late Smile",
         "Home",
         "LG",
         958.75
        ],
        [
         "P0349",
         "Less Can",
         "Beauty",
         "LG",
         1059.73
        ],
        [
         "P0350",
         "Garden Blue",
         "Sports",
         "Dell",
         758.98
        ],
        [
         "P0351",
         "Debate Whether",
         "Beauty",
         "Samsung",
         390.64
        ],
        [
         "P0352",
         "About Room",
         "Home",
         "Sony",
         1226.91
        ],
        [
         "P0353",
         "Local Big",
         "Electronics",
         "Adidas",
         1464.67
        ],
        [
         "P0354",
         "Stop As",
         "Electronics",
         "Samsung",
         289.67
        ],
        [
         "P0355",
         "Itself Explain",
         "Toys",
         "Apple",
         1804.42
        ],
        [
         "P0356",
         "Method Authority",
         "Electronics",
         "Samsung",
         97.91
        ],
        [
         "P0357",
         "The Seek",
         "Clothing",
         "Adidas",
         1705.13
        ],
        [
         "P0358",
         "Quickly Republican",
         "Sports",
         "Samsung",
         1175.18
        ],
        [
         "P0359",
         "Feel Describe",
         "Home",
         "Lenovo",
         660.84
        ],
        [
         "P0360",
         "Reveal Organization",
         "Clothing",
         "Lenovo",
         175.53
        ],
        [
         "P0361",
         "Energy Lay",
         "Beauty",
         "LG",
         1572.29
        ],
        [
         "P0362",
         "Reality Network",
         "Toys",
         "Revlon",
         1555.65
        ],
        [
         "P0363",
         "Score Read",
         "Home",
         "Nike",
         758.11
        ],
        [
         "P0364",
         "What Describe",
         "Sports",
         "Dell",
         930.34
        ],
        [
         "P0365",
         "Available Rich",
         "Clothing",
         "Revlon",
         1542.85
        ],
        [
         "P0366",
         "Seek Position",
         "Toys",
         "Apple",
         1008.85
        ],
        [
         "P0367",
         "Human See",
         "Clothing",
         "Nike",
         776.79
        ],
        [
         "P0368",
         "National Various",
         "Beauty",
         "Dell",
         138.37
        ],
        [
         "P0369",
         "Spend Account",
         "Sports",
         "Apple",
         1954.77
        ],
        [
         "P0370",
         "Artist Protect",
         "Sports",
         "Lenovo",
         1000.0
        ],
        [
         "P0371",
         "Possible So",
         "Electronics",
         "Dell",
         1479.94
        ],
        [
         "P0372",
         "Level Rock",
         "Electronics",
         "Dell",
         1242.11
        ],
        [
         "P0373",
         "Wrong Building",
         "Beauty",
         "Puma",
         1858.79
        ],
        [
         "P0374",
         "Whom Century",
         "Beauty",
         "LG",
         1676.32
        ],
        [
         "P0375",
         "Local Evening",
         "Electronics",
         "Sony",
         412.3
        ],
        [
         "P0376",
         "Piece Raise",
         "Beauty",
         "Adidas",
         1860.84
        ],
        [
         "P0377",
         "Think None",
         "Sports",
         "Dell",
         1298.87
        ],
        [
         "P0378",
         "Economy Court",
         "Electronics",
         "Dell",
         1677.01
        ],
        [
         "P0379",
         "Ball Base",
         "Clothing",
         "Sony",
         1028.64
        ],
        [
         "P0380",
         "Blue Finally",
         "Sports",
         "Dell",
         1721.21
        ],
        [
         "P0381",
         "Tend Inside",
         "Clothing",
         "Adidas",
         1203.96
        ],
        [
         "P0382",
         "Five Force",
         "Home",
         "Apple",
         713.46
        ],
        [
         "P0383",
         "Popular Herself",
         "Beauty",
         "Revlon",
         180.91
        ],
        [
         "P0384",
         "Issue Doctor",
         "Toys",
         "Puma",
         86.38
        ],
        [
         "P0385",
         "Old Hand",
         "Beauty",
         "Revlon",
         1924.73
        ],
        [
         "P0386",
         "Style Again",
         "Sports",
         "Revlon",
         1294.16
        ],
        [
         "P0387",
         "Affect Continue",
         "Clothing",
         "Dell",
         1648.43
        ],
        [
         "P0388",
         "Professional Physical",
         "Clothing",
         "Puma",
         922.07
        ],
        [
         "P0389",
         "Necessary Upon",
         "Beauty",
         "Sony",
         458.59
        ],
        [
         "P0390",
         "Leader Security",
         "Toys",
         "Lenovo",
         867.57
        ],
        [
         "P0391",
         "Serious Information",
         "Beauty",
         "Sony",
         1392.3
        ],
        [
         "P0392",
         "Customer Or",
         "Sports",
         "Apple",
         892.97
        ],
        [
         "P0393",
         "Goal Ground",
         "Clothing",
         "Sony",
         1619.98
        ],
        [
         "P0394",
         "Beautiful Small",
         "Beauty",
         "Samsung",
         926.57
        ],
        [
         "P0395",
         "Song Approach",
         "Clothing",
         "Samsung",
         1758.5
        ],
        [
         "P0396",
         "Pattern Age",
         "Electronics",
         "Lenovo",
         1566.87
        ],
        [
         "P0397",
         "Civil Action",
         "Sports",
         "Apple",
         1877.24
        ],
        [
         "P0398",
         "Floor Daughter",
         "Electronics",
         "Apple",
         1825.42
        ],
        [
         "P0399",
         "Parent Reflect",
         "Toys",
         "Nike",
         1135.56
        ],
        [
         "P0400",
         "Any Buy",
         "Clothing",
         "Sony",
         835.22
        ],
        [
         "P0401",
         "Design Machine",
         "Toys",
         "Dell",
         392.57
        ],
        [
         "P0402",
         "Area Your",
         "Beauty",
         "Lenovo",
         47.46
        ],
        [
         "P0403",
         "Artist Anyone",
         "Home",
         "Lenovo",
         1744.03
        ],
        [
         "P0404",
         "Card Government",
         "Electronics",
         "LG",
         967.18
        ],
        [
         "P0405",
         "Population Hold",
         "Electronics",
         "Dell",
         1225.32
        ],
        [
         "P0406",
         "Indicate Produce",
         "Beauty",
         "Adidas",
         584.74
        ],
        [
         "P0407",
         "Carry Laugh",
         "Home",
         "LG",
         584.71
        ],
        [
         "P0408",
         "Finish Sister",
         "Sports",
         "Apple",
         1167.48
        ],
        [
         "P0409",
         "Happen Old",
         "Sports",
         "LG",
         890.11
        ],
        [
         "P0410",
         "Particular Cause",
         "Toys",
         "Adidas",
         373.46
        ],
        [
         "P0411",
         "Attack Cell",
         "Electronics",
         "Puma",
         873.95
        ],
        [
         "P0412",
         "Significant Ability",
         "Electronics",
         "Dell",
         129.25
        ],
        [
         "P0413",
         "Stand Enough",
         "Clothing",
         "Lenovo",
         342.07
        ],
        [
         "P0414",
         "Pressure Role",
         "Beauty",
         "LG",
         1456.9
        ],
        [
         "P0415",
         "Great Wish",
         "Beauty",
         "Samsung",
         1821.91
        ],
        [
         "P0416",
         "Brother Would",
         "Toys",
         "Nike",
         427.5
        ],
        [
         "P0417",
         "Sing Head",
         "Beauty",
         "Revlon",
         111.34
        ],
        [
         "P0418",
         "Other Right",
         "Home",
         "Dell",
         1844.36
        ],
        [
         "P0419",
         "Claim Firm",
         "Toys",
         "Adidas",
         629.71
        ],
        [
         "P0420",
         "Social Cost",
         "Home",
         "Adidas",
         49.6
        ],
        [
         "P0421",
         "Whole Per",
         "Clothing",
         "Sony",
         1520.45
        ],
        [
         "P0422",
         "Society Action",
         "Electronics",
         "Revlon",
         184.69
        ],
        [
         "P0423",
         "Add Eight",
         "Clothing",
         "Dell",
         990.07
        ],
        [
         "P0424",
         "What Best",
         "Sports",
         "Apple",
         1141.78
        ],
        [
         "P0425",
         "Girl Important",
         "Home",
         "Adidas",
         1822.03
        ],
        [
         "P0426",
         "Several Pick",
         "Electronics",
         "Puma",
         1956.82
        ],
        [
         "P0427",
         "Despite Dream",
         "Sports",
         "Sony",
         1967.84
        ],
        [
         "P0428",
         "Why Ten",
         "Beauty",
         "Sony",
         1582.19
        ],
        [
         "P0429",
         "Never Painting",
         "Electronics",
         "Apple",
         1734.0
        ],
        [
         "P0430",
         "Language Style",
         "Sports",
         "Adidas",
         1386.32
        ],
        [
         "P0431",
         "Physical Quite",
         "Electronics",
         "Dell",
         682.1
        ],
        [
         "P0432",
         "Discuss Decide",
         "Toys",
         "Revlon",
         1287.08
        ],
        [
         "P0433",
         "Would Describe",
         "Electronics",
         "Apple",
         1123.66
        ],
        [
         "P0434",
         "Every Line",
         "Electronics",
         "Adidas",
         1689.45
        ],
        [
         "P0435",
         "Debate Center",
         "Sports",
         "Nike",
         1902.58
        ],
        [
         "P0436",
         "Begin Three",
         "Sports",
         "Puma",
         1781.45
        ],
        [
         "P0437",
         "Explain Until",
         "Clothing",
         "Sony",
         465.4
        ],
        [
         "P0438",
         "Mind Add",
         "Toys",
         "LG",
         1309.15
        ],
        [
         "P0439",
         "Very Democratic",
         "Home",
         "Apple",
         1174.39
        ],
        [
         "P0440",
         "Travel Practice",
         "Electronics",
         "Dell",
         1983.25
        ],
        [
         "P0441",
         "Lot Fish",
         "Toys",
         "Adidas",
         1300.71
        ],
        [
         "P0442",
         "Animal Court",
         "Electronics",
         "Adidas",
         1811.22
        ],
        [
         "P0443",
         "Campaign Decision",
         "Toys",
         "Dell",
         685.07
        ],
        [
         "P0444",
         "Change It",
         "Beauty",
         "Revlon",
         655.62
        ],
        [
         "P0445",
         "Mean Hospital",
         "Electronics",
         "Apple",
         792.65
        ],
        [
         "P0446",
         "Blood National",
         "Sports",
         "Puma",
         1016.83
        ],
        [
         "P0447",
         "There Whether",
         "Toys",
         "Sony",
         915.77
        ],
        [
         "P0448",
         "Method Plant",
         "Electronics",
         "LG",
         1264.88
        ],
        [
         "P0449",
         "Property Total",
         "Electronics",
         "Samsung",
         188.96
        ],
        [
         "P0450",
         "Laugh Minute",
         "Home",
         "Revlon",
         985.83
        ],
        [
         "P0451",
         "Card Another",
         "Sports",
         "Puma",
         1663.54
        ],
        [
         "P0452",
         "Other Role",
         "Electronics",
         "Dell",
         1462.41
        ],
        [
         "P0453",
         "Early Authority",
         "Home",
         "Sony",
         250.33
        ],
        [
         "P0454",
         "Window Nature",
         "Clothing",
         "Sony",
         324.49
        ],
        [
         "P0455",
         "Me True",
         "Beauty",
         "Puma",
         1884.65
        ],
        [
         "P0456",
         "Side Knowledge",
         "Clothing",
         "Apple",
         1904.87
        ],
        [
         "P0457",
         "Reach House",
         "Sports",
         "Nike",
         1731.23
        ],
        [
         "P0458",
         "Fight Claim",
         "Home",
         "Dell",
         629.24
        ],
        [
         "P0459",
         "Without Matter",
         "Toys",
         "Apple",
         1208.62
        ],
        [
         "P0460",
         "Recently Heavy",
         "Electronics",
         "Revlon",
         1327.98
        ],
        [
         "P0461",
         "Dream Thought",
         "Home",
         "Apple",
         1367.65
        ],
        [
         "P0462",
         "Modern Yet",
         "Sports",
         "Revlon",
         1909.36
        ],
        [
         "P0463",
         "Movie Cell",
         "Clothing",
         "Apple",
         293.1
        ],
        [
         "P0464",
         "Whatever Audience",
         "Electronics",
         "Sony",
         638.63
        ],
        [
         "P0465",
         "Morning Politics",
         "Sports",
         "Lenovo",
         151.23
        ],
        [
         "P0466",
         "Effort Service",
         "Beauty",
         "Lenovo",
         1305.34
        ],
        [
         "P0467",
         "Approach Only",
         "Clothing",
         "Adidas",
         15.91
        ],
        [
         "P0468",
         "Present Recent",
         "Toys",
         "LG",
         1530.08
        ],
        [
         "P0469",
         "Line Ball",
         "Clothing",
         "Dell",
         98.6
        ],
        [
         "P0470",
         "Probably High",
         "Home",
         "Dell",
         649.66
        ],
        [
         "P0471",
         "Then Exactly",
         "Beauty",
         "Sony",
         20.68
        ],
        [
         "P0472",
         "Even Economic",
         "Toys",
         "Apple",
         1409.94
        ],
        [
         "P0473",
         "Today Over",
         "Toys",
         "Adidas",
         1878.18
        ],
        [
         "P0474",
         "Expert Appear",
         "Home",
         "Nike",
         1287.26
        ],
        [
         "P0475",
         "Government And",
         "Home",
         "Samsung",
         964.94
        ],
        [
         "P0476",
         "Consumer Itself",
         "Toys",
         "Lenovo",
         259.13
        ],
        [
         "P0477",
         "Upon Sometimes",
         "Electronics",
         "Apple",
         917.67
        ],
        [
         "P0478",
         "Quality True",
         "Sports",
         "Sony",
         630.56
        ],
        [
         "P0479",
         "Voice A",
         "Clothing",
         "Sony",
         567.29
        ],
        [
         "P0480",
         "Child Threat",
         "Beauty",
         "Adidas",
         492.92
        ],
        [
         "P0481",
         "Fact Measure",
         "Beauty",
         "Nike",
         1554.11
        ],
        [
         "P0482",
         "Force Family",
         "Clothing",
         "Sony",
         1675.86
        ],
        [
         "P0483",
         "From Night",
         "Toys",
         "Nike",
         877.18
        ],
        [
         "P0484",
         "Deep Thank",
         "Beauty",
         "Apple",
         1397.57
        ],
        [
         "P0485",
         "Rise Exactly",
         "Home",
         "Apple",
         535.31
        ],
        [
         "P0486",
         "Identify Magazine",
         "Electronics",
         "Samsung",
         315.25
        ],
        [
         "P0487",
         "Now Never",
         "Electronics",
         "Dell",
         1666.94
        ],
        [
         "P0488",
         "Experience Idea",
         "Electronics",
         "Lenovo",
         1316.67
        ],
        [
         "P0489",
         "Camera At",
         "Electronics",
         "LG",
         1923.44
        ],
        [
         "P0490",
         "Door Itself",
         "Home",
         "Revlon",
         1718.72
        ],
        [
         "P0491",
         "Floor Sit",
         "Clothing",
         "LG",
         1602.21
        ],
        [
         "P0492",
         "A Forward",
         "Home",
         "Nike",
         121.07
        ],
        [
         "P0493",
         "Pass Go",
         "Toys",
         "Samsung",
         295.7
        ],
        [
         "P0494",
         "Personal Stand",
         "Toys",
         "Apple",
         1913.83
        ],
        [
         "P0495",
         "Sister Question",
         "Toys",
         "Sony",
         561.99
        ],
        [
         "P0496",
         "Beyond Some",
         "Beauty",
         "Apple",
         137.62
        ],
        [
         "P0497",
         "Reflect Chair",
         "Beauty",
         "Lenovo",
         930.59
        ],
        [
         "P0498",
         "Economic Over",
         "Beauty",
         "Adidas",
         1990.58
        ],
        [
         "P0499",
         "Writer Mouth",
         "Home",
         "Revlon",
         1774.16
        ],
        [
         "P0500",
         "Itself Despite",
         "Electronics",
         "Puma",
         322.4
        ]
       ],
       "datasetInfos": [],
       "dbfsResultPath": null,
       "isJsonSchema": true,
       "metadata": {},
       "overflow": false,
       "plotOptions": {
        "customPlotOptions": {},
        "displayType": "table",
        "pivotAggregation": null,
        "pivotColumns": null,
        "xColumns": null,
        "yColumns": null
       },
       "removedWidgets": [],
       "schema": [
        {
         "metadata": "{}",
         "name": "product_id",
         "type": "\"string\""
        },
        {
         "metadata": "{}",
         "name": "product_name",
         "type": "\"string\""
        },
        {
         "metadata": "{}",
         "name": "category",
         "type": "\"string\""
        },
        {
         "metadata": "{}",
         "name": "brand",
         "type": "\"string\""
        },
        {
         "metadata": "{}",
         "name": "price",
         "type": "\"double\""
        }
       ],
       "type": "table"
      }
     },
     "output_type": "display_data"
    }
   ],
   "source": [
    "df = df.drop(\"_rescued_data\")\n",
    "df.display()\n"
   ]
  },
  {
   "cell_type": "code",
   "execution_count": 0,
   "metadata": {
    "application/vnd.databricks.v1+cell": {
     "cellMetadata": {
      "byteLimit": 2048000,
      "rowLimit": 10000
     },
     "inputWidgets": {},
     "nuid": "46ad93bd-f6a6-4b5c-965b-51d43a23bc1b",
     "showTitle": false,
     "tableResultSettingsMap": {},
     "title": ""
    }
   },
   "outputs": [],
   "source": [
    "df.createOrReplaceTempView(\"products\")"
   ]
  },
  {
   "cell_type": "markdown",
   "metadata": {
    "application/vnd.databricks.v1+cell": {
     "cellMetadata": {},
     "inputWidgets": {},
     "nuid": "62f3f561-6b60-454f-a90c-b36a7e999178",
     "showTitle": false,
     "tableResultSettingsMap": {},
     "title": ""
    }
   },
   "source": [
    "### **Functions**"
   ]
  },
  {
   "cell_type": "code",
   "execution_count": 0,
   "metadata": {
    "application/vnd.databricks.v1+cell": {
     "cellMetadata": {
      "byteLimit": 2048000,
      "implicitDf": true,
      "rowLimit": 10000
     },
     "inputWidgets": {},
     "nuid": "a1f44ffa-ebc6-4d79-93d5-b64fd9186fec",
     "showTitle": false,
     "tableResultSettingsMap": {},
     "title": ""
    }
   },
   "outputs": [
    {
     "output_type": "display_data",
     "data": {
      "text/html": [
       "<style scoped>\n",
       "  .table-result-container {\n",
       "    max-height: 300px;\n",
       "    overflow: auto;\n",
       "  }\n",
       "  table, th, td {\n",
       "    border: 1px solid black;\n",
       "    border-collapse: collapse;\n",
       "  }\n",
       "  th, td {\n",
       "    padding: 5px;\n",
       "  }\n",
       "  th {\n",
       "    text-align: left;\n",
       "  }\n",
       "</style><div class='table-result-container'><table class='table-result'><thead style='background-color: white'><tr></tr></thead><tbody></tbody></table></div>"
      ]
     },
     "metadata": {
      "application/vnd.databricks.v1+output": {
       "addedWidgets": {},
       "aggData": [],
       "aggError": "",
       "aggOverflow": false,
       "aggSchema": [],
       "aggSeriesLimitReached": false,
       "aggType": "",
       "arguments": {},
       "columnCustomDisplayInfos": {},
       "data": [],
       "datasetInfos": [],
       "dbfsResultPath": null,
       "isJsonSchema": true,
       "metadata": {
        "dataframeName": null
       },
       "overflow": false,
       "plotOptions": {
        "customPlotOptions": {},
        "displayType": "table",
        "pivotAggregation": null,
        "pivotColumns": null,
        "xColumns": null,
        "yColumns": null
       },
       "removedWidgets": [],
       "schema": [],
       "type": "table"
      }
     },
     "output_type": "display_data"
    }
   ],
   "source": [
    "%sql\n",
    "CREATE OR REPLACE FUNCTION databricks_cata.bronze.discount_func(p_price DOUBLE)\n",
    "RETURNS DOUBLE \n",
    "LANGUAGE SQL\n",
    "RETURN p_price * 0.90"
   ]
  },
  {
   "cell_type": "code",
   "execution_count": 0,
   "metadata": {
    "application/vnd.databricks.v1+cell": {
     "cellMetadata": {
      "byteLimit": 2048000,
      "implicitDf": true,
      "rowLimit": 10000
     },
     "inputWidgets": {},
     "nuid": "d4c9dbfd-4f93-4cbc-8aeb-53b6051ac3dd",
     "showTitle": false,
     "tableResultSettingsMap": {},
     "title": ""
    }
   },
   "outputs": [
    {
     "output_type": "display_data",
     "data": {
      "text/html": [
       "<style scoped>\n",
       "  .table-result-container {\n",
       "    max-height: 300px;\n",
       "    overflow: auto;\n",
       "  }\n",
       "  table, th, td {\n",
       "    border: 1px solid black;\n",
       "    border-collapse: collapse;\n",
       "  }\n",
       "  th, td {\n",
       "    padding: 5px;\n",
       "  }\n",
       "  th {\n",
       "    text-align: left;\n",
       "  }\n",
       "</style><div class='table-result-container'><table class='table-result'><thead style='background-color: white'><tr><th>product_id</th><th>price</th><th>discounted_price</th></tr></thead><tbody><tr><td>P0001</td><td>1868.54</td><td>1681.686</td></tr><tr><td>P0002</td><td>587.13</td><td>528.417</td></tr><tr><td>P0003</td><td>1599.24</td><td>1439.316</td></tr><tr><td>P0004</td><td>651.71</td><td>586.5390000000001</td></tr><tr><td>P0005</td><td>1861.78</td><td>1675.602</td></tr><tr><td>P0006</td><td>936.36</td><td>842.724</td></tr><tr><td>P0007</td><td>1954.02</td><td>1758.618</td></tr><tr><td>P0008</td><td>1251.26</td><td>1126.134</td></tr><tr><td>P0009</td><td>1247.15</td><td>1122.4350000000002</td></tr><tr><td>P0010</td><td>975.53</td><td>877.977</td></tr><tr><td>P0011</td><td>1475.31</td><td>1327.779</td></tr><tr><td>P0012</td><td>624.61</td><td>562.149</td></tr><tr><td>P0013</td><td>384.99</td><td>346.49100000000004</td></tr><tr><td>P0014</td><td>32.2</td><td>28.980000000000004</td></tr><tr><td>P0015</td><td>1459.2</td><td>1313.28</td></tr><tr><td>P0016</td><td>1594.08</td><td>1434.672</td></tr><tr><td>P0017</td><td>1289.06</td><td>1160.154</td></tr><tr><td>P0018</td><td>1329.53</td><td>1196.577</td></tr><tr><td>P0019</td><td>230.56</td><td>207.50400000000002</td></tr><tr><td>P0020</td><td>1603.5</td><td>1443.15</td></tr><tr><td>P0021</td><td>361.89</td><td>325.701</td></tr><tr><td>P0022</td><td>73.82</td><td>66.438</td></tr><tr><td>P0023</td><td>1561.78</td><td>1405.602</td></tr><tr><td>P0024</td><td>1422.07</td><td>1279.863</td></tr><tr><td>P0025</td><td>488.67</td><td>439.803</td></tr><tr><td>P0026</td><td>1316.41</td><td>1184.769</td></tr><tr><td>P0027</td><td>939.9</td><td>845.91</td></tr><tr><td>P0028</td><td>1682.91</td><td>1514.6190000000001</td></tr><tr><td>P0029</td><td>1065.49</td><td>958.941</td></tr><tr><td>P0030</td><td>1162.38</td><td>1046.142</td></tr><tr><td>P0031</td><td>774.18</td><td>696.762</td></tr><tr><td>P0032</td><td>1445.21</td><td>1300.689</td></tr><tr><td>P0033</td><td>61.91</td><td>55.719</td></tr><tr><td>P0034</td><td>1843.84</td><td>1659.456</td></tr><tr><td>P0035</td><td>579.76</td><td>521.784</td></tr><tr><td>P0036</td><td>1780.37</td><td>1602.3329999999999</td></tr><tr><td>P0037</td><td>105.28</td><td>94.75200000000001</td></tr><tr><td>P0038</td><td>1156.99</td><td>1041.291</td></tr><tr><td>P0039</td><td>1279.12</td><td>1151.2079999999999</td></tr><tr><td>P0040</td><td>1822.39</td><td>1640.151</td></tr><tr><td>P0041</td><td>459.55</td><td>413.595</td></tr><tr><td>P0042</td><td>1215.78</td><td>1094.202</td></tr><tr><td>P0043</td><td>914.61</td><td>823.149</td></tr><tr><td>P0044</td><td>580.32</td><td>522.288</td></tr><tr><td>P0045</td><td>622.31</td><td>560.079</td></tr><tr><td>P0046</td><td>918.54</td><td>826.686</td></tr><tr><td>P0047</td><td>257.51</td><td>231.759</td></tr><tr><td>P0048</td><td>652.68</td><td>587.4119999999999</td></tr><tr><td>P0049</td><td>819.77</td><td>737.793</td></tr><tr><td>P0050</td><td>1947.16</td><td>1752.4440000000002</td></tr><tr><td>P0051</td><td>1294.33</td><td>1164.897</td></tr><tr><td>P0052</td><td>1190.28</td><td>1071.252</td></tr><tr><td>P0053</td><td>896.22</td><td>806.5980000000001</td></tr><tr><td>P0054</td><td>1346.26</td><td>1211.634</td></tr><tr><td>P0055</td><td>925.39</td><td>832.851</td></tr><tr><td>P0056</td><td>805.91</td><td>725.319</td></tr><tr><td>P0057</td><td>1000.36</td><td>900.3240000000001</td></tr><tr><td>P0058</td><td>1713.86</td><td>1542.474</td></tr><tr><td>P0059</td><td>808.17</td><td>727.353</td></tr><tr><td>P0060</td><td>1230.69</td><td>1107.621</td></tr><tr><td>P0061</td><td>1610.15</td><td>1449.1350000000002</td></tr><tr><td>P0062</td><td>912.72</td><td>821.4480000000001</td></tr><tr><td>P0063</td><td>1876.88</td><td>1689.1920000000002</td></tr><tr><td>P0064</td><td>473.8</td><td>426.42</td></tr><tr><td>P0065</td><td>1472.24</td><td>1325.016</td></tr><tr><td>P0066</td><td>1123.53</td><td>1011.177</td></tr><tr><td>P0067</td><td>144.72</td><td>130.248</td></tr><tr><td>P0068</td><td>1633.64</td><td>1470.276</td></tr><tr><td>P0069</td><td>1165.23</td><td>1048.707</td></tr><tr><td>P0070</td><td>1589.36</td><td>1430.424</td></tr><tr><td>P0071</td><td>1385.04</td><td>1246.536</td></tr><tr><td>P0072</td><td>1198.32</td><td>1078.488</td></tr><tr><td>P0073</td><td>586.19</td><td>527.571</td></tr><tr><td>P0074</td><td>426.99</td><td>384.291</td></tr><tr><td>P0075</td><td>73.74</td><td>66.366</td></tr><tr><td>P0076</td><td>862.73</td><td>776.457</td></tr><tr><td>P0077</td><td>333.16</td><td>299.84400000000005</td></tr><tr><td>P0078</td><td>903.63</td><td>813.267</td></tr><tr><td>P0079</td><td>780.45</td><td>702.4050000000001</td></tr><tr><td>P0080</td><td>1599.68</td><td>1439.712</td></tr><tr><td>P0081</td><td>1697.18</td><td>1527.462</td></tr><tr><td>P0082</td><td>1932.51</td><td>1739.259</td></tr><tr><td>P0083</td><td>1519.05</td><td>1367.145</td></tr><tr><td>P0084</td><td>866.09</td><td>779.481</td></tr><tr><td>P0085</td><td>1863.08</td><td>1676.772</td></tr><tr><td>P0086</td><td>915.44</td><td>823.8960000000001</td></tr><tr><td>P0087</td><td>273.89</td><td>246.501</td></tr><tr><td>P0088</td><td>1482.19</td><td>1333.971</td></tr><tr><td>P0089</td><td>611.31</td><td>550.179</td></tr><tr><td>P0090</td><td>129.87</td><td>116.88300000000001</td></tr><tr><td>P0091</td><td>1683.02</td><td>1514.718</td></tr><tr><td>P0092</td><td>1631.21</td><td>1468.0890000000002</td></tr><tr><td>P0093</td><td>749.33</td><td>674.397</td></tr><tr><td>P0094</td><td>48.71</td><td>43.839</td></tr><tr><td>P0095</td><td>1519.1</td><td>1367.19</td></tr><tr><td>P0096</td><td>1078.42</td><td>970.5780000000001</td></tr><tr><td>P0097</td><td>627.41</td><td>564.669</td></tr><tr><td>P0098</td><td>551.54</td><td>496.38599999999997</td></tr><tr><td>P0099</td><td>1110.7</td><td>999.6300000000001</td></tr><tr><td>P0100</td><td>793.81</td><td>714.429</td></tr><tr><td>P0101</td><td>1106.32</td><td>995.688</td></tr><tr><td>P0102</td><td>1079.69</td><td>971.7210000000001</td></tr><tr><td>P0103</td><td>486.63</td><td>437.967</td></tr><tr><td>P0104</td><td>860.64</td><td>774.576</td></tr><tr><td>P0105</td><td>1200.37</td><td>1080.3329999999999</td></tr><tr><td>P0106</td><td>1100.51</td><td>990.4590000000001</td></tr><tr><td>P0107</td><td>193.45</td><td>174.105</td></tr><tr><td>P0108</td><td>22.3</td><td>20.07</td></tr><tr><td>P0109</td><td>1891.2</td><td>1702.0800000000002</td></tr><tr><td>P0110</td><td>776.77</td><td>699.093</td></tr><tr><td>P0111</td><td>1138.45</td><td>1024.605</td></tr><tr><td>P0112</td><td>1579.73</td><td>1421.757</td></tr><tr><td>P0113</td><td>810.64</td><td>729.576</td></tr><tr><td>P0114</td><td>1178.36</td><td>1060.524</td></tr><tr><td>P0115</td><td>1504.01</td><td>1353.609</td></tr><tr><td>P0116</td><td>287.59</td><td>258.83099999999996</td></tr><tr><td>P0117</td><td>665.49</td><td>598.941</td></tr><tr><td>P0118</td><td>1123.64</td><td>1011.2760000000001</td></tr><tr><td>P0119</td><td>60.42</td><td>54.378</td></tr><tr><td>P0120</td><td>368.47</td><td>331.62300000000005</td></tr><tr><td>P0121</td><td>1959.23</td><td>1763.307</td></tr><tr><td>P0122</td><td>539.16</td><td>485.24399999999997</td></tr><tr><td>P0123</td><td>503.76</td><td>453.384</td></tr><tr><td>P0124</td><td>1857.88</td><td>1672.092</td></tr><tr><td>P0125</td><td>947.43</td><td>852.687</td></tr><tr><td>P0126</td><td>1431.12</td><td>1288.008</td></tr><tr><td>P0127</td><td>1337.38</td><td>1203.642</td></tr><tr><td>P0128</td><td>1935.2</td><td>1741.68</td></tr><tr><td>P0129</td><td>763.99</td><td>687.591</td></tr><tr><td>P0130</td><td>1355.15</td><td>1219.6350000000002</td></tr><tr><td>P0131</td><td>302.22</td><td>271.99800000000005</td></tr><tr><td>P0132</td><td>1194.22</td><td>1074.798</td></tr><tr><td>P0133</td><td>215.63</td><td>194.067</td></tr><tr><td>P0134</td><td>1625.17</td><td>1462.653</td></tr><tr><td>P0135</td><td>669.95</td><td>602.955</td></tr><tr><td>P0136</td><td>48.0</td><td>43.2</td></tr><tr><td>P0137</td><td>1569.19</td><td>1412.2710000000002</td></tr><tr><td>P0138</td><td>452.81</td><td>407.529</td></tr><tr><td>P0139</td><td>399.03</td><td>359.127</td></tr><tr><td>P0140</td><td>116.36</td><td>104.724</td></tr><tr><td>P0141</td><td>1039.71</td><td>935.739</td></tr><tr><td>P0142</td><td>1081.59</td><td>973.4309999999999</td></tr><tr><td>P0143</td><td>1549.15</td><td>1394.2350000000001</td></tr><tr><td>P0144</td><td>769.93</td><td>692.937</td></tr><tr><td>P0145</td><td>453.73</td><td>408.357</td></tr><tr><td>P0146</td><td>1763.2</td><td>1586.88</td></tr><tr><td>P0147</td><td>86.53</td><td>77.87700000000001</td></tr><tr><td>P0148</td><td>435.86</td><td>392.274</td></tr><tr><td>P0149</td><td>793.61</td><td>714.249</td></tr><tr><td>P0150</td><td>1207.54</td><td>1086.786</td></tr><tr><td>P0151</td><td>38.43</td><td>34.587</td></tr><tr><td>P0152</td><td>357.33</td><td>321.597</td></tr><tr><td>P0153</td><td>809.73</td><td>728.7570000000001</td></tr><tr><td>P0154</td><td>1089.28</td><td>980.352</td></tr><tr><td>P0155</td><td>12.35</td><td>11.115</td></tr><tr><td>P0156</td><td>1746.06</td><td>1571.454</td></tr><tr><td>P0157</td><td>825.91</td><td>743.319</td></tr><tr><td>P0158</td><td>1286.8</td><td>1158.12</td></tr><tr><td>P0159</td><td>674.29</td><td>606.861</td></tr><tr><td>P0160</td><td>1542.46</td><td>1388.2140000000002</td></tr><tr><td>P0161</td><td>906.6</td><td>815.94</td></tr><tr><td>P0162</td><td>417.67</td><td>375.903</td></tr><tr><td>P0163</td><td>1307.14</td><td>1176.4260000000002</td></tr><tr><td>P0164</td><td>535.06</td><td>481.554</td></tr><tr><td>P0165</td><td>1971.77</td><td>1774.593</td></tr><tr><td>P0166</td><td>62.19</td><td>55.971</td></tr><tr><td>P0167</td><td>1666.23</td><td>1499.607</td></tr><tr><td>P0168</td><td>1006.63</td><td>905.967</td></tr><tr><td>P0169</td><td>1267.42</td><td>1140.678</td></tr><tr><td>P0170</td><td>329.25</td><td>296.325</td></tr><tr><td>P0171</td><td>1557.09</td><td>1401.3809999999999</td></tr><tr><td>P0172</td><td>1759.47</td><td>1583.5230000000001</td></tr><tr><td>P0173</td><td>930.78</td><td>837.702</td></tr><tr><td>P0174</td><td>81.55</td><td>73.395</td></tr><tr><td>P0175</td><td>364.2</td><td>327.78</td></tr><tr><td>P0176</td><td>824.82</td><td>742.3380000000001</td></tr><tr><td>P0177</td><td>1241.26</td><td>1117.134</td></tr><tr><td>P0178</td><td>743.65</td><td>669.285</td></tr><tr><td>P0179</td><td>1950.04</td><td>1755.036</td></tr><tr><td>P0180</td><td>141.37</td><td>127.233</td></tr><tr><td>P0181</td><td>1935.07</td><td>1741.5629999999999</td></tr><tr><td>P0182</td><td>1661.22</td><td>1495.098</td></tr><tr><td>P0183</td><td>762.15</td><td>685.935</td></tr><tr><td>P0184</td><td>1003.71</td><td>903.339</td></tr><tr><td>P0185</td><td>1595.17</td><td>1435.653</td></tr><tr><td>P0186</td><td>231.03</td><td>207.927</td></tr><tr><td>P0187</td><td>38.88</td><td>34.992000000000004</td></tr><tr><td>P0188</td><td>1582.57</td><td>1424.3129999999999</td></tr><tr><td>P0189</td><td>641.08</td><td>576.9720000000001</td></tr><tr><td>P0190</td><td>686.04</td><td>617.436</td></tr><tr><td>P0191</td><td>112.38</td><td>101.142</td></tr><tr><td>P0192</td><td>942.81</td><td>848.529</td></tr><tr><td>P0193</td><td>1238.31</td><td>1114.479</td></tr><tr><td>P0194</td><td>1814.74</td><td>1633.266</td></tr><tr><td>P0195</td><td>937.18</td><td>843.462</td></tr><tr><td>P0196</td><td>1159.15</td><td>1043.2350000000001</td></tr><tr><td>P0197</td><td>1564.84</td><td>1408.356</td></tr><tr><td>P0198</td><td>628.47</td><td>565.623</td></tr><tr><td>P0199</td><td>1368.51</td><td>1231.659</td></tr><tr><td>P0200</td><td>692.12</td><td>622.908</td></tr><tr><td>P0201</td><td>1573.37</td><td>1416.033</td></tr><tr><td>P0202</td><td>1953.99</td><td>1758.5910000000001</td></tr><tr><td>P0203</td><td>1016.57</td><td>914.913</td></tr><tr><td>P0204</td><td>1734.6</td><td>1561.1399999999999</td></tr><tr><td>P0205</td><td>478.82</td><td>430.938</td></tr><tr><td>P0206</td><td>375.49</td><td>337.94100000000003</td></tr><tr><td>P0207</td><td>230.41</td><td>207.369</td></tr><tr><td>P0208</td><td>754.39</td><td>678.951</td></tr><tr><td>P0209</td><td>1070.99</td><td>963.8910000000001</td></tr><tr><td>P0210</td><td>863.71</td><td>777.339</td></tr><tr><td>P0211</td><td>1051.35</td><td>946.2149999999999</td></tr><tr><td>P0212</td><td>1766.16</td><td>1589.544</td></tr><tr><td>P0213</td><td>1528.21</td><td>1375.3890000000001</td></tr><tr><td>P0214</td><td>1725.81</td><td>1553.229</td></tr><tr><td>P0215</td><td>1678.45</td><td>1510.605</td></tr><tr><td>P0216</td><td>1526.03</td><td>1373.427</td></tr><tr><td>P0217</td><td>1460.22</td><td>1314.198</td></tr><tr><td>P0218</td><td>207.67</td><td>186.903</td></tr><tr><td>P0219</td><td>996.21</td><td>896.589</td></tr><tr><td>P0220</td><td>1354.7</td><td>1219.23</td></tr><tr><td>P0221</td><td>1205.37</td><td>1084.8329999999999</td></tr><tr><td>P0222</td><td>977.33</td><td>879.5970000000001</td></tr><tr><td>P0223</td><td>1292.39</td><td>1163.151</td></tr><tr><td>P0224</td><td>1153.17</td><td>1037.853</td></tr><tr><td>P0225</td><td>551.26</td><td>496.134</td></tr><tr><td>P0226</td><td>1668.89</td><td>1502.0010000000002</td></tr><tr><td>P0227</td><td>449.11</td><td>404.199</td></tr><tr><td>P0228</td><td>317.83</td><td>286.04699999999997</td></tr><tr><td>P0229</td><td>1399.43</td><td>1259.487</td></tr><tr><td>P0230</td><td>1163.64</td><td>1047.276</td></tr><tr><td>P0231</td><td>781.81</td><td>703.629</td></tr><tr><td>P0232</td><td>896.07</td><td>806.4630000000001</td></tr><tr><td>P0233</td><td>901.28</td><td>811.152</td></tr><tr><td>P0234</td><td>1231.55</td><td>1108.395</td></tr><tr><td>P0235</td><td>1297.8</td><td>1168.02</td></tr><tr><td>P0236</td><td>951.74</td><td>856.566</td></tr><tr><td>P0237</td><td>164.53</td><td>148.077</td></tr><tr><td>P0238</td><td>1358.99</td><td>1223.0910000000001</td></tr><tr><td>P0239</td><td>1612.58</td><td>1451.322</td></tr><tr><td>P0240</td><td>1648.93</td><td>1484.037</td></tr><tr><td>P0241</td><td>1531.37</td><td>1378.233</td></tr><tr><td>P0242</td><td>412.59</td><td>371.33099999999996</td></tr><tr><td>P0243</td><td>1875.22</td><td>1687.698</td></tr><tr><td>P0244</td><td>1843.58</td><td>1659.222</td></tr><tr><td>P0245</td><td>270.43</td><td>243.387</td></tr><tr><td>P0246</td><td>1449.57</td><td>1304.613</td></tr><tr><td>P0247</td><td>825.1</td><td>742.59</td></tr><tr><td>P0248</td><td>1200.32</td><td>1080.288</td></tr><tr><td>P0249</td><td>1536.54</td><td>1382.886</td></tr><tr><td>P0250</td><td>710.82</td><td>639.738</td></tr><tr><td>P0251</td><td>28.65</td><td>25.785</td></tr><tr><td>P0252</td><td>1957.38</td><td>1761.642</td></tr><tr><td>P0253</td><td>226.44</td><td>203.796</td></tr><tr><td>P0254</td><td>503.61</td><td>453.249</td></tr><tr><td>P0255</td><td>154.4</td><td>138.96</td></tr><tr><td>P0256</td><td>882.48</td><td>794.2320000000001</td></tr><tr><td>P0257</td><td>944.89</td><td>850.401</td></tr><tr><td>P0258</td><td>1423.91</td><td>1281.519</td></tr><tr><td>P0259</td><td>1484.64</td><td>1336.1760000000002</td></tr><tr><td>P0260</td><td>1255.56</td><td>1130.004</td></tr><tr><td>P0261</td><td>203.78</td><td>183.40200000000002</td></tr><tr><td>P0262</td><td>885.15</td><td>796.635</td></tr><tr><td>P0263</td><td>371.19</td><td>334.071</td></tr><tr><td>P0264</td><td>1030.44</td><td>927.3960000000001</td></tr><tr><td>P0265</td><td>1216.14</td><td>1094.526</td></tr><tr><td>P0266</td><td>324.37</td><td>291.933</td></tr><tr><td>P0267</td><td>1772.83</td><td>1595.547</td></tr><tr><td>P0268</td><td>631.29</td><td>568.161</td></tr><tr><td>P0269</td><td>1192.68</td><td>1073.412</td></tr><tr><td>P0270</td><td>611.71</td><td>550.5390000000001</td></tr><tr><td>P0271</td><td>1362.74</td><td>1226.4660000000001</td></tr><tr><td>P0272</td><td>1472.29</td><td>1325.061</td></tr><tr><td>P0273</td><td>146.58</td><td>131.92200000000003</td></tr><tr><td>P0274</td><td>1128.5</td><td>1015.65</td></tr><tr><td>P0275</td><td>1478.58</td><td>1330.722</td></tr><tr><td>P0276</td><td>1155.12</td><td>1039.608</td></tr><tr><td>P0277</td><td>63.16</td><td>56.844</td></tr><tr><td>P0278</td><td>414.78</td><td>373.30199999999996</td></tr><tr><td>P0279</td><td>1619.24</td><td>1457.316</td></tr><tr><td>P0280</td><td>566.91</td><td>510.219</td></tr><tr><td>P0281</td><td>188.55</td><td>169.69500000000002</td></tr><tr><td>P0282</td><td>69.59</td><td>62.63100000000001</td></tr><tr><td>P0283</td><td>474.49</td><td>427.041</td></tr><tr><td>P0284</td><td>352.26</td><td>317.034</td></tr><tr><td>P0285</td><td>1123.4</td><td>1011.0600000000001</td></tr><tr><td>P0286</td><td>1164.64</td><td>1048.1760000000002</td></tr><tr><td>P0287</td><td>1084.4</td><td>975.9600000000002</td></tr><tr><td>P0288</td><td>1486.02</td><td>1337.4180000000001</td></tr><tr><td>P0289</td><td>1780.19</td><td>1602.171</td></tr><tr><td>P0290</td><td>919.28</td><td>827.352</td></tr><tr><td>P0291</td><td>890.9</td><td>801.81</td></tr><tr><td>P0292</td><td>1339.35</td><td>1205.415</td></tr><tr><td>P0293</td><td>107.68</td><td>96.912</td></tr><tr><td>P0294</td><td>1054.65</td><td>949.1850000000001</td></tr><tr><td>P0295</td><td>1938.35</td><td>1744.5149999999999</td></tr><tr><td>P0296</td><td>1738.65</td><td>1564.785</td></tr><tr><td>P0297</td><td>859.64</td><td>773.676</td></tr><tr><td>P0298</td><td>1571.12</td><td>1414.008</td></tr><tr><td>P0299</td><td>1170.51</td><td>1053.459</td></tr><tr><td>P0300</td><td>1741.53</td><td>1567.377</td></tr><tr><td>P0301</td><td>1005.47</td><td>904.923</td></tr><tr><td>P0302</td><td>1017.38</td><td>915.642</td></tr><tr><td>P0303</td><td>1052.48</td><td>947.2320000000001</td></tr><tr><td>P0304</td><td>1039.68</td><td>935.7120000000001</td></tr><tr><td>P0305</td><td>1089.74</td><td>980.7660000000001</td></tr><tr><td>P0306</td><td>140.5</td><td>126.45</td></tr><tr><td>P0307</td><td>1923.44</td><td>1731.096</td></tr><tr><td>P0308</td><td>187.35</td><td>168.615</td></tr><tr><td>P0309</td><td>445.2</td><td>400.68</td></tr><tr><td>P0310</td><td>704.08</td><td>633.672</td></tr><tr><td>P0311</td><td>454.3</td><td>408.87</td></tr><tr><td>P0312</td><td>1500.97</td><td>1350.873</td></tr><tr><td>P0313</td><td>985.34</td><td>886.806</td></tr><tr><td>P0314</td><td>599.47</td><td>539.523</td></tr><tr><td>P0315</td><td>1703.11</td><td>1532.799</td></tr><tr><td>P0316</td><td>605.68</td><td>545.112</td></tr><tr><td>P0317</td><td>1174.72</td><td>1057.248</td></tr><tr><td>P0318</td><td>824.7</td><td>742.23</td></tr><tr><td>P0319</td><td>1494.78</td><td>1345.302</td></tr><tr><td>P0320</td><td>491.43</td><td>442.28700000000003</td></tr><tr><td>P0321</td><td>1631.26</td><td>1468.134</td></tr><tr><td>P0322</td><td>1731.88</td><td>1558.6920000000002</td></tr><tr><td>P0323</td><td>1248.81</td><td>1123.929</td></tr><tr><td>P0324</td><td>1819.96</td><td>1637.9640000000002</td></tr><tr><td>P0325</td><td>1361.28</td><td>1225.152</td></tr><tr><td>P0326</td><td>1688.79</td><td>1519.911</td></tr><tr><td>P0327</td><td>943.0</td><td>848.7</td></tr><tr><td>P0328</td><td>1928.38</td><td>1735.5420000000001</td></tr><tr><td>P0329</td><td>1295.37</td><td>1165.8329999999999</td></tr><tr><td>P0330</td><td>1241.75</td><td>1117.575</td></tr><tr><td>P0331</td><td>1528.85</td><td>1375.965</td></tr><tr><td>P0332</td><td>1369.33</td><td>1232.397</td></tr><tr><td>P0333</td><td>1892.24</td><td>1703.016</td></tr><tr><td>P0334</td><td>1560.27</td><td>1404.243</td></tr><tr><td>P0335</td><td>1352.39</td><td>1217.151</td></tr><tr><td>P0336</td><td>222.93</td><td>200.637</td></tr><tr><td>P0337</td><td>1968.32</td><td>1771.488</td></tr><tr><td>P0338</td><td>1844.1</td><td>1659.69</td></tr><tr><td>P0339</td><td>1321.67</td><td>1189.5030000000002</td></tr><tr><td>P0340</td><td>1635.48</td><td>1471.932</td></tr><tr><td>P0341</td><td>1333.84</td><td>1200.456</td></tr><tr><td>P0342</td><td>125.97</td><td>113.373</td></tr><tr><td>P0343</td><td>539.06</td><td>485.15399999999994</td></tr><tr><td>P0344</td><td>1118.86</td><td>1006.9739999999999</td></tr><tr><td>P0345</td><td>1366.77</td><td>1230.093</td></tr><tr><td>P0346</td><td>84.09</td><td>75.68100000000001</td></tr><tr><td>P0347</td><td>452.69</td><td>407.421</td></tr><tr><td>P0348</td><td>958.75</td><td>862.875</td></tr><tr><td>P0349</td><td>1059.73</td><td>953.7570000000001</td></tr><tr><td>P0350</td><td>758.98</td><td>683.082</td></tr><tr><td>P0351</td><td>390.64</td><td>351.576</td></tr><tr><td>P0352</td><td>1226.91</td><td>1104.219</td></tr><tr><td>P0353</td><td>1464.67</td><td>1318.2030000000002</td></tr><tr><td>P0354</td><td>289.67</td><td>260.70300000000003</td></tr><tr><td>P0355</td><td>1804.42</td><td>1623.978</td></tr><tr><td>P0356</td><td>97.91</td><td>88.119</td></tr><tr><td>P0357</td><td>1705.13</td><td>1534.6170000000002</td></tr><tr><td>P0358</td><td>1175.18</td><td>1057.662</td></tr><tr><td>P0359</td><td>660.84</td><td>594.7560000000001</td></tr><tr><td>P0360</td><td>175.53</td><td>157.977</td></tr><tr><td>P0361</td><td>1572.29</td><td>1415.061</td></tr><tr><td>P0362</td><td>1555.65</td><td>1400.085</td></tr><tr><td>P0363</td><td>758.11</td><td>682.299</td></tr><tr><td>P0364</td><td>930.34</td><td>837.306</td></tr><tr><td>P0365</td><td>1542.85</td><td>1388.565</td></tr><tr><td>P0366</td><td>1008.85</td><td>907.965</td></tr><tr><td>P0367</td><td>776.79</td><td>699.111</td></tr><tr><td>P0368</td><td>138.37</td><td>124.533</td></tr><tr><td>P0369</td><td>1954.77</td><td>1759.2930000000001</td></tr><tr><td>P0370</td><td>1000.0</td><td>900.0</td></tr><tr><td>P0371</td><td>1479.94</td><td>1331.9460000000001</td></tr><tr><td>P0372</td><td>1242.11</td><td>1117.899</td></tr><tr><td>P0373</td><td>1858.79</td><td>1672.911</td></tr><tr><td>P0374</td><td>1676.32</td><td>1508.6879999999999</td></tr><tr><td>P0375</td><td>412.3</td><td>371.07</td></tr><tr><td>P0376</td><td>1860.84</td><td>1674.7559999999999</td></tr><tr><td>P0377</td><td>1298.87</td><td>1168.983</td></tr><tr><td>P0378</td><td>1677.01</td><td>1509.309</td></tr><tr><td>P0379</td><td>1028.64</td><td>925.7760000000001</td></tr><tr><td>P0380</td><td>1721.21</td><td>1549.0890000000002</td></tr><tr><td>P0381</td><td>1203.96</td><td>1083.564</td></tr><tr><td>P0382</td><td>713.46</td><td>642.114</td></tr><tr><td>P0383</td><td>180.91</td><td>162.819</td></tr><tr><td>P0384</td><td>86.38</td><td>77.742</td></tr><tr><td>P0385</td><td>1924.73</td><td>1732.257</td></tr><tr><td>P0386</td><td>1294.16</td><td>1164.7440000000001</td></tr><tr><td>P0387</td><td>1648.43</td><td>1483.587</td></tr><tr><td>P0388</td><td>922.07</td><td>829.863</td></tr><tr><td>P0389</td><td>458.59</td><td>412.731</td></tr><tr><td>P0390</td><td>867.57</td><td>780.8130000000001</td></tr><tr><td>P0391</td><td>1392.3</td><td>1253.07</td></tr><tr><td>P0392</td><td>892.97</td><td>803.673</td></tr><tr><td>P0393</td><td>1619.98</td><td>1457.982</td></tr><tr><td>P0394</td><td>926.57</td><td>833.913</td></tr><tr><td>P0395</td><td>1758.5</td><td>1582.65</td></tr><tr><td>P0396</td><td>1566.87</td><td>1410.183</td></tr><tr><td>P0397</td><td>1877.24</td><td>1689.516</td></tr><tr><td>P0398</td><td>1825.42</td><td>1642.8780000000002</td></tr><tr><td>P0399</td><td>1135.56</td><td>1022.004</td></tr><tr><td>P0400</td><td>835.22</td><td>751.6980000000001</td></tr><tr><td>P0401</td><td>392.57</td><td>353.313</td></tr><tr><td>P0402</td><td>47.46</td><td>42.714</td></tr><tr><td>P0403</td><td>1744.03</td><td>1569.627</td></tr><tr><td>P0404</td><td>967.18</td><td>870.462</td></tr><tr><td>P0405</td><td>1225.32</td><td>1102.788</td></tr><tr><td>P0406</td><td>584.74</td><td>526.2660000000001</td></tr><tr><td>P0407</td><td>584.71</td><td>526.239</td></tr><tr><td>P0408</td><td>1167.48</td><td>1050.732</td></tr><tr><td>P0409</td><td>890.11</td><td>801.099</td></tr><tr><td>P0410</td><td>373.46</td><td>336.114</td></tr><tr><td>P0411</td><td>873.95</td><td>786.5550000000001</td></tr><tr><td>P0412</td><td>129.25</td><td>116.325</td></tr><tr><td>P0413</td><td>342.07</td><td>307.863</td></tr><tr><td>P0414</td><td>1456.9</td><td>1311.21</td></tr><tr><td>P0415</td><td>1821.91</td><td>1639.719</td></tr><tr><td>P0416</td><td>427.5</td><td>384.75</td></tr><tr><td>P0417</td><td>111.34</td><td>100.206</td></tr><tr><td>P0418</td><td>1844.36</td><td>1659.924</td></tr><tr><td>P0419</td><td>629.71</td><td>566.739</td></tr><tr><td>P0420</td><td>49.6</td><td>44.64</td></tr><tr><td>P0421</td><td>1520.45</td><td>1368.405</td></tr><tr><td>P0422</td><td>184.69</td><td>166.221</td></tr><tr><td>P0423</td><td>990.07</td><td>891.0630000000001</td></tr><tr><td>P0424</td><td>1141.78</td><td>1027.602</td></tr><tr><td>P0425</td><td>1822.03</td><td>1639.827</td></tr><tr><td>P0426</td><td>1956.82</td><td>1761.138</td></tr><tr><td>P0427</td><td>1967.84</td><td>1771.056</td></tr><tr><td>P0428</td><td>1582.19</td><td>1423.971</td></tr><tr><td>P0429</td><td>1734.0</td><td>1560.6000000000001</td></tr><tr><td>P0430</td><td>1386.32</td><td>1247.6879999999999</td></tr><tr><td>P0431</td><td>682.1</td><td>613.89</td></tr><tr><td>P0432</td><td>1287.08</td><td>1158.372</td></tr><tr><td>P0433</td><td>1123.66</td><td>1011.2940000000001</td></tr><tr><td>P0434</td><td>1689.45</td><td>1520.505</td></tr><tr><td>P0435</td><td>1902.58</td><td>1712.322</td></tr><tr><td>P0436</td><td>1781.45</td><td>1603.305</td></tr><tr><td>P0437</td><td>465.4</td><td>418.86</td></tr><tr><td>P0438</td><td>1309.15</td><td>1178.2350000000001</td></tr><tr><td>P0439</td><td>1174.39</td><td>1056.951</td></tr><tr><td>P0440</td><td>1983.25</td><td>1784.925</td></tr><tr><td>P0441</td><td>1300.71</td><td>1170.6390000000001</td></tr><tr><td>P0442</td><td>1811.22</td><td>1630.098</td></tr><tr><td>P0443</td><td>685.07</td><td>616.5630000000001</td></tr><tr><td>P0444</td><td>655.62</td><td>590.058</td></tr><tr><td>P0445</td><td>792.65</td><td>713.385</td></tr><tr><td>P0446</td><td>1016.83</td><td>915.147</td></tr><tr><td>P0447</td><td>915.77</td><td>824.193</td></tr><tr><td>P0448</td><td>1264.88</td><td>1138.392</td></tr><tr><td>P0449</td><td>188.96</td><td>170.06400000000002</td></tr><tr><td>P0450</td><td>985.83</td><td>887.2470000000001</td></tr><tr><td>P0451</td><td>1663.54</td><td>1497.186</td></tr><tr><td>P0452</td><td>1462.41</td><td>1316.169</td></tr><tr><td>P0453</td><td>250.33</td><td>225.29700000000003</td></tr><tr><td>P0454</td><td>324.49</td><td>292.041</td></tr><tr><td>P0455</td><td>1884.65</td><td>1696.1850000000002</td></tr><tr><td>P0456</td><td>1904.87</td><td>1714.383</td></tr><tr><td>P0457</td><td>1731.23</td><td>1558.107</td></tr><tr><td>P0458</td><td>629.24</td><td>566.316</td></tr><tr><td>P0459</td><td>1208.62</td><td>1087.758</td></tr><tr><td>P0460</td><td>1327.98</td><td>1195.182</td></tr><tr><td>P0461</td><td>1367.65</td><td>1230.8850000000002</td></tr><tr><td>P0462</td><td>1909.36</td><td>1718.424</td></tr><tr><td>P0463</td><td>293.1</td><td>263.79</td></tr><tr><td>P0464</td><td>638.63</td><td>574.767</td></tr><tr><td>P0465</td><td>151.23</td><td>136.107</td></tr><tr><td>P0466</td><td>1305.34</td><td>1174.806</td></tr><tr><td>P0467</td><td>15.91</td><td>14.319</td></tr><tr><td>P0468</td><td>1530.08</td><td>1377.072</td></tr><tr><td>P0469</td><td>98.6</td><td>88.74</td></tr><tr><td>P0470</td><td>649.66</td><td>584.694</td></tr><tr><td>P0471</td><td>20.68</td><td>18.612000000000002</td></tr><tr><td>P0472</td><td>1409.94</td><td>1268.9460000000001</td></tr><tr><td>P0473</td><td>1878.18</td><td>1690.362</td></tr><tr><td>P0474</td><td>1287.26</td><td>1158.534</td></tr><tr><td>P0475</td><td>964.94</td><td>868.446</td></tr><tr><td>P0476</td><td>259.13</td><td>233.217</td></tr><tr><td>P0477</td><td>917.67</td><td>825.903</td></tr><tr><td>P0478</td><td>630.56</td><td>567.504</td></tr><tr><td>P0479</td><td>567.29</td><td>510.561</td></tr><tr><td>P0480</td><td>492.92</td><td>443.62800000000004</td></tr><tr><td>P0481</td><td>1554.11</td><td>1398.6989999999998</td></tr><tr><td>P0482</td><td>1675.86</td><td>1508.274</td></tr><tr><td>P0483</td><td>877.18</td><td>789.462</td></tr><tr><td>P0484</td><td>1397.57</td><td>1257.8129999999999</td></tr><tr><td>P0485</td><td>535.31</td><td>481.77899999999994</td></tr><tr><td>P0486</td><td>315.25</td><td>283.725</td></tr><tr><td>P0487</td><td>1666.94</td><td>1500.246</td></tr><tr><td>P0488</td><td>1316.67</td><td>1185.0030000000002</td></tr><tr><td>P0489</td><td>1923.44</td><td>1731.096</td></tr><tr><td>P0490</td><td>1718.72</td><td>1546.848</td></tr><tr><td>P0491</td><td>1602.21</td><td>1441.989</td></tr><tr><td>P0492</td><td>121.07</td><td>108.963</td></tr><tr><td>P0493</td><td>295.7</td><td>266.13</td></tr><tr><td>P0494</td><td>1913.83</td><td>1722.447</td></tr><tr><td>P0495</td><td>561.99</td><td>505.791</td></tr><tr><td>P0496</td><td>137.62</td><td>123.858</td></tr><tr><td>P0497</td><td>930.59</td><td>837.5310000000001</td></tr><tr><td>P0498</td><td>1990.58</td><td>1791.522</td></tr><tr><td>P0499</td><td>1774.16</td><td>1596.7440000000001</td></tr><tr><td>P0500</td><td>322.4</td><td>290.15999999999997</td></tr></tbody></table></div>"
      ]
     },
     "metadata": {
      "application/vnd.databricks.v1+output": {
       "addedWidgets": {},
       "aggData": [],
       "aggError": "",
       "aggOverflow": false,
       "aggSchema": [],
       "aggSeriesLimitReached": false,
       "aggType": "",
       "arguments": {},
       "columnCustomDisplayInfos": {},
       "data": [
        [
         "P0001",
         1868.54,
         1681.686
        ],
        [
         "P0002",
         587.13,
         528.417
        ],
        [
         "P0003",
         1599.24,
         1439.316
        ],
        [
         "P0004",
         651.71,
         586.5390000000001
        ],
        [
         "P0005",
         1861.78,
         1675.602
        ],
        [
         "P0006",
         936.36,
         842.724
        ],
        [
         "P0007",
         1954.02,
         1758.618
        ],
        [
         "P0008",
         1251.26,
         1126.134
        ],
        [
         "P0009",
         1247.15,
         1122.4350000000002
        ],
        [
         "P0010",
         975.53,
         877.977
        ],
        [
         "P0011",
         1475.31,
         1327.779
        ],
        [
         "P0012",
         624.61,
         562.149
        ],
        [
         "P0013",
         384.99,
         346.49100000000004
        ],
        [
         "P0014",
         32.2,
         28.980000000000004
        ],
        [
         "P0015",
         1459.2,
         1313.28
        ],
        [
         "P0016",
         1594.08,
         1434.672
        ],
        [
         "P0017",
         1289.06,
         1160.154
        ],
        [
         "P0018",
         1329.53,
         1196.577
        ],
        [
         "P0019",
         230.56,
         207.50400000000002
        ],
        [
         "P0020",
         1603.5,
         1443.15
        ],
        [
         "P0021",
         361.89,
         325.701
        ],
        [
         "P0022",
         73.82,
         66.438
        ],
        [
         "P0023",
         1561.78,
         1405.602
        ],
        [
         "P0024",
         1422.07,
         1279.863
        ],
        [
         "P0025",
         488.67,
         439.803
        ],
        [
         "P0026",
         1316.41,
         1184.769
        ],
        [
         "P0027",
         939.9,
         845.91
        ],
        [
         "P0028",
         1682.91,
         1514.6190000000001
        ],
        [
         "P0029",
         1065.49,
         958.941
        ],
        [
         "P0030",
         1162.38,
         1046.142
        ],
        [
         "P0031",
         774.18,
         696.762
        ],
        [
         "P0032",
         1445.21,
         1300.689
        ],
        [
         "P0033",
         61.91,
         55.719
        ],
        [
         "P0034",
         1843.84,
         1659.456
        ],
        [
         "P0035",
         579.76,
         521.784
        ],
        [
         "P0036",
         1780.37,
         1602.3329999999999
        ],
        [
         "P0037",
         105.28,
         94.75200000000001
        ],
        [
         "P0038",
         1156.99,
         1041.291
        ],
        [
         "P0039",
         1279.12,
         1151.2079999999999
        ],
        [
         "P0040",
         1822.39,
         1640.151
        ],
        [
         "P0041",
         459.55,
         413.595
        ],
        [
         "P0042",
         1215.78,
         1094.202
        ],
        [
         "P0043",
         914.61,
         823.149
        ],
        [
         "P0044",
         580.32,
         522.288
        ],
        [
         "P0045",
         622.31,
         560.079
        ],
        [
         "P0046",
         918.54,
         826.686
        ],
        [
         "P0047",
         257.51,
         231.759
        ],
        [
         "P0048",
         652.68,
         587.4119999999999
        ],
        [
         "P0049",
         819.77,
         737.793
        ],
        [
         "P0050",
         1947.16,
         1752.4440000000002
        ],
        [
         "P0051",
         1294.33,
         1164.897
        ],
        [
         "P0052",
         1190.28,
         1071.252
        ],
        [
         "P0053",
         896.22,
         806.5980000000001
        ],
        [
         "P0054",
         1346.26,
         1211.634
        ],
        [
         "P0055",
         925.39,
         832.851
        ],
        [
         "P0056",
         805.91,
         725.319
        ],
        [
         "P0057",
         1000.36,
         900.3240000000001
        ],
        [
         "P0058",
         1713.86,
         1542.474
        ],
        [
         "P0059",
         808.17,
         727.353
        ],
        [
         "P0060",
         1230.69,
         1107.621
        ],
        [
         "P0061",
         1610.15,
         1449.1350000000002
        ],
        [
         "P0062",
         912.72,
         821.4480000000001
        ],
        [
         "P0063",
         1876.88,
         1689.1920000000002
        ],
        [
         "P0064",
         473.8,
         426.42
        ],
        [
         "P0065",
         1472.24,
         1325.016
        ],
        [
         "P0066",
         1123.53,
         1011.177
        ],
        [
         "P0067",
         144.72,
         130.248
        ],
        [
         "P0068",
         1633.64,
         1470.276
        ],
        [
         "P0069",
         1165.23,
         1048.707
        ],
        [
         "P0070",
         1589.36,
         1430.424
        ],
        [
         "P0071",
         1385.04,
         1246.536
        ],
        [
         "P0072",
         1198.32,
         1078.488
        ],
        [
         "P0073",
         586.19,
         527.571
        ],
        [
         "P0074",
         426.99,
         384.291
        ],
        [
         "P0075",
         73.74,
         66.366
        ],
        [
         "P0076",
         862.73,
         776.457
        ],
        [
         "P0077",
         333.16,
         299.84400000000005
        ],
        [
         "P0078",
         903.63,
         813.267
        ],
        [
         "P0079",
         780.45,
         702.4050000000001
        ],
        [
         "P0080",
         1599.68,
         1439.712
        ],
        [
         "P0081",
         1697.18,
         1527.462
        ],
        [
         "P0082",
         1932.51,
         1739.259
        ],
        [
         "P0083",
         1519.05,
         1367.145
        ],
        [
         "P0084",
         866.09,
         779.481
        ],
        [
         "P0085",
         1863.08,
         1676.772
        ],
        [
         "P0086",
         915.44,
         823.8960000000001
        ],
        [
         "P0087",
         273.89,
         246.501
        ],
        [
         "P0088",
         1482.19,
         1333.971
        ],
        [
         "P0089",
         611.31,
         550.179
        ],
        [
         "P0090",
         129.87,
         116.88300000000001
        ],
        [
         "P0091",
         1683.02,
         1514.718
        ],
        [
         "P0092",
         1631.21,
         1468.0890000000002
        ],
        [
         "P0093",
         749.33,
         674.397
        ],
        [
         "P0094",
         48.71,
         43.839
        ],
        [
         "P0095",
         1519.1,
         1367.19
        ],
        [
         "P0096",
         1078.42,
         970.5780000000001
        ],
        [
         "P0097",
         627.41,
         564.669
        ],
        [
         "P0098",
         551.54,
         496.38599999999997
        ],
        [
         "P0099",
         1110.7,
         999.6300000000001
        ],
        [
         "P0100",
         793.81,
         714.429
        ],
        [
         "P0101",
         1106.32,
         995.688
        ],
        [
         "P0102",
         1079.69,
         971.7210000000001
        ],
        [
         "P0103",
         486.63,
         437.967
        ],
        [
         "P0104",
         860.64,
         774.576
        ],
        [
         "P0105",
         1200.37,
         1080.3329999999999
        ],
        [
         "P0106",
         1100.51,
         990.4590000000001
        ],
        [
         "P0107",
         193.45,
         174.105
        ],
        [
         "P0108",
         22.3,
         20.07
        ],
        [
         "P0109",
         1891.2,
         1702.0800000000002
        ],
        [
         "P0110",
         776.77,
         699.093
        ],
        [
         "P0111",
         1138.45,
         1024.605
        ],
        [
         "P0112",
         1579.73,
         1421.757
        ],
        [
         "P0113",
         810.64,
         729.576
        ],
        [
         "P0114",
         1178.36,
         1060.524
        ],
        [
         "P0115",
         1504.01,
         1353.609
        ],
        [
         "P0116",
         287.59,
         258.83099999999996
        ],
        [
         "P0117",
         665.49,
         598.941
        ],
        [
         "P0118",
         1123.64,
         1011.2760000000001
        ],
        [
         "P0119",
         60.42,
         54.378
        ],
        [
         "P0120",
         368.47,
         331.62300000000005
        ],
        [
         "P0121",
         1959.23,
         1763.307
        ],
        [
         "P0122",
         539.16,
         485.24399999999997
        ],
        [
         "P0123",
         503.76,
         453.384
        ],
        [
         "P0124",
         1857.88,
         1672.092
        ],
        [
         "P0125",
         947.43,
         852.687
        ],
        [
         "P0126",
         1431.12,
         1288.008
        ],
        [
         "P0127",
         1337.38,
         1203.642
        ],
        [
         "P0128",
         1935.2,
         1741.68
        ],
        [
         "P0129",
         763.99,
         687.591
        ],
        [
         "P0130",
         1355.15,
         1219.6350000000002
        ],
        [
         "P0131",
         302.22,
         271.99800000000005
        ],
        [
         "P0132",
         1194.22,
         1074.798
        ],
        [
         "P0133",
         215.63,
         194.067
        ],
        [
         "P0134",
         1625.17,
         1462.653
        ],
        [
         "P0135",
         669.95,
         602.955
        ],
        [
         "P0136",
         48.0,
         43.2
        ],
        [
         "P0137",
         1569.19,
         1412.2710000000002
        ],
        [
         "P0138",
         452.81,
         407.529
        ],
        [
         "P0139",
         399.03,
         359.127
        ],
        [
         "P0140",
         116.36,
         104.724
        ],
        [
         "P0141",
         1039.71,
         935.739
        ],
        [
         "P0142",
         1081.59,
         973.4309999999999
        ],
        [
         "P0143",
         1549.15,
         1394.2350000000001
        ],
        [
         "P0144",
         769.93,
         692.937
        ],
        [
         "P0145",
         453.73,
         408.357
        ],
        [
         "P0146",
         1763.2,
         1586.88
        ],
        [
         "P0147",
         86.53,
         77.87700000000001
        ],
        [
         "P0148",
         435.86,
         392.274
        ],
        [
         "P0149",
         793.61,
         714.249
        ],
        [
         "P0150",
         1207.54,
         1086.786
        ],
        [
         "P0151",
         38.43,
         34.587
        ],
        [
         "P0152",
         357.33,
         321.597
        ],
        [
         "P0153",
         809.73,
         728.7570000000001
        ],
        [
         "P0154",
         1089.28,
         980.352
        ],
        [
         "P0155",
         12.35,
         11.115
        ],
        [
         "P0156",
         1746.06,
         1571.454
        ],
        [
         "P0157",
         825.91,
         743.319
        ],
        [
         "P0158",
         1286.8,
         1158.12
        ],
        [
         "P0159",
         674.29,
         606.861
        ],
        [
         "P0160",
         1542.46,
         1388.2140000000002
        ],
        [
         "P0161",
         906.6,
         815.94
        ],
        [
         "P0162",
         417.67,
         375.903
        ],
        [
         "P0163",
         1307.14,
         1176.4260000000002
        ],
        [
         "P0164",
         535.06,
         481.554
        ],
        [
         "P0165",
         1971.77,
         1774.593
        ],
        [
         "P0166",
         62.19,
         55.971
        ],
        [
         "P0167",
         1666.23,
         1499.607
        ],
        [
         "P0168",
         1006.63,
         905.967
        ],
        [
         "P0169",
         1267.42,
         1140.678
        ],
        [
         "P0170",
         329.25,
         296.325
        ],
        [
         "P0171",
         1557.09,
         1401.3809999999999
        ],
        [
         "P0172",
         1759.47,
         1583.5230000000001
        ],
        [
         "P0173",
         930.78,
         837.702
        ],
        [
         "P0174",
         81.55,
         73.395
        ],
        [
         "P0175",
         364.2,
         327.78
        ],
        [
         "P0176",
         824.82,
         742.3380000000001
        ],
        [
         "P0177",
         1241.26,
         1117.134
        ],
        [
         "P0178",
         743.65,
         669.285
        ],
        [
         "P0179",
         1950.04,
         1755.036
        ],
        [
         "P0180",
         141.37,
         127.233
        ],
        [
         "P0181",
         1935.07,
         1741.5629999999999
        ],
        [
         "P0182",
         1661.22,
         1495.098
        ],
        [
         "P0183",
         762.15,
         685.935
        ],
        [
         "P0184",
         1003.71,
         903.339
        ],
        [
         "P0185",
         1595.17,
         1435.653
        ],
        [
         "P0186",
         231.03,
         207.927
        ],
        [
         "P0187",
         38.88,
         34.992000000000004
        ],
        [
         "P0188",
         1582.57,
         1424.3129999999999
        ],
        [
         "P0189",
         641.08,
         576.9720000000001
        ],
        [
         "P0190",
         686.04,
         617.436
        ],
        [
         "P0191",
         112.38,
         101.142
        ],
        [
         "P0192",
         942.81,
         848.529
        ],
        [
         "P0193",
         1238.31,
         1114.479
        ],
        [
         "P0194",
         1814.74,
         1633.266
        ],
        [
         "P0195",
         937.18,
         843.462
        ],
        [
         "P0196",
         1159.15,
         1043.2350000000001
        ],
        [
         "P0197",
         1564.84,
         1408.356
        ],
        [
         "P0198",
         628.47,
         565.623
        ],
        [
         "P0199",
         1368.51,
         1231.659
        ],
        [
         "P0200",
         692.12,
         622.908
        ],
        [
         "P0201",
         1573.37,
         1416.033
        ],
        [
         "P0202",
         1953.99,
         1758.5910000000001
        ],
        [
         "P0203",
         1016.57,
         914.913
        ],
        [
         "P0204",
         1734.6,
         1561.1399999999999
        ],
        [
         "P0205",
         478.82,
         430.938
        ],
        [
         "P0206",
         375.49,
         337.94100000000003
        ],
        [
         "P0207",
         230.41,
         207.369
        ],
        [
         "P0208",
         754.39,
         678.951
        ],
        [
         "P0209",
         1070.99,
         963.8910000000001
        ],
        [
         "P0210",
         863.71,
         777.339
        ],
        [
         "P0211",
         1051.35,
         946.2149999999999
        ],
        [
         "P0212",
         1766.16,
         1589.544
        ],
        [
         "P0213",
         1528.21,
         1375.3890000000001
        ],
        [
         "P0214",
         1725.81,
         1553.229
        ],
        [
         "P0215",
         1678.45,
         1510.605
        ],
        [
         "P0216",
         1526.03,
         1373.427
        ],
        [
         "P0217",
         1460.22,
         1314.198
        ],
        [
         "P0218",
         207.67,
         186.903
        ],
        [
         "P0219",
         996.21,
         896.589
        ],
        [
         "P0220",
         1354.7,
         1219.23
        ],
        [
         "P0221",
         1205.37,
         1084.8329999999999
        ],
        [
         "P0222",
         977.33,
         879.5970000000001
        ],
        [
         "P0223",
         1292.39,
         1163.151
        ],
        [
         "P0224",
         1153.17,
         1037.853
        ],
        [
         "P0225",
         551.26,
         496.134
        ],
        [
         "P0226",
         1668.89,
         1502.0010000000002
        ],
        [
         "P0227",
         449.11,
         404.199
        ],
        [
         "P0228",
         317.83,
         286.04699999999997
        ],
        [
         "P0229",
         1399.43,
         1259.487
        ],
        [
         "P0230",
         1163.64,
         1047.276
        ],
        [
         "P0231",
         781.81,
         703.629
        ],
        [
         "P0232",
         896.07,
         806.4630000000001
        ],
        [
         "P0233",
         901.28,
         811.152
        ],
        [
         "P0234",
         1231.55,
         1108.395
        ],
        [
         "P0235",
         1297.8,
         1168.02
        ],
        [
         "P0236",
         951.74,
         856.566
        ],
        [
         "P0237",
         164.53,
         148.077
        ],
        [
         "P0238",
         1358.99,
         1223.0910000000001
        ],
        [
         "P0239",
         1612.58,
         1451.322
        ],
        [
         "P0240",
         1648.93,
         1484.037
        ],
        [
         "P0241",
         1531.37,
         1378.233
        ],
        [
         "P0242",
         412.59,
         371.33099999999996
        ],
        [
         "P0243",
         1875.22,
         1687.698
        ],
        [
         "P0244",
         1843.58,
         1659.222
        ],
        [
         "P0245",
         270.43,
         243.387
        ],
        [
         "P0246",
         1449.57,
         1304.613
        ],
        [
         "P0247",
         825.1,
         742.59
        ],
        [
         "P0248",
         1200.32,
         1080.288
        ],
        [
         "P0249",
         1536.54,
         1382.886
        ],
        [
         "P0250",
         710.82,
         639.738
        ],
        [
         "P0251",
         28.65,
         25.785
        ],
        [
         "P0252",
         1957.38,
         1761.642
        ],
        [
         "P0253",
         226.44,
         203.796
        ],
        [
         "P0254",
         503.61,
         453.249
        ],
        [
         "P0255",
         154.4,
         138.96
        ],
        [
         "P0256",
         882.48,
         794.2320000000001
        ],
        [
         "P0257",
         944.89,
         850.401
        ],
        [
         "P0258",
         1423.91,
         1281.519
        ],
        [
         "P0259",
         1484.64,
         1336.1760000000002
        ],
        [
         "P0260",
         1255.56,
         1130.004
        ],
        [
         "P0261",
         203.78,
         183.40200000000002
        ],
        [
         "P0262",
         885.15,
         796.635
        ],
        [
         "P0263",
         371.19,
         334.071
        ],
        [
         "P0264",
         1030.44,
         927.3960000000001
        ],
        [
         "P0265",
         1216.14,
         1094.526
        ],
        [
         "P0266",
         324.37,
         291.933
        ],
        [
         "P0267",
         1772.83,
         1595.547
        ],
        [
         "P0268",
         631.29,
         568.161
        ],
        [
         "P0269",
         1192.68,
         1073.412
        ],
        [
         "P0270",
         611.71,
         550.5390000000001
        ],
        [
         "P0271",
         1362.74,
         1226.4660000000001
        ],
        [
         "P0272",
         1472.29,
         1325.061
        ],
        [
         "P0273",
         146.58,
         131.92200000000003
        ],
        [
         "P0274",
         1128.5,
         1015.65
        ],
        [
         "P0275",
         1478.58,
         1330.722
        ],
        [
         "P0276",
         1155.12,
         1039.608
        ],
        [
         "P0277",
         63.16,
         56.844
        ],
        [
         "P0278",
         414.78,
         373.30199999999996
        ],
        [
         "P0279",
         1619.24,
         1457.316
        ],
        [
         "P0280",
         566.91,
         510.219
        ],
        [
         "P0281",
         188.55,
         169.69500000000002
        ],
        [
         "P0282",
         69.59,
         62.63100000000001
        ],
        [
         "P0283",
         474.49,
         427.041
        ],
        [
         "P0284",
         352.26,
         317.034
        ],
        [
         "P0285",
         1123.4,
         1011.0600000000001
        ],
        [
         "P0286",
         1164.64,
         1048.1760000000002
        ],
        [
         "P0287",
         1084.4,
         975.9600000000002
        ],
        [
         "P0288",
         1486.02,
         1337.4180000000001
        ],
        [
         "P0289",
         1780.19,
         1602.171
        ],
        [
         "P0290",
         919.28,
         827.352
        ],
        [
         "P0291",
         890.9,
         801.81
        ],
        [
         "P0292",
         1339.35,
         1205.415
        ],
        [
         "P0293",
         107.68,
         96.912
        ],
        [
         "P0294",
         1054.65,
         949.1850000000001
        ],
        [
         "P0295",
         1938.35,
         1744.5149999999999
        ],
        [
         "P0296",
         1738.65,
         1564.785
        ],
        [
         "P0297",
         859.64,
         773.676
        ],
        [
         "P0298",
         1571.12,
         1414.008
        ],
        [
         "P0299",
         1170.51,
         1053.459
        ],
        [
         "P0300",
         1741.53,
         1567.377
        ],
        [
         "P0301",
         1005.47,
         904.923
        ],
        [
         "P0302",
         1017.38,
         915.642
        ],
        [
         "P0303",
         1052.48,
         947.2320000000001
        ],
        [
         "P0304",
         1039.68,
         935.7120000000001
        ],
        [
         "P0305",
         1089.74,
         980.7660000000001
        ],
        [
         "P0306",
         140.5,
         126.45
        ],
        [
         "P0307",
         1923.44,
         1731.096
        ],
        [
         "P0308",
         187.35,
         168.615
        ],
        [
         "P0309",
         445.2,
         400.68
        ],
        [
         "P0310",
         704.08,
         633.672
        ],
        [
         "P0311",
         454.3,
         408.87
        ],
        [
         "P0312",
         1500.97,
         1350.873
        ],
        [
         "P0313",
         985.34,
         886.806
        ],
        [
         "P0314",
         599.47,
         539.523
        ],
        [
         "P0315",
         1703.11,
         1532.799
        ],
        [
         "P0316",
         605.68,
         545.112
        ],
        [
         "P0317",
         1174.72,
         1057.248
        ],
        [
         "P0318",
         824.7,
         742.23
        ],
        [
         "P0319",
         1494.78,
         1345.302
        ],
        [
         "P0320",
         491.43,
         442.28700000000003
        ],
        [
         "P0321",
         1631.26,
         1468.134
        ],
        [
         "P0322",
         1731.88,
         1558.6920000000002
        ],
        [
         "P0323",
         1248.81,
         1123.929
        ],
        [
         "P0324",
         1819.96,
         1637.9640000000002
        ],
        [
         "P0325",
         1361.28,
         1225.152
        ],
        [
         "P0326",
         1688.79,
         1519.911
        ],
        [
         "P0327",
         943.0,
         848.7
        ],
        [
         "P0328",
         1928.38,
         1735.5420000000001
        ],
        [
         "P0329",
         1295.37,
         1165.8329999999999
        ],
        [
         "P0330",
         1241.75,
         1117.575
        ],
        [
         "P0331",
         1528.85,
         1375.965
        ],
        [
         "P0332",
         1369.33,
         1232.397
        ],
        [
         "P0333",
         1892.24,
         1703.016
        ],
        [
         "P0334",
         1560.27,
         1404.243
        ],
        [
         "P0335",
         1352.39,
         1217.151
        ],
        [
         "P0336",
         222.93,
         200.637
        ],
        [
         "P0337",
         1968.32,
         1771.488
        ],
        [
         "P0338",
         1844.1,
         1659.69
        ],
        [
         "P0339",
         1321.67,
         1189.5030000000002
        ],
        [
         "P0340",
         1635.48,
         1471.932
        ],
        [
         "P0341",
         1333.84,
         1200.456
        ],
        [
         "P0342",
         125.97,
         113.373
        ],
        [
         "P0343",
         539.06,
         485.15399999999994
        ],
        [
         "P0344",
         1118.86,
         1006.9739999999999
        ],
        [
         "P0345",
         1366.77,
         1230.093
        ],
        [
         "P0346",
         84.09,
         75.68100000000001
        ],
        [
         "P0347",
         452.69,
         407.421
        ],
        [
         "P0348",
         958.75,
         862.875
        ],
        [
         "P0349",
         1059.73,
         953.7570000000001
        ],
        [
         "P0350",
         758.98,
         683.082
        ],
        [
         "P0351",
         390.64,
         351.576
        ],
        [
         "P0352",
         1226.91,
         1104.219
        ],
        [
         "P0353",
         1464.67,
         1318.2030000000002
        ],
        [
         "P0354",
         289.67,
         260.70300000000003
        ],
        [
         "P0355",
         1804.42,
         1623.978
        ],
        [
         "P0356",
         97.91,
         88.119
        ],
        [
         "P0357",
         1705.13,
         1534.6170000000002
        ],
        [
         "P0358",
         1175.18,
         1057.662
        ],
        [
         "P0359",
         660.84,
         594.7560000000001
        ],
        [
         "P0360",
         175.53,
         157.977
        ],
        [
         "P0361",
         1572.29,
         1415.061
        ],
        [
         "P0362",
         1555.65,
         1400.085
        ],
        [
         "P0363",
         758.11,
         682.299
        ],
        [
         "P0364",
         930.34,
         837.306
        ],
        [
         "P0365",
         1542.85,
         1388.565
        ],
        [
         "P0366",
         1008.85,
         907.965
        ],
        [
         "P0367",
         776.79,
         699.111
        ],
        [
         "P0368",
         138.37,
         124.533
        ],
        [
         "P0369",
         1954.77,
         1759.2930000000001
        ],
        [
         "P0370",
         1000.0,
         900.0
        ],
        [
         "P0371",
         1479.94,
         1331.9460000000001
        ],
        [
         "P0372",
         1242.11,
         1117.899
        ],
        [
         "P0373",
         1858.79,
         1672.911
        ],
        [
         "P0374",
         1676.32,
         1508.6879999999999
        ],
        [
         "P0375",
         412.3,
         371.07
        ],
        [
         "P0376",
         1860.84,
         1674.7559999999999
        ],
        [
         "P0377",
         1298.87,
         1168.983
        ],
        [
         "P0378",
         1677.01,
         1509.309
        ],
        [
         "P0379",
         1028.64,
         925.7760000000001
        ],
        [
         "P0380",
         1721.21,
         1549.0890000000002
        ],
        [
         "P0381",
         1203.96,
         1083.564
        ],
        [
         "P0382",
         713.46,
         642.114
        ],
        [
         "P0383",
         180.91,
         162.819
        ],
        [
         "P0384",
         86.38,
         77.742
        ],
        [
         "P0385",
         1924.73,
         1732.257
        ],
        [
         "P0386",
         1294.16,
         1164.7440000000001
        ],
        [
         "P0387",
         1648.43,
         1483.587
        ],
        [
         "P0388",
         922.07,
         829.863
        ],
        [
         "P0389",
         458.59,
         412.731
        ],
        [
         "P0390",
         867.57,
         780.8130000000001
        ],
        [
         "P0391",
         1392.3,
         1253.07
        ],
        [
         "P0392",
         892.97,
         803.673
        ],
        [
         "P0393",
         1619.98,
         1457.982
        ],
        [
         "P0394",
         926.57,
         833.913
        ],
        [
         "P0395",
         1758.5,
         1582.65
        ],
        [
         "P0396",
         1566.87,
         1410.183
        ],
        [
         "P0397",
         1877.24,
         1689.516
        ],
        [
         "P0398",
         1825.42,
         1642.8780000000002
        ],
        [
         "P0399",
         1135.56,
         1022.004
        ],
        [
         "P0400",
         835.22,
         751.6980000000001
        ],
        [
         "P0401",
         392.57,
         353.313
        ],
        [
         "P0402",
         47.46,
         42.714
        ],
        [
         "P0403",
         1744.03,
         1569.627
        ],
        [
         "P0404",
         967.18,
         870.462
        ],
        [
         "P0405",
         1225.32,
         1102.788
        ],
        [
         "P0406",
         584.74,
         526.2660000000001
        ],
        [
         "P0407",
         584.71,
         526.239
        ],
        [
         "P0408",
         1167.48,
         1050.732
        ],
        [
         "P0409",
         890.11,
         801.099
        ],
        [
         "P0410",
         373.46,
         336.114
        ],
        [
         "P0411",
         873.95,
         786.5550000000001
        ],
        [
         "P0412",
         129.25,
         116.325
        ],
        [
         "P0413",
         342.07,
         307.863
        ],
        [
         "P0414",
         1456.9,
         1311.21
        ],
        [
         "P0415",
         1821.91,
         1639.719
        ],
        [
         "P0416",
         427.5,
         384.75
        ],
        [
         "P0417",
         111.34,
         100.206
        ],
        [
         "P0418",
         1844.36,
         1659.924
        ],
        [
         "P0419",
         629.71,
         566.739
        ],
        [
         "P0420",
         49.6,
         44.64
        ],
        [
         "P0421",
         1520.45,
         1368.405
        ],
        [
         "P0422",
         184.69,
         166.221
        ],
        [
         "P0423",
         990.07,
         891.0630000000001
        ],
        [
         "P0424",
         1141.78,
         1027.602
        ],
        [
         "P0425",
         1822.03,
         1639.827
        ],
        [
         "P0426",
         1956.82,
         1761.138
        ],
        [
         "P0427",
         1967.84,
         1771.056
        ],
        [
         "P0428",
         1582.19,
         1423.971
        ],
        [
         "P0429",
         1734.0,
         1560.6000000000001
        ],
        [
         "P0430",
         1386.32,
         1247.6879999999999
        ],
        [
         "P0431",
         682.1,
         613.89
        ],
        [
         "P0432",
         1287.08,
         1158.372
        ],
        [
         "P0433",
         1123.66,
         1011.2940000000001
        ],
        [
         "P0434",
         1689.45,
         1520.505
        ],
        [
         "P0435",
         1902.58,
         1712.322
        ],
        [
         "P0436",
         1781.45,
         1603.305
        ],
        [
         "P0437",
         465.4,
         418.86
        ],
        [
         "P0438",
         1309.15,
         1178.2350000000001
        ],
        [
         "P0439",
         1174.39,
         1056.951
        ],
        [
         "P0440",
         1983.25,
         1784.925
        ],
        [
         "P0441",
         1300.71,
         1170.6390000000001
        ],
        [
         "P0442",
         1811.22,
         1630.098
        ],
        [
         "P0443",
         685.07,
         616.5630000000001
        ],
        [
         "P0444",
         655.62,
         590.058
        ],
        [
         "P0445",
         792.65,
         713.385
        ],
        [
         "P0446",
         1016.83,
         915.147
        ],
        [
         "P0447",
         915.77,
         824.193
        ],
        [
         "P0448",
         1264.88,
         1138.392
        ],
        [
         "P0449",
         188.96,
         170.06400000000002
        ],
        [
         "P0450",
         985.83,
         887.2470000000001
        ],
        [
         "P0451",
         1663.54,
         1497.186
        ],
        [
         "P0452",
         1462.41,
         1316.169
        ],
        [
         "P0453",
         250.33,
         225.29700000000003
        ],
        [
         "P0454",
         324.49,
         292.041
        ],
        [
         "P0455",
         1884.65,
         1696.1850000000002
        ],
        [
         "P0456",
         1904.87,
         1714.383
        ],
        [
         "P0457",
         1731.23,
         1558.107
        ],
        [
         "P0458",
         629.24,
         566.316
        ],
        [
         "P0459",
         1208.62,
         1087.758
        ],
        [
         "P0460",
         1327.98,
         1195.182
        ],
        [
         "P0461",
         1367.65,
         1230.8850000000002
        ],
        [
         "P0462",
         1909.36,
         1718.424
        ],
        [
         "P0463",
         293.1,
         263.79
        ],
        [
         "P0464",
         638.63,
         574.767
        ],
        [
         "P0465",
         151.23,
         136.107
        ],
        [
         "P0466",
         1305.34,
         1174.806
        ],
        [
         "P0467",
         15.91,
         14.319
        ],
        [
         "P0468",
         1530.08,
         1377.072
        ],
        [
         "P0469",
         98.6,
         88.74
        ],
        [
         "P0470",
         649.66,
         584.694
        ],
        [
         "P0471",
         20.68,
         18.612000000000002
        ],
        [
         "P0472",
         1409.94,
         1268.9460000000001
        ],
        [
         "P0473",
         1878.18,
         1690.362
        ],
        [
         "P0474",
         1287.26,
         1158.534
        ],
        [
         "P0475",
         964.94,
         868.446
        ],
        [
         "P0476",
         259.13,
         233.217
        ],
        [
         "P0477",
         917.67,
         825.903
        ],
        [
         "P0478",
         630.56,
         567.504
        ],
        [
         "P0479",
         567.29,
         510.561
        ],
        [
         "P0480",
         492.92,
         443.62800000000004
        ],
        [
         "P0481",
         1554.11,
         1398.6989999999998
        ],
        [
         "P0482",
         1675.86,
         1508.274
        ],
        [
         "P0483",
         877.18,
         789.462
        ],
        [
         "P0484",
         1397.57,
         1257.8129999999999
        ],
        [
         "P0485",
         535.31,
         481.77899999999994
        ],
        [
         "P0486",
         315.25,
         283.725
        ],
        [
         "P0487",
         1666.94,
         1500.246
        ],
        [
         "P0488",
         1316.67,
         1185.0030000000002
        ],
        [
         "P0489",
         1923.44,
         1731.096
        ],
        [
         "P0490",
         1718.72,
         1546.848
        ],
        [
         "P0491",
         1602.21,
         1441.989
        ],
        [
         "P0492",
         121.07,
         108.963
        ],
        [
         "P0493",
         295.7,
         266.13
        ],
        [
         "P0494",
         1913.83,
         1722.447
        ],
        [
         "P0495",
         561.99,
         505.791
        ],
        [
         "P0496",
         137.62,
         123.858
        ],
        [
         "P0497",
         930.59,
         837.5310000000001
        ],
        [
         "P0498",
         1990.58,
         1791.522
        ],
        [
         "P0499",
         1774.16,
         1596.7440000000001
        ],
        [
         "P0500",
         322.4,
         290.15999999999997
        ]
       ],
       "datasetInfos": [],
       "dbfsResultPath": null,
       "isJsonSchema": true,
       "metadata": {
        "createTempViewForImplicitDf": true,
        "dataframeName": "_sqldf",
        "executionCount": 7
       },
       "overflow": false,
       "plotOptions": {
        "customPlotOptions": {},
        "displayType": "table",
        "pivotAggregation": null,
        "pivotColumns": null,
        "xColumns": null,
        "yColumns": null
       },
       "removedWidgets": [],
       "schema": [
        {
         "metadata": "{}",
         "name": "product_id",
         "type": "\"string\""
        },
        {
         "metadata": "{}",
         "name": "price",
         "type": "\"double\""
        },
        {
         "metadata": "{}",
         "name": "discounted_price",
         "type": "\"double\""
        }
       ],
       "type": "table"
      }
     },
     "output_type": "display_data"
    }
   ],
   "source": [
    "%sql\n",
    "SELECT product_id, price, databricks_cata.bronze.discount_func(price) as discounted_price\n",
    "FROM products"
   ]
  },
  {
   "cell_type": "code",
   "execution_count": 0,
   "metadata": {
    "application/vnd.databricks.v1+cell": {
     "cellMetadata": {
      "byteLimit": 2048000,
      "rowLimit": 10000
     },
     "inputWidgets": {},
     "nuid": "9f5023c5-0a97-4b8f-997e-214df78eb5c1",
     "showTitle": false,
     "tableResultSettingsMap": {},
     "title": ""
    }
   },
   "outputs": [
    {
     "output_type": "display_data",
     "data": {
      "text/html": [
       "<style scoped>\n",
       "  .table-result-container {\n",
       "    max-height: 300px;\n",
       "    overflow: auto;\n",
       "  }\n",
       "  table, th, td {\n",
       "    border: 1px solid black;\n",
       "    border-collapse: collapse;\n",
       "  }\n",
       "  th, td {\n",
       "    padding: 5px;\n",
       "  }\n",
       "  th {\n",
       "    text-align: left;\n",
       "  }\n",
       "</style><div class='table-result-container'><table class='table-result'><thead style='background-color: white'><tr><th>product_id</th><th>product_name</th><th>category</th><th>brand</th><th>price</th><th>discounted_price</th></tr></thead><tbody><tr><td>P0001</td><td>Clearly Its</td><td>Beauty</td><td>Nike</td><td>1868.54</td><td>1681.686</td></tr><tr><td>P0002</td><td>Production Clear</td><td>Beauty</td><td>Apple</td><td>587.13</td><td>528.417</td></tr><tr><td>P0003</td><td>Culture Coach</td><td>Home</td><td>Revlon</td><td>1599.24</td><td>1439.316</td></tr><tr><td>P0004</td><td>Movement Part</td><td>Sports</td><td>LG</td><td>651.71</td><td>586.5390000000001</td></tr><tr><td>P0005</td><td>Fact Name</td><td>Clothing</td><td>Samsung</td><td>1861.78</td><td>1675.602</td></tr><tr><td>P0006</td><td>Usually Stop</td><td>Toys</td><td>Adidas</td><td>936.36</td><td>842.724</td></tr><tr><td>P0007</td><td>Reveal Current</td><td>Sports</td><td>Adidas</td><td>1954.02</td><td>1758.618</td></tr><tr><td>P0008</td><td>Force Language</td><td>Beauty</td><td>Puma</td><td>1251.26</td><td>1126.134</td></tr><tr><td>P0009</td><td>Stage Leg</td><td>Clothing</td><td>Samsung</td><td>1247.15</td><td>1122.4350000000002</td></tr><tr><td>P0010</td><td>Leader Then</td><td>Sports</td><td>Sony</td><td>975.53</td><td>877.977</td></tr><tr><td>P0011</td><td>Term Rest</td><td>Electronics</td><td>Adidas</td><td>1475.31</td><td>1327.779</td></tr><tr><td>P0012</td><td>Theory Wrong</td><td>Electronics</td><td>Apple</td><td>624.61</td><td>562.149</td></tr><tr><td>P0013</td><td>Democrat Book</td><td>Sports</td><td>Puma</td><td>384.99</td><td>346.49100000000004</td></tr><tr><td>P0014</td><td>Follow Brother</td><td>Clothing</td><td>Dell</td><td>32.2</td><td>28.980000000000004</td></tr><tr><td>P0015</td><td>Pattern Story</td><td>Beauty</td><td>LG</td><td>1459.2</td><td>1313.28</td></tr><tr><td>P0016</td><td>Policy Nor</td><td>Clothing</td><td>Samsung</td><td>1594.08</td><td>1434.672</td></tr><tr><td>P0017</td><td>After Project</td><td>Beauty</td><td>Revlon</td><td>1289.06</td><td>1160.154</td></tr><tr><td>P0018</td><td>Technology Chance</td><td>Beauty</td><td>Puma</td><td>1329.53</td><td>1196.577</td></tr><tr><td>P0019</td><td>Oil Station</td><td>Electronics</td><td>Samsung</td><td>230.56</td><td>207.50400000000002</td></tr><tr><td>P0020</td><td>Happen Truth</td><td>Beauty</td><td>Nike</td><td>1603.5</td><td>1443.15</td></tr><tr><td>P0021</td><td>Middle Everyone</td><td>Sports</td><td>Nike</td><td>361.89</td><td>325.701</td></tr><tr><td>P0022</td><td>Purpose Why</td><td>Beauty</td><td>Puma</td><td>73.82</td><td>66.438</td></tr><tr><td>P0023</td><td>Decade Message</td><td>Clothing</td><td>Adidas</td><td>1561.78</td><td>1405.602</td></tr><tr><td>P0024</td><td>Really Phone</td><td>Home</td><td>Samsung</td><td>1422.07</td><td>1279.863</td></tr><tr><td>P0025</td><td>Until And</td><td>Beauty</td><td>Nike</td><td>488.67</td><td>439.803</td></tr><tr><td>P0026</td><td>Huge Find</td><td>Toys</td><td>Puma</td><td>1316.41</td><td>1184.769</td></tr><tr><td>P0027</td><td>Local Open</td><td>Toys</td><td>Adidas</td><td>939.9</td><td>845.91</td></tr><tr><td>P0028</td><td>Its Both</td><td>Beauty</td><td>Puma</td><td>1682.91</td><td>1514.6190000000001</td></tr><tr><td>P0029</td><td>Everything Open</td><td>Clothing</td><td>Nike</td><td>1065.49</td><td>958.941</td></tr><tr><td>P0030</td><td>Hold Staff</td><td>Toys</td><td>Lenovo</td><td>1162.38</td><td>1046.142</td></tr><tr><td>P0031</td><td>Part Oil</td><td>Clothing</td><td>LG</td><td>774.18</td><td>696.762</td></tr><tr><td>P0032</td><td>Relationship Live</td><td>Electronics</td><td>Dell</td><td>1445.21</td><td>1300.689</td></tr><tr><td>P0033</td><td>Perform Such</td><td>Clothing</td><td>Lenovo</td><td>61.91</td><td>55.719</td></tr><tr><td>P0034</td><td>Even Writer</td><td>Toys</td><td>Samsung</td><td>1843.84</td><td>1659.456</td></tr><tr><td>P0035</td><td>Something Increase</td><td>Toys</td><td>Revlon</td><td>579.76</td><td>521.784</td></tr><tr><td>P0036</td><td>Success Always</td><td>Home</td><td>Dell</td><td>1780.37</td><td>1602.3329999999999</td></tr><tr><td>P0037</td><td>Personal Over</td><td>Sports</td><td>Puma</td><td>105.28</td><td>94.75200000000001</td></tr><tr><td>P0038</td><td>Edge Keep</td><td>Toys</td><td>Revlon</td><td>1156.99</td><td>1041.291</td></tr><tr><td>P0039</td><td>Before Do</td><td>Toys</td><td>Revlon</td><td>1279.12</td><td>1151.2079999999999</td></tr><tr><td>P0040</td><td>Answer Require</td><td>Toys</td><td>Dell</td><td>1822.39</td><td>1640.151</td></tr><tr><td>P0041</td><td>Conference Article</td><td>Sports</td><td>Dell</td><td>459.55</td><td>413.595</td></tr><tr><td>P0042</td><td>Heavy Writer</td><td>Beauty</td><td>Adidas</td><td>1215.78</td><td>1094.202</td></tr><tr><td>P0043</td><td>Radio Thousand</td><td>Electronics</td><td>Revlon</td><td>914.61</td><td>823.149</td></tr><tr><td>P0044</td><td>Such Beautiful</td><td>Electronics</td><td>Dell</td><td>580.32</td><td>522.288</td></tr><tr><td>P0045</td><td>Certainly Sign</td><td>Sports</td><td>Sony</td><td>622.31</td><td>560.079</td></tr><tr><td>P0046</td><td>Exist Age</td><td>Beauty</td><td>Samsung</td><td>918.54</td><td>826.686</td></tr><tr><td>P0047</td><td>Ever Could</td><td>Sports</td><td>Revlon</td><td>257.51</td><td>231.759</td></tr><tr><td>P0048</td><td>Share Quality</td><td>Electronics</td><td>Revlon</td><td>652.68</td><td>587.4119999999999</td></tr><tr><td>P0049</td><td>True Her</td><td>Clothing</td><td>Lenovo</td><td>819.77</td><td>737.793</td></tr><tr><td>P0050</td><td>North Big</td><td>Electronics</td><td>Samsung</td><td>1947.16</td><td>1752.4440000000002</td></tr><tr><td>P0051</td><td>Form Social</td><td>Electronics</td><td>Apple</td><td>1294.33</td><td>1164.897</td></tr><tr><td>P0052</td><td>Total Tax</td><td>Toys</td><td>Lenovo</td><td>1190.28</td><td>1071.252</td></tr><tr><td>P0053</td><td>News Look</td><td>Electronics</td><td>Samsung</td><td>896.22</td><td>806.5980000000001</td></tr><tr><td>P0054</td><td>Local Decide</td><td>Electronics</td><td>Adidas</td><td>1346.26</td><td>1211.634</td></tr><tr><td>P0055</td><td>Seat Finish</td><td>Electronics</td><td>Sony</td><td>925.39</td><td>832.851</td></tr><tr><td>P0056</td><td>Weight Ground</td><td>Home</td><td>Nike</td><td>805.91</td><td>725.319</td></tr><tr><td>P0057</td><td>Everything Song</td><td>Clothing</td><td>Samsung</td><td>1000.36</td><td>900.3240000000001</td></tr><tr><td>P0058</td><td>Involve Present</td><td>Electronics</td><td>LG</td><td>1713.86</td><td>1542.474</td></tr><tr><td>P0059</td><td>Democratic Any</td><td>Sports</td><td>Lenovo</td><td>808.17</td><td>727.353</td></tr><tr><td>P0060</td><td>Red Some</td><td>Clothing</td><td>Nike</td><td>1230.69</td><td>1107.621</td></tr><tr><td>P0061</td><td>Describe Continue</td><td>Electronics</td><td>Sony</td><td>1610.15</td><td>1449.1350000000002</td></tr><tr><td>P0062</td><td>Always Citizen</td><td>Clothing</td><td>Samsung</td><td>912.72</td><td>821.4480000000001</td></tr><tr><td>P0063</td><td>Necessary Bad</td><td>Home</td><td>Nike</td><td>1876.88</td><td>1689.1920000000002</td></tr><tr><td>P0064</td><td>Size Although</td><td>Clothing</td><td>LG</td><td>473.8</td><td>426.42</td></tr><tr><td>P0065</td><td>Democratic As</td><td>Electronics</td><td>Lenovo</td><td>1472.24</td><td>1325.016</td></tr><tr><td>P0066</td><td>I Worker</td><td>Sports</td><td>Sony</td><td>1123.53</td><td>1011.177</td></tr><tr><td>P0067</td><td>Unit Election</td><td>Beauty</td><td>Samsung</td><td>144.72</td><td>130.248</td></tr><tr><td>P0068</td><td>Response Audience</td><td>Toys</td><td>LG</td><td>1633.64</td><td>1470.276</td></tr><tr><td>P0069</td><td>Weight Design</td><td>Beauty</td><td>Lenovo</td><td>1165.23</td><td>1048.707</td></tr><tr><td>P0070</td><td>Or Against</td><td>Sports</td><td>Lenovo</td><td>1589.36</td><td>1430.424</td></tr><tr><td>P0071</td><td>Once Support</td><td>Toys</td><td>Apple</td><td>1385.04</td><td>1246.536</td></tr><tr><td>P0072</td><td>Station Fund</td><td>Toys</td><td>Revlon</td><td>1198.32</td><td>1078.488</td></tr><tr><td>P0073</td><td>Leave Reveal</td><td>Electronics</td><td>Adidas</td><td>586.19</td><td>527.571</td></tr><tr><td>P0074</td><td>Pm Near</td><td>Toys</td><td>Lenovo</td><td>426.99</td><td>384.291</td></tr><tr><td>P0075</td><td>Former Trade</td><td>Beauty</td><td>Samsung</td><td>73.74</td><td>66.366</td></tr><tr><td>P0076</td><td>Skill Need</td><td>Toys</td><td>Puma</td><td>862.73</td><td>776.457</td></tr><tr><td>P0077</td><td>Quality Conference</td><td>Clothing</td><td>LG</td><td>333.16</td><td>299.84400000000005</td></tr><tr><td>P0078</td><td>Their Worry</td><td>Electronics</td><td>LG</td><td>903.63</td><td>813.267</td></tr><tr><td>P0079</td><td>Night Experience</td><td>Beauty</td><td>LG</td><td>780.45</td><td>702.4050000000001</td></tr><tr><td>P0080</td><td>But Decide</td><td>Toys</td><td>Lenovo</td><td>1599.68</td><td>1439.712</td></tr><tr><td>P0081</td><td>Whose Available</td><td>Toys</td><td>Nike</td><td>1697.18</td><td>1527.462</td></tr><tr><td>P0082</td><td>Exist Interest</td><td>Beauty</td><td>Apple</td><td>1932.51</td><td>1739.259</td></tr><tr><td>P0083</td><td>Laugh Speak</td><td>Beauty</td><td>Dell</td><td>1519.05</td><td>1367.145</td></tr><tr><td>P0084</td><td>Little All</td><td>Home</td><td>Samsung</td><td>866.09</td><td>779.481</td></tr><tr><td>P0085</td><td>Hope Such</td><td>Clothing</td><td>Apple</td><td>1863.08</td><td>1676.772</td></tr><tr><td>P0086</td><td>Save Own</td><td>Toys</td><td>Nike</td><td>915.44</td><td>823.8960000000001</td></tr><tr><td>P0087</td><td>Service Personal</td><td>Home</td><td>Sony</td><td>273.89</td><td>246.501</td></tr><tr><td>P0088</td><td>At Such</td><td>Home</td><td>Adidas</td><td>1482.19</td><td>1333.971</td></tr><tr><td>P0089</td><td>Second Despite</td><td>Home</td><td>LG</td><td>611.31</td><td>550.179</td></tr><tr><td>P0090</td><td>Future Improve</td><td>Electronics</td><td>Puma</td><td>129.87</td><td>116.88300000000001</td></tr><tr><td>P0091</td><td>Nation Moment</td><td>Beauty</td><td>Samsung</td><td>1683.02</td><td>1514.718</td></tr><tr><td>P0092</td><td>Stand Fish</td><td>Sports</td><td>Revlon</td><td>1631.21</td><td>1468.0890000000002</td></tr><tr><td>P0093</td><td>Us Life</td><td>Clothing</td><td>Puma</td><td>749.33</td><td>674.397</td></tr><tr><td>P0094</td><td>Real Himself</td><td>Beauty</td><td>LG</td><td>48.71</td><td>43.839</td></tr><tr><td>P0095</td><td>Fund Tend</td><td>Electronics</td><td>Apple</td><td>1519.1</td><td>1367.19</td></tr><tr><td>P0096</td><td>Public Voice</td><td>Electronics</td><td>Nike</td><td>1078.42</td><td>970.5780000000001</td></tr><tr><td>P0097</td><td>Crime Range</td><td>Clothing</td><td>Apple</td><td>627.41</td><td>564.669</td></tr><tr><td>P0098</td><td>Item See</td><td>Clothing</td><td>Puma</td><td>551.54</td><td>496.38599999999997</td></tr><tr><td>P0099</td><td>Notice Rather</td><td>Beauty</td><td>Adidas</td><td>1110.7</td><td>999.6300000000001</td></tr><tr><td>P0100</td><td>Oil Into</td><td>Sports</td><td>Dell</td><td>793.81</td><td>714.429</td></tr><tr><td>P0101</td><td>Sister Tend</td><td>Sports</td><td>Puma</td><td>1106.32</td><td>995.688</td></tr><tr><td>P0102</td><td>Yourself Team</td><td>Beauty</td><td>LG</td><td>1079.69</td><td>971.7210000000001</td></tr><tr><td>P0103</td><td>Rich Page</td><td>Toys</td><td>Samsung</td><td>486.63</td><td>437.967</td></tr><tr><td>P0104</td><td>Fact Building</td><td>Clothing</td><td>Dell</td><td>860.64</td><td>774.576</td></tr><tr><td>P0105</td><td>Color Now</td><td>Clothing</td><td>LG</td><td>1200.37</td><td>1080.3329999999999</td></tr><tr><td>P0106</td><td>Research Mother</td><td>Clothing</td><td>Sony</td><td>1100.51</td><td>990.4590000000001</td></tr><tr><td>P0107</td><td>Degree Much</td><td>Toys</td><td>Adidas</td><td>193.45</td><td>174.105</td></tr><tr><td>P0108</td><td>Southern Hear</td><td>Home</td><td>Puma</td><td>22.3</td><td>20.07</td></tr><tr><td>P0109</td><td>Seem South</td><td>Electronics</td><td>Lenovo</td><td>1891.2</td><td>1702.0800000000002</td></tr><tr><td>P0110</td><td>Before Everybody</td><td>Toys</td><td>Samsung</td><td>776.77</td><td>699.093</td></tr><tr><td>P0111</td><td>Decade Land</td><td>Electronics</td><td>Adidas</td><td>1138.45</td><td>1024.605</td></tr><tr><td>P0112</td><td>Study Heavy</td><td>Beauty</td><td>Puma</td><td>1579.73</td><td>1421.757</td></tr><tr><td>P0113</td><td>These Skill</td><td>Clothing</td><td>Puma</td><td>810.64</td><td>729.576</td></tr><tr><td>P0114</td><td>Kid Necessary</td><td>Home</td><td>Nike</td><td>1178.36</td><td>1060.524</td></tr><tr><td>P0115</td><td>Subject Become</td><td>Electronics</td><td>Puma</td><td>1504.01</td><td>1353.609</td></tr><tr><td>P0116</td><td>Very Forget</td><td>Sports</td><td>Sony</td><td>287.59</td><td>258.83099999999996</td></tr><tr><td>P0117</td><td>Before Product</td><td>Beauty</td><td>Puma</td><td>665.49</td><td>598.941</td></tr><tr><td>P0118</td><td>Start Threat</td><td>Toys</td><td>Lenovo</td><td>1123.64</td><td>1011.2760000000001</td></tr><tr><td>P0119</td><td>Carry View</td><td>Home</td><td>Sony</td><td>60.42</td><td>54.378</td></tr><tr><td>P0120</td><td>Direction Character</td><td>Toys</td><td>Sony</td><td>368.47</td><td>331.62300000000005</td></tr><tr><td>P0121</td><td>Trade Drug</td><td>Sports</td><td>Nike</td><td>1959.23</td><td>1763.307</td></tr><tr><td>P0122</td><td>Tend Continue</td><td>Clothing</td><td>LG</td><td>539.16</td><td>485.24399999999997</td></tr><tr><td>P0123</td><td>Why Decide</td><td>Clothing</td><td>Nike</td><td>503.76</td><td>453.384</td></tr><tr><td>P0124</td><td>Operation Century</td><td>Clothing</td><td>Puma</td><td>1857.88</td><td>1672.092</td></tr><tr><td>P0125</td><td>Sort Summer</td><td>Home</td><td>Sony</td><td>947.43</td><td>852.687</td></tr><tr><td>P0126</td><td>Possible Which</td><td>Sports</td><td>Sony</td><td>1431.12</td><td>1288.008</td></tr><tr><td>P0127</td><td>Movement Picture</td><td>Home</td><td>Sony</td><td>1337.38</td><td>1203.642</td></tr><tr><td>P0128</td><td>Board Worker</td><td>Electronics</td><td>Apple</td><td>1935.2</td><td>1741.68</td></tr><tr><td>P0129</td><td>North On</td><td>Toys</td><td>Adidas</td><td>763.99</td><td>687.591</td></tr><tr><td>P0130</td><td>Behavior Nothing</td><td>Clothing</td><td>Adidas</td><td>1355.15</td><td>1219.6350000000002</td></tr><tr><td>P0131</td><td>Too Example</td><td>Clothing</td><td>Revlon</td><td>302.22</td><td>271.99800000000005</td></tr><tr><td>P0132</td><td>Issue Return</td><td>Home</td><td>Samsung</td><td>1194.22</td><td>1074.798</td></tr><tr><td>P0133</td><td>Speak Small</td><td>Electronics</td><td>LG</td><td>215.63</td><td>194.067</td></tr><tr><td>P0134</td><td>Stand Fire</td><td>Home</td><td>Puma</td><td>1625.17</td><td>1462.653</td></tr><tr><td>P0135</td><td>Maybe Light</td><td>Clothing</td><td>Puma</td><td>669.95</td><td>602.955</td></tr><tr><td>P0136</td><td>Year True</td><td>Sports</td><td>Samsung</td><td>48.0</td><td>43.2</td></tr><tr><td>P0137</td><td>Thought Travel</td><td>Clothing</td><td>Lenovo</td><td>1569.19</td><td>1412.2710000000002</td></tr><tr><td>P0138</td><td>Already Series</td><td>Clothing</td><td>Samsung</td><td>452.81</td><td>407.529</td></tr><tr><td>P0139</td><td>Seek President</td><td>Toys</td><td>Revlon</td><td>399.03</td><td>359.127</td></tr><tr><td>P0140</td><td>Detail Bar</td><td>Clothing</td><td>Adidas</td><td>116.36</td><td>104.724</td></tr><tr><td>P0141</td><td>Play Show</td><td>Electronics</td><td>Adidas</td><td>1039.71</td><td>935.739</td></tr><tr><td>P0142</td><td>Trouble Parent</td><td>Clothing</td><td>Adidas</td><td>1081.59</td><td>973.4309999999999</td></tr><tr><td>P0143</td><td>One Like</td><td>Electronics</td><td>Apple</td><td>1549.15</td><td>1394.2350000000001</td></tr><tr><td>P0144</td><td>Admit Street</td><td>Beauty</td><td>Apple</td><td>769.93</td><td>692.937</td></tr><tr><td>P0145</td><td>House Everything</td><td>Toys</td><td>Puma</td><td>453.73</td><td>408.357</td></tr><tr><td>P0146</td><td>Building Drive</td><td>Electronics</td><td>Sony</td><td>1763.2</td><td>1586.88</td></tr><tr><td>P0147</td><td>Among Success</td><td>Electronics</td><td>Lenovo</td><td>86.53</td><td>77.87700000000001</td></tr><tr><td>P0148</td><td>Politics Friend</td><td>Toys</td><td>Dell</td><td>435.86</td><td>392.274</td></tr><tr><td>P0149</td><td>Middle Price</td><td>Electronics</td><td>Samsung</td><td>793.61</td><td>714.249</td></tr><tr><td>P0150</td><td>Nice Clearly</td><td>Electronics</td><td>Samsung</td><td>1207.54</td><td>1086.786</td></tr><tr><td>P0151</td><td>Cup Per</td><td>Toys</td><td>Apple</td><td>38.43</td><td>34.587</td></tr><tr><td>P0152</td><td>Not Wait</td><td>Home</td><td>LG</td><td>357.33</td><td>321.597</td></tr><tr><td>P0153</td><td>Brother Four</td><td>Home</td><td>Apple</td><td>809.73</td><td>728.7570000000001</td></tr><tr><td>P0154</td><td>Trip Within</td><td>Beauty</td><td>Samsung</td><td>1089.28</td><td>980.352</td></tr><tr><td>P0155</td><td>Laugh Score</td><td>Electronics</td><td>Dell</td><td>12.35</td><td>11.115</td></tr><tr><td>P0156</td><td>Put After</td><td>Home</td><td>Sony</td><td>1746.06</td><td>1571.454</td></tr><tr><td>P0157</td><td>Race Provide</td><td>Home</td><td>Adidas</td><td>825.91</td><td>743.319</td></tr><tr><td>P0158</td><td>Pm Plant</td><td>Toys</td><td>Adidas</td><td>1286.8</td><td>1158.12</td></tr><tr><td>P0159</td><td>Politics Along</td><td>Home</td><td>Lenovo</td><td>674.29</td><td>606.861</td></tr><tr><td>P0160</td><td>Parent Into</td><td>Clothing</td><td>Nike</td><td>1542.46</td><td>1388.2140000000002</td></tr><tr><td>P0161</td><td>Need Book</td><td>Toys</td><td>LG</td><td>906.6</td><td>815.94</td></tr><tr><td>P0162</td><td>West This</td><td>Toys</td><td>Adidas</td><td>417.67</td><td>375.903</td></tr><tr><td>P0163</td><td>Tree Role</td><td>Toys</td><td>Dell</td><td>1307.14</td><td>1176.4260000000002</td></tr><tr><td>P0164</td><td>Word Hard</td><td>Electronics</td><td>Lenovo</td><td>535.06</td><td>481.554</td></tr><tr><td>P0165</td><td>Son Drug</td><td>Toys</td><td>Adidas</td><td>1971.77</td><td>1774.593</td></tr><tr><td>P0166</td><td>Look Field</td><td>Beauty</td><td>Samsung</td><td>62.19</td><td>55.971</td></tr><tr><td>P0167</td><td>Early Course</td><td>Electronics</td><td>Adidas</td><td>1666.23</td><td>1499.607</td></tr><tr><td>P0168</td><td>Generation Day</td><td>Toys</td><td>Sony</td><td>1006.63</td><td>905.967</td></tr><tr><td>P0169</td><td>Position Bank</td><td>Beauty</td><td>Sony</td><td>1267.42</td><td>1140.678</td></tr><tr><td>P0170</td><td>Second Start</td><td>Home</td><td>Lenovo</td><td>329.25</td><td>296.325</td></tr><tr><td>P0171</td><td>Option Necessary</td><td>Clothing</td><td>Lenovo</td><td>1557.09</td><td>1401.3809999999999</td></tr><tr><td>P0172</td><td>Commercial Through</td><td>Home</td><td>Sony</td><td>1759.47</td><td>1583.5230000000001</td></tr><tr><td>P0173</td><td>Nearly When</td><td>Electronics</td><td>Samsung</td><td>930.78</td><td>837.702</td></tr><tr><td>P0174</td><td>Weight Tax</td><td>Home</td><td>Lenovo</td><td>81.55</td><td>73.395</td></tr><tr><td>P0175</td><td>Enjoy Throughout</td><td>Home</td><td>Apple</td><td>364.2</td><td>327.78</td></tr><tr><td>P0176</td><td>Team Foreign</td><td>Home</td><td>Adidas</td><td>824.82</td><td>742.3380000000001</td></tr><tr><td>P0177</td><td>Article Smile</td><td>Clothing</td><td>Nike</td><td>1241.26</td><td>1117.134</td></tr><tr><td>P0178</td><td>Finally Suddenly</td><td>Toys</td><td>Adidas</td><td>743.65</td><td>669.285</td></tr><tr><td>P0179</td><td>Base Significant</td><td>Electronics</td><td>Samsung</td><td>1950.04</td><td>1755.036</td></tr><tr><td>P0180</td><td>Form Management</td><td>Electronics</td><td>Sony</td><td>141.37</td><td>127.233</td></tr><tr><td>P0181</td><td>Of Seek</td><td>Beauty</td><td>LG</td><td>1935.07</td><td>1741.5629999999999</td></tr><tr><td>P0182</td><td>Health I</td><td>Beauty</td><td>Apple</td><td>1661.22</td><td>1495.098</td></tr><tr><td>P0183</td><td>Born Focus</td><td>Sports</td><td>Samsung</td><td>762.15</td><td>685.935</td></tr><tr><td>P0184</td><td>Main Majority</td><td>Sports</td><td>Adidas</td><td>1003.71</td><td>903.339</td></tr><tr><td>P0185</td><td>Authority Director</td><td>Beauty</td><td>Apple</td><td>1595.17</td><td>1435.653</td></tr><tr><td>P0186</td><td>Tv Size</td><td>Sports</td><td>Revlon</td><td>231.03</td><td>207.927</td></tr><tr><td>P0187</td><td>Number They</td><td>Electronics</td><td>Nike</td><td>38.88</td><td>34.992000000000004</td></tr><tr><td>P0188</td><td>Able Seat</td><td>Electronics</td><td>Adidas</td><td>1582.57</td><td>1424.3129999999999</td></tr><tr><td>P0189</td><td>Commercial Boy</td><td>Home</td><td>Puma</td><td>641.08</td><td>576.9720000000001</td></tr><tr><td>P0190</td><td>Set Whom</td><td>Sports</td><td>Samsung</td><td>686.04</td><td>617.436</td></tr><tr><td>P0191</td><td>Myself Performance</td><td>Toys</td><td>Revlon</td><td>112.38</td><td>101.142</td></tr><tr><td>P0192</td><td>Up Management</td><td>Sports</td><td>Apple</td><td>942.81</td><td>848.529</td></tr><tr><td>P0193</td><td>Early They</td><td>Electronics</td><td>Nike</td><td>1238.31</td><td>1114.479</td></tr><tr><td>P0194</td><td>Charge Through</td><td>Electronics</td><td>Revlon</td><td>1814.74</td><td>1633.266</td></tr><tr><td>P0195</td><td>Leg In</td><td>Toys</td><td>Adidas</td><td>937.18</td><td>843.462</td></tr><tr><td>P0196</td><td>Study Teach</td><td>Clothing</td><td>Adidas</td><td>1159.15</td><td>1043.2350000000001</td></tr><tr><td>P0197</td><td>Old Ball</td><td>Sports</td><td>Revlon</td><td>1564.84</td><td>1408.356</td></tr><tr><td>P0198</td><td>Information Life</td><td>Sports</td><td>Samsung</td><td>628.47</td><td>565.623</td></tr><tr><td>P0199</td><td>Data Structure</td><td>Clothing</td><td>Sony</td><td>1368.51</td><td>1231.659</td></tr><tr><td>P0200</td><td>Close Knowledge</td><td>Toys</td><td>Apple</td><td>692.12</td><td>622.908</td></tr><tr><td>P0201</td><td>Professional Test</td><td>Beauty</td><td>Samsung</td><td>1573.37</td><td>1416.033</td></tr><tr><td>P0202</td><td>Analysis The</td><td>Electronics</td><td>Adidas</td><td>1953.99</td><td>1758.5910000000001</td></tr><tr><td>P0203</td><td>Difficult Around</td><td>Home</td><td>Samsung</td><td>1016.57</td><td>914.913</td></tr><tr><td>P0204</td><td>Show Teacher</td><td>Electronics</td><td>Adidas</td><td>1734.6</td><td>1561.1399999999999</td></tr><tr><td>P0205</td><td>Attorney I</td><td>Home</td><td>LG</td><td>478.82</td><td>430.938</td></tr><tr><td>P0206</td><td>Remember Stuff</td><td>Electronics</td><td>Apple</td><td>375.49</td><td>337.94100000000003</td></tr><tr><td>P0207</td><td>Year Much</td><td>Beauty</td><td>Adidas</td><td>230.41</td><td>207.369</td></tr><tr><td>P0208</td><td>Rather Require</td><td>Toys</td><td>Adidas</td><td>754.39</td><td>678.951</td></tr><tr><td>P0209</td><td>Catch Local</td><td>Sports</td><td>Revlon</td><td>1070.99</td><td>963.8910000000001</td></tr><tr><td>P0210</td><td>Learn Weight</td><td>Sports</td><td>Apple</td><td>863.71</td><td>777.339</td></tr><tr><td>P0211</td><td>Check Line</td><td>Beauty</td><td>Nike</td><td>1051.35</td><td>946.2149999999999</td></tr><tr><td>P0212</td><td>Per Leader</td><td>Home</td><td>Adidas</td><td>1766.16</td><td>1589.544</td></tr><tr><td>P0213</td><td>Suggest Chance</td><td>Sports</td><td>Samsung</td><td>1528.21</td><td>1375.3890000000001</td></tr><tr><td>P0214</td><td>Site Trip</td><td>Toys</td><td>Revlon</td><td>1725.81</td><td>1553.229</td></tr><tr><td>P0215</td><td>Trouble Treatment</td><td>Beauty</td><td>Adidas</td><td>1678.45</td><td>1510.605</td></tr><tr><td>P0216</td><td>Every Page</td><td>Home</td><td>Adidas</td><td>1526.03</td><td>1373.427</td></tr><tr><td>P0217</td><td>Vote Tree</td><td>Sports</td><td>Puma</td><td>1460.22</td><td>1314.198</td></tr><tr><td>P0218</td><td>Sea Clear</td><td>Beauty</td><td>Nike</td><td>207.67</td><td>186.903</td></tr><tr><td>P0219</td><td>Per Voice</td><td>Clothing</td><td>Dell</td><td>996.21</td><td>896.589</td></tr><tr><td>P0220</td><td>Term Fine</td><td>Beauty</td><td>Dell</td><td>1354.7</td><td>1219.23</td></tr><tr><td>P0221</td><td>Player Summer</td><td>Beauty</td><td>Lenovo</td><td>1205.37</td><td>1084.8329999999999</td></tr><tr><td>P0222</td><td>Respond Knowledge</td><td>Electronics</td><td>Samsung</td><td>977.33</td><td>879.5970000000001</td></tr><tr><td>P0223</td><td>Believe Activity</td><td>Toys</td><td>Lenovo</td><td>1292.39</td><td>1163.151</td></tr><tr><td>P0224</td><td>Federal Around</td><td>Clothing</td><td>Apple</td><td>1153.17</td><td>1037.853</td></tr><tr><td>P0225</td><td>Discussion Region</td><td>Beauty</td><td>Nike</td><td>551.26</td><td>496.134</td></tr><tr><td>P0226</td><td>Care North</td><td>Beauty</td><td>Lenovo</td><td>1668.89</td><td>1502.0010000000002</td></tr><tr><td>P0227</td><td>Need Method</td><td>Beauty</td><td>Nike</td><td>449.11</td><td>404.199</td></tr><tr><td>P0228</td><td>Citizen Item</td><td>Sports</td><td>Puma</td><td>317.83</td><td>286.04699999999997</td></tr><tr><td>P0229</td><td>Material If</td><td>Home</td><td>Lenovo</td><td>1399.43</td><td>1259.487</td></tr><tr><td>P0230</td><td>Old Increase</td><td>Beauty</td><td>Samsung</td><td>1163.64</td><td>1047.276</td></tr><tr><td>P0231</td><td>Do Chair</td><td>Home</td><td>Revlon</td><td>781.81</td><td>703.629</td></tr><tr><td>P0232</td><td>Would Along</td><td>Toys</td><td>Adidas</td><td>896.07</td><td>806.4630000000001</td></tr><tr><td>P0233</td><td>Second Learn</td><td>Toys</td><td>Lenovo</td><td>901.28</td><td>811.152</td></tr><tr><td>P0234</td><td>Guess At</td><td>Sports</td><td>Sony</td><td>1231.55</td><td>1108.395</td></tr><tr><td>P0235</td><td>Country Knowledge</td><td>Sports</td><td>Adidas</td><td>1297.8</td><td>1168.02</td></tr><tr><td>P0236</td><td>War Involve</td><td>Electronics</td><td>Samsung</td><td>951.74</td><td>856.566</td></tr><tr><td>P0237</td><td>As Push</td><td>Toys</td><td>Samsung</td><td>164.53</td><td>148.077</td></tr><tr><td>P0238</td><td>Air Life</td><td>Beauty</td><td>Revlon</td><td>1358.99</td><td>1223.0910000000001</td></tr><tr><td>P0239</td><td>Show Finally</td><td>Toys</td><td>Nike</td><td>1612.58</td><td>1451.322</td></tr><tr><td>P0240</td><td>Six Senior</td><td>Clothing</td><td>Samsung</td><td>1648.93</td><td>1484.037</td></tr><tr><td>P0241</td><td>Edge Civil</td><td>Electronics</td><td>Puma</td><td>1531.37</td><td>1378.233</td></tr><tr><td>P0242</td><td>Radio Lot</td><td>Home</td><td>Samsung</td><td>412.59</td><td>371.33099999999996</td></tr><tr><td>P0243</td><td>Recent The</td><td>Beauty</td><td>Lenovo</td><td>1875.22</td><td>1687.698</td></tr><tr><td>P0244</td><td>Run Market</td><td>Beauty</td><td>Revlon</td><td>1843.58</td><td>1659.222</td></tr><tr><td>P0245</td><td>Occur Attention</td><td>Beauty</td><td>LG</td><td>270.43</td><td>243.387</td></tr><tr><td>P0246</td><td>Great Field</td><td>Electronics</td><td>Adidas</td><td>1449.57</td><td>1304.613</td></tr><tr><td>P0247</td><td>Step Information</td><td>Electronics</td><td>Sony</td><td>825.1</td><td>742.59</td></tr><tr><td>P0248</td><td>Develop International</td><td>Electronics</td><td>Revlon</td><td>1200.32</td><td>1080.288</td></tr><tr><td>P0249</td><td>There True</td><td>Electronics</td><td>Puma</td><td>1536.54</td><td>1382.886</td></tr><tr><td>P0250</td><td>Half Ten</td><td>Sports</td><td>Samsung</td><td>710.82</td><td>639.738</td></tr><tr><td>P0251</td><td>Business Own</td><td>Beauty</td><td>Lenovo</td><td>28.65</td><td>25.785</td></tr><tr><td>P0252</td><td>Late Thus</td><td>Electronics</td><td>Sony</td><td>1957.38</td><td>1761.642</td></tr><tr><td>P0253</td><td>Onto Owner</td><td>Toys</td><td>Lenovo</td><td>226.44</td><td>203.796</td></tr><tr><td>P0254</td><td>According Because</td><td>Home</td><td>Lenovo</td><td>503.61</td><td>453.249</td></tr><tr><td>P0255</td><td>Activity Western</td><td>Sports</td><td>Lenovo</td><td>154.4</td><td>138.96</td></tr><tr><td>P0256</td><td>Note Worker</td><td>Electronics</td><td>Lenovo</td><td>882.48</td><td>794.2320000000001</td></tr><tr><td>P0257</td><td>Executive Art</td><td>Beauty</td><td>Nike</td><td>944.89</td><td>850.401</td></tr><tr><td>P0258</td><td>Culture Follow</td><td>Home</td><td>Revlon</td><td>1423.91</td><td>1281.519</td></tr><tr><td>P0259</td><td>Against Kind</td><td>Sports</td><td>Puma</td><td>1484.64</td><td>1336.1760000000002</td></tr><tr><td>P0260</td><td>About Buy</td><td>Electronics</td><td>Revlon</td><td>1255.56</td><td>1130.004</td></tr><tr><td>P0261</td><td>Capital Well</td><td>Beauty</td><td>Dell</td><td>203.78</td><td>183.40200000000002</td></tr><tr><td>P0262</td><td>Decade Left</td><td>Toys</td><td>Samsung</td><td>885.15</td><td>796.635</td></tr><tr><td>P0263</td><td>Machine Heart</td><td>Sports</td><td>Nike</td><td>371.19</td><td>334.071</td></tr><tr><td>P0264</td><td>Thought Heavy</td><td>Beauty</td><td>Apple</td><td>1030.44</td><td>927.3960000000001</td></tr><tr><td>P0265</td><td>Image No</td><td>Toys</td><td>Nike</td><td>1216.14</td><td>1094.526</td></tr><tr><td>P0266</td><td>Specific You</td><td>Electronics</td><td>LG</td><td>324.37</td><td>291.933</td></tr><tr><td>P0267</td><td>Painting Daughter</td><td>Home</td><td>Adidas</td><td>1772.83</td><td>1595.547</td></tr><tr><td>P0268</td><td>Man Near</td><td>Sports</td><td>Dell</td><td>631.29</td><td>568.161</td></tr><tr><td>P0269</td><td>Grow Fly</td><td>Sports</td><td>Lenovo</td><td>1192.68</td><td>1073.412</td></tr><tr><td>P0270</td><td>Candidate Question</td><td>Beauty</td><td>Samsung</td><td>611.71</td><td>550.5390000000001</td></tr><tr><td>P0271</td><td>Notice Town</td><td>Sports</td><td>Puma</td><td>1362.74</td><td>1226.4660000000001</td></tr><tr><td>P0272</td><td>Defense Either</td><td>Beauty</td><td>Dell</td><td>1472.29</td><td>1325.061</td></tr><tr><td>P0273</td><td>Peace When</td><td>Electronics</td><td>Nike</td><td>146.58</td><td>131.92200000000003</td></tr><tr><td>P0274</td><td>Always Debate</td><td>Clothing</td><td>Samsung</td><td>1128.5</td><td>1015.65</td></tr><tr><td>P0275</td><td>Piece Information</td><td>Toys</td><td>Sony</td><td>1478.58</td><td>1330.722</td></tr><tr><td>P0276</td><td>Team Support</td><td>Toys</td><td>Puma</td><td>1155.12</td><td>1039.608</td></tr><tr><td>P0277</td><td>Field White</td><td>Home</td><td>Dell</td><td>63.16</td><td>56.844</td></tr><tr><td>P0278</td><td>Similar Can</td><td>Beauty</td><td>Revlon</td><td>414.78</td><td>373.30199999999996</td></tr><tr><td>P0279</td><td>Fast Situation</td><td>Beauty</td><td>Lenovo</td><td>1619.24</td><td>1457.316</td></tr><tr><td>P0280</td><td>Financial Enough</td><td>Clothing</td><td>Puma</td><td>566.91</td><td>510.219</td></tr><tr><td>P0281</td><td>Hot Customer</td><td>Home</td><td>Puma</td><td>188.55</td><td>169.69500000000002</td></tr><tr><td>P0282</td><td>Matter To</td><td>Electronics</td><td>Samsung</td><td>69.59</td><td>62.63100000000001</td></tr><tr><td>P0283</td><td>Southern Team</td><td>Sports</td><td>Nike</td><td>474.49</td><td>427.041</td></tr><tr><td>P0284</td><td>Population Account</td><td>Beauty</td><td>Puma</td><td>352.26</td><td>317.034</td></tr><tr><td>P0285</td><td>Cultural Beat</td><td>Clothing</td><td>Revlon</td><td>1123.4</td><td>1011.0600000000001</td></tr><tr><td>P0286</td><td>Blood Chair</td><td>Beauty</td><td>Adidas</td><td>1164.64</td><td>1048.1760000000002</td></tr><tr><td>P0287</td><td>Evening Natural</td><td>Electronics</td><td>Puma</td><td>1084.4</td><td>975.9600000000002</td></tr><tr><td>P0288</td><td>Source Hour</td><td>Toys</td><td>Lenovo</td><td>1486.02</td><td>1337.4180000000001</td></tr><tr><td>P0289</td><td>Finish Everything</td><td>Sports</td><td>Puma</td><td>1780.19</td><td>1602.171</td></tr><tr><td>P0290</td><td>Room Public</td><td>Beauty</td><td>LG</td><td>919.28</td><td>827.352</td></tr><tr><td>P0291</td><td>Able Media</td><td>Electronics</td><td>LG</td><td>890.9</td><td>801.81</td></tr><tr><td>P0292</td><td>Very Event</td><td>Toys</td><td>Sony</td><td>1339.35</td><td>1205.415</td></tr><tr><td>P0293</td><td>Degree Agency</td><td>Electronics</td><td>LG</td><td>107.68</td><td>96.912</td></tr><tr><td>P0294</td><td>Dark Former</td><td>Sports</td><td>Lenovo</td><td>1054.65</td><td>949.1850000000001</td></tr><tr><td>P0295</td><td>Participant Kitchen</td><td>Electronics</td><td>Puma</td><td>1938.35</td><td>1744.5149999999999</td></tr><tr><td>P0296</td><td>Garden Reach</td><td>Sports</td><td>Nike</td><td>1738.65</td><td>1564.785</td></tr><tr><td>P0297</td><td>Turn Degree</td><td>Sports</td><td>Nike</td><td>859.64</td><td>773.676</td></tr><tr><td>P0298</td><td>Talk Offer</td><td>Clothing</td><td>Revlon</td><td>1571.12</td><td>1414.008</td></tr><tr><td>P0299</td><td>Look Mention</td><td>Home</td><td>Apple</td><td>1170.51</td><td>1053.459</td></tr><tr><td>P0300</td><td>Amount Politics</td><td>Electronics</td><td>Sony</td><td>1741.53</td><td>1567.377</td></tr><tr><td>P0301</td><td>Side Note</td><td>Clothing</td><td>Adidas</td><td>1005.47</td><td>904.923</td></tr><tr><td>P0302</td><td>Three Seven</td><td>Electronics</td><td>Nike</td><td>1017.38</td><td>915.642</td></tr><tr><td>P0303</td><td>Child Help</td><td>Clothing</td><td>LG</td><td>1052.48</td><td>947.2320000000001</td></tr><tr><td>P0304</td><td>Our Arrive</td><td>Beauty</td><td>Adidas</td><td>1039.68</td><td>935.7120000000001</td></tr><tr><td>P0305</td><td>Score Choice</td><td>Electronics</td><td>Puma</td><td>1089.74</td><td>980.7660000000001</td></tr><tr><td>P0306</td><td>Six Speak</td><td>Toys</td><td>Samsung</td><td>140.5</td><td>126.45</td></tr><tr><td>P0307</td><td>Culture Specific</td><td>Beauty</td><td>Lenovo</td><td>1923.44</td><td>1731.096</td></tr><tr><td>P0308</td><td>And Agent</td><td>Sports</td><td>Nike</td><td>187.35</td><td>168.615</td></tr><tr><td>P0309</td><td>Nor Prepare</td><td>Toys</td><td>Apple</td><td>445.2</td><td>400.68</td></tr><tr><td>P0310</td><td>Ok Leave</td><td>Home</td><td>Samsung</td><td>704.08</td><td>633.672</td></tr><tr><td>P0311</td><td>Blue Live</td><td>Toys</td><td>Revlon</td><td>454.3</td><td>408.87</td></tr><tr><td>P0312</td><td>Big Similar</td><td>Beauty</td><td>Puma</td><td>1500.97</td><td>1350.873</td></tr><tr><td>P0313</td><td>Try You</td><td>Sports</td><td>Samsung</td><td>985.34</td><td>886.806</td></tr><tr><td>P0314</td><td>Protect Hope</td><td>Sports</td><td>Nike</td><td>599.47</td><td>539.523</td></tr><tr><td>P0315</td><td>Work Party</td><td>Clothing</td><td>Dell</td><td>1703.11</td><td>1532.799</td></tr><tr><td>P0316</td><td>Sell State</td><td>Clothing</td><td>Puma</td><td>605.68</td><td>545.112</td></tr><tr><td>P0317</td><td>Trade Region</td><td>Home</td><td>Dell</td><td>1174.72</td><td>1057.248</td></tr><tr><td>P0318</td><td>History Create</td><td>Toys</td><td>Samsung</td><td>824.7</td><td>742.23</td></tr><tr><td>P0319</td><td>Trouble Street</td><td>Home</td><td>Nike</td><td>1494.78</td><td>1345.302</td></tr><tr><td>P0320</td><td>Whole Road</td><td>Toys</td><td>Adidas</td><td>491.43</td><td>442.28700000000003</td></tr><tr><td>P0321</td><td>They As</td><td>Toys</td><td>Lenovo</td><td>1631.26</td><td>1468.134</td></tr><tr><td>P0322</td><td>Part Traditional</td><td>Beauty</td><td>Dell</td><td>1731.88</td><td>1558.6920000000002</td></tr><tr><td>P0323</td><td>Professor What</td><td>Beauty</td><td>Lenovo</td><td>1248.81</td><td>1123.929</td></tr><tr><td>P0324</td><td>Light Idea</td><td>Toys</td><td>Nike</td><td>1819.96</td><td>1637.9640000000002</td></tr><tr><td>P0325</td><td>Right Program</td><td>Beauty</td><td>Lenovo</td><td>1361.28</td><td>1225.152</td></tr><tr><td>P0326</td><td>Safe Loss</td><td>Clothing</td><td>Nike</td><td>1688.79</td><td>1519.911</td></tr><tr><td>P0327</td><td>Garden Shake</td><td>Electronics</td><td>Sony</td><td>943.0</td><td>848.7</td></tr><tr><td>P0328</td><td>Space Person</td><td>Clothing</td><td>Lenovo</td><td>1928.38</td><td>1735.5420000000001</td></tr><tr><td>P0329</td><td>Range However</td><td>Toys</td><td>Nike</td><td>1295.37</td><td>1165.8329999999999</td></tr><tr><td>P0330</td><td>Main Student</td><td>Sports</td><td>LG</td><td>1241.75</td><td>1117.575</td></tr><tr><td>P0331</td><td>Let Positive</td><td>Sports</td><td>LG</td><td>1528.85</td><td>1375.965</td></tr><tr><td>P0332</td><td>Thus Make</td><td>Toys</td><td>Lenovo</td><td>1369.33</td><td>1232.397</td></tr><tr><td>P0333</td><td>History Easy</td><td>Beauty</td><td>Sony</td><td>1892.24</td><td>1703.016</td></tr><tr><td>P0334</td><td>Customer Loss</td><td>Beauty</td><td>Lenovo</td><td>1560.27</td><td>1404.243</td></tr><tr><td>P0335</td><td>Type Area</td><td>Sports</td><td>Samsung</td><td>1352.39</td><td>1217.151</td></tr><tr><td>P0336</td><td>Shake Current</td><td>Electronics</td><td>Dell</td><td>222.93</td><td>200.637</td></tr><tr><td>P0337</td><td>Very Include</td><td>Toys</td><td>Samsung</td><td>1968.32</td><td>1771.488</td></tr><tr><td>P0338</td><td>Service Military</td><td>Home</td><td>LG</td><td>1844.1</td><td>1659.69</td></tr><tr><td>P0339</td><td>Rule Site</td><td>Sports</td><td>LG</td><td>1321.67</td><td>1189.5030000000002</td></tr><tr><td>P0340</td><td>Though Pretty</td><td>Electronics</td><td>Adidas</td><td>1635.48</td><td>1471.932</td></tr><tr><td>P0341</td><td>Me Small</td><td>Home</td><td>Lenovo</td><td>1333.84</td><td>1200.456</td></tr><tr><td>P0342</td><td>Trouble Over</td><td>Beauty</td><td>Nike</td><td>125.97</td><td>113.373</td></tr><tr><td>P0343</td><td>Yeah Former</td><td>Toys</td><td>Sony</td><td>539.06</td><td>485.15399999999994</td></tr><tr><td>P0344</td><td>House Enter</td><td>Beauty</td><td>Nike</td><td>1118.86</td><td>1006.9739999999999</td></tr><tr><td>P0345</td><td>Federal Sport</td><td>Sports</td><td>Apple</td><td>1366.77</td><td>1230.093</td></tr><tr><td>P0346</td><td>International Yes</td><td>Home</td><td>Dell</td><td>84.09</td><td>75.68100000000001</td></tr><tr><td>P0347</td><td>Painting Kid</td><td>Beauty</td><td>Sony</td><td>452.69</td><td>407.421</td></tr><tr><td>P0348</td><td>Late Smile</td><td>Home</td><td>LG</td><td>958.75</td><td>862.875</td></tr><tr><td>P0349</td><td>Less Can</td><td>Beauty</td><td>LG</td><td>1059.73</td><td>953.7570000000001</td></tr><tr><td>P0350</td><td>Garden Blue</td><td>Sports</td><td>Dell</td><td>758.98</td><td>683.082</td></tr><tr><td>P0351</td><td>Debate Whether</td><td>Beauty</td><td>Samsung</td><td>390.64</td><td>351.576</td></tr><tr><td>P0352</td><td>About Room</td><td>Home</td><td>Sony</td><td>1226.91</td><td>1104.219</td></tr><tr><td>P0353</td><td>Local Big</td><td>Electronics</td><td>Adidas</td><td>1464.67</td><td>1318.2030000000002</td></tr><tr><td>P0354</td><td>Stop As</td><td>Electronics</td><td>Samsung</td><td>289.67</td><td>260.70300000000003</td></tr><tr><td>P0355</td><td>Itself Explain</td><td>Toys</td><td>Apple</td><td>1804.42</td><td>1623.978</td></tr><tr><td>P0356</td><td>Method Authority</td><td>Electronics</td><td>Samsung</td><td>97.91</td><td>88.119</td></tr><tr><td>P0357</td><td>The Seek</td><td>Clothing</td><td>Adidas</td><td>1705.13</td><td>1534.6170000000002</td></tr><tr><td>P0358</td><td>Quickly Republican</td><td>Sports</td><td>Samsung</td><td>1175.18</td><td>1057.662</td></tr><tr><td>P0359</td><td>Feel Describe</td><td>Home</td><td>Lenovo</td><td>660.84</td><td>594.7560000000001</td></tr><tr><td>P0360</td><td>Reveal Organization</td><td>Clothing</td><td>Lenovo</td><td>175.53</td><td>157.977</td></tr><tr><td>P0361</td><td>Energy Lay</td><td>Beauty</td><td>LG</td><td>1572.29</td><td>1415.061</td></tr><tr><td>P0362</td><td>Reality Network</td><td>Toys</td><td>Revlon</td><td>1555.65</td><td>1400.085</td></tr><tr><td>P0363</td><td>Score Read</td><td>Home</td><td>Nike</td><td>758.11</td><td>682.299</td></tr><tr><td>P0364</td><td>What Describe</td><td>Sports</td><td>Dell</td><td>930.34</td><td>837.306</td></tr><tr><td>P0365</td><td>Available Rich</td><td>Clothing</td><td>Revlon</td><td>1542.85</td><td>1388.565</td></tr><tr><td>P0366</td><td>Seek Position</td><td>Toys</td><td>Apple</td><td>1008.85</td><td>907.965</td></tr><tr><td>P0367</td><td>Human See</td><td>Clothing</td><td>Nike</td><td>776.79</td><td>699.111</td></tr><tr><td>P0368</td><td>National Various</td><td>Beauty</td><td>Dell</td><td>138.37</td><td>124.533</td></tr><tr><td>P0369</td><td>Spend Account</td><td>Sports</td><td>Apple</td><td>1954.77</td><td>1759.2930000000001</td></tr><tr><td>P0370</td><td>Artist Protect</td><td>Sports</td><td>Lenovo</td><td>1000.0</td><td>900.0</td></tr><tr><td>P0371</td><td>Possible So</td><td>Electronics</td><td>Dell</td><td>1479.94</td><td>1331.9460000000001</td></tr><tr><td>P0372</td><td>Level Rock</td><td>Electronics</td><td>Dell</td><td>1242.11</td><td>1117.899</td></tr><tr><td>P0373</td><td>Wrong Building</td><td>Beauty</td><td>Puma</td><td>1858.79</td><td>1672.911</td></tr><tr><td>P0374</td><td>Whom Century</td><td>Beauty</td><td>LG</td><td>1676.32</td><td>1508.6879999999999</td></tr><tr><td>P0375</td><td>Local Evening</td><td>Electronics</td><td>Sony</td><td>412.3</td><td>371.07</td></tr><tr><td>P0376</td><td>Piece Raise</td><td>Beauty</td><td>Adidas</td><td>1860.84</td><td>1674.7559999999999</td></tr><tr><td>P0377</td><td>Think None</td><td>Sports</td><td>Dell</td><td>1298.87</td><td>1168.983</td></tr><tr><td>P0378</td><td>Economy Court</td><td>Electronics</td><td>Dell</td><td>1677.01</td><td>1509.309</td></tr><tr><td>P0379</td><td>Ball Base</td><td>Clothing</td><td>Sony</td><td>1028.64</td><td>925.7760000000001</td></tr><tr><td>P0380</td><td>Blue Finally</td><td>Sports</td><td>Dell</td><td>1721.21</td><td>1549.0890000000002</td></tr><tr><td>P0381</td><td>Tend Inside</td><td>Clothing</td><td>Adidas</td><td>1203.96</td><td>1083.564</td></tr><tr><td>P0382</td><td>Five Force</td><td>Home</td><td>Apple</td><td>713.46</td><td>642.114</td></tr><tr><td>P0383</td><td>Popular Herself</td><td>Beauty</td><td>Revlon</td><td>180.91</td><td>162.819</td></tr><tr><td>P0384</td><td>Issue Doctor</td><td>Toys</td><td>Puma</td><td>86.38</td><td>77.742</td></tr><tr><td>P0385</td><td>Old Hand</td><td>Beauty</td><td>Revlon</td><td>1924.73</td><td>1732.257</td></tr><tr><td>P0386</td><td>Style Again</td><td>Sports</td><td>Revlon</td><td>1294.16</td><td>1164.7440000000001</td></tr><tr><td>P0387</td><td>Affect Continue</td><td>Clothing</td><td>Dell</td><td>1648.43</td><td>1483.587</td></tr><tr><td>P0388</td><td>Professional Physical</td><td>Clothing</td><td>Puma</td><td>922.07</td><td>829.863</td></tr><tr><td>P0389</td><td>Necessary Upon</td><td>Beauty</td><td>Sony</td><td>458.59</td><td>412.731</td></tr><tr><td>P0390</td><td>Leader Security</td><td>Toys</td><td>Lenovo</td><td>867.57</td><td>780.8130000000001</td></tr><tr><td>P0391</td><td>Serious Information</td><td>Beauty</td><td>Sony</td><td>1392.3</td><td>1253.07</td></tr><tr><td>P0392</td><td>Customer Or</td><td>Sports</td><td>Apple</td><td>892.97</td><td>803.673</td></tr><tr><td>P0393</td><td>Goal Ground</td><td>Clothing</td><td>Sony</td><td>1619.98</td><td>1457.982</td></tr><tr><td>P0394</td><td>Beautiful Small</td><td>Beauty</td><td>Samsung</td><td>926.57</td><td>833.913</td></tr><tr><td>P0395</td><td>Song Approach</td><td>Clothing</td><td>Samsung</td><td>1758.5</td><td>1582.65</td></tr><tr><td>P0396</td><td>Pattern Age</td><td>Electronics</td><td>Lenovo</td><td>1566.87</td><td>1410.183</td></tr><tr><td>P0397</td><td>Civil Action</td><td>Sports</td><td>Apple</td><td>1877.24</td><td>1689.516</td></tr><tr><td>P0398</td><td>Floor Daughter</td><td>Electronics</td><td>Apple</td><td>1825.42</td><td>1642.8780000000002</td></tr><tr><td>P0399</td><td>Parent Reflect</td><td>Toys</td><td>Nike</td><td>1135.56</td><td>1022.004</td></tr><tr><td>P0400</td><td>Any Buy</td><td>Clothing</td><td>Sony</td><td>835.22</td><td>751.6980000000001</td></tr><tr><td>P0401</td><td>Design Machine</td><td>Toys</td><td>Dell</td><td>392.57</td><td>353.313</td></tr><tr><td>P0402</td><td>Area Your</td><td>Beauty</td><td>Lenovo</td><td>47.46</td><td>42.714</td></tr><tr><td>P0403</td><td>Artist Anyone</td><td>Home</td><td>Lenovo</td><td>1744.03</td><td>1569.627</td></tr><tr><td>P0404</td><td>Card Government</td><td>Electronics</td><td>LG</td><td>967.18</td><td>870.462</td></tr><tr><td>P0405</td><td>Population Hold</td><td>Electronics</td><td>Dell</td><td>1225.32</td><td>1102.788</td></tr><tr><td>P0406</td><td>Indicate Produce</td><td>Beauty</td><td>Adidas</td><td>584.74</td><td>526.2660000000001</td></tr><tr><td>P0407</td><td>Carry Laugh</td><td>Home</td><td>LG</td><td>584.71</td><td>526.239</td></tr><tr><td>P0408</td><td>Finish Sister</td><td>Sports</td><td>Apple</td><td>1167.48</td><td>1050.732</td></tr><tr><td>P0409</td><td>Happen Old</td><td>Sports</td><td>LG</td><td>890.11</td><td>801.099</td></tr><tr><td>P0410</td><td>Particular Cause</td><td>Toys</td><td>Adidas</td><td>373.46</td><td>336.114</td></tr><tr><td>P0411</td><td>Attack Cell</td><td>Electronics</td><td>Puma</td><td>873.95</td><td>786.5550000000001</td></tr><tr><td>P0412</td><td>Significant Ability</td><td>Electronics</td><td>Dell</td><td>129.25</td><td>116.325</td></tr><tr><td>P0413</td><td>Stand Enough</td><td>Clothing</td><td>Lenovo</td><td>342.07</td><td>307.863</td></tr><tr><td>P0414</td><td>Pressure Role</td><td>Beauty</td><td>LG</td><td>1456.9</td><td>1311.21</td></tr><tr><td>P0415</td><td>Great Wish</td><td>Beauty</td><td>Samsung</td><td>1821.91</td><td>1639.719</td></tr><tr><td>P0416</td><td>Brother Would</td><td>Toys</td><td>Nike</td><td>427.5</td><td>384.75</td></tr><tr><td>P0417</td><td>Sing Head</td><td>Beauty</td><td>Revlon</td><td>111.34</td><td>100.206</td></tr><tr><td>P0418</td><td>Other Right</td><td>Home</td><td>Dell</td><td>1844.36</td><td>1659.924</td></tr><tr><td>P0419</td><td>Claim Firm</td><td>Toys</td><td>Adidas</td><td>629.71</td><td>566.739</td></tr><tr><td>P0420</td><td>Social Cost</td><td>Home</td><td>Adidas</td><td>49.6</td><td>44.64</td></tr><tr><td>P0421</td><td>Whole Per</td><td>Clothing</td><td>Sony</td><td>1520.45</td><td>1368.405</td></tr><tr><td>P0422</td><td>Society Action</td><td>Electronics</td><td>Revlon</td><td>184.69</td><td>166.221</td></tr><tr><td>P0423</td><td>Add Eight</td><td>Clothing</td><td>Dell</td><td>990.07</td><td>891.0630000000001</td></tr><tr><td>P0424</td><td>What Best</td><td>Sports</td><td>Apple</td><td>1141.78</td><td>1027.602</td></tr><tr><td>P0425</td><td>Girl Important</td><td>Home</td><td>Adidas</td><td>1822.03</td><td>1639.827</td></tr><tr><td>P0426</td><td>Several Pick</td><td>Electronics</td><td>Puma</td><td>1956.82</td><td>1761.138</td></tr><tr><td>P0427</td><td>Despite Dream</td><td>Sports</td><td>Sony</td><td>1967.84</td><td>1771.056</td></tr><tr><td>P0428</td><td>Why Ten</td><td>Beauty</td><td>Sony</td><td>1582.19</td><td>1423.971</td></tr><tr><td>P0429</td><td>Never Painting</td><td>Electronics</td><td>Apple</td><td>1734.0</td><td>1560.6000000000001</td></tr><tr><td>P0430</td><td>Language Style</td><td>Sports</td><td>Adidas</td><td>1386.32</td><td>1247.6879999999999</td></tr><tr><td>P0431</td><td>Physical Quite</td><td>Electronics</td><td>Dell</td><td>682.1</td><td>613.89</td></tr><tr><td>P0432</td><td>Discuss Decide</td><td>Toys</td><td>Revlon</td><td>1287.08</td><td>1158.372</td></tr><tr><td>P0433</td><td>Would Describe</td><td>Electronics</td><td>Apple</td><td>1123.66</td><td>1011.2940000000001</td></tr><tr><td>P0434</td><td>Every Line</td><td>Electronics</td><td>Adidas</td><td>1689.45</td><td>1520.505</td></tr><tr><td>P0435</td><td>Debate Center</td><td>Sports</td><td>Nike</td><td>1902.58</td><td>1712.322</td></tr><tr><td>P0436</td><td>Begin Three</td><td>Sports</td><td>Puma</td><td>1781.45</td><td>1603.305</td></tr><tr><td>P0437</td><td>Explain Until</td><td>Clothing</td><td>Sony</td><td>465.4</td><td>418.86</td></tr><tr><td>P0438</td><td>Mind Add</td><td>Toys</td><td>LG</td><td>1309.15</td><td>1178.2350000000001</td></tr><tr><td>P0439</td><td>Very Democratic</td><td>Home</td><td>Apple</td><td>1174.39</td><td>1056.951</td></tr><tr><td>P0440</td><td>Travel Practice</td><td>Electronics</td><td>Dell</td><td>1983.25</td><td>1784.925</td></tr><tr><td>P0441</td><td>Lot Fish</td><td>Toys</td><td>Adidas</td><td>1300.71</td><td>1170.6390000000001</td></tr><tr><td>P0442</td><td>Animal Court</td><td>Electronics</td><td>Adidas</td><td>1811.22</td><td>1630.098</td></tr><tr><td>P0443</td><td>Campaign Decision</td><td>Toys</td><td>Dell</td><td>685.07</td><td>616.5630000000001</td></tr><tr><td>P0444</td><td>Change It</td><td>Beauty</td><td>Revlon</td><td>655.62</td><td>590.058</td></tr><tr><td>P0445</td><td>Mean Hospital</td><td>Electronics</td><td>Apple</td><td>792.65</td><td>713.385</td></tr><tr><td>P0446</td><td>Blood National</td><td>Sports</td><td>Puma</td><td>1016.83</td><td>915.147</td></tr><tr><td>P0447</td><td>There Whether</td><td>Toys</td><td>Sony</td><td>915.77</td><td>824.193</td></tr><tr><td>P0448</td><td>Method Plant</td><td>Electronics</td><td>LG</td><td>1264.88</td><td>1138.392</td></tr><tr><td>P0449</td><td>Property Total</td><td>Electronics</td><td>Samsung</td><td>188.96</td><td>170.06400000000002</td></tr><tr><td>P0450</td><td>Laugh Minute</td><td>Home</td><td>Revlon</td><td>985.83</td><td>887.2470000000001</td></tr><tr><td>P0451</td><td>Card Another</td><td>Sports</td><td>Puma</td><td>1663.54</td><td>1497.186</td></tr><tr><td>P0452</td><td>Other Role</td><td>Electronics</td><td>Dell</td><td>1462.41</td><td>1316.169</td></tr><tr><td>P0453</td><td>Early Authority</td><td>Home</td><td>Sony</td><td>250.33</td><td>225.29700000000003</td></tr><tr><td>P0454</td><td>Window Nature</td><td>Clothing</td><td>Sony</td><td>324.49</td><td>292.041</td></tr><tr><td>P0455</td><td>Me True</td><td>Beauty</td><td>Puma</td><td>1884.65</td><td>1696.1850000000002</td></tr><tr><td>P0456</td><td>Side Knowledge</td><td>Clothing</td><td>Apple</td><td>1904.87</td><td>1714.383</td></tr><tr><td>P0457</td><td>Reach House</td><td>Sports</td><td>Nike</td><td>1731.23</td><td>1558.107</td></tr><tr><td>P0458</td><td>Fight Claim</td><td>Home</td><td>Dell</td><td>629.24</td><td>566.316</td></tr><tr><td>P0459</td><td>Without Matter</td><td>Toys</td><td>Apple</td><td>1208.62</td><td>1087.758</td></tr><tr><td>P0460</td><td>Recently Heavy</td><td>Electronics</td><td>Revlon</td><td>1327.98</td><td>1195.182</td></tr><tr><td>P0461</td><td>Dream Thought</td><td>Home</td><td>Apple</td><td>1367.65</td><td>1230.8850000000002</td></tr><tr><td>P0462</td><td>Modern Yet</td><td>Sports</td><td>Revlon</td><td>1909.36</td><td>1718.424</td></tr><tr><td>P0463</td><td>Movie Cell</td><td>Clothing</td><td>Apple</td><td>293.1</td><td>263.79</td></tr><tr><td>P0464</td><td>Whatever Audience</td><td>Electronics</td><td>Sony</td><td>638.63</td><td>574.767</td></tr><tr><td>P0465</td><td>Morning Politics</td><td>Sports</td><td>Lenovo</td><td>151.23</td><td>136.107</td></tr><tr><td>P0466</td><td>Effort Service</td><td>Beauty</td><td>Lenovo</td><td>1305.34</td><td>1174.806</td></tr><tr><td>P0467</td><td>Approach Only</td><td>Clothing</td><td>Adidas</td><td>15.91</td><td>14.319</td></tr><tr><td>P0468</td><td>Present Recent</td><td>Toys</td><td>LG</td><td>1530.08</td><td>1377.072</td></tr><tr><td>P0469</td><td>Line Ball</td><td>Clothing</td><td>Dell</td><td>98.6</td><td>88.74</td></tr><tr><td>P0470</td><td>Probably High</td><td>Home</td><td>Dell</td><td>649.66</td><td>584.694</td></tr><tr><td>P0471</td><td>Then Exactly</td><td>Beauty</td><td>Sony</td><td>20.68</td><td>18.612000000000002</td></tr><tr><td>P0472</td><td>Even Economic</td><td>Toys</td><td>Apple</td><td>1409.94</td><td>1268.9460000000001</td></tr><tr><td>P0473</td><td>Today Over</td><td>Toys</td><td>Adidas</td><td>1878.18</td><td>1690.362</td></tr><tr><td>P0474</td><td>Expert Appear</td><td>Home</td><td>Nike</td><td>1287.26</td><td>1158.534</td></tr><tr><td>P0475</td><td>Government And</td><td>Home</td><td>Samsung</td><td>964.94</td><td>868.446</td></tr><tr><td>P0476</td><td>Consumer Itself</td><td>Toys</td><td>Lenovo</td><td>259.13</td><td>233.217</td></tr><tr><td>P0477</td><td>Upon Sometimes</td><td>Electronics</td><td>Apple</td><td>917.67</td><td>825.903</td></tr><tr><td>P0478</td><td>Quality True</td><td>Sports</td><td>Sony</td><td>630.56</td><td>567.504</td></tr><tr><td>P0479</td><td>Voice A</td><td>Clothing</td><td>Sony</td><td>567.29</td><td>510.561</td></tr><tr><td>P0480</td><td>Child Threat</td><td>Beauty</td><td>Adidas</td><td>492.92</td><td>443.62800000000004</td></tr><tr><td>P0481</td><td>Fact Measure</td><td>Beauty</td><td>Nike</td><td>1554.11</td><td>1398.6989999999998</td></tr><tr><td>P0482</td><td>Force Family</td><td>Clothing</td><td>Sony</td><td>1675.86</td><td>1508.274</td></tr><tr><td>P0483</td><td>From Night</td><td>Toys</td><td>Nike</td><td>877.18</td><td>789.462</td></tr><tr><td>P0484</td><td>Deep Thank</td><td>Beauty</td><td>Apple</td><td>1397.57</td><td>1257.8129999999999</td></tr><tr><td>P0485</td><td>Rise Exactly</td><td>Home</td><td>Apple</td><td>535.31</td><td>481.77899999999994</td></tr><tr><td>P0486</td><td>Identify Magazine</td><td>Electronics</td><td>Samsung</td><td>315.25</td><td>283.725</td></tr><tr><td>P0487</td><td>Now Never</td><td>Electronics</td><td>Dell</td><td>1666.94</td><td>1500.246</td></tr><tr><td>P0488</td><td>Experience Idea</td><td>Electronics</td><td>Lenovo</td><td>1316.67</td><td>1185.0030000000002</td></tr><tr><td>P0489</td><td>Camera At</td><td>Electronics</td><td>LG</td><td>1923.44</td><td>1731.096</td></tr><tr><td>P0490</td><td>Door Itself</td><td>Home</td><td>Revlon</td><td>1718.72</td><td>1546.848</td></tr><tr><td>P0491</td><td>Floor Sit</td><td>Clothing</td><td>LG</td><td>1602.21</td><td>1441.989</td></tr><tr><td>P0492</td><td>A Forward</td><td>Home</td><td>Nike</td><td>121.07</td><td>108.963</td></tr><tr><td>P0493</td><td>Pass Go</td><td>Toys</td><td>Samsung</td><td>295.7</td><td>266.13</td></tr><tr><td>P0494</td><td>Personal Stand</td><td>Toys</td><td>Apple</td><td>1913.83</td><td>1722.447</td></tr><tr><td>P0495</td><td>Sister Question</td><td>Toys</td><td>Sony</td><td>561.99</td><td>505.791</td></tr><tr><td>P0496</td><td>Beyond Some</td><td>Beauty</td><td>Apple</td><td>137.62</td><td>123.858</td></tr><tr><td>P0497</td><td>Reflect Chair</td><td>Beauty</td><td>Lenovo</td><td>930.59</td><td>837.5310000000001</td></tr><tr><td>P0498</td><td>Economic Over</td><td>Beauty</td><td>Adidas</td><td>1990.58</td><td>1791.522</td></tr><tr><td>P0499</td><td>Writer Mouth</td><td>Home</td><td>Revlon</td><td>1774.16</td><td>1596.7440000000001</td></tr><tr><td>P0500</td><td>Itself Despite</td><td>Electronics</td><td>Puma</td><td>322.4</td><td>290.15999999999997</td></tr></tbody></table></div>"
      ]
     },
     "metadata": {
      "application/vnd.databricks.v1+output": {
       "addedWidgets": {},
       "aggData": [],
       "aggError": "",
       "aggOverflow": false,
       "aggSchema": [],
       "aggSeriesLimitReached": false,
       "aggType": "",
       "arguments": {},
       "columnCustomDisplayInfos": {},
       "data": [
        [
         "P0001",
         "Clearly Its",
         "Beauty",
         "Nike",
         1868.54,
         1681.686
        ],
        [
         "P0002",
         "Production Clear",
         "Beauty",
         "Apple",
         587.13,
         528.417
        ],
        [
         "P0003",
         "Culture Coach",
         "Home",
         "Revlon",
         1599.24,
         1439.316
        ],
        [
         "P0004",
         "Movement Part",
         "Sports",
         "LG",
         651.71,
         586.5390000000001
        ],
        [
         "P0005",
         "Fact Name",
         "Clothing",
         "Samsung",
         1861.78,
         1675.602
        ],
        [
         "P0006",
         "Usually Stop",
         "Toys",
         "Adidas",
         936.36,
         842.724
        ],
        [
         "P0007",
         "Reveal Current",
         "Sports",
         "Adidas",
         1954.02,
         1758.618
        ],
        [
         "P0008",
         "Force Language",
         "Beauty",
         "Puma",
         1251.26,
         1126.134
        ],
        [
         "P0009",
         "Stage Leg",
         "Clothing",
         "Samsung",
         1247.15,
         1122.4350000000002
        ],
        [
         "P0010",
         "Leader Then",
         "Sports",
         "Sony",
         975.53,
         877.977
        ],
        [
         "P0011",
         "Term Rest",
         "Electronics",
         "Adidas",
         1475.31,
         1327.779
        ],
        [
         "P0012",
         "Theory Wrong",
         "Electronics",
         "Apple",
         624.61,
         562.149
        ],
        [
         "P0013",
         "Democrat Book",
         "Sports",
         "Puma",
         384.99,
         346.49100000000004
        ],
        [
         "P0014",
         "Follow Brother",
         "Clothing",
         "Dell",
         32.2,
         28.980000000000004
        ],
        [
         "P0015",
         "Pattern Story",
         "Beauty",
         "LG",
         1459.2,
         1313.28
        ],
        [
         "P0016",
         "Policy Nor",
         "Clothing",
         "Samsung",
         1594.08,
         1434.672
        ],
        [
         "P0017",
         "After Project",
         "Beauty",
         "Revlon",
         1289.06,
         1160.154
        ],
        [
         "P0018",
         "Technology Chance",
         "Beauty",
         "Puma",
         1329.53,
         1196.577
        ],
        [
         "P0019",
         "Oil Station",
         "Electronics",
         "Samsung",
         230.56,
         207.50400000000002
        ],
        [
         "P0020",
         "Happen Truth",
         "Beauty",
         "Nike",
         1603.5,
         1443.15
        ],
        [
         "P0021",
         "Middle Everyone",
         "Sports",
         "Nike",
         361.89,
         325.701
        ],
        [
         "P0022",
         "Purpose Why",
         "Beauty",
         "Puma",
         73.82,
         66.438
        ],
        [
         "P0023",
         "Decade Message",
         "Clothing",
         "Adidas",
         1561.78,
         1405.602
        ],
        [
         "P0024",
         "Really Phone",
         "Home",
         "Samsung",
         1422.07,
         1279.863
        ],
        [
         "P0025",
         "Until And",
         "Beauty",
         "Nike",
         488.67,
         439.803
        ],
        [
         "P0026",
         "Huge Find",
         "Toys",
         "Puma",
         1316.41,
         1184.769
        ],
        [
         "P0027",
         "Local Open",
         "Toys",
         "Adidas",
         939.9,
         845.91
        ],
        [
         "P0028",
         "Its Both",
         "Beauty",
         "Puma",
         1682.91,
         1514.6190000000001
        ],
        [
         "P0029",
         "Everything Open",
         "Clothing",
         "Nike",
         1065.49,
         958.941
        ],
        [
         "P0030",
         "Hold Staff",
         "Toys",
         "Lenovo",
         1162.38,
         1046.142
        ],
        [
         "P0031",
         "Part Oil",
         "Clothing",
         "LG",
         774.18,
         696.762
        ],
        [
         "P0032",
         "Relationship Live",
         "Electronics",
         "Dell",
         1445.21,
         1300.689
        ],
        [
         "P0033",
         "Perform Such",
         "Clothing",
         "Lenovo",
         61.91,
         55.719
        ],
        [
         "P0034",
         "Even Writer",
         "Toys",
         "Samsung",
         1843.84,
         1659.456
        ],
        [
         "P0035",
         "Something Increase",
         "Toys",
         "Revlon",
         579.76,
         521.784
        ],
        [
         "P0036",
         "Success Always",
         "Home",
         "Dell",
         1780.37,
         1602.3329999999999
        ],
        [
         "P0037",
         "Personal Over",
         "Sports",
         "Puma",
         105.28,
         94.75200000000001
        ],
        [
         "P0038",
         "Edge Keep",
         "Toys",
         "Revlon",
         1156.99,
         1041.291
        ],
        [
         "P0039",
         "Before Do",
         "Toys",
         "Revlon",
         1279.12,
         1151.2079999999999
        ],
        [
         "P0040",
         "Answer Require",
         "Toys",
         "Dell",
         1822.39,
         1640.151
        ],
        [
         "P0041",
         "Conference Article",
         "Sports",
         "Dell",
         459.55,
         413.595
        ],
        [
         "P0042",
         "Heavy Writer",
         "Beauty",
         "Adidas",
         1215.78,
         1094.202
        ],
        [
         "P0043",
         "Radio Thousand",
         "Electronics",
         "Revlon",
         914.61,
         823.149
        ],
        [
         "P0044",
         "Such Beautiful",
         "Electronics",
         "Dell",
         580.32,
         522.288
        ],
        [
         "P0045",
         "Certainly Sign",
         "Sports",
         "Sony",
         622.31,
         560.079
        ],
        [
         "P0046",
         "Exist Age",
         "Beauty",
         "Samsung",
         918.54,
         826.686
        ],
        [
         "P0047",
         "Ever Could",
         "Sports",
         "Revlon",
         257.51,
         231.759
        ],
        [
         "P0048",
         "Share Quality",
         "Electronics",
         "Revlon",
         652.68,
         587.4119999999999
        ],
        [
         "P0049",
         "True Her",
         "Clothing",
         "Lenovo",
         819.77,
         737.793
        ],
        [
         "P0050",
         "North Big",
         "Electronics",
         "Samsung",
         1947.16,
         1752.4440000000002
        ],
        [
         "P0051",
         "Form Social",
         "Electronics",
         "Apple",
         1294.33,
         1164.897
        ],
        [
         "P0052",
         "Total Tax",
         "Toys",
         "Lenovo",
         1190.28,
         1071.252
        ],
        [
         "P0053",
         "News Look",
         "Electronics",
         "Samsung",
         896.22,
         806.5980000000001
        ],
        [
         "P0054",
         "Local Decide",
         "Electronics",
         "Adidas",
         1346.26,
         1211.634
        ],
        [
         "P0055",
         "Seat Finish",
         "Electronics",
         "Sony",
         925.39,
         832.851
        ],
        [
         "P0056",
         "Weight Ground",
         "Home",
         "Nike",
         805.91,
         725.319
        ],
        [
         "P0057",
         "Everything Song",
         "Clothing",
         "Samsung",
         1000.36,
         900.3240000000001
        ],
        [
         "P0058",
         "Involve Present",
         "Electronics",
         "LG",
         1713.86,
         1542.474
        ],
        [
         "P0059",
         "Democratic Any",
         "Sports",
         "Lenovo",
         808.17,
         727.353
        ],
        [
         "P0060",
         "Red Some",
         "Clothing",
         "Nike",
         1230.69,
         1107.621
        ],
        [
         "P0061",
         "Describe Continue",
         "Electronics",
         "Sony",
         1610.15,
         1449.1350000000002
        ],
        [
         "P0062",
         "Always Citizen",
         "Clothing",
         "Samsung",
         912.72,
         821.4480000000001
        ],
        [
         "P0063",
         "Necessary Bad",
         "Home",
         "Nike",
         1876.88,
         1689.1920000000002
        ],
        [
         "P0064",
         "Size Although",
         "Clothing",
         "LG",
         473.8,
         426.42
        ],
        [
         "P0065",
         "Democratic As",
         "Electronics",
         "Lenovo",
         1472.24,
         1325.016
        ],
        [
         "P0066",
         "I Worker",
         "Sports",
         "Sony",
         1123.53,
         1011.177
        ],
        [
         "P0067",
         "Unit Election",
         "Beauty",
         "Samsung",
         144.72,
         130.248
        ],
        [
         "P0068",
         "Response Audience",
         "Toys",
         "LG",
         1633.64,
         1470.276
        ],
        [
         "P0069",
         "Weight Design",
         "Beauty",
         "Lenovo",
         1165.23,
         1048.707
        ],
        [
         "P0070",
         "Or Against",
         "Sports",
         "Lenovo",
         1589.36,
         1430.424
        ],
        [
         "P0071",
         "Once Support",
         "Toys",
         "Apple",
         1385.04,
         1246.536
        ],
        [
         "P0072",
         "Station Fund",
         "Toys",
         "Revlon",
         1198.32,
         1078.488
        ],
        [
         "P0073",
         "Leave Reveal",
         "Electronics",
         "Adidas",
         586.19,
         527.571
        ],
        [
         "P0074",
         "Pm Near",
         "Toys",
         "Lenovo",
         426.99,
         384.291
        ],
        [
         "P0075",
         "Former Trade",
         "Beauty",
         "Samsung",
         73.74,
         66.366
        ],
        [
         "P0076",
         "Skill Need",
         "Toys",
         "Puma",
         862.73,
         776.457
        ],
        [
         "P0077",
         "Quality Conference",
         "Clothing",
         "LG",
         333.16,
         299.84400000000005
        ],
        [
         "P0078",
         "Their Worry",
         "Electronics",
         "LG",
         903.63,
         813.267
        ],
        [
         "P0079",
         "Night Experience",
         "Beauty",
         "LG",
         780.45,
         702.4050000000001
        ],
        [
         "P0080",
         "But Decide",
         "Toys",
         "Lenovo",
         1599.68,
         1439.712
        ],
        [
         "P0081",
         "Whose Available",
         "Toys",
         "Nike",
         1697.18,
         1527.462
        ],
        [
         "P0082",
         "Exist Interest",
         "Beauty",
         "Apple",
         1932.51,
         1739.259
        ],
        [
         "P0083",
         "Laugh Speak",
         "Beauty",
         "Dell",
         1519.05,
         1367.145
        ],
        [
         "P0084",
         "Little All",
         "Home",
         "Samsung",
         866.09,
         779.481
        ],
        [
         "P0085",
         "Hope Such",
         "Clothing",
         "Apple",
         1863.08,
         1676.772
        ],
        [
         "P0086",
         "Save Own",
         "Toys",
         "Nike",
         915.44,
         823.8960000000001
        ],
        [
         "P0087",
         "Service Personal",
         "Home",
         "Sony",
         273.89,
         246.501
        ],
        [
         "P0088",
         "At Such",
         "Home",
         "Adidas",
         1482.19,
         1333.971
        ],
        [
         "P0089",
         "Second Despite",
         "Home",
         "LG",
         611.31,
         550.179
        ],
        [
         "P0090",
         "Future Improve",
         "Electronics",
         "Puma",
         129.87,
         116.88300000000001
        ],
        [
         "P0091",
         "Nation Moment",
         "Beauty",
         "Samsung",
         1683.02,
         1514.718
        ],
        [
         "P0092",
         "Stand Fish",
         "Sports",
         "Revlon",
         1631.21,
         1468.0890000000002
        ],
        [
         "P0093",
         "Us Life",
         "Clothing",
         "Puma",
         749.33,
         674.397
        ],
        [
         "P0094",
         "Real Himself",
         "Beauty",
         "LG",
         48.71,
         43.839
        ],
        [
         "P0095",
         "Fund Tend",
         "Electronics",
         "Apple",
         1519.1,
         1367.19
        ],
        [
         "P0096",
         "Public Voice",
         "Electronics",
         "Nike",
         1078.42,
         970.5780000000001
        ],
        [
         "P0097",
         "Crime Range",
         "Clothing",
         "Apple",
         627.41,
         564.669
        ],
        [
         "P0098",
         "Item See",
         "Clothing",
         "Puma",
         551.54,
         496.38599999999997
        ],
        [
         "P0099",
         "Notice Rather",
         "Beauty",
         "Adidas",
         1110.7,
         999.6300000000001
        ],
        [
         "P0100",
         "Oil Into",
         "Sports",
         "Dell",
         793.81,
         714.429
        ],
        [
         "P0101",
         "Sister Tend",
         "Sports",
         "Puma",
         1106.32,
         995.688
        ],
        [
         "P0102",
         "Yourself Team",
         "Beauty",
         "LG",
         1079.69,
         971.7210000000001
        ],
        [
         "P0103",
         "Rich Page",
         "Toys",
         "Samsung",
         486.63,
         437.967
        ],
        [
         "P0104",
         "Fact Building",
         "Clothing",
         "Dell",
         860.64,
         774.576
        ],
        [
         "P0105",
         "Color Now",
         "Clothing",
         "LG",
         1200.37,
         1080.3329999999999
        ],
        [
         "P0106",
         "Research Mother",
         "Clothing",
         "Sony",
         1100.51,
         990.4590000000001
        ],
        [
         "P0107",
         "Degree Much",
         "Toys",
         "Adidas",
         193.45,
         174.105
        ],
        [
         "P0108",
         "Southern Hear",
         "Home",
         "Puma",
         22.3,
         20.07
        ],
        [
         "P0109",
         "Seem South",
         "Electronics",
         "Lenovo",
         1891.2,
         1702.0800000000002
        ],
        [
         "P0110",
         "Before Everybody",
         "Toys",
         "Samsung",
         776.77,
         699.093
        ],
        [
         "P0111",
         "Decade Land",
         "Electronics",
         "Adidas",
         1138.45,
         1024.605
        ],
        [
         "P0112",
         "Study Heavy",
         "Beauty",
         "Puma",
         1579.73,
         1421.757
        ],
        [
         "P0113",
         "These Skill",
         "Clothing",
         "Puma",
         810.64,
         729.576
        ],
        [
         "P0114",
         "Kid Necessary",
         "Home",
         "Nike",
         1178.36,
         1060.524
        ],
        [
         "P0115",
         "Subject Become",
         "Electronics",
         "Puma",
         1504.01,
         1353.609
        ],
        [
         "P0116",
         "Very Forget",
         "Sports",
         "Sony",
         287.59,
         258.83099999999996
        ],
        [
         "P0117",
         "Before Product",
         "Beauty",
         "Puma",
         665.49,
         598.941
        ],
        [
         "P0118",
         "Start Threat",
         "Toys",
         "Lenovo",
         1123.64,
         1011.2760000000001
        ],
        [
         "P0119",
         "Carry View",
         "Home",
         "Sony",
         60.42,
         54.378
        ],
        [
         "P0120",
         "Direction Character",
         "Toys",
         "Sony",
         368.47,
         331.62300000000005
        ],
        [
         "P0121",
         "Trade Drug",
         "Sports",
         "Nike",
         1959.23,
         1763.307
        ],
        [
         "P0122",
         "Tend Continue",
         "Clothing",
         "LG",
         539.16,
         485.24399999999997
        ],
        [
         "P0123",
         "Why Decide",
         "Clothing",
         "Nike",
         503.76,
         453.384
        ],
        [
         "P0124",
         "Operation Century",
         "Clothing",
         "Puma",
         1857.88,
         1672.092
        ],
        [
         "P0125",
         "Sort Summer",
         "Home",
         "Sony",
         947.43,
         852.687
        ],
        [
         "P0126",
         "Possible Which",
         "Sports",
         "Sony",
         1431.12,
         1288.008
        ],
        [
         "P0127",
         "Movement Picture",
         "Home",
         "Sony",
         1337.38,
         1203.642
        ],
        [
         "P0128",
         "Board Worker",
         "Electronics",
         "Apple",
         1935.2,
         1741.68
        ],
        [
         "P0129",
         "North On",
         "Toys",
         "Adidas",
         763.99,
         687.591
        ],
        [
         "P0130",
         "Behavior Nothing",
         "Clothing",
         "Adidas",
         1355.15,
         1219.6350000000002
        ],
        [
         "P0131",
         "Too Example",
         "Clothing",
         "Revlon",
         302.22,
         271.99800000000005
        ],
        [
         "P0132",
         "Issue Return",
         "Home",
         "Samsung",
         1194.22,
         1074.798
        ],
        [
         "P0133",
         "Speak Small",
         "Electronics",
         "LG",
         215.63,
         194.067
        ],
        [
         "P0134",
         "Stand Fire",
         "Home",
         "Puma",
         1625.17,
         1462.653
        ],
        [
         "P0135",
         "Maybe Light",
         "Clothing",
         "Puma",
         669.95,
         602.955
        ],
        [
         "P0136",
         "Year True",
         "Sports",
         "Samsung",
         48.0,
         43.2
        ],
        [
         "P0137",
         "Thought Travel",
         "Clothing",
         "Lenovo",
         1569.19,
         1412.2710000000002
        ],
        [
         "P0138",
         "Already Series",
         "Clothing",
         "Samsung",
         452.81,
         407.529
        ],
        [
         "P0139",
         "Seek President",
         "Toys",
         "Revlon",
         399.03,
         359.127
        ],
        [
         "P0140",
         "Detail Bar",
         "Clothing",
         "Adidas",
         116.36,
         104.724
        ],
        [
         "P0141",
         "Play Show",
         "Electronics",
         "Adidas",
         1039.71,
         935.739
        ],
        [
         "P0142",
         "Trouble Parent",
         "Clothing",
         "Adidas",
         1081.59,
         973.4309999999999
        ],
        [
         "P0143",
         "One Like",
         "Electronics",
         "Apple",
         1549.15,
         1394.2350000000001
        ],
        [
         "P0144",
         "Admit Street",
         "Beauty",
         "Apple",
         769.93,
         692.937
        ],
        [
         "P0145",
         "House Everything",
         "Toys",
         "Puma",
         453.73,
         408.357
        ],
        [
         "P0146",
         "Building Drive",
         "Electronics",
         "Sony",
         1763.2,
         1586.88
        ],
        [
         "P0147",
         "Among Success",
         "Electronics",
         "Lenovo",
         86.53,
         77.87700000000001
        ],
        [
         "P0148",
         "Politics Friend",
         "Toys",
         "Dell",
         435.86,
         392.274
        ],
        [
         "P0149",
         "Middle Price",
         "Electronics",
         "Samsung",
         793.61,
         714.249
        ],
        [
         "P0150",
         "Nice Clearly",
         "Electronics",
         "Samsung",
         1207.54,
         1086.786
        ],
        [
         "P0151",
         "Cup Per",
         "Toys",
         "Apple",
         38.43,
         34.587
        ],
        [
         "P0152",
         "Not Wait",
         "Home",
         "LG",
         357.33,
         321.597
        ],
        [
         "P0153",
         "Brother Four",
         "Home",
         "Apple",
         809.73,
         728.7570000000001
        ],
        [
         "P0154",
         "Trip Within",
         "Beauty",
         "Samsung",
         1089.28,
         980.352
        ],
        [
         "P0155",
         "Laugh Score",
         "Electronics",
         "Dell",
         12.35,
         11.115
        ],
        [
         "P0156",
         "Put After",
         "Home",
         "Sony",
         1746.06,
         1571.454
        ],
        [
         "P0157",
         "Race Provide",
         "Home",
         "Adidas",
         825.91,
         743.319
        ],
        [
         "P0158",
         "Pm Plant",
         "Toys",
         "Adidas",
         1286.8,
         1158.12
        ],
        [
         "P0159",
         "Politics Along",
         "Home",
         "Lenovo",
         674.29,
         606.861
        ],
        [
         "P0160",
         "Parent Into",
         "Clothing",
         "Nike",
         1542.46,
         1388.2140000000002
        ],
        [
         "P0161",
         "Need Book",
         "Toys",
         "LG",
         906.6,
         815.94
        ],
        [
         "P0162",
         "West This",
         "Toys",
         "Adidas",
         417.67,
         375.903
        ],
        [
         "P0163",
         "Tree Role",
         "Toys",
         "Dell",
         1307.14,
         1176.4260000000002
        ],
        [
         "P0164",
         "Word Hard",
         "Electronics",
         "Lenovo",
         535.06,
         481.554
        ],
        [
         "P0165",
         "Son Drug",
         "Toys",
         "Adidas",
         1971.77,
         1774.593
        ],
        [
         "P0166",
         "Look Field",
         "Beauty",
         "Samsung",
         62.19,
         55.971
        ],
        [
         "P0167",
         "Early Course",
         "Electronics",
         "Adidas",
         1666.23,
         1499.607
        ],
        [
         "P0168",
         "Generation Day",
         "Toys",
         "Sony",
         1006.63,
         905.967
        ],
        [
         "P0169",
         "Position Bank",
         "Beauty",
         "Sony",
         1267.42,
         1140.678
        ],
        [
         "P0170",
         "Second Start",
         "Home",
         "Lenovo",
         329.25,
         296.325
        ],
        [
         "P0171",
         "Option Necessary",
         "Clothing",
         "Lenovo",
         1557.09,
         1401.3809999999999
        ],
        [
         "P0172",
         "Commercial Through",
         "Home",
         "Sony",
         1759.47,
         1583.5230000000001
        ],
        [
         "P0173",
         "Nearly When",
         "Electronics",
         "Samsung",
         930.78,
         837.702
        ],
        [
         "P0174",
         "Weight Tax",
         "Home",
         "Lenovo",
         81.55,
         73.395
        ],
        [
         "P0175",
         "Enjoy Throughout",
         "Home",
         "Apple",
         364.2,
         327.78
        ],
        [
         "P0176",
         "Team Foreign",
         "Home",
         "Adidas",
         824.82,
         742.3380000000001
        ],
        [
         "P0177",
         "Article Smile",
         "Clothing",
         "Nike",
         1241.26,
         1117.134
        ],
        [
         "P0178",
         "Finally Suddenly",
         "Toys",
         "Adidas",
         743.65,
         669.285
        ],
        [
         "P0179",
         "Base Significant",
         "Electronics",
         "Samsung",
         1950.04,
         1755.036
        ],
        [
         "P0180",
         "Form Management",
         "Electronics",
         "Sony",
         141.37,
         127.233
        ],
        [
         "P0181",
         "Of Seek",
         "Beauty",
         "LG",
         1935.07,
         1741.5629999999999
        ],
        [
         "P0182",
         "Health I",
         "Beauty",
         "Apple",
         1661.22,
         1495.098
        ],
        [
         "P0183",
         "Born Focus",
         "Sports",
         "Samsung",
         762.15,
         685.935
        ],
        [
         "P0184",
         "Main Majority",
         "Sports",
         "Adidas",
         1003.71,
         903.339
        ],
        [
         "P0185",
         "Authority Director",
         "Beauty",
         "Apple",
         1595.17,
         1435.653
        ],
        [
         "P0186",
         "Tv Size",
         "Sports",
         "Revlon",
         231.03,
         207.927
        ],
        [
         "P0187",
         "Number They",
         "Electronics",
         "Nike",
         38.88,
         34.992000000000004
        ],
        [
         "P0188",
         "Able Seat",
         "Electronics",
         "Adidas",
         1582.57,
         1424.3129999999999
        ],
        [
         "P0189",
         "Commercial Boy",
         "Home",
         "Puma",
         641.08,
         576.9720000000001
        ],
        [
         "P0190",
         "Set Whom",
         "Sports",
         "Samsung",
         686.04,
         617.436
        ],
        [
         "P0191",
         "Myself Performance",
         "Toys",
         "Revlon",
         112.38,
         101.142
        ],
        [
         "P0192",
         "Up Management",
         "Sports",
         "Apple",
         942.81,
         848.529
        ],
        [
         "P0193",
         "Early They",
         "Electronics",
         "Nike",
         1238.31,
         1114.479
        ],
        [
         "P0194",
         "Charge Through",
         "Electronics",
         "Revlon",
         1814.74,
         1633.266
        ],
        [
         "P0195",
         "Leg In",
         "Toys",
         "Adidas",
         937.18,
         843.462
        ],
        [
         "P0196",
         "Study Teach",
         "Clothing",
         "Adidas",
         1159.15,
         1043.2350000000001
        ],
        [
         "P0197",
         "Old Ball",
         "Sports",
         "Revlon",
         1564.84,
         1408.356
        ],
        [
         "P0198",
         "Information Life",
         "Sports",
         "Samsung",
         628.47,
         565.623
        ],
        [
         "P0199",
         "Data Structure",
         "Clothing",
         "Sony",
         1368.51,
         1231.659
        ],
        [
         "P0200",
         "Close Knowledge",
         "Toys",
         "Apple",
         692.12,
         622.908
        ],
        [
         "P0201",
         "Professional Test",
         "Beauty",
         "Samsung",
         1573.37,
         1416.033
        ],
        [
         "P0202",
         "Analysis The",
         "Electronics",
         "Adidas",
         1953.99,
         1758.5910000000001
        ],
        [
         "P0203",
         "Difficult Around",
         "Home",
         "Samsung",
         1016.57,
         914.913
        ],
        [
         "P0204",
         "Show Teacher",
         "Electronics",
         "Adidas",
         1734.6,
         1561.1399999999999
        ],
        [
         "P0205",
         "Attorney I",
         "Home",
         "LG",
         478.82,
         430.938
        ],
        [
         "P0206",
         "Remember Stuff",
         "Electronics",
         "Apple",
         375.49,
         337.94100000000003
        ],
        [
         "P0207",
         "Year Much",
         "Beauty",
         "Adidas",
         230.41,
         207.369
        ],
        [
         "P0208",
         "Rather Require",
         "Toys",
         "Adidas",
         754.39,
         678.951
        ],
        [
         "P0209",
         "Catch Local",
         "Sports",
         "Revlon",
         1070.99,
         963.8910000000001
        ],
        [
         "P0210",
         "Learn Weight",
         "Sports",
         "Apple",
         863.71,
         777.339
        ],
        [
         "P0211",
         "Check Line",
         "Beauty",
         "Nike",
         1051.35,
         946.2149999999999
        ],
        [
         "P0212",
         "Per Leader",
         "Home",
         "Adidas",
         1766.16,
         1589.544
        ],
        [
         "P0213",
         "Suggest Chance",
         "Sports",
         "Samsung",
         1528.21,
         1375.3890000000001
        ],
        [
         "P0214",
         "Site Trip",
         "Toys",
         "Revlon",
         1725.81,
         1553.229
        ],
        [
         "P0215",
         "Trouble Treatment",
         "Beauty",
         "Adidas",
         1678.45,
         1510.605
        ],
        [
         "P0216",
         "Every Page",
         "Home",
         "Adidas",
         1526.03,
         1373.427
        ],
        [
         "P0217",
         "Vote Tree",
         "Sports",
         "Puma",
         1460.22,
         1314.198
        ],
        [
         "P0218",
         "Sea Clear",
         "Beauty",
         "Nike",
         207.67,
         186.903
        ],
        [
         "P0219",
         "Per Voice",
         "Clothing",
         "Dell",
         996.21,
         896.589
        ],
        [
         "P0220",
         "Term Fine",
         "Beauty",
         "Dell",
         1354.7,
         1219.23
        ],
        [
         "P0221",
         "Player Summer",
         "Beauty",
         "Lenovo",
         1205.37,
         1084.8329999999999
        ],
        [
         "P0222",
         "Respond Knowledge",
         "Electronics",
         "Samsung",
         977.33,
         879.5970000000001
        ],
        [
         "P0223",
         "Believe Activity",
         "Toys",
         "Lenovo",
         1292.39,
         1163.151
        ],
        [
         "P0224",
         "Federal Around",
         "Clothing",
         "Apple",
         1153.17,
         1037.853
        ],
        [
         "P0225",
         "Discussion Region",
         "Beauty",
         "Nike",
         551.26,
         496.134
        ],
        [
         "P0226",
         "Care North",
         "Beauty",
         "Lenovo",
         1668.89,
         1502.0010000000002
        ],
        [
         "P0227",
         "Need Method",
         "Beauty",
         "Nike",
         449.11,
         404.199
        ],
        [
         "P0228",
         "Citizen Item",
         "Sports",
         "Puma",
         317.83,
         286.04699999999997
        ],
        [
         "P0229",
         "Material If",
         "Home",
         "Lenovo",
         1399.43,
         1259.487
        ],
        [
         "P0230",
         "Old Increase",
         "Beauty",
         "Samsung",
         1163.64,
         1047.276
        ],
        [
         "P0231",
         "Do Chair",
         "Home",
         "Revlon",
         781.81,
         703.629
        ],
        [
         "P0232",
         "Would Along",
         "Toys",
         "Adidas",
         896.07,
         806.4630000000001
        ],
        [
         "P0233",
         "Second Learn",
         "Toys",
         "Lenovo",
         901.28,
         811.152
        ],
        [
         "P0234",
         "Guess At",
         "Sports",
         "Sony",
         1231.55,
         1108.395
        ],
        [
         "P0235",
         "Country Knowledge",
         "Sports",
         "Adidas",
         1297.8,
         1168.02
        ],
        [
         "P0236",
         "War Involve",
         "Electronics",
         "Samsung",
         951.74,
         856.566
        ],
        [
         "P0237",
         "As Push",
         "Toys",
         "Samsung",
         164.53,
         148.077
        ],
        [
         "P0238",
         "Air Life",
         "Beauty",
         "Revlon",
         1358.99,
         1223.0910000000001
        ],
        [
         "P0239",
         "Show Finally",
         "Toys",
         "Nike",
         1612.58,
         1451.322
        ],
        [
         "P0240",
         "Six Senior",
         "Clothing",
         "Samsung",
         1648.93,
         1484.037
        ],
        [
         "P0241",
         "Edge Civil",
         "Electronics",
         "Puma",
         1531.37,
         1378.233
        ],
        [
         "P0242",
         "Radio Lot",
         "Home",
         "Samsung",
         412.59,
         371.33099999999996
        ],
        [
         "P0243",
         "Recent The",
         "Beauty",
         "Lenovo",
         1875.22,
         1687.698
        ],
        [
         "P0244",
         "Run Market",
         "Beauty",
         "Revlon",
         1843.58,
         1659.222
        ],
        [
         "P0245",
         "Occur Attention",
         "Beauty",
         "LG",
         270.43,
         243.387
        ],
        [
         "P0246",
         "Great Field",
         "Electronics",
         "Adidas",
         1449.57,
         1304.613
        ],
        [
         "P0247",
         "Step Information",
         "Electronics",
         "Sony",
         825.1,
         742.59
        ],
        [
         "P0248",
         "Develop International",
         "Electronics",
         "Revlon",
         1200.32,
         1080.288
        ],
        [
         "P0249",
         "There True",
         "Electronics",
         "Puma",
         1536.54,
         1382.886
        ],
        [
         "P0250",
         "Half Ten",
         "Sports",
         "Samsung",
         710.82,
         639.738
        ],
        [
         "P0251",
         "Business Own",
         "Beauty",
         "Lenovo",
         28.65,
         25.785
        ],
        [
         "P0252",
         "Late Thus",
         "Electronics",
         "Sony",
         1957.38,
         1761.642
        ],
        [
         "P0253",
         "Onto Owner",
         "Toys",
         "Lenovo",
         226.44,
         203.796
        ],
        [
         "P0254",
         "According Because",
         "Home",
         "Lenovo",
         503.61,
         453.249
        ],
        [
         "P0255",
         "Activity Western",
         "Sports",
         "Lenovo",
         154.4,
         138.96
        ],
        [
         "P0256",
         "Note Worker",
         "Electronics",
         "Lenovo",
         882.48,
         794.2320000000001
        ],
        [
         "P0257",
         "Executive Art",
         "Beauty",
         "Nike",
         944.89,
         850.401
        ],
        [
         "P0258",
         "Culture Follow",
         "Home",
         "Revlon",
         1423.91,
         1281.519
        ],
        [
         "P0259",
         "Against Kind",
         "Sports",
         "Puma",
         1484.64,
         1336.1760000000002
        ],
        [
         "P0260",
         "About Buy",
         "Electronics",
         "Revlon",
         1255.56,
         1130.004
        ],
        [
         "P0261",
         "Capital Well",
         "Beauty",
         "Dell",
         203.78,
         183.40200000000002
        ],
        [
         "P0262",
         "Decade Left",
         "Toys",
         "Samsung",
         885.15,
         796.635
        ],
        [
         "P0263",
         "Machine Heart",
         "Sports",
         "Nike",
         371.19,
         334.071
        ],
        [
         "P0264",
         "Thought Heavy",
         "Beauty",
         "Apple",
         1030.44,
         927.3960000000001
        ],
        [
         "P0265",
         "Image No",
         "Toys",
         "Nike",
         1216.14,
         1094.526
        ],
        [
         "P0266",
         "Specific You",
         "Electronics",
         "LG",
         324.37,
         291.933
        ],
        [
         "P0267",
         "Painting Daughter",
         "Home",
         "Adidas",
         1772.83,
         1595.547
        ],
        [
         "P0268",
         "Man Near",
         "Sports",
         "Dell",
         631.29,
         568.161
        ],
        [
         "P0269",
         "Grow Fly",
         "Sports",
         "Lenovo",
         1192.68,
         1073.412
        ],
        [
         "P0270",
         "Candidate Question",
         "Beauty",
         "Samsung",
         611.71,
         550.5390000000001
        ],
        [
         "P0271",
         "Notice Town",
         "Sports",
         "Puma",
         1362.74,
         1226.4660000000001
        ],
        [
         "P0272",
         "Defense Either",
         "Beauty",
         "Dell",
         1472.29,
         1325.061
        ],
        [
         "P0273",
         "Peace When",
         "Electronics",
         "Nike",
         146.58,
         131.92200000000003
        ],
        [
         "P0274",
         "Always Debate",
         "Clothing",
         "Samsung",
         1128.5,
         1015.65
        ],
        [
         "P0275",
         "Piece Information",
         "Toys",
         "Sony",
         1478.58,
         1330.722
        ],
        [
         "P0276",
         "Team Support",
         "Toys",
         "Puma",
         1155.12,
         1039.608
        ],
        [
         "P0277",
         "Field White",
         "Home",
         "Dell",
         63.16,
         56.844
        ],
        [
         "P0278",
         "Similar Can",
         "Beauty",
         "Revlon",
         414.78,
         373.30199999999996
        ],
        [
         "P0279",
         "Fast Situation",
         "Beauty",
         "Lenovo",
         1619.24,
         1457.316
        ],
        [
         "P0280",
         "Financial Enough",
         "Clothing",
         "Puma",
         566.91,
         510.219
        ],
        [
         "P0281",
         "Hot Customer",
         "Home",
         "Puma",
         188.55,
         169.69500000000002
        ],
        [
         "P0282",
         "Matter To",
         "Electronics",
         "Samsung",
         69.59,
         62.63100000000001
        ],
        [
         "P0283",
         "Southern Team",
         "Sports",
         "Nike",
         474.49,
         427.041
        ],
        [
         "P0284",
         "Population Account",
         "Beauty",
         "Puma",
         352.26,
         317.034
        ],
        [
         "P0285",
         "Cultural Beat",
         "Clothing",
         "Revlon",
         1123.4,
         1011.0600000000001
        ],
        [
         "P0286",
         "Blood Chair",
         "Beauty",
         "Adidas",
         1164.64,
         1048.1760000000002
        ],
        [
         "P0287",
         "Evening Natural",
         "Electronics",
         "Puma",
         1084.4,
         975.9600000000002
        ],
        [
         "P0288",
         "Source Hour",
         "Toys",
         "Lenovo",
         1486.02,
         1337.4180000000001
        ],
        [
         "P0289",
         "Finish Everything",
         "Sports",
         "Puma",
         1780.19,
         1602.171
        ],
        [
         "P0290",
         "Room Public",
         "Beauty",
         "LG",
         919.28,
         827.352
        ],
        [
         "P0291",
         "Able Media",
         "Electronics",
         "LG",
         890.9,
         801.81
        ],
        [
         "P0292",
         "Very Event",
         "Toys",
         "Sony",
         1339.35,
         1205.415
        ],
        [
         "P0293",
         "Degree Agency",
         "Electronics",
         "LG",
         107.68,
         96.912
        ],
        [
         "P0294",
         "Dark Former",
         "Sports",
         "Lenovo",
         1054.65,
         949.1850000000001
        ],
        [
         "P0295",
         "Participant Kitchen",
         "Electronics",
         "Puma",
         1938.35,
         1744.5149999999999
        ],
        [
         "P0296",
         "Garden Reach",
         "Sports",
         "Nike",
         1738.65,
         1564.785
        ],
        [
         "P0297",
         "Turn Degree",
         "Sports",
         "Nike",
         859.64,
         773.676
        ],
        [
         "P0298",
         "Talk Offer",
         "Clothing",
         "Revlon",
         1571.12,
         1414.008
        ],
        [
         "P0299",
         "Look Mention",
         "Home",
         "Apple",
         1170.51,
         1053.459
        ],
        [
         "P0300",
         "Amount Politics",
         "Electronics",
         "Sony",
         1741.53,
         1567.377
        ],
        [
         "P0301",
         "Side Note",
         "Clothing",
         "Adidas",
         1005.47,
         904.923
        ],
        [
         "P0302",
         "Three Seven",
         "Electronics",
         "Nike",
         1017.38,
         915.642
        ],
        [
         "P0303",
         "Child Help",
         "Clothing",
         "LG",
         1052.48,
         947.2320000000001
        ],
        [
         "P0304",
         "Our Arrive",
         "Beauty",
         "Adidas",
         1039.68,
         935.7120000000001
        ],
        [
         "P0305",
         "Score Choice",
         "Electronics",
         "Puma",
         1089.74,
         980.7660000000001
        ],
        [
         "P0306",
         "Six Speak",
         "Toys",
         "Samsung",
         140.5,
         126.45
        ],
        [
         "P0307",
         "Culture Specific",
         "Beauty",
         "Lenovo",
         1923.44,
         1731.096
        ],
        [
         "P0308",
         "And Agent",
         "Sports",
         "Nike",
         187.35,
         168.615
        ],
        [
         "P0309",
         "Nor Prepare",
         "Toys",
         "Apple",
         445.2,
         400.68
        ],
        [
         "P0310",
         "Ok Leave",
         "Home",
         "Samsung",
         704.08,
         633.672
        ],
        [
         "P0311",
         "Blue Live",
         "Toys",
         "Revlon",
         454.3,
         408.87
        ],
        [
         "P0312",
         "Big Similar",
         "Beauty",
         "Puma",
         1500.97,
         1350.873
        ],
        [
         "P0313",
         "Try You",
         "Sports",
         "Samsung",
         985.34,
         886.806
        ],
        [
         "P0314",
         "Protect Hope",
         "Sports",
         "Nike",
         599.47,
         539.523
        ],
        [
         "P0315",
         "Work Party",
         "Clothing",
         "Dell",
         1703.11,
         1532.799
        ],
        [
         "P0316",
         "Sell State",
         "Clothing",
         "Puma",
         605.68,
         545.112
        ],
        [
         "P0317",
         "Trade Region",
         "Home",
         "Dell",
         1174.72,
         1057.248
        ],
        [
         "P0318",
         "History Create",
         "Toys",
         "Samsung",
         824.7,
         742.23
        ],
        [
         "P0319",
         "Trouble Street",
         "Home",
         "Nike",
         1494.78,
         1345.302
        ],
        [
         "P0320",
         "Whole Road",
         "Toys",
         "Adidas",
         491.43,
         442.28700000000003
        ],
        [
         "P0321",
         "They As",
         "Toys",
         "Lenovo",
         1631.26,
         1468.134
        ],
        [
         "P0322",
         "Part Traditional",
         "Beauty",
         "Dell",
         1731.88,
         1558.6920000000002
        ],
        [
         "P0323",
         "Professor What",
         "Beauty",
         "Lenovo",
         1248.81,
         1123.929
        ],
        [
         "P0324",
         "Light Idea",
         "Toys",
         "Nike",
         1819.96,
         1637.9640000000002
        ],
        [
         "P0325",
         "Right Program",
         "Beauty",
         "Lenovo",
         1361.28,
         1225.152
        ],
        [
         "P0326",
         "Safe Loss",
         "Clothing",
         "Nike",
         1688.79,
         1519.911
        ],
        [
         "P0327",
         "Garden Shake",
         "Electronics",
         "Sony",
         943.0,
         848.7
        ],
        [
         "P0328",
         "Space Person",
         "Clothing",
         "Lenovo",
         1928.38,
         1735.5420000000001
        ],
        [
         "P0329",
         "Range However",
         "Toys",
         "Nike",
         1295.37,
         1165.8329999999999
        ],
        [
         "P0330",
         "Main Student",
         "Sports",
         "LG",
         1241.75,
         1117.575
        ],
        [
         "P0331",
         "Let Positive",
         "Sports",
         "LG",
         1528.85,
         1375.965
        ],
        [
         "P0332",
         "Thus Make",
         "Toys",
         "Lenovo",
         1369.33,
         1232.397
        ],
        [
         "P0333",
         "History Easy",
         "Beauty",
         "Sony",
         1892.24,
         1703.016
        ],
        [
         "P0334",
         "Customer Loss",
         "Beauty",
         "Lenovo",
         1560.27,
         1404.243
        ],
        [
         "P0335",
         "Type Area",
         "Sports",
         "Samsung",
         1352.39,
         1217.151
        ],
        [
         "P0336",
         "Shake Current",
         "Electronics",
         "Dell",
         222.93,
         200.637
        ],
        [
         "P0337",
         "Very Include",
         "Toys",
         "Samsung",
         1968.32,
         1771.488
        ],
        [
         "P0338",
         "Service Military",
         "Home",
         "LG",
         1844.1,
         1659.69
        ],
        [
         "P0339",
         "Rule Site",
         "Sports",
         "LG",
         1321.67,
         1189.5030000000002
        ],
        [
         "P0340",
         "Though Pretty",
         "Electronics",
         "Adidas",
         1635.48,
         1471.932
        ],
        [
         "P0341",
         "Me Small",
         "Home",
         "Lenovo",
         1333.84,
         1200.456
        ],
        [
         "P0342",
         "Trouble Over",
         "Beauty",
         "Nike",
         125.97,
         113.373
        ],
        [
         "P0343",
         "Yeah Former",
         "Toys",
         "Sony",
         539.06,
         485.15399999999994
        ],
        [
         "P0344",
         "House Enter",
         "Beauty",
         "Nike",
         1118.86,
         1006.9739999999999
        ],
        [
         "P0345",
         "Federal Sport",
         "Sports",
         "Apple",
         1366.77,
         1230.093
        ],
        [
         "P0346",
         "International Yes",
         "Home",
         "Dell",
         84.09,
         75.68100000000001
        ],
        [
         "P0347",
         "Painting Kid",
         "Beauty",
         "Sony",
         452.69,
         407.421
        ],
        [
         "P0348",
         "Late Smile",
         "Home",
         "LG",
         958.75,
         862.875
        ],
        [
         "P0349",
         "Less Can",
         "Beauty",
         "LG",
         1059.73,
         953.7570000000001
        ],
        [
         "P0350",
         "Garden Blue",
         "Sports",
         "Dell",
         758.98,
         683.082
        ],
        [
         "P0351",
         "Debate Whether",
         "Beauty",
         "Samsung",
         390.64,
         351.576
        ],
        [
         "P0352",
         "About Room",
         "Home",
         "Sony",
         1226.91,
         1104.219
        ],
        [
         "P0353",
         "Local Big",
         "Electronics",
         "Adidas",
         1464.67,
         1318.2030000000002
        ],
        [
         "P0354",
         "Stop As",
         "Electronics",
         "Samsung",
         289.67,
         260.70300000000003
        ],
        [
         "P0355",
         "Itself Explain",
         "Toys",
         "Apple",
         1804.42,
         1623.978
        ],
        [
         "P0356",
         "Method Authority",
         "Electronics",
         "Samsung",
         97.91,
         88.119
        ],
        [
         "P0357",
         "The Seek",
         "Clothing",
         "Adidas",
         1705.13,
         1534.6170000000002
        ],
        [
         "P0358",
         "Quickly Republican",
         "Sports",
         "Samsung",
         1175.18,
         1057.662
        ],
        [
         "P0359",
         "Feel Describe",
         "Home",
         "Lenovo",
         660.84,
         594.7560000000001
        ],
        [
         "P0360",
         "Reveal Organization",
         "Clothing",
         "Lenovo",
         175.53,
         157.977
        ],
        [
         "P0361",
         "Energy Lay",
         "Beauty",
         "LG",
         1572.29,
         1415.061
        ],
        [
         "P0362",
         "Reality Network",
         "Toys",
         "Revlon",
         1555.65,
         1400.085
        ],
        [
         "P0363",
         "Score Read",
         "Home",
         "Nike",
         758.11,
         682.299
        ],
        [
         "P0364",
         "What Describe",
         "Sports",
         "Dell",
         930.34,
         837.306
        ],
        [
         "P0365",
         "Available Rich",
         "Clothing",
         "Revlon",
         1542.85,
         1388.565
        ],
        [
         "P0366",
         "Seek Position",
         "Toys",
         "Apple",
         1008.85,
         907.965
        ],
        [
         "P0367",
         "Human See",
         "Clothing",
         "Nike",
         776.79,
         699.111
        ],
        [
         "P0368",
         "National Various",
         "Beauty",
         "Dell",
         138.37,
         124.533
        ],
        [
         "P0369",
         "Spend Account",
         "Sports",
         "Apple",
         1954.77,
         1759.2930000000001
        ],
        [
         "P0370",
         "Artist Protect",
         "Sports",
         "Lenovo",
         1000.0,
         900.0
        ],
        [
         "P0371",
         "Possible So",
         "Electronics",
         "Dell",
         1479.94,
         1331.9460000000001
        ],
        [
         "P0372",
         "Level Rock",
         "Electronics",
         "Dell",
         1242.11,
         1117.899
        ],
        [
         "P0373",
         "Wrong Building",
         "Beauty",
         "Puma",
         1858.79,
         1672.911
        ],
        [
         "P0374",
         "Whom Century",
         "Beauty",
         "LG",
         1676.32,
         1508.6879999999999
        ],
        [
         "P0375",
         "Local Evening",
         "Electronics",
         "Sony",
         412.3,
         371.07
        ],
        [
         "P0376",
         "Piece Raise",
         "Beauty",
         "Adidas",
         1860.84,
         1674.7559999999999
        ],
        [
         "P0377",
         "Think None",
         "Sports",
         "Dell",
         1298.87,
         1168.983
        ],
        [
         "P0378",
         "Economy Court",
         "Electronics",
         "Dell",
         1677.01,
         1509.309
        ],
        [
         "P0379",
         "Ball Base",
         "Clothing",
         "Sony",
         1028.64,
         925.7760000000001
        ],
        [
         "P0380",
         "Blue Finally",
         "Sports",
         "Dell",
         1721.21,
         1549.0890000000002
        ],
        [
         "P0381",
         "Tend Inside",
         "Clothing",
         "Adidas",
         1203.96,
         1083.564
        ],
        [
         "P0382",
         "Five Force",
         "Home",
         "Apple",
         713.46,
         642.114
        ],
        [
         "P0383",
         "Popular Herself",
         "Beauty",
         "Revlon",
         180.91,
         162.819
        ],
        [
         "P0384",
         "Issue Doctor",
         "Toys",
         "Puma",
         86.38,
         77.742
        ],
        [
         "P0385",
         "Old Hand",
         "Beauty",
         "Revlon",
         1924.73,
         1732.257
        ],
        [
         "P0386",
         "Style Again",
         "Sports",
         "Revlon",
         1294.16,
         1164.7440000000001
        ],
        [
         "P0387",
         "Affect Continue",
         "Clothing",
         "Dell",
         1648.43,
         1483.587
        ],
        [
         "P0388",
         "Professional Physical",
         "Clothing",
         "Puma",
         922.07,
         829.863
        ],
        [
         "P0389",
         "Necessary Upon",
         "Beauty",
         "Sony",
         458.59,
         412.731
        ],
        [
         "P0390",
         "Leader Security",
         "Toys",
         "Lenovo",
         867.57,
         780.8130000000001
        ],
        [
         "P0391",
         "Serious Information",
         "Beauty",
         "Sony",
         1392.3,
         1253.07
        ],
        [
         "P0392",
         "Customer Or",
         "Sports",
         "Apple",
         892.97,
         803.673
        ],
        [
         "P0393",
         "Goal Ground",
         "Clothing",
         "Sony",
         1619.98,
         1457.982
        ],
        [
         "P0394",
         "Beautiful Small",
         "Beauty",
         "Samsung",
         926.57,
         833.913
        ],
        [
         "P0395",
         "Song Approach",
         "Clothing",
         "Samsung",
         1758.5,
         1582.65
        ],
        [
         "P0396",
         "Pattern Age",
         "Electronics",
         "Lenovo",
         1566.87,
         1410.183
        ],
        [
         "P0397",
         "Civil Action",
         "Sports",
         "Apple",
         1877.24,
         1689.516
        ],
        [
         "P0398",
         "Floor Daughter",
         "Electronics",
         "Apple",
         1825.42,
         1642.8780000000002
        ],
        [
         "P0399",
         "Parent Reflect",
         "Toys",
         "Nike",
         1135.56,
         1022.004
        ],
        [
         "P0400",
         "Any Buy",
         "Clothing",
         "Sony",
         835.22,
         751.6980000000001
        ],
        [
         "P0401",
         "Design Machine",
         "Toys",
         "Dell",
         392.57,
         353.313
        ],
        [
         "P0402",
         "Area Your",
         "Beauty",
         "Lenovo",
         47.46,
         42.714
        ],
        [
         "P0403",
         "Artist Anyone",
         "Home",
         "Lenovo",
         1744.03,
         1569.627
        ],
        [
         "P0404",
         "Card Government",
         "Electronics",
         "LG",
         967.18,
         870.462
        ],
        [
         "P0405",
         "Population Hold",
         "Electronics",
         "Dell",
         1225.32,
         1102.788
        ],
        [
         "P0406",
         "Indicate Produce",
         "Beauty",
         "Adidas",
         584.74,
         526.2660000000001
        ],
        [
         "P0407",
         "Carry Laugh",
         "Home",
         "LG",
         584.71,
         526.239
        ],
        [
         "P0408",
         "Finish Sister",
         "Sports",
         "Apple",
         1167.48,
         1050.732
        ],
        [
         "P0409",
         "Happen Old",
         "Sports",
         "LG",
         890.11,
         801.099
        ],
        [
         "P0410",
         "Particular Cause",
         "Toys",
         "Adidas",
         373.46,
         336.114
        ],
        [
         "P0411",
         "Attack Cell",
         "Electronics",
         "Puma",
         873.95,
         786.5550000000001
        ],
        [
         "P0412",
         "Significant Ability",
         "Electronics",
         "Dell",
         129.25,
         116.325
        ],
        [
         "P0413",
         "Stand Enough",
         "Clothing",
         "Lenovo",
         342.07,
         307.863
        ],
        [
         "P0414",
         "Pressure Role",
         "Beauty",
         "LG",
         1456.9,
         1311.21
        ],
        [
         "P0415",
         "Great Wish",
         "Beauty",
         "Samsung",
         1821.91,
         1639.719
        ],
        [
         "P0416",
         "Brother Would",
         "Toys",
         "Nike",
         427.5,
         384.75
        ],
        [
         "P0417",
         "Sing Head",
         "Beauty",
         "Revlon",
         111.34,
         100.206
        ],
        [
         "P0418",
         "Other Right",
         "Home",
         "Dell",
         1844.36,
         1659.924
        ],
        [
         "P0419",
         "Claim Firm",
         "Toys",
         "Adidas",
         629.71,
         566.739
        ],
        [
         "P0420",
         "Social Cost",
         "Home",
         "Adidas",
         49.6,
         44.64
        ],
        [
         "P0421",
         "Whole Per",
         "Clothing",
         "Sony",
         1520.45,
         1368.405
        ],
        [
         "P0422",
         "Society Action",
         "Electronics",
         "Revlon",
         184.69,
         166.221
        ],
        [
         "P0423",
         "Add Eight",
         "Clothing",
         "Dell",
         990.07,
         891.0630000000001
        ],
        [
         "P0424",
         "What Best",
         "Sports",
         "Apple",
         1141.78,
         1027.602
        ],
        [
         "P0425",
         "Girl Important",
         "Home",
         "Adidas",
         1822.03,
         1639.827
        ],
        [
         "P0426",
         "Several Pick",
         "Electronics",
         "Puma",
         1956.82,
         1761.138
        ],
        [
         "P0427",
         "Despite Dream",
         "Sports",
         "Sony",
         1967.84,
         1771.056
        ],
        [
         "P0428",
         "Why Ten",
         "Beauty",
         "Sony",
         1582.19,
         1423.971
        ],
        [
         "P0429",
         "Never Painting",
         "Electronics",
         "Apple",
         1734.0,
         1560.6000000000001
        ],
        [
         "P0430",
         "Language Style",
         "Sports",
         "Adidas",
         1386.32,
         1247.6879999999999
        ],
        [
         "P0431",
         "Physical Quite",
         "Electronics",
         "Dell",
         682.1,
         613.89
        ],
        [
         "P0432",
         "Discuss Decide",
         "Toys",
         "Revlon",
         1287.08,
         1158.372
        ],
        [
         "P0433",
         "Would Describe",
         "Electronics",
         "Apple",
         1123.66,
         1011.2940000000001
        ],
        [
         "P0434",
         "Every Line",
         "Electronics",
         "Adidas",
         1689.45,
         1520.505
        ],
        [
         "P0435",
         "Debate Center",
         "Sports",
         "Nike",
         1902.58,
         1712.322
        ],
        [
         "P0436",
         "Begin Three",
         "Sports",
         "Puma",
         1781.45,
         1603.305
        ],
        [
         "P0437",
         "Explain Until",
         "Clothing",
         "Sony",
         465.4,
         418.86
        ],
        [
         "P0438",
         "Mind Add",
         "Toys",
         "LG",
         1309.15,
         1178.2350000000001
        ],
        [
         "P0439",
         "Very Democratic",
         "Home",
         "Apple",
         1174.39,
         1056.951
        ],
        [
         "P0440",
         "Travel Practice",
         "Electronics",
         "Dell",
         1983.25,
         1784.925
        ],
        [
         "P0441",
         "Lot Fish",
         "Toys",
         "Adidas",
         1300.71,
         1170.6390000000001
        ],
        [
         "P0442",
         "Animal Court",
         "Electronics",
         "Adidas",
         1811.22,
         1630.098
        ],
        [
         "P0443",
         "Campaign Decision",
         "Toys",
         "Dell",
         685.07,
         616.5630000000001
        ],
        [
         "P0444",
         "Change It",
         "Beauty",
         "Revlon",
         655.62,
         590.058
        ],
        [
         "P0445",
         "Mean Hospital",
         "Electronics",
         "Apple",
         792.65,
         713.385
        ],
        [
         "P0446",
         "Blood National",
         "Sports",
         "Puma",
         1016.83,
         915.147
        ],
        [
         "P0447",
         "There Whether",
         "Toys",
         "Sony",
         915.77,
         824.193
        ],
        [
         "P0448",
         "Method Plant",
         "Electronics",
         "LG",
         1264.88,
         1138.392
        ],
        [
         "P0449",
         "Property Total",
         "Electronics",
         "Samsung",
         188.96,
         170.06400000000002
        ],
        [
         "P0450",
         "Laugh Minute",
         "Home",
         "Revlon",
         985.83,
         887.2470000000001
        ],
        [
         "P0451",
         "Card Another",
         "Sports",
         "Puma",
         1663.54,
         1497.186
        ],
        [
         "P0452",
         "Other Role",
         "Electronics",
         "Dell",
         1462.41,
         1316.169
        ],
        [
         "P0453",
         "Early Authority",
         "Home",
         "Sony",
         250.33,
         225.29700000000003
        ],
        [
         "P0454",
         "Window Nature",
         "Clothing",
         "Sony",
         324.49,
         292.041
        ],
        [
         "P0455",
         "Me True",
         "Beauty",
         "Puma",
         1884.65,
         1696.1850000000002
        ],
        [
         "P0456",
         "Side Knowledge",
         "Clothing",
         "Apple",
         1904.87,
         1714.383
        ],
        [
         "P0457",
         "Reach House",
         "Sports",
         "Nike",
         1731.23,
         1558.107
        ],
        [
         "P0458",
         "Fight Claim",
         "Home",
         "Dell",
         629.24,
         566.316
        ],
        [
         "P0459",
         "Without Matter",
         "Toys",
         "Apple",
         1208.62,
         1087.758
        ],
        [
         "P0460",
         "Recently Heavy",
         "Electronics",
         "Revlon",
         1327.98,
         1195.182
        ],
        [
         "P0461",
         "Dream Thought",
         "Home",
         "Apple",
         1367.65,
         1230.8850000000002
        ],
        [
         "P0462",
         "Modern Yet",
         "Sports",
         "Revlon",
         1909.36,
         1718.424
        ],
        [
         "P0463",
         "Movie Cell",
         "Clothing",
         "Apple",
         293.1,
         263.79
        ],
        [
         "P0464",
         "Whatever Audience",
         "Electronics",
         "Sony",
         638.63,
         574.767
        ],
        [
         "P0465",
         "Morning Politics",
         "Sports",
         "Lenovo",
         151.23,
         136.107
        ],
        [
         "P0466",
         "Effort Service",
         "Beauty",
         "Lenovo",
         1305.34,
         1174.806
        ],
        [
         "P0467",
         "Approach Only",
         "Clothing",
         "Adidas",
         15.91,
         14.319
        ],
        [
         "P0468",
         "Present Recent",
         "Toys",
         "LG",
         1530.08,
         1377.072
        ],
        [
         "P0469",
         "Line Ball",
         "Clothing",
         "Dell",
         98.6,
         88.74
        ],
        [
         "P0470",
         "Probably High",
         "Home",
         "Dell",
         649.66,
         584.694
        ],
        [
         "P0471",
         "Then Exactly",
         "Beauty",
         "Sony",
         20.68,
         18.612000000000002
        ],
        [
         "P0472",
         "Even Economic",
         "Toys",
         "Apple",
         1409.94,
         1268.9460000000001
        ],
        [
         "P0473",
         "Today Over",
         "Toys",
         "Adidas",
         1878.18,
         1690.362
        ],
        [
         "P0474",
         "Expert Appear",
         "Home",
         "Nike",
         1287.26,
         1158.534
        ],
        [
         "P0475",
         "Government And",
         "Home",
         "Samsung",
         964.94,
         868.446
        ],
        [
         "P0476",
         "Consumer Itself",
         "Toys",
         "Lenovo",
         259.13,
         233.217
        ],
        [
         "P0477",
         "Upon Sometimes",
         "Electronics",
         "Apple",
         917.67,
         825.903
        ],
        [
         "P0478",
         "Quality True",
         "Sports",
         "Sony",
         630.56,
         567.504
        ],
        [
         "P0479",
         "Voice A",
         "Clothing",
         "Sony",
         567.29,
         510.561
        ],
        [
         "P0480",
         "Child Threat",
         "Beauty",
         "Adidas",
         492.92,
         443.62800000000004
        ],
        [
         "P0481",
         "Fact Measure",
         "Beauty",
         "Nike",
         1554.11,
         1398.6989999999998
        ],
        [
         "P0482",
         "Force Family",
         "Clothing",
         "Sony",
         1675.86,
         1508.274
        ],
        [
         "P0483",
         "From Night",
         "Toys",
         "Nike",
         877.18,
         789.462
        ],
        [
         "P0484",
         "Deep Thank",
         "Beauty",
         "Apple",
         1397.57,
         1257.8129999999999
        ],
        [
         "P0485",
         "Rise Exactly",
         "Home",
         "Apple",
         535.31,
         481.77899999999994
        ],
        [
         "P0486",
         "Identify Magazine",
         "Electronics",
         "Samsung",
         315.25,
         283.725
        ],
        [
         "P0487",
         "Now Never",
         "Electronics",
         "Dell",
         1666.94,
         1500.246
        ],
        [
         "P0488",
         "Experience Idea",
         "Electronics",
         "Lenovo",
         1316.67,
         1185.0030000000002
        ],
        [
         "P0489",
         "Camera At",
         "Electronics",
         "LG",
         1923.44,
         1731.096
        ],
        [
         "P0490",
         "Door Itself",
         "Home",
         "Revlon",
         1718.72,
         1546.848
        ],
        [
         "P0491",
         "Floor Sit",
         "Clothing",
         "LG",
         1602.21,
         1441.989
        ],
        [
         "P0492",
         "A Forward",
         "Home",
         "Nike",
         121.07,
         108.963
        ],
        [
         "P0493",
         "Pass Go",
         "Toys",
         "Samsung",
         295.7,
         266.13
        ],
        [
         "P0494",
         "Personal Stand",
         "Toys",
         "Apple",
         1913.83,
         1722.447
        ],
        [
         "P0495",
         "Sister Question",
         "Toys",
         "Sony",
         561.99,
         505.791
        ],
        [
         "P0496",
         "Beyond Some",
         "Beauty",
         "Apple",
         137.62,
         123.858
        ],
        [
         "P0497",
         "Reflect Chair",
         "Beauty",
         "Lenovo",
         930.59,
         837.5310000000001
        ],
        [
         "P0498",
         "Economic Over",
         "Beauty",
         "Adidas",
         1990.58,
         1791.522
        ],
        [
         "P0499",
         "Writer Mouth",
         "Home",
         "Revlon",
         1774.16,
         1596.7440000000001
        ],
        [
         "P0500",
         "Itself Despite",
         "Electronics",
         "Puma",
         322.4,
         290.15999999999997
        ]
       ],
       "datasetInfos": [],
       "dbfsResultPath": null,
       "isJsonSchema": true,
       "metadata": {},
       "overflow": false,
       "plotOptions": {
        "customPlotOptions": {},
        "displayType": "table",
        "pivotAggregation": null,
        "pivotColumns": null,
        "xColumns": null,
        "yColumns": null
       },
       "removedWidgets": [],
       "schema": [
        {
         "metadata": "{}",
         "name": "product_id",
         "type": "\"string\""
        },
        {
         "metadata": "{}",
         "name": "product_name",
         "type": "\"string\""
        },
        {
         "metadata": "{}",
         "name": "category",
         "type": "\"string\""
        },
        {
         "metadata": "{}",
         "name": "brand",
         "type": "\"string\""
        },
        {
         "metadata": "{}",
         "name": "price",
         "type": "\"double\""
        },
        {
         "metadata": "{}",
         "name": "discounted_price",
         "type": "\"double\""
        }
       ],
       "type": "table"
      }
     },
     "output_type": "display_data"
    }
   ],
   "source": [
    "df = df.withColumn(\"discounted_price\",expr(\"databricks_cata.bronze.discount_func(price)\"))\n",
    "df.display()"
   ]
  },
  {
   "cell_type": "code",
   "execution_count": 0,
   "metadata": {
    "application/vnd.databricks.v1+cell": {
     "cellMetadata": {
      "byteLimit": 2048000,
      "implicitDf": true,
      "rowLimit": 10000
     },
     "inputWidgets": {},
     "nuid": "6bdb2806-eeba-4f25-8bc0-b39bf317d067",
     "showTitle": false,
     "tableResultSettingsMap": {},
     "title": ""
    }
   },
   "outputs": [
    {
     "output_type": "display_data",
     "data": {
      "text/html": [
       "<style scoped>\n",
       "  .table-result-container {\n",
       "    max-height: 300px;\n",
       "    overflow: auto;\n",
       "  }\n",
       "  table, th, td {\n",
       "    border: 1px solid black;\n",
       "    border-collapse: collapse;\n",
       "  }\n",
       "  th, td {\n",
       "    padding: 5px;\n",
       "  }\n",
       "  th {\n",
       "    text-align: left;\n",
       "  }\n",
       "</style><div class='table-result-container'><table class='table-result'><thead style='background-color: white'><tr></tr></thead><tbody></tbody></table></div>"
      ]
     },
     "metadata": {
      "application/vnd.databricks.v1+output": {
       "addedWidgets": {},
       "aggData": [],
       "aggError": "",
       "aggOverflow": false,
       "aggSchema": [],
       "aggSeriesLimitReached": false,
       "aggType": "",
       "arguments": {},
       "columnCustomDisplayInfos": {},
       "data": [],
       "datasetInfos": [],
       "dbfsResultPath": null,
       "isJsonSchema": true,
       "metadata": {
        "dataframeName": null
       },
       "overflow": false,
       "plotOptions": {
        "customPlotOptions": {},
        "displayType": "table",
        "pivotAggregation": null,
        "pivotColumns": null,
        "xColumns": null,
        "yColumns": null
       },
       "removedWidgets": [],
       "schema": [],
       "type": "table"
      }
     },
     "output_type": "display_data"
    }
   ],
   "source": [
    "%sql\n",
    "CREATE OR REPLACE FUNCTION databricks_cata.bronze.upper_func(p_brand STRING)\n",
    "RETURNS STRING\n",
    "LANGUAGE PYTHON\n",
    "AS\n",
    "$$\n",
    "    return p_brand.upper()\n",
    "$$"
   ]
  },
  {
   "cell_type": "code",
   "execution_count": 0,
   "metadata": {
    "application/vnd.databricks.v1+cell": {
     "cellMetadata": {
      "byteLimit": 2048000,
      "implicitDf": true,
      "rowLimit": 10000
     },
     "inputWidgets": {},
     "nuid": "5246527c-426b-48bb-8512-56dbf9807ffb",
     "showTitle": false,
     "tableResultSettingsMap": {},
     "title": ""
    }
   },
   "outputs": [
    {
     "output_type": "display_data",
     "data": {
      "text/html": [
       "<style scoped>\n",
       "  .table-result-container {\n",
       "    max-height: 300px;\n",
       "    overflow: auto;\n",
       "  }\n",
       "  table, th, td {\n",
       "    border: 1px solid black;\n",
       "    border-collapse: collapse;\n",
       "  }\n",
       "  th, td {\n",
       "    padding: 5px;\n",
       "  }\n",
       "  th {\n",
       "    text-align: left;\n",
       "  }\n",
       "</style><div class='table-result-container'><table class='table-result'><thead style='background-color: white'><tr><th>product_id</th><th>brand</th><th>brand_upper</th></tr></thead><tbody><tr><td>P0001</td><td>Nike</td><td>NIKE</td></tr><tr><td>P0002</td><td>Apple</td><td>APPLE</td></tr><tr><td>P0003</td><td>Revlon</td><td>REVLON</td></tr><tr><td>P0004</td><td>LG</td><td>LG</td></tr><tr><td>P0005</td><td>Samsung</td><td>SAMSUNG</td></tr><tr><td>P0006</td><td>Adidas</td><td>ADIDAS</td></tr><tr><td>P0007</td><td>Adidas</td><td>ADIDAS</td></tr><tr><td>P0008</td><td>Puma</td><td>PUMA</td></tr><tr><td>P0009</td><td>Samsung</td><td>SAMSUNG</td></tr><tr><td>P0010</td><td>Sony</td><td>SONY</td></tr><tr><td>P0011</td><td>Adidas</td><td>ADIDAS</td></tr><tr><td>P0012</td><td>Apple</td><td>APPLE</td></tr><tr><td>P0013</td><td>Puma</td><td>PUMA</td></tr><tr><td>P0014</td><td>Dell</td><td>DELL</td></tr><tr><td>P0015</td><td>LG</td><td>LG</td></tr><tr><td>P0016</td><td>Samsung</td><td>SAMSUNG</td></tr><tr><td>P0017</td><td>Revlon</td><td>REVLON</td></tr><tr><td>P0018</td><td>Puma</td><td>PUMA</td></tr><tr><td>P0019</td><td>Samsung</td><td>SAMSUNG</td></tr><tr><td>P0020</td><td>Nike</td><td>NIKE</td></tr><tr><td>P0021</td><td>Nike</td><td>NIKE</td></tr><tr><td>P0022</td><td>Puma</td><td>PUMA</td></tr><tr><td>P0023</td><td>Adidas</td><td>ADIDAS</td></tr><tr><td>P0024</td><td>Samsung</td><td>SAMSUNG</td></tr><tr><td>P0025</td><td>Nike</td><td>NIKE</td></tr><tr><td>P0026</td><td>Puma</td><td>PUMA</td></tr><tr><td>P0027</td><td>Adidas</td><td>ADIDAS</td></tr><tr><td>P0028</td><td>Puma</td><td>PUMA</td></tr><tr><td>P0029</td><td>Nike</td><td>NIKE</td></tr><tr><td>P0030</td><td>Lenovo</td><td>LENOVO</td></tr><tr><td>P0031</td><td>LG</td><td>LG</td></tr><tr><td>P0032</td><td>Dell</td><td>DELL</td></tr><tr><td>P0033</td><td>Lenovo</td><td>LENOVO</td></tr><tr><td>P0034</td><td>Samsung</td><td>SAMSUNG</td></tr><tr><td>P0035</td><td>Revlon</td><td>REVLON</td></tr><tr><td>P0036</td><td>Dell</td><td>DELL</td></tr><tr><td>P0037</td><td>Puma</td><td>PUMA</td></tr><tr><td>P0038</td><td>Revlon</td><td>REVLON</td></tr><tr><td>P0039</td><td>Revlon</td><td>REVLON</td></tr><tr><td>P0040</td><td>Dell</td><td>DELL</td></tr><tr><td>P0041</td><td>Dell</td><td>DELL</td></tr><tr><td>P0042</td><td>Adidas</td><td>ADIDAS</td></tr><tr><td>P0043</td><td>Revlon</td><td>REVLON</td></tr><tr><td>P0044</td><td>Dell</td><td>DELL</td></tr><tr><td>P0045</td><td>Sony</td><td>SONY</td></tr><tr><td>P0046</td><td>Samsung</td><td>SAMSUNG</td></tr><tr><td>P0047</td><td>Revlon</td><td>REVLON</td></tr><tr><td>P0048</td><td>Revlon</td><td>REVLON</td></tr><tr><td>P0049</td><td>Lenovo</td><td>LENOVO</td></tr><tr><td>P0050</td><td>Samsung</td><td>SAMSUNG</td></tr><tr><td>P0051</td><td>Apple</td><td>APPLE</td></tr><tr><td>P0052</td><td>Lenovo</td><td>LENOVO</td></tr><tr><td>P0053</td><td>Samsung</td><td>SAMSUNG</td></tr><tr><td>P0054</td><td>Adidas</td><td>ADIDAS</td></tr><tr><td>P0055</td><td>Sony</td><td>SONY</td></tr><tr><td>P0056</td><td>Nike</td><td>NIKE</td></tr><tr><td>P0057</td><td>Samsung</td><td>SAMSUNG</td></tr><tr><td>P0058</td><td>LG</td><td>LG</td></tr><tr><td>P0059</td><td>Lenovo</td><td>LENOVO</td></tr><tr><td>P0060</td><td>Nike</td><td>NIKE</td></tr><tr><td>P0061</td><td>Sony</td><td>SONY</td></tr><tr><td>P0062</td><td>Samsung</td><td>SAMSUNG</td></tr><tr><td>P0063</td><td>Nike</td><td>NIKE</td></tr><tr><td>P0064</td><td>LG</td><td>LG</td></tr><tr><td>P0065</td><td>Lenovo</td><td>LENOVO</td></tr><tr><td>P0066</td><td>Sony</td><td>SONY</td></tr><tr><td>P0067</td><td>Samsung</td><td>SAMSUNG</td></tr><tr><td>P0068</td><td>LG</td><td>LG</td></tr><tr><td>P0069</td><td>Lenovo</td><td>LENOVO</td></tr><tr><td>P0070</td><td>Lenovo</td><td>LENOVO</td></tr><tr><td>P0071</td><td>Apple</td><td>APPLE</td></tr><tr><td>P0072</td><td>Revlon</td><td>REVLON</td></tr><tr><td>P0073</td><td>Adidas</td><td>ADIDAS</td></tr><tr><td>P0074</td><td>Lenovo</td><td>LENOVO</td></tr><tr><td>P0075</td><td>Samsung</td><td>SAMSUNG</td></tr><tr><td>P0076</td><td>Puma</td><td>PUMA</td></tr><tr><td>P0077</td><td>LG</td><td>LG</td></tr><tr><td>P0078</td><td>LG</td><td>LG</td></tr><tr><td>P0079</td><td>LG</td><td>LG</td></tr><tr><td>P0080</td><td>Lenovo</td><td>LENOVO</td></tr><tr><td>P0081</td><td>Nike</td><td>NIKE</td></tr><tr><td>P0082</td><td>Apple</td><td>APPLE</td></tr><tr><td>P0083</td><td>Dell</td><td>DELL</td></tr><tr><td>P0084</td><td>Samsung</td><td>SAMSUNG</td></tr><tr><td>P0085</td><td>Apple</td><td>APPLE</td></tr><tr><td>P0086</td><td>Nike</td><td>NIKE</td></tr><tr><td>P0087</td><td>Sony</td><td>SONY</td></tr><tr><td>P0088</td><td>Adidas</td><td>ADIDAS</td></tr><tr><td>P0089</td><td>LG</td><td>LG</td></tr><tr><td>P0090</td><td>Puma</td><td>PUMA</td></tr><tr><td>P0091</td><td>Samsung</td><td>SAMSUNG</td></tr><tr><td>P0092</td><td>Revlon</td><td>REVLON</td></tr><tr><td>P0093</td><td>Puma</td><td>PUMA</td></tr><tr><td>P0094</td><td>LG</td><td>LG</td></tr><tr><td>P0095</td><td>Apple</td><td>APPLE</td></tr><tr><td>P0096</td><td>Nike</td><td>NIKE</td></tr><tr><td>P0097</td><td>Apple</td><td>APPLE</td></tr><tr><td>P0098</td><td>Puma</td><td>PUMA</td></tr><tr><td>P0099</td><td>Adidas</td><td>ADIDAS</td></tr><tr><td>P0100</td><td>Dell</td><td>DELL</td></tr><tr><td>P0101</td><td>Puma</td><td>PUMA</td></tr><tr><td>P0102</td><td>LG</td><td>LG</td></tr><tr><td>P0103</td><td>Samsung</td><td>SAMSUNG</td></tr><tr><td>P0104</td><td>Dell</td><td>DELL</td></tr><tr><td>P0105</td><td>LG</td><td>LG</td></tr><tr><td>P0106</td><td>Sony</td><td>SONY</td></tr><tr><td>P0107</td><td>Adidas</td><td>ADIDAS</td></tr><tr><td>P0108</td><td>Puma</td><td>PUMA</td></tr><tr><td>P0109</td><td>Lenovo</td><td>LENOVO</td></tr><tr><td>P0110</td><td>Samsung</td><td>SAMSUNG</td></tr><tr><td>P0111</td><td>Adidas</td><td>ADIDAS</td></tr><tr><td>P0112</td><td>Puma</td><td>PUMA</td></tr><tr><td>P0113</td><td>Puma</td><td>PUMA</td></tr><tr><td>P0114</td><td>Nike</td><td>NIKE</td></tr><tr><td>P0115</td><td>Puma</td><td>PUMA</td></tr><tr><td>P0116</td><td>Sony</td><td>SONY</td></tr><tr><td>P0117</td><td>Puma</td><td>PUMA</td></tr><tr><td>P0118</td><td>Lenovo</td><td>LENOVO</td></tr><tr><td>P0119</td><td>Sony</td><td>SONY</td></tr><tr><td>P0120</td><td>Sony</td><td>SONY</td></tr><tr><td>P0121</td><td>Nike</td><td>NIKE</td></tr><tr><td>P0122</td><td>LG</td><td>LG</td></tr><tr><td>P0123</td><td>Nike</td><td>NIKE</td></tr><tr><td>P0124</td><td>Puma</td><td>PUMA</td></tr><tr><td>P0125</td><td>Sony</td><td>SONY</td></tr><tr><td>P0126</td><td>Sony</td><td>SONY</td></tr><tr><td>P0127</td><td>Sony</td><td>SONY</td></tr><tr><td>P0128</td><td>Apple</td><td>APPLE</td></tr><tr><td>P0129</td><td>Adidas</td><td>ADIDAS</td></tr><tr><td>P0130</td><td>Adidas</td><td>ADIDAS</td></tr><tr><td>P0131</td><td>Revlon</td><td>REVLON</td></tr><tr><td>P0132</td><td>Samsung</td><td>SAMSUNG</td></tr><tr><td>P0133</td><td>LG</td><td>LG</td></tr><tr><td>P0134</td><td>Puma</td><td>PUMA</td></tr><tr><td>P0135</td><td>Puma</td><td>PUMA</td></tr><tr><td>P0136</td><td>Samsung</td><td>SAMSUNG</td></tr><tr><td>P0137</td><td>Lenovo</td><td>LENOVO</td></tr><tr><td>P0138</td><td>Samsung</td><td>SAMSUNG</td></tr><tr><td>P0139</td><td>Revlon</td><td>REVLON</td></tr><tr><td>P0140</td><td>Adidas</td><td>ADIDAS</td></tr><tr><td>P0141</td><td>Adidas</td><td>ADIDAS</td></tr><tr><td>P0142</td><td>Adidas</td><td>ADIDAS</td></tr><tr><td>P0143</td><td>Apple</td><td>APPLE</td></tr><tr><td>P0144</td><td>Apple</td><td>APPLE</td></tr><tr><td>P0145</td><td>Puma</td><td>PUMA</td></tr><tr><td>P0146</td><td>Sony</td><td>SONY</td></tr><tr><td>P0147</td><td>Lenovo</td><td>LENOVO</td></tr><tr><td>P0148</td><td>Dell</td><td>DELL</td></tr><tr><td>P0149</td><td>Samsung</td><td>SAMSUNG</td></tr><tr><td>P0150</td><td>Samsung</td><td>SAMSUNG</td></tr><tr><td>P0151</td><td>Apple</td><td>APPLE</td></tr><tr><td>P0152</td><td>LG</td><td>LG</td></tr><tr><td>P0153</td><td>Apple</td><td>APPLE</td></tr><tr><td>P0154</td><td>Samsung</td><td>SAMSUNG</td></tr><tr><td>P0155</td><td>Dell</td><td>DELL</td></tr><tr><td>P0156</td><td>Sony</td><td>SONY</td></tr><tr><td>P0157</td><td>Adidas</td><td>ADIDAS</td></tr><tr><td>P0158</td><td>Adidas</td><td>ADIDAS</td></tr><tr><td>P0159</td><td>Lenovo</td><td>LENOVO</td></tr><tr><td>P0160</td><td>Nike</td><td>NIKE</td></tr><tr><td>P0161</td><td>LG</td><td>LG</td></tr><tr><td>P0162</td><td>Adidas</td><td>ADIDAS</td></tr><tr><td>P0163</td><td>Dell</td><td>DELL</td></tr><tr><td>P0164</td><td>Lenovo</td><td>LENOVO</td></tr><tr><td>P0165</td><td>Adidas</td><td>ADIDAS</td></tr><tr><td>P0166</td><td>Samsung</td><td>SAMSUNG</td></tr><tr><td>P0167</td><td>Adidas</td><td>ADIDAS</td></tr><tr><td>P0168</td><td>Sony</td><td>SONY</td></tr><tr><td>P0169</td><td>Sony</td><td>SONY</td></tr><tr><td>P0170</td><td>Lenovo</td><td>LENOVO</td></tr><tr><td>P0171</td><td>Lenovo</td><td>LENOVO</td></tr><tr><td>P0172</td><td>Sony</td><td>SONY</td></tr><tr><td>P0173</td><td>Samsung</td><td>SAMSUNG</td></tr><tr><td>P0174</td><td>Lenovo</td><td>LENOVO</td></tr><tr><td>P0175</td><td>Apple</td><td>APPLE</td></tr><tr><td>P0176</td><td>Adidas</td><td>ADIDAS</td></tr><tr><td>P0177</td><td>Nike</td><td>NIKE</td></tr><tr><td>P0178</td><td>Adidas</td><td>ADIDAS</td></tr><tr><td>P0179</td><td>Samsung</td><td>SAMSUNG</td></tr><tr><td>P0180</td><td>Sony</td><td>SONY</td></tr><tr><td>P0181</td><td>LG</td><td>LG</td></tr><tr><td>P0182</td><td>Apple</td><td>APPLE</td></tr><tr><td>P0183</td><td>Samsung</td><td>SAMSUNG</td></tr><tr><td>P0184</td><td>Adidas</td><td>ADIDAS</td></tr><tr><td>P0185</td><td>Apple</td><td>APPLE</td></tr><tr><td>P0186</td><td>Revlon</td><td>REVLON</td></tr><tr><td>P0187</td><td>Nike</td><td>NIKE</td></tr><tr><td>P0188</td><td>Adidas</td><td>ADIDAS</td></tr><tr><td>P0189</td><td>Puma</td><td>PUMA</td></tr><tr><td>P0190</td><td>Samsung</td><td>SAMSUNG</td></tr><tr><td>P0191</td><td>Revlon</td><td>REVLON</td></tr><tr><td>P0192</td><td>Apple</td><td>APPLE</td></tr><tr><td>P0193</td><td>Nike</td><td>NIKE</td></tr><tr><td>P0194</td><td>Revlon</td><td>REVLON</td></tr><tr><td>P0195</td><td>Adidas</td><td>ADIDAS</td></tr><tr><td>P0196</td><td>Adidas</td><td>ADIDAS</td></tr><tr><td>P0197</td><td>Revlon</td><td>REVLON</td></tr><tr><td>P0198</td><td>Samsung</td><td>SAMSUNG</td></tr><tr><td>P0199</td><td>Sony</td><td>SONY</td></tr><tr><td>P0200</td><td>Apple</td><td>APPLE</td></tr><tr><td>P0201</td><td>Samsung</td><td>SAMSUNG</td></tr><tr><td>P0202</td><td>Adidas</td><td>ADIDAS</td></tr><tr><td>P0203</td><td>Samsung</td><td>SAMSUNG</td></tr><tr><td>P0204</td><td>Adidas</td><td>ADIDAS</td></tr><tr><td>P0205</td><td>LG</td><td>LG</td></tr><tr><td>P0206</td><td>Apple</td><td>APPLE</td></tr><tr><td>P0207</td><td>Adidas</td><td>ADIDAS</td></tr><tr><td>P0208</td><td>Adidas</td><td>ADIDAS</td></tr><tr><td>P0209</td><td>Revlon</td><td>REVLON</td></tr><tr><td>P0210</td><td>Apple</td><td>APPLE</td></tr><tr><td>P0211</td><td>Nike</td><td>NIKE</td></tr><tr><td>P0212</td><td>Adidas</td><td>ADIDAS</td></tr><tr><td>P0213</td><td>Samsung</td><td>SAMSUNG</td></tr><tr><td>P0214</td><td>Revlon</td><td>REVLON</td></tr><tr><td>P0215</td><td>Adidas</td><td>ADIDAS</td></tr><tr><td>P0216</td><td>Adidas</td><td>ADIDAS</td></tr><tr><td>P0217</td><td>Puma</td><td>PUMA</td></tr><tr><td>P0218</td><td>Nike</td><td>NIKE</td></tr><tr><td>P0219</td><td>Dell</td><td>DELL</td></tr><tr><td>P0220</td><td>Dell</td><td>DELL</td></tr><tr><td>P0221</td><td>Lenovo</td><td>LENOVO</td></tr><tr><td>P0222</td><td>Samsung</td><td>SAMSUNG</td></tr><tr><td>P0223</td><td>Lenovo</td><td>LENOVO</td></tr><tr><td>P0224</td><td>Apple</td><td>APPLE</td></tr><tr><td>P0225</td><td>Nike</td><td>NIKE</td></tr><tr><td>P0226</td><td>Lenovo</td><td>LENOVO</td></tr><tr><td>P0227</td><td>Nike</td><td>NIKE</td></tr><tr><td>P0228</td><td>Puma</td><td>PUMA</td></tr><tr><td>P0229</td><td>Lenovo</td><td>LENOVO</td></tr><tr><td>P0230</td><td>Samsung</td><td>SAMSUNG</td></tr><tr><td>P0231</td><td>Revlon</td><td>REVLON</td></tr><tr><td>P0232</td><td>Adidas</td><td>ADIDAS</td></tr><tr><td>P0233</td><td>Lenovo</td><td>LENOVO</td></tr><tr><td>P0234</td><td>Sony</td><td>SONY</td></tr><tr><td>P0235</td><td>Adidas</td><td>ADIDAS</td></tr><tr><td>P0236</td><td>Samsung</td><td>SAMSUNG</td></tr><tr><td>P0237</td><td>Samsung</td><td>SAMSUNG</td></tr><tr><td>P0238</td><td>Revlon</td><td>REVLON</td></tr><tr><td>P0239</td><td>Nike</td><td>NIKE</td></tr><tr><td>P0240</td><td>Samsung</td><td>SAMSUNG</td></tr><tr><td>P0241</td><td>Puma</td><td>PUMA</td></tr><tr><td>P0242</td><td>Samsung</td><td>SAMSUNG</td></tr><tr><td>P0243</td><td>Lenovo</td><td>LENOVO</td></tr><tr><td>P0244</td><td>Revlon</td><td>REVLON</td></tr><tr><td>P0245</td><td>LG</td><td>LG</td></tr><tr><td>P0246</td><td>Adidas</td><td>ADIDAS</td></tr><tr><td>P0247</td><td>Sony</td><td>SONY</td></tr><tr><td>P0248</td><td>Revlon</td><td>REVLON</td></tr><tr><td>P0249</td><td>Puma</td><td>PUMA</td></tr><tr><td>P0250</td><td>Samsung</td><td>SAMSUNG</td></tr><tr><td>P0251</td><td>Lenovo</td><td>LENOVO</td></tr><tr><td>P0252</td><td>Sony</td><td>SONY</td></tr><tr><td>P0253</td><td>Lenovo</td><td>LENOVO</td></tr><tr><td>P0254</td><td>Lenovo</td><td>LENOVO</td></tr><tr><td>P0255</td><td>Lenovo</td><td>LENOVO</td></tr><tr><td>P0256</td><td>Lenovo</td><td>LENOVO</td></tr><tr><td>P0257</td><td>Nike</td><td>NIKE</td></tr><tr><td>P0258</td><td>Revlon</td><td>REVLON</td></tr><tr><td>P0259</td><td>Puma</td><td>PUMA</td></tr><tr><td>P0260</td><td>Revlon</td><td>REVLON</td></tr><tr><td>P0261</td><td>Dell</td><td>DELL</td></tr><tr><td>P0262</td><td>Samsung</td><td>SAMSUNG</td></tr><tr><td>P0263</td><td>Nike</td><td>NIKE</td></tr><tr><td>P0264</td><td>Apple</td><td>APPLE</td></tr><tr><td>P0265</td><td>Nike</td><td>NIKE</td></tr><tr><td>P0266</td><td>LG</td><td>LG</td></tr><tr><td>P0267</td><td>Adidas</td><td>ADIDAS</td></tr><tr><td>P0268</td><td>Dell</td><td>DELL</td></tr><tr><td>P0269</td><td>Lenovo</td><td>LENOVO</td></tr><tr><td>P0270</td><td>Samsung</td><td>SAMSUNG</td></tr><tr><td>P0271</td><td>Puma</td><td>PUMA</td></tr><tr><td>P0272</td><td>Dell</td><td>DELL</td></tr><tr><td>P0273</td><td>Nike</td><td>NIKE</td></tr><tr><td>P0274</td><td>Samsung</td><td>SAMSUNG</td></tr><tr><td>P0275</td><td>Sony</td><td>SONY</td></tr><tr><td>P0276</td><td>Puma</td><td>PUMA</td></tr><tr><td>P0277</td><td>Dell</td><td>DELL</td></tr><tr><td>P0278</td><td>Revlon</td><td>REVLON</td></tr><tr><td>P0279</td><td>Lenovo</td><td>LENOVO</td></tr><tr><td>P0280</td><td>Puma</td><td>PUMA</td></tr><tr><td>P0281</td><td>Puma</td><td>PUMA</td></tr><tr><td>P0282</td><td>Samsung</td><td>SAMSUNG</td></tr><tr><td>P0283</td><td>Nike</td><td>NIKE</td></tr><tr><td>P0284</td><td>Puma</td><td>PUMA</td></tr><tr><td>P0285</td><td>Revlon</td><td>REVLON</td></tr><tr><td>P0286</td><td>Adidas</td><td>ADIDAS</td></tr><tr><td>P0287</td><td>Puma</td><td>PUMA</td></tr><tr><td>P0288</td><td>Lenovo</td><td>LENOVO</td></tr><tr><td>P0289</td><td>Puma</td><td>PUMA</td></tr><tr><td>P0290</td><td>LG</td><td>LG</td></tr><tr><td>P0291</td><td>LG</td><td>LG</td></tr><tr><td>P0292</td><td>Sony</td><td>SONY</td></tr><tr><td>P0293</td><td>LG</td><td>LG</td></tr><tr><td>P0294</td><td>Lenovo</td><td>LENOVO</td></tr><tr><td>P0295</td><td>Puma</td><td>PUMA</td></tr><tr><td>P0296</td><td>Nike</td><td>NIKE</td></tr><tr><td>P0297</td><td>Nike</td><td>NIKE</td></tr><tr><td>P0298</td><td>Revlon</td><td>REVLON</td></tr><tr><td>P0299</td><td>Apple</td><td>APPLE</td></tr><tr><td>P0300</td><td>Sony</td><td>SONY</td></tr><tr><td>P0301</td><td>Adidas</td><td>ADIDAS</td></tr><tr><td>P0302</td><td>Nike</td><td>NIKE</td></tr><tr><td>P0303</td><td>LG</td><td>LG</td></tr><tr><td>P0304</td><td>Adidas</td><td>ADIDAS</td></tr><tr><td>P0305</td><td>Puma</td><td>PUMA</td></tr><tr><td>P0306</td><td>Samsung</td><td>SAMSUNG</td></tr><tr><td>P0307</td><td>Lenovo</td><td>LENOVO</td></tr><tr><td>P0308</td><td>Nike</td><td>NIKE</td></tr><tr><td>P0309</td><td>Apple</td><td>APPLE</td></tr><tr><td>P0310</td><td>Samsung</td><td>SAMSUNG</td></tr><tr><td>P0311</td><td>Revlon</td><td>REVLON</td></tr><tr><td>P0312</td><td>Puma</td><td>PUMA</td></tr><tr><td>P0313</td><td>Samsung</td><td>SAMSUNG</td></tr><tr><td>P0314</td><td>Nike</td><td>NIKE</td></tr><tr><td>P0315</td><td>Dell</td><td>DELL</td></tr><tr><td>P0316</td><td>Puma</td><td>PUMA</td></tr><tr><td>P0317</td><td>Dell</td><td>DELL</td></tr><tr><td>P0318</td><td>Samsung</td><td>SAMSUNG</td></tr><tr><td>P0319</td><td>Nike</td><td>NIKE</td></tr><tr><td>P0320</td><td>Adidas</td><td>ADIDAS</td></tr><tr><td>P0321</td><td>Lenovo</td><td>LENOVO</td></tr><tr><td>P0322</td><td>Dell</td><td>DELL</td></tr><tr><td>P0323</td><td>Lenovo</td><td>LENOVO</td></tr><tr><td>P0324</td><td>Nike</td><td>NIKE</td></tr><tr><td>P0325</td><td>Lenovo</td><td>LENOVO</td></tr><tr><td>P0326</td><td>Nike</td><td>NIKE</td></tr><tr><td>P0327</td><td>Sony</td><td>SONY</td></tr><tr><td>P0328</td><td>Lenovo</td><td>LENOVO</td></tr><tr><td>P0329</td><td>Nike</td><td>NIKE</td></tr><tr><td>P0330</td><td>LG</td><td>LG</td></tr><tr><td>P0331</td><td>LG</td><td>LG</td></tr><tr><td>P0332</td><td>Lenovo</td><td>LENOVO</td></tr><tr><td>P0333</td><td>Sony</td><td>SONY</td></tr><tr><td>P0334</td><td>Lenovo</td><td>LENOVO</td></tr><tr><td>P0335</td><td>Samsung</td><td>SAMSUNG</td></tr><tr><td>P0336</td><td>Dell</td><td>DELL</td></tr><tr><td>P0337</td><td>Samsung</td><td>SAMSUNG</td></tr><tr><td>P0338</td><td>LG</td><td>LG</td></tr><tr><td>P0339</td><td>LG</td><td>LG</td></tr><tr><td>P0340</td><td>Adidas</td><td>ADIDAS</td></tr><tr><td>P0341</td><td>Lenovo</td><td>LENOVO</td></tr><tr><td>P0342</td><td>Nike</td><td>NIKE</td></tr><tr><td>P0343</td><td>Sony</td><td>SONY</td></tr><tr><td>P0344</td><td>Nike</td><td>NIKE</td></tr><tr><td>P0345</td><td>Apple</td><td>APPLE</td></tr><tr><td>P0346</td><td>Dell</td><td>DELL</td></tr><tr><td>P0347</td><td>Sony</td><td>SONY</td></tr><tr><td>P0348</td><td>LG</td><td>LG</td></tr><tr><td>P0349</td><td>LG</td><td>LG</td></tr><tr><td>P0350</td><td>Dell</td><td>DELL</td></tr><tr><td>P0351</td><td>Samsung</td><td>SAMSUNG</td></tr><tr><td>P0352</td><td>Sony</td><td>SONY</td></tr><tr><td>P0353</td><td>Adidas</td><td>ADIDAS</td></tr><tr><td>P0354</td><td>Samsung</td><td>SAMSUNG</td></tr><tr><td>P0355</td><td>Apple</td><td>APPLE</td></tr><tr><td>P0356</td><td>Samsung</td><td>SAMSUNG</td></tr><tr><td>P0357</td><td>Adidas</td><td>ADIDAS</td></tr><tr><td>P0358</td><td>Samsung</td><td>SAMSUNG</td></tr><tr><td>P0359</td><td>Lenovo</td><td>LENOVO</td></tr><tr><td>P0360</td><td>Lenovo</td><td>LENOVO</td></tr><tr><td>P0361</td><td>LG</td><td>LG</td></tr><tr><td>P0362</td><td>Revlon</td><td>REVLON</td></tr><tr><td>P0363</td><td>Nike</td><td>NIKE</td></tr><tr><td>P0364</td><td>Dell</td><td>DELL</td></tr><tr><td>P0365</td><td>Revlon</td><td>REVLON</td></tr><tr><td>P0366</td><td>Apple</td><td>APPLE</td></tr><tr><td>P0367</td><td>Nike</td><td>NIKE</td></tr><tr><td>P0368</td><td>Dell</td><td>DELL</td></tr><tr><td>P0369</td><td>Apple</td><td>APPLE</td></tr><tr><td>P0370</td><td>Lenovo</td><td>LENOVO</td></tr><tr><td>P0371</td><td>Dell</td><td>DELL</td></tr><tr><td>P0372</td><td>Dell</td><td>DELL</td></tr><tr><td>P0373</td><td>Puma</td><td>PUMA</td></tr><tr><td>P0374</td><td>LG</td><td>LG</td></tr><tr><td>P0375</td><td>Sony</td><td>SONY</td></tr><tr><td>P0376</td><td>Adidas</td><td>ADIDAS</td></tr><tr><td>P0377</td><td>Dell</td><td>DELL</td></tr><tr><td>P0378</td><td>Dell</td><td>DELL</td></tr><tr><td>P0379</td><td>Sony</td><td>SONY</td></tr><tr><td>P0380</td><td>Dell</td><td>DELL</td></tr><tr><td>P0381</td><td>Adidas</td><td>ADIDAS</td></tr><tr><td>P0382</td><td>Apple</td><td>APPLE</td></tr><tr><td>P0383</td><td>Revlon</td><td>REVLON</td></tr><tr><td>P0384</td><td>Puma</td><td>PUMA</td></tr><tr><td>P0385</td><td>Revlon</td><td>REVLON</td></tr><tr><td>P0386</td><td>Revlon</td><td>REVLON</td></tr><tr><td>P0387</td><td>Dell</td><td>DELL</td></tr><tr><td>P0388</td><td>Puma</td><td>PUMA</td></tr><tr><td>P0389</td><td>Sony</td><td>SONY</td></tr><tr><td>P0390</td><td>Lenovo</td><td>LENOVO</td></tr><tr><td>P0391</td><td>Sony</td><td>SONY</td></tr><tr><td>P0392</td><td>Apple</td><td>APPLE</td></tr><tr><td>P0393</td><td>Sony</td><td>SONY</td></tr><tr><td>P0394</td><td>Samsung</td><td>SAMSUNG</td></tr><tr><td>P0395</td><td>Samsung</td><td>SAMSUNG</td></tr><tr><td>P0396</td><td>Lenovo</td><td>LENOVO</td></tr><tr><td>P0397</td><td>Apple</td><td>APPLE</td></tr><tr><td>P0398</td><td>Apple</td><td>APPLE</td></tr><tr><td>P0399</td><td>Nike</td><td>NIKE</td></tr><tr><td>P0400</td><td>Sony</td><td>SONY</td></tr><tr><td>P0401</td><td>Dell</td><td>DELL</td></tr><tr><td>P0402</td><td>Lenovo</td><td>LENOVO</td></tr><tr><td>P0403</td><td>Lenovo</td><td>LENOVO</td></tr><tr><td>P0404</td><td>LG</td><td>LG</td></tr><tr><td>P0405</td><td>Dell</td><td>DELL</td></tr><tr><td>P0406</td><td>Adidas</td><td>ADIDAS</td></tr><tr><td>P0407</td><td>LG</td><td>LG</td></tr><tr><td>P0408</td><td>Apple</td><td>APPLE</td></tr><tr><td>P0409</td><td>LG</td><td>LG</td></tr><tr><td>P0410</td><td>Adidas</td><td>ADIDAS</td></tr><tr><td>P0411</td><td>Puma</td><td>PUMA</td></tr><tr><td>P0412</td><td>Dell</td><td>DELL</td></tr><tr><td>P0413</td><td>Lenovo</td><td>LENOVO</td></tr><tr><td>P0414</td><td>LG</td><td>LG</td></tr><tr><td>P0415</td><td>Samsung</td><td>SAMSUNG</td></tr><tr><td>P0416</td><td>Nike</td><td>NIKE</td></tr><tr><td>P0417</td><td>Revlon</td><td>REVLON</td></tr><tr><td>P0418</td><td>Dell</td><td>DELL</td></tr><tr><td>P0419</td><td>Adidas</td><td>ADIDAS</td></tr><tr><td>P0420</td><td>Adidas</td><td>ADIDAS</td></tr><tr><td>P0421</td><td>Sony</td><td>SONY</td></tr><tr><td>P0422</td><td>Revlon</td><td>REVLON</td></tr><tr><td>P0423</td><td>Dell</td><td>DELL</td></tr><tr><td>P0424</td><td>Apple</td><td>APPLE</td></tr><tr><td>P0425</td><td>Adidas</td><td>ADIDAS</td></tr><tr><td>P0426</td><td>Puma</td><td>PUMA</td></tr><tr><td>P0427</td><td>Sony</td><td>SONY</td></tr><tr><td>P0428</td><td>Sony</td><td>SONY</td></tr><tr><td>P0429</td><td>Apple</td><td>APPLE</td></tr><tr><td>P0430</td><td>Adidas</td><td>ADIDAS</td></tr><tr><td>P0431</td><td>Dell</td><td>DELL</td></tr><tr><td>P0432</td><td>Revlon</td><td>REVLON</td></tr><tr><td>P0433</td><td>Apple</td><td>APPLE</td></tr><tr><td>P0434</td><td>Adidas</td><td>ADIDAS</td></tr><tr><td>P0435</td><td>Nike</td><td>NIKE</td></tr><tr><td>P0436</td><td>Puma</td><td>PUMA</td></tr><tr><td>P0437</td><td>Sony</td><td>SONY</td></tr><tr><td>P0438</td><td>LG</td><td>LG</td></tr><tr><td>P0439</td><td>Apple</td><td>APPLE</td></tr><tr><td>P0440</td><td>Dell</td><td>DELL</td></tr><tr><td>P0441</td><td>Adidas</td><td>ADIDAS</td></tr><tr><td>P0442</td><td>Adidas</td><td>ADIDAS</td></tr><tr><td>P0443</td><td>Dell</td><td>DELL</td></tr><tr><td>P0444</td><td>Revlon</td><td>REVLON</td></tr><tr><td>P0445</td><td>Apple</td><td>APPLE</td></tr><tr><td>P0446</td><td>Puma</td><td>PUMA</td></tr><tr><td>P0447</td><td>Sony</td><td>SONY</td></tr><tr><td>P0448</td><td>LG</td><td>LG</td></tr><tr><td>P0449</td><td>Samsung</td><td>SAMSUNG</td></tr><tr><td>P0450</td><td>Revlon</td><td>REVLON</td></tr><tr><td>P0451</td><td>Puma</td><td>PUMA</td></tr><tr><td>P0452</td><td>Dell</td><td>DELL</td></tr><tr><td>P0453</td><td>Sony</td><td>SONY</td></tr><tr><td>P0454</td><td>Sony</td><td>SONY</td></tr><tr><td>P0455</td><td>Puma</td><td>PUMA</td></tr><tr><td>P0456</td><td>Apple</td><td>APPLE</td></tr><tr><td>P0457</td><td>Nike</td><td>NIKE</td></tr><tr><td>P0458</td><td>Dell</td><td>DELL</td></tr><tr><td>P0459</td><td>Apple</td><td>APPLE</td></tr><tr><td>P0460</td><td>Revlon</td><td>REVLON</td></tr><tr><td>P0461</td><td>Apple</td><td>APPLE</td></tr><tr><td>P0462</td><td>Revlon</td><td>REVLON</td></tr><tr><td>P0463</td><td>Apple</td><td>APPLE</td></tr><tr><td>P0464</td><td>Sony</td><td>SONY</td></tr><tr><td>P0465</td><td>Lenovo</td><td>LENOVO</td></tr><tr><td>P0466</td><td>Lenovo</td><td>LENOVO</td></tr><tr><td>P0467</td><td>Adidas</td><td>ADIDAS</td></tr><tr><td>P0468</td><td>LG</td><td>LG</td></tr><tr><td>P0469</td><td>Dell</td><td>DELL</td></tr><tr><td>P0470</td><td>Dell</td><td>DELL</td></tr><tr><td>P0471</td><td>Sony</td><td>SONY</td></tr><tr><td>P0472</td><td>Apple</td><td>APPLE</td></tr><tr><td>P0473</td><td>Adidas</td><td>ADIDAS</td></tr><tr><td>P0474</td><td>Nike</td><td>NIKE</td></tr><tr><td>P0475</td><td>Samsung</td><td>SAMSUNG</td></tr><tr><td>P0476</td><td>Lenovo</td><td>LENOVO</td></tr><tr><td>P0477</td><td>Apple</td><td>APPLE</td></tr><tr><td>P0478</td><td>Sony</td><td>SONY</td></tr><tr><td>P0479</td><td>Sony</td><td>SONY</td></tr><tr><td>P0480</td><td>Adidas</td><td>ADIDAS</td></tr><tr><td>P0481</td><td>Nike</td><td>NIKE</td></tr><tr><td>P0482</td><td>Sony</td><td>SONY</td></tr><tr><td>P0483</td><td>Nike</td><td>NIKE</td></tr><tr><td>P0484</td><td>Apple</td><td>APPLE</td></tr><tr><td>P0485</td><td>Apple</td><td>APPLE</td></tr><tr><td>P0486</td><td>Samsung</td><td>SAMSUNG</td></tr><tr><td>P0487</td><td>Dell</td><td>DELL</td></tr><tr><td>P0488</td><td>Lenovo</td><td>LENOVO</td></tr><tr><td>P0489</td><td>LG</td><td>LG</td></tr><tr><td>P0490</td><td>Revlon</td><td>REVLON</td></tr><tr><td>P0491</td><td>LG</td><td>LG</td></tr><tr><td>P0492</td><td>Nike</td><td>NIKE</td></tr><tr><td>P0493</td><td>Samsung</td><td>SAMSUNG</td></tr><tr><td>P0494</td><td>Apple</td><td>APPLE</td></tr><tr><td>P0495</td><td>Sony</td><td>SONY</td></tr><tr><td>P0496</td><td>Apple</td><td>APPLE</td></tr><tr><td>P0497</td><td>Lenovo</td><td>LENOVO</td></tr><tr><td>P0498</td><td>Adidas</td><td>ADIDAS</td></tr><tr><td>P0499</td><td>Revlon</td><td>REVLON</td></tr><tr><td>P0500</td><td>Puma</td><td>PUMA</td></tr></tbody></table></div>"
      ]
     },
     "metadata": {
      "application/vnd.databricks.v1+output": {
       "addedWidgets": {},
       "aggData": [],
       "aggError": "",
       "aggOverflow": false,
       "aggSchema": [],
       "aggSeriesLimitReached": false,
       "aggType": "",
       "arguments": {},
       "columnCustomDisplayInfos": {},
       "data": [
        [
         "P0001",
         "Nike",
         "NIKE"
        ],
        [
         "P0002",
         "Apple",
         "APPLE"
        ],
        [
         "P0003",
         "Revlon",
         "REVLON"
        ],
        [
         "P0004",
         "LG",
         "LG"
        ],
        [
         "P0005",
         "Samsung",
         "SAMSUNG"
        ],
        [
         "P0006",
         "Adidas",
         "ADIDAS"
        ],
        [
         "P0007",
         "Adidas",
         "ADIDAS"
        ],
        [
         "P0008",
         "Puma",
         "PUMA"
        ],
        [
         "P0009",
         "Samsung",
         "SAMSUNG"
        ],
        [
         "P0010",
         "Sony",
         "SONY"
        ],
        [
         "P0011",
         "Adidas",
         "ADIDAS"
        ],
        [
         "P0012",
         "Apple",
         "APPLE"
        ],
        [
         "P0013",
         "Puma",
         "PUMA"
        ],
        [
         "P0014",
         "Dell",
         "DELL"
        ],
        [
         "P0015",
         "LG",
         "LG"
        ],
        [
         "P0016",
         "Samsung",
         "SAMSUNG"
        ],
        [
         "P0017",
         "Revlon",
         "REVLON"
        ],
        [
         "P0018",
         "Puma",
         "PUMA"
        ],
        [
         "P0019",
         "Samsung",
         "SAMSUNG"
        ],
        [
         "P0020",
         "Nike",
         "NIKE"
        ],
        [
         "P0021",
         "Nike",
         "NIKE"
        ],
        [
         "P0022",
         "Puma",
         "PUMA"
        ],
        [
         "P0023",
         "Adidas",
         "ADIDAS"
        ],
        [
         "P0024",
         "Samsung",
         "SAMSUNG"
        ],
        [
         "P0025",
         "Nike",
         "NIKE"
        ],
        [
         "P0026",
         "Puma",
         "PUMA"
        ],
        [
         "P0027",
         "Adidas",
         "ADIDAS"
        ],
        [
         "P0028",
         "Puma",
         "PUMA"
        ],
        [
         "P0029",
         "Nike",
         "NIKE"
        ],
        [
         "P0030",
         "Lenovo",
         "LENOVO"
        ],
        [
         "P0031",
         "LG",
         "LG"
        ],
        [
         "P0032",
         "Dell",
         "DELL"
        ],
        [
         "P0033",
         "Lenovo",
         "LENOVO"
        ],
        [
         "P0034",
         "Samsung",
         "SAMSUNG"
        ],
        [
         "P0035",
         "Revlon",
         "REVLON"
        ],
        [
         "P0036",
         "Dell",
         "DELL"
        ],
        [
         "P0037",
         "Puma",
         "PUMA"
        ],
        [
         "P0038",
         "Revlon",
         "REVLON"
        ],
        [
         "P0039",
         "Revlon",
         "REVLON"
        ],
        [
         "P0040",
         "Dell",
         "DELL"
        ],
        [
         "P0041",
         "Dell",
         "DELL"
        ],
        [
         "P0042",
         "Adidas",
         "ADIDAS"
        ],
        [
         "P0043",
         "Revlon",
         "REVLON"
        ],
        [
         "P0044",
         "Dell",
         "DELL"
        ],
        [
         "P0045",
         "Sony",
         "SONY"
        ],
        [
         "P0046",
         "Samsung",
         "SAMSUNG"
        ],
        [
         "P0047",
         "Revlon",
         "REVLON"
        ],
        [
         "P0048",
         "Revlon",
         "REVLON"
        ],
        [
         "P0049",
         "Lenovo",
         "LENOVO"
        ],
        [
         "P0050",
         "Samsung",
         "SAMSUNG"
        ],
        [
         "P0051",
         "Apple",
         "APPLE"
        ],
        [
         "P0052",
         "Lenovo",
         "LENOVO"
        ],
        [
         "P0053",
         "Samsung",
         "SAMSUNG"
        ],
        [
         "P0054",
         "Adidas",
         "ADIDAS"
        ],
        [
         "P0055",
         "Sony",
         "SONY"
        ],
        [
         "P0056",
         "Nike",
         "NIKE"
        ],
        [
         "P0057",
         "Samsung",
         "SAMSUNG"
        ],
        [
         "P0058",
         "LG",
         "LG"
        ],
        [
         "P0059",
         "Lenovo",
         "LENOVO"
        ],
        [
         "P0060",
         "Nike",
         "NIKE"
        ],
        [
         "P0061",
         "Sony",
         "SONY"
        ],
        [
         "P0062",
         "Samsung",
         "SAMSUNG"
        ],
        [
         "P0063",
         "Nike",
         "NIKE"
        ],
        [
         "P0064",
         "LG",
         "LG"
        ],
        [
         "P0065",
         "Lenovo",
         "LENOVO"
        ],
        [
         "P0066",
         "Sony",
         "SONY"
        ],
        [
         "P0067",
         "Samsung",
         "SAMSUNG"
        ],
        [
         "P0068",
         "LG",
         "LG"
        ],
        [
         "P0069",
         "Lenovo",
         "LENOVO"
        ],
        [
         "P0070",
         "Lenovo",
         "LENOVO"
        ],
        [
         "P0071",
         "Apple",
         "APPLE"
        ],
        [
         "P0072",
         "Revlon",
         "REVLON"
        ],
        [
         "P0073",
         "Adidas",
         "ADIDAS"
        ],
        [
         "P0074",
         "Lenovo",
         "LENOVO"
        ],
        [
         "P0075",
         "Samsung",
         "SAMSUNG"
        ],
        [
         "P0076",
         "Puma",
         "PUMA"
        ],
        [
         "P0077",
         "LG",
         "LG"
        ],
        [
         "P0078",
         "LG",
         "LG"
        ],
        [
         "P0079",
         "LG",
         "LG"
        ],
        [
         "P0080",
         "Lenovo",
         "LENOVO"
        ],
        [
         "P0081",
         "Nike",
         "NIKE"
        ],
        [
         "P0082",
         "Apple",
         "APPLE"
        ],
        [
         "P0083",
         "Dell",
         "DELL"
        ],
        [
         "P0084",
         "Samsung",
         "SAMSUNG"
        ],
        [
         "P0085",
         "Apple",
         "APPLE"
        ],
        [
         "P0086",
         "Nike",
         "NIKE"
        ],
        [
         "P0087",
         "Sony",
         "SONY"
        ],
        [
         "P0088",
         "Adidas",
         "ADIDAS"
        ],
        [
         "P0089",
         "LG",
         "LG"
        ],
        [
         "P0090",
         "Puma",
         "PUMA"
        ],
        [
         "P0091",
         "Samsung",
         "SAMSUNG"
        ],
        [
         "P0092",
         "Revlon",
         "REVLON"
        ],
        [
         "P0093",
         "Puma",
         "PUMA"
        ],
        [
         "P0094",
         "LG",
         "LG"
        ],
        [
         "P0095",
         "Apple",
         "APPLE"
        ],
        [
         "P0096",
         "Nike",
         "NIKE"
        ],
        [
         "P0097",
         "Apple",
         "APPLE"
        ],
        [
         "P0098",
         "Puma",
         "PUMA"
        ],
        [
         "P0099",
         "Adidas",
         "ADIDAS"
        ],
        [
         "P0100",
         "Dell",
         "DELL"
        ],
        [
         "P0101",
         "Puma",
         "PUMA"
        ],
        [
         "P0102",
         "LG",
         "LG"
        ],
        [
         "P0103",
         "Samsung",
         "SAMSUNG"
        ],
        [
         "P0104",
         "Dell",
         "DELL"
        ],
        [
         "P0105",
         "LG",
         "LG"
        ],
        [
         "P0106",
         "Sony",
         "SONY"
        ],
        [
         "P0107",
         "Adidas",
         "ADIDAS"
        ],
        [
         "P0108",
         "Puma",
         "PUMA"
        ],
        [
         "P0109",
         "Lenovo",
         "LENOVO"
        ],
        [
         "P0110",
         "Samsung",
         "SAMSUNG"
        ],
        [
         "P0111",
         "Adidas",
         "ADIDAS"
        ],
        [
         "P0112",
         "Puma",
         "PUMA"
        ],
        [
         "P0113",
         "Puma",
         "PUMA"
        ],
        [
         "P0114",
         "Nike",
         "NIKE"
        ],
        [
         "P0115",
         "Puma",
         "PUMA"
        ],
        [
         "P0116",
         "Sony",
         "SONY"
        ],
        [
         "P0117",
         "Puma",
         "PUMA"
        ],
        [
         "P0118",
         "Lenovo",
         "LENOVO"
        ],
        [
         "P0119",
         "Sony",
         "SONY"
        ],
        [
         "P0120",
         "Sony",
         "SONY"
        ],
        [
         "P0121",
         "Nike",
         "NIKE"
        ],
        [
         "P0122",
         "LG",
         "LG"
        ],
        [
         "P0123",
         "Nike",
         "NIKE"
        ],
        [
         "P0124",
         "Puma",
         "PUMA"
        ],
        [
         "P0125",
         "Sony",
         "SONY"
        ],
        [
         "P0126",
         "Sony",
         "SONY"
        ],
        [
         "P0127",
         "Sony",
         "SONY"
        ],
        [
         "P0128",
         "Apple",
         "APPLE"
        ],
        [
         "P0129",
         "Adidas",
         "ADIDAS"
        ],
        [
         "P0130",
         "Adidas",
         "ADIDAS"
        ],
        [
         "P0131",
         "Revlon",
         "REVLON"
        ],
        [
         "P0132",
         "Samsung",
         "SAMSUNG"
        ],
        [
         "P0133",
         "LG",
         "LG"
        ],
        [
         "P0134",
         "Puma",
         "PUMA"
        ],
        [
         "P0135",
         "Puma",
         "PUMA"
        ],
        [
         "P0136",
         "Samsung",
         "SAMSUNG"
        ],
        [
         "P0137",
         "Lenovo",
         "LENOVO"
        ],
        [
         "P0138",
         "Samsung",
         "SAMSUNG"
        ],
        [
         "P0139",
         "Revlon",
         "REVLON"
        ],
        [
         "P0140",
         "Adidas",
         "ADIDAS"
        ],
        [
         "P0141",
         "Adidas",
         "ADIDAS"
        ],
        [
         "P0142",
         "Adidas",
         "ADIDAS"
        ],
        [
         "P0143",
         "Apple",
         "APPLE"
        ],
        [
         "P0144",
         "Apple",
         "APPLE"
        ],
        [
         "P0145",
         "Puma",
         "PUMA"
        ],
        [
         "P0146",
         "Sony",
         "SONY"
        ],
        [
         "P0147",
         "Lenovo",
         "LENOVO"
        ],
        [
         "P0148",
         "Dell",
         "DELL"
        ],
        [
         "P0149",
         "Samsung",
         "SAMSUNG"
        ],
        [
         "P0150",
         "Samsung",
         "SAMSUNG"
        ],
        [
         "P0151",
         "Apple",
         "APPLE"
        ],
        [
         "P0152",
         "LG",
         "LG"
        ],
        [
         "P0153",
         "Apple",
         "APPLE"
        ],
        [
         "P0154",
         "Samsung",
         "SAMSUNG"
        ],
        [
         "P0155",
         "Dell",
         "DELL"
        ],
        [
         "P0156",
         "Sony",
         "SONY"
        ],
        [
         "P0157",
         "Adidas",
         "ADIDAS"
        ],
        [
         "P0158",
         "Adidas",
         "ADIDAS"
        ],
        [
         "P0159",
         "Lenovo",
         "LENOVO"
        ],
        [
         "P0160",
         "Nike",
         "NIKE"
        ],
        [
         "P0161",
         "LG",
         "LG"
        ],
        [
         "P0162",
         "Adidas",
         "ADIDAS"
        ],
        [
         "P0163",
         "Dell",
         "DELL"
        ],
        [
         "P0164",
         "Lenovo",
         "LENOVO"
        ],
        [
         "P0165",
         "Adidas",
         "ADIDAS"
        ],
        [
         "P0166",
         "Samsung",
         "SAMSUNG"
        ],
        [
         "P0167",
         "Adidas",
         "ADIDAS"
        ],
        [
         "P0168",
         "Sony",
         "SONY"
        ],
        [
         "P0169",
         "Sony",
         "SONY"
        ],
        [
         "P0170",
         "Lenovo",
         "LENOVO"
        ],
        [
         "P0171",
         "Lenovo",
         "LENOVO"
        ],
        [
         "P0172",
         "Sony",
         "SONY"
        ],
        [
         "P0173",
         "Samsung",
         "SAMSUNG"
        ],
        [
         "P0174",
         "Lenovo",
         "LENOVO"
        ],
        [
         "P0175",
         "Apple",
         "APPLE"
        ],
        [
         "P0176",
         "Adidas",
         "ADIDAS"
        ],
        [
         "P0177",
         "Nike",
         "NIKE"
        ],
        [
         "P0178",
         "Adidas",
         "ADIDAS"
        ],
        [
         "P0179",
         "Samsung",
         "SAMSUNG"
        ],
        [
         "P0180",
         "Sony",
         "SONY"
        ],
        [
         "P0181",
         "LG",
         "LG"
        ],
        [
         "P0182",
         "Apple",
         "APPLE"
        ],
        [
         "P0183",
         "Samsung",
         "SAMSUNG"
        ],
        [
         "P0184",
         "Adidas",
         "ADIDAS"
        ],
        [
         "P0185",
         "Apple",
         "APPLE"
        ],
        [
         "P0186",
         "Revlon",
         "REVLON"
        ],
        [
         "P0187",
         "Nike",
         "NIKE"
        ],
        [
         "P0188",
         "Adidas",
         "ADIDAS"
        ],
        [
         "P0189",
         "Puma",
         "PUMA"
        ],
        [
         "P0190",
         "Samsung",
         "SAMSUNG"
        ],
        [
         "P0191",
         "Revlon",
         "REVLON"
        ],
        [
         "P0192",
         "Apple",
         "APPLE"
        ],
        [
         "P0193",
         "Nike",
         "NIKE"
        ],
        [
         "P0194",
         "Revlon",
         "REVLON"
        ],
        [
         "P0195",
         "Adidas",
         "ADIDAS"
        ],
        [
         "P0196",
         "Adidas",
         "ADIDAS"
        ],
        [
         "P0197",
         "Revlon",
         "REVLON"
        ],
        [
         "P0198",
         "Samsung",
         "SAMSUNG"
        ],
        [
         "P0199",
         "Sony",
         "SONY"
        ],
        [
         "P0200",
         "Apple",
         "APPLE"
        ],
        [
         "P0201",
         "Samsung",
         "SAMSUNG"
        ],
        [
         "P0202",
         "Adidas",
         "ADIDAS"
        ],
        [
         "P0203",
         "Samsung",
         "SAMSUNG"
        ],
        [
         "P0204",
         "Adidas",
         "ADIDAS"
        ],
        [
         "P0205",
         "LG",
         "LG"
        ],
        [
         "P0206",
         "Apple",
         "APPLE"
        ],
        [
         "P0207",
         "Adidas",
         "ADIDAS"
        ],
        [
         "P0208",
         "Adidas",
         "ADIDAS"
        ],
        [
         "P0209",
         "Revlon",
         "REVLON"
        ],
        [
         "P0210",
         "Apple",
         "APPLE"
        ],
        [
         "P0211",
         "Nike",
         "NIKE"
        ],
        [
         "P0212",
         "Adidas",
         "ADIDAS"
        ],
        [
         "P0213",
         "Samsung",
         "SAMSUNG"
        ],
        [
         "P0214",
         "Revlon",
         "REVLON"
        ],
        [
         "P0215",
         "Adidas",
         "ADIDAS"
        ],
        [
         "P0216",
         "Adidas",
         "ADIDAS"
        ],
        [
         "P0217",
         "Puma",
         "PUMA"
        ],
        [
         "P0218",
         "Nike",
         "NIKE"
        ],
        [
         "P0219",
         "Dell",
         "DELL"
        ],
        [
         "P0220",
         "Dell",
         "DELL"
        ],
        [
         "P0221",
         "Lenovo",
         "LENOVO"
        ],
        [
         "P0222",
         "Samsung",
         "SAMSUNG"
        ],
        [
         "P0223",
         "Lenovo",
         "LENOVO"
        ],
        [
         "P0224",
         "Apple",
         "APPLE"
        ],
        [
         "P0225",
         "Nike",
         "NIKE"
        ],
        [
         "P0226",
         "Lenovo",
         "LENOVO"
        ],
        [
         "P0227",
         "Nike",
         "NIKE"
        ],
        [
         "P0228",
         "Puma",
         "PUMA"
        ],
        [
         "P0229",
         "Lenovo",
         "LENOVO"
        ],
        [
         "P0230",
         "Samsung",
         "SAMSUNG"
        ],
        [
         "P0231",
         "Revlon",
         "REVLON"
        ],
        [
         "P0232",
         "Adidas",
         "ADIDAS"
        ],
        [
         "P0233",
         "Lenovo",
         "LENOVO"
        ],
        [
         "P0234",
         "Sony",
         "SONY"
        ],
        [
         "P0235",
         "Adidas",
         "ADIDAS"
        ],
        [
         "P0236",
         "Samsung",
         "SAMSUNG"
        ],
        [
         "P0237",
         "Samsung",
         "SAMSUNG"
        ],
        [
         "P0238",
         "Revlon",
         "REVLON"
        ],
        [
         "P0239",
         "Nike",
         "NIKE"
        ],
        [
         "P0240",
         "Samsung",
         "SAMSUNG"
        ],
        [
         "P0241",
         "Puma",
         "PUMA"
        ],
        [
         "P0242",
         "Samsung",
         "SAMSUNG"
        ],
        [
         "P0243",
         "Lenovo",
         "LENOVO"
        ],
        [
         "P0244",
         "Revlon",
         "REVLON"
        ],
        [
         "P0245",
         "LG",
         "LG"
        ],
        [
         "P0246",
         "Adidas",
         "ADIDAS"
        ],
        [
         "P0247",
         "Sony",
         "SONY"
        ],
        [
         "P0248",
         "Revlon",
         "REVLON"
        ],
        [
         "P0249",
         "Puma",
         "PUMA"
        ],
        [
         "P0250",
         "Samsung",
         "SAMSUNG"
        ],
        [
         "P0251",
         "Lenovo",
         "LENOVO"
        ],
        [
         "P0252",
         "Sony",
         "SONY"
        ],
        [
         "P0253",
         "Lenovo",
         "LENOVO"
        ],
        [
         "P0254",
         "Lenovo",
         "LENOVO"
        ],
        [
         "P0255",
         "Lenovo",
         "LENOVO"
        ],
        [
         "P0256",
         "Lenovo",
         "LENOVO"
        ],
        [
         "P0257",
         "Nike",
         "NIKE"
        ],
        [
         "P0258",
         "Revlon",
         "REVLON"
        ],
        [
         "P0259",
         "Puma",
         "PUMA"
        ],
        [
         "P0260",
         "Revlon",
         "REVLON"
        ],
        [
         "P0261",
         "Dell",
         "DELL"
        ],
        [
         "P0262",
         "Samsung",
         "SAMSUNG"
        ],
        [
         "P0263",
         "Nike",
         "NIKE"
        ],
        [
         "P0264",
         "Apple",
         "APPLE"
        ],
        [
         "P0265",
         "Nike",
         "NIKE"
        ],
        [
         "P0266",
         "LG",
         "LG"
        ],
        [
         "P0267",
         "Adidas",
         "ADIDAS"
        ],
        [
         "P0268",
         "Dell",
         "DELL"
        ],
        [
         "P0269",
         "Lenovo",
         "LENOVO"
        ],
        [
         "P0270",
         "Samsung",
         "SAMSUNG"
        ],
        [
         "P0271",
         "Puma",
         "PUMA"
        ],
        [
         "P0272",
         "Dell",
         "DELL"
        ],
        [
         "P0273",
         "Nike",
         "NIKE"
        ],
        [
         "P0274",
         "Samsung",
         "SAMSUNG"
        ],
        [
         "P0275",
         "Sony",
         "SONY"
        ],
        [
         "P0276",
         "Puma",
         "PUMA"
        ],
        [
         "P0277",
         "Dell",
         "DELL"
        ],
        [
         "P0278",
         "Revlon",
         "REVLON"
        ],
        [
         "P0279",
         "Lenovo",
         "LENOVO"
        ],
        [
         "P0280",
         "Puma",
         "PUMA"
        ],
        [
         "P0281",
         "Puma",
         "PUMA"
        ],
        [
         "P0282",
         "Samsung",
         "SAMSUNG"
        ],
        [
         "P0283",
         "Nike",
         "NIKE"
        ],
        [
         "P0284",
         "Puma",
         "PUMA"
        ],
        [
         "P0285",
         "Revlon",
         "REVLON"
        ],
        [
         "P0286",
         "Adidas",
         "ADIDAS"
        ],
        [
         "P0287",
         "Puma",
         "PUMA"
        ],
        [
         "P0288",
         "Lenovo",
         "LENOVO"
        ],
        [
         "P0289",
         "Puma",
         "PUMA"
        ],
        [
         "P0290",
         "LG",
         "LG"
        ],
        [
         "P0291",
         "LG",
         "LG"
        ],
        [
         "P0292",
         "Sony",
         "SONY"
        ],
        [
         "P0293",
         "LG",
         "LG"
        ],
        [
         "P0294",
         "Lenovo",
         "LENOVO"
        ],
        [
         "P0295",
         "Puma",
         "PUMA"
        ],
        [
         "P0296",
         "Nike",
         "NIKE"
        ],
        [
         "P0297",
         "Nike",
         "NIKE"
        ],
        [
         "P0298",
         "Revlon",
         "REVLON"
        ],
        [
         "P0299",
         "Apple",
         "APPLE"
        ],
        [
         "P0300",
         "Sony",
         "SONY"
        ],
        [
         "P0301",
         "Adidas",
         "ADIDAS"
        ],
        [
         "P0302",
         "Nike",
         "NIKE"
        ],
        [
         "P0303",
         "LG",
         "LG"
        ],
        [
         "P0304",
         "Adidas",
         "ADIDAS"
        ],
        [
         "P0305",
         "Puma",
         "PUMA"
        ],
        [
         "P0306",
         "Samsung",
         "SAMSUNG"
        ],
        [
         "P0307",
         "Lenovo",
         "LENOVO"
        ],
        [
         "P0308",
         "Nike",
         "NIKE"
        ],
        [
         "P0309",
         "Apple",
         "APPLE"
        ],
        [
         "P0310",
         "Samsung",
         "SAMSUNG"
        ],
        [
         "P0311",
         "Revlon",
         "REVLON"
        ],
        [
         "P0312",
         "Puma",
         "PUMA"
        ],
        [
         "P0313",
         "Samsung",
         "SAMSUNG"
        ],
        [
         "P0314",
         "Nike",
         "NIKE"
        ],
        [
         "P0315",
         "Dell",
         "DELL"
        ],
        [
         "P0316",
         "Puma",
         "PUMA"
        ],
        [
         "P0317",
         "Dell",
         "DELL"
        ],
        [
         "P0318",
         "Samsung",
         "SAMSUNG"
        ],
        [
         "P0319",
         "Nike",
         "NIKE"
        ],
        [
         "P0320",
         "Adidas",
         "ADIDAS"
        ],
        [
         "P0321",
         "Lenovo",
         "LENOVO"
        ],
        [
         "P0322",
         "Dell",
         "DELL"
        ],
        [
         "P0323",
         "Lenovo",
         "LENOVO"
        ],
        [
         "P0324",
         "Nike",
         "NIKE"
        ],
        [
         "P0325",
         "Lenovo",
         "LENOVO"
        ],
        [
         "P0326",
         "Nike",
         "NIKE"
        ],
        [
         "P0327",
         "Sony",
         "SONY"
        ],
        [
         "P0328",
         "Lenovo",
         "LENOVO"
        ],
        [
         "P0329",
         "Nike",
         "NIKE"
        ],
        [
         "P0330",
         "LG",
         "LG"
        ],
        [
         "P0331",
         "LG",
         "LG"
        ],
        [
         "P0332",
         "Lenovo",
         "LENOVO"
        ],
        [
         "P0333",
         "Sony",
         "SONY"
        ],
        [
         "P0334",
         "Lenovo",
         "LENOVO"
        ],
        [
         "P0335",
         "Samsung",
         "SAMSUNG"
        ],
        [
         "P0336",
         "Dell",
         "DELL"
        ],
        [
         "P0337",
         "Samsung",
         "SAMSUNG"
        ],
        [
         "P0338",
         "LG",
         "LG"
        ],
        [
         "P0339",
         "LG",
         "LG"
        ],
        [
         "P0340",
         "Adidas",
         "ADIDAS"
        ],
        [
         "P0341",
         "Lenovo",
         "LENOVO"
        ],
        [
         "P0342",
         "Nike",
         "NIKE"
        ],
        [
         "P0343",
         "Sony",
         "SONY"
        ],
        [
         "P0344",
         "Nike",
         "NIKE"
        ],
        [
         "P0345",
         "Apple",
         "APPLE"
        ],
        [
         "P0346",
         "Dell",
         "DELL"
        ],
        [
         "P0347",
         "Sony",
         "SONY"
        ],
        [
         "P0348",
         "LG",
         "LG"
        ],
        [
         "P0349",
         "LG",
         "LG"
        ],
        [
         "P0350",
         "Dell",
         "DELL"
        ],
        [
         "P0351",
         "Samsung",
         "SAMSUNG"
        ],
        [
         "P0352",
         "Sony",
         "SONY"
        ],
        [
         "P0353",
         "Adidas",
         "ADIDAS"
        ],
        [
         "P0354",
         "Samsung",
         "SAMSUNG"
        ],
        [
         "P0355",
         "Apple",
         "APPLE"
        ],
        [
         "P0356",
         "Samsung",
         "SAMSUNG"
        ],
        [
         "P0357",
         "Adidas",
         "ADIDAS"
        ],
        [
         "P0358",
         "Samsung",
         "SAMSUNG"
        ],
        [
         "P0359",
         "Lenovo",
         "LENOVO"
        ],
        [
         "P0360",
         "Lenovo",
         "LENOVO"
        ],
        [
         "P0361",
         "LG",
         "LG"
        ],
        [
         "P0362",
         "Revlon",
         "REVLON"
        ],
        [
         "P0363",
         "Nike",
         "NIKE"
        ],
        [
         "P0364",
         "Dell",
         "DELL"
        ],
        [
         "P0365",
         "Revlon",
         "REVLON"
        ],
        [
         "P0366",
         "Apple",
         "APPLE"
        ],
        [
         "P0367",
         "Nike",
         "NIKE"
        ],
        [
         "P0368",
         "Dell",
         "DELL"
        ],
        [
         "P0369",
         "Apple",
         "APPLE"
        ],
        [
         "P0370",
         "Lenovo",
         "LENOVO"
        ],
        [
         "P0371",
         "Dell",
         "DELL"
        ],
        [
         "P0372",
         "Dell",
         "DELL"
        ],
        [
         "P0373",
         "Puma",
         "PUMA"
        ],
        [
         "P0374",
         "LG",
         "LG"
        ],
        [
         "P0375",
         "Sony",
         "SONY"
        ],
        [
         "P0376",
         "Adidas",
         "ADIDAS"
        ],
        [
         "P0377",
         "Dell",
         "DELL"
        ],
        [
         "P0378",
         "Dell",
         "DELL"
        ],
        [
         "P0379",
         "Sony",
         "SONY"
        ],
        [
         "P0380",
         "Dell",
         "DELL"
        ],
        [
         "P0381",
         "Adidas",
         "ADIDAS"
        ],
        [
         "P0382",
         "Apple",
         "APPLE"
        ],
        [
         "P0383",
         "Revlon",
         "REVLON"
        ],
        [
         "P0384",
         "Puma",
         "PUMA"
        ],
        [
         "P0385",
         "Revlon",
         "REVLON"
        ],
        [
         "P0386",
         "Revlon",
         "REVLON"
        ],
        [
         "P0387",
         "Dell",
         "DELL"
        ],
        [
         "P0388",
         "Puma",
         "PUMA"
        ],
        [
         "P0389",
         "Sony",
         "SONY"
        ],
        [
         "P0390",
         "Lenovo",
         "LENOVO"
        ],
        [
         "P0391",
         "Sony",
         "SONY"
        ],
        [
         "P0392",
         "Apple",
         "APPLE"
        ],
        [
         "P0393",
         "Sony",
         "SONY"
        ],
        [
         "P0394",
         "Samsung",
         "SAMSUNG"
        ],
        [
         "P0395",
         "Samsung",
         "SAMSUNG"
        ],
        [
         "P0396",
         "Lenovo",
         "LENOVO"
        ],
        [
         "P0397",
         "Apple",
         "APPLE"
        ],
        [
         "P0398",
         "Apple",
         "APPLE"
        ],
        [
         "P0399",
         "Nike",
         "NIKE"
        ],
        [
         "P0400",
         "Sony",
         "SONY"
        ],
        [
         "P0401",
         "Dell",
         "DELL"
        ],
        [
         "P0402",
         "Lenovo",
         "LENOVO"
        ],
        [
         "P0403",
         "Lenovo",
         "LENOVO"
        ],
        [
         "P0404",
         "LG",
         "LG"
        ],
        [
         "P0405",
         "Dell",
         "DELL"
        ],
        [
         "P0406",
         "Adidas",
         "ADIDAS"
        ],
        [
         "P0407",
         "LG",
         "LG"
        ],
        [
         "P0408",
         "Apple",
         "APPLE"
        ],
        [
         "P0409",
         "LG",
         "LG"
        ],
        [
         "P0410",
         "Adidas",
         "ADIDAS"
        ],
        [
         "P0411",
         "Puma",
         "PUMA"
        ],
        [
         "P0412",
         "Dell",
         "DELL"
        ],
        [
         "P0413",
         "Lenovo",
         "LENOVO"
        ],
        [
         "P0414",
         "LG",
         "LG"
        ],
        [
         "P0415",
         "Samsung",
         "SAMSUNG"
        ],
        [
         "P0416",
         "Nike",
         "NIKE"
        ],
        [
         "P0417",
         "Revlon",
         "REVLON"
        ],
        [
         "P0418",
         "Dell",
         "DELL"
        ],
        [
         "P0419",
         "Adidas",
         "ADIDAS"
        ],
        [
         "P0420",
         "Adidas",
         "ADIDAS"
        ],
        [
         "P0421",
         "Sony",
         "SONY"
        ],
        [
         "P0422",
         "Revlon",
         "REVLON"
        ],
        [
         "P0423",
         "Dell",
         "DELL"
        ],
        [
         "P0424",
         "Apple",
         "APPLE"
        ],
        [
         "P0425",
         "Adidas",
         "ADIDAS"
        ],
        [
         "P0426",
         "Puma",
         "PUMA"
        ],
        [
         "P0427",
         "Sony",
         "SONY"
        ],
        [
         "P0428",
         "Sony",
         "SONY"
        ],
        [
         "P0429",
         "Apple",
         "APPLE"
        ],
        [
         "P0430",
         "Adidas",
         "ADIDAS"
        ],
        [
         "P0431",
         "Dell",
         "DELL"
        ],
        [
         "P0432",
         "Revlon",
         "REVLON"
        ],
        [
         "P0433",
         "Apple",
         "APPLE"
        ],
        [
         "P0434",
         "Adidas",
         "ADIDAS"
        ],
        [
         "P0435",
         "Nike",
         "NIKE"
        ],
        [
         "P0436",
         "Puma",
         "PUMA"
        ],
        [
         "P0437",
         "Sony",
         "SONY"
        ],
        [
         "P0438",
         "LG",
         "LG"
        ],
        [
         "P0439",
         "Apple",
         "APPLE"
        ],
        [
         "P0440",
         "Dell",
         "DELL"
        ],
        [
         "P0441",
         "Adidas",
         "ADIDAS"
        ],
        [
         "P0442",
         "Adidas",
         "ADIDAS"
        ],
        [
         "P0443",
         "Dell",
         "DELL"
        ],
        [
         "P0444",
         "Revlon",
         "REVLON"
        ],
        [
         "P0445",
         "Apple",
         "APPLE"
        ],
        [
         "P0446",
         "Puma",
         "PUMA"
        ],
        [
         "P0447",
         "Sony",
         "SONY"
        ],
        [
         "P0448",
         "LG",
         "LG"
        ],
        [
         "P0449",
         "Samsung",
         "SAMSUNG"
        ],
        [
         "P0450",
         "Revlon",
         "REVLON"
        ],
        [
         "P0451",
         "Puma",
         "PUMA"
        ],
        [
         "P0452",
         "Dell",
         "DELL"
        ],
        [
         "P0453",
         "Sony",
         "SONY"
        ],
        [
         "P0454",
         "Sony",
         "SONY"
        ],
        [
         "P0455",
         "Puma",
         "PUMA"
        ],
        [
         "P0456",
         "Apple",
         "APPLE"
        ],
        [
         "P0457",
         "Nike",
         "NIKE"
        ],
        [
         "P0458",
         "Dell",
         "DELL"
        ],
        [
         "P0459",
         "Apple",
         "APPLE"
        ],
        [
         "P0460",
         "Revlon",
         "REVLON"
        ],
        [
         "P0461",
         "Apple",
         "APPLE"
        ],
        [
         "P0462",
         "Revlon",
         "REVLON"
        ],
        [
         "P0463",
         "Apple",
         "APPLE"
        ],
        [
         "P0464",
         "Sony",
         "SONY"
        ],
        [
         "P0465",
         "Lenovo",
         "LENOVO"
        ],
        [
         "P0466",
         "Lenovo",
         "LENOVO"
        ],
        [
         "P0467",
         "Adidas",
         "ADIDAS"
        ],
        [
         "P0468",
         "LG",
         "LG"
        ],
        [
         "P0469",
         "Dell",
         "DELL"
        ],
        [
         "P0470",
         "Dell",
         "DELL"
        ],
        [
         "P0471",
         "Sony",
         "SONY"
        ],
        [
         "P0472",
         "Apple",
         "APPLE"
        ],
        [
         "P0473",
         "Adidas",
         "ADIDAS"
        ],
        [
         "P0474",
         "Nike",
         "NIKE"
        ],
        [
         "P0475",
         "Samsung",
         "SAMSUNG"
        ],
        [
         "P0476",
         "Lenovo",
         "LENOVO"
        ],
        [
         "P0477",
         "Apple",
         "APPLE"
        ],
        [
         "P0478",
         "Sony",
         "SONY"
        ],
        [
         "P0479",
         "Sony",
         "SONY"
        ],
        [
         "P0480",
         "Adidas",
         "ADIDAS"
        ],
        [
         "P0481",
         "Nike",
         "NIKE"
        ],
        [
         "P0482",
         "Sony",
         "SONY"
        ],
        [
         "P0483",
         "Nike",
         "NIKE"
        ],
        [
         "P0484",
         "Apple",
         "APPLE"
        ],
        [
         "P0485",
         "Apple",
         "APPLE"
        ],
        [
         "P0486",
         "Samsung",
         "SAMSUNG"
        ],
        [
         "P0487",
         "Dell",
         "DELL"
        ],
        [
         "P0488",
         "Lenovo",
         "LENOVO"
        ],
        [
         "P0489",
         "LG",
         "LG"
        ],
        [
         "P0490",
         "Revlon",
         "REVLON"
        ],
        [
         "P0491",
         "LG",
         "LG"
        ],
        [
         "P0492",
         "Nike",
         "NIKE"
        ],
        [
         "P0493",
         "Samsung",
         "SAMSUNG"
        ],
        [
         "P0494",
         "Apple",
         "APPLE"
        ],
        [
         "P0495",
         "Sony",
         "SONY"
        ],
        [
         "P0496",
         "Apple",
         "APPLE"
        ],
        [
         "P0497",
         "Lenovo",
         "LENOVO"
        ],
        [
         "P0498",
         "Adidas",
         "ADIDAS"
        ],
        [
         "P0499",
         "Revlon",
         "REVLON"
        ],
        [
         "P0500",
         "Puma",
         "PUMA"
        ]
       ],
       "datasetInfos": [],
       "dbfsResultPath": null,
       "isJsonSchema": true,
       "metadata": {
        "createTempViewForImplicitDf": true,
        "dataframeName": "_sqldf",
        "executionCount": 9
       },
       "overflow": false,
       "plotOptions": {
        "customPlotOptions": {},
        "displayType": "table",
        "pivotAggregation": null,
        "pivotColumns": null,
        "xColumns": null,
        "yColumns": null
       },
       "removedWidgets": [],
       "schema": [
        {
         "metadata": "{}",
         "name": "product_id",
         "type": "\"string\""
        },
        {
         "metadata": "{}",
         "name": "brand",
         "type": "\"string\""
        },
        {
         "metadata": "{}",
         "name": "brand_upper",
         "type": "\"string\""
        }
       ],
       "type": "table"
      }
     },
     "output_type": "display_data"
    }
   ],
   "source": [
    "%sql\n",
    "SELECT product_id,brand, databricks_cata.bronze.upper_func(brand) as brand_upper\n",
    "from products"
   ]
  },
  {
   "cell_type": "code",
   "execution_count": 0,
   "metadata": {
    "application/vnd.databricks.v1+cell": {
     "cellMetadata": {
      "byteLimit": 2048000,
      "rowLimit": 10000
     },
     "inputWidgets": {},
     "nuid": "a6132974-1125-45d6-b811-6c2a3f8e6110",
     "showTitle": false,
     "tableResultSettingsMap": {},
     "title": ""
    }
   },
   "outputs": [],
   "source": [
    "df.write.format(\"delta\")\\\n",
    "    .mode(\"overwrite\")\\\n",
    "    .option(\"path\",\"abfss://silver@databrickssm1.dfs.core.windows.net/products\")\\\n",
    "    .save()"
   ]
  },
  {
   "cell_type": "code",
   "execution_count": 0,
   "metadata": {
    "application/vnd.databricks.v1+cell": {
     "cellMetadata": {
      "byteLimit": 2048000,
      "implicitDf": true,
      "rowLimit": 10000
     },
     "inputWidgets": {},
     "nuid": "69c00162-f817-422b-92d1-50a0b0c784b1",
     "showTitle": false,
     "tableResultSettingsMap": {},
     "title": ""
    }
   },
   "outputs": [
    {
     "output_type": "display_data",
     "data": {
      "text/html": [
       "<style scoped>\n",
       "  .table-result-container {\n",
       "    max-height: 300px;\n",
       "    overflow: auto;\n",
       "  }\n",
       "  table, th, td {\n",
       "    border: 1px solid black;\n",
       "    border-collapse: collapse;\n",
       "  }\n",
       "  th, td {\n",
       "    padding: 5px;\n",
       "  }\n",
       "  th {\n",
       "    text-align: left;\n",
       "  }\n",
       "</style><div class='table-result-container'><table class='table-result'><thead style='background-color: white'><tr></tr></thead><tbody></tbody></table></div>"
      ]
     },
     "metadata": {
      "application/vnd.databricks.v1+output": {
       "addedWidgets": {},
       "aggData": [],
       "aggError": "",
       "aggOverflow": false,
       "aggSchema": [],
       "aggSeriesLimitReached": false,
       "aggType": "",
       "arguments": {},
       "columnCustomDisplayInfos": {},
       "data": [],
       "datasetInfos": [],
       "dbfsResultPath": null,
       "isJsonSchema": true,
       "metadata": {
        "dataframeName": null
       },
       "overflow": false,
       "plotOptions": {
        "customPlotOptions": {},
        "displayType": "table",
        "pivotAggregation": null,
        "pivotColumns": null,
        "xColumns": null,
        "yColumns": null
       },
       "removedWidgets": [],
       "schema": [],
       "type": "table"
      }
     },
     "output_type": "display_data"
    }
   ],
   "source": [
    "%sql\n",
    "CREATE TABLE IF NOT EXISTS databricks_cata.silver.products_silver\n",
    "USING DELTA\n",
    "LOCATION \"abfss://silver@databrickssm1.dfs.core.windows.net/products\""
   ]
  },
  {
   "cell_type": "code",
   "execution_count": 0,
   "metadata": {
    "application/vnd.databricks.v1+cell": {
     "cellMetadata": {},
     "inputWidgets": {},
     "nuid": "9f7b0d7e-eecb-4cb0-bdab-7b2cbd8e8382",
     "showTitle": false,
     "tableResultSettingsMap": {},
     "title": ""
    }
   },
   "outputs": [],
   "source": []
  }
 ],
 "metadata": {
  "application/vnd.databricks.v1+notebook": {
   "computePreferences": null,
   "dashboards": [],
   "environmentMetadata": {
    "base_environment": "",
    "environment_version": "3"
   },
   "inputWidgetPreferences": null,
   "language": "python",
   "notebookMetadata": {
    "mostRecentlyExecutedCommandWithImplicitDF": {
     "commandId": 8361384788499462,
     "dataframes": [
      "_sqldf"
     ]
    },
    "pythonIndentUnit": 4
   },
   "notebookName": "Silver_Products",
   "widgets": {}
  },
  "language_info": {
   "name": "python"
  }
 },
 "nbformat": 4,
 "nbformat_minor": 0
}